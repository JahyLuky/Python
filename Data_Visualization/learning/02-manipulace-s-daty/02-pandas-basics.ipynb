{
 "cells": [
  {
   "cell_type": "markdown",
   "id": "04645c15",
   "metadata": {},
   "source": [
    "# 🐼 Práce s daty pomocí Pandas\n",
    "V tomto kurzu budeme většinou pracovat s tabulkovými daty. K práci s takovým typem dat se velmi často využívá balíček `pandas`. Není možné vám v rámci jednoho cvičení ukázat všechno (`pandas` toho umí udělat vážně hodně 💪). Naším cílem je ukázat vám základní principy. V každé sekci je přidán link na dokumentaci, kdybyste chtěli vědět víc. Celou dokumentaci naleznete [zde](https://pandas.pydata.org/pandas-docs/stable/index.html).\n",
    "\n",
    "Chcete-li načíst balíček `pandas` a začít s ním pracovat, je třeba jej importovat. Komunitou schválený alias pro `pandas` je `pd`."
   ]
  },
  {
   "cell_type": "code",
   "execution_count": null,
   "id": "60aed267",
   "metadata": {},
   "outputs": [],
   "source": [
    "import pandas as pd"
   ]
  },
  {
   "cell_type": "markdown",
   "id": "33d4b644",
   "metadata": {},
   "source": [
    "## ☝️ DataFrame\n",
    "\n",
    "`DataFrame` je 2D datová struktura, která může ukládat data různých typů (včetně znaků, celých čísel, hodnot s plovoucí desetinnou čárkou, kategorických dat a dalších) ve sloupcích. Je to něco podobné jako spreadsheet nebo SQL tabulka.\n",
    "\n",
    "`DataFrame` se skládá z řádků a sloupců kde\n",
    "* každý **řádek** reprezentuje **jeden záznam**\n",
    "* každý **sloupec** reprezentuje **hodnoty jednoho příznaku**\n",
    "\n",
    "Řádky i sloupce mají své identifikátory, podle kterých se na ně můžeme dotazovat. Identifikátor řádku se nazývá **index**. Sloupec je identifikován svým **názvem**.\n",
    "\n",
    "![dataframe](img/dataframe.png)\n",
    "\n",
    "### Inicializace DataFramu\n",
    "🗂 [dokumentace](https://pandas.pydata.org/docs/reference/api/pandas.DataFrame.html)\n",
    "\n",
    "`DataFrame` inicializujeme pomocí funkce `pd.DataFrame()`. Parametrem můžeme zadat například data, která má `DataFrame` obsahovat, indexy či názvy sloupců. Pokud indexy či názvy sloupců nezadáme, `pandas` defaultně použije celá čísla začínající od 0.\n",
    "\n",
    "⚙️**Ukázka:**\n",
    "Představme si `DataFrame` obsahující statistiky o počtu vypitých nápojů daného typu během jednoho týdne. Měření probíhala u tří osob – Honza, Emma a Alex: \n",
    "- Honza vypil 3 kávy a 10 čajů. \n",
    "- Emma vypila 14 matéček, \n",
    "- Alex 5 káv, 1 čaj a 3 matéčka.\n",
    "\n",
    "`DataFrame` bychom mohli vytvořit například tímto způsobem:"
   ]
  },
  {
   "cell_type": "code",
   "execution_count": null,
   "id": "2ffa5e63",
   "metadata": {},
   "outputs": [],
   "source": [
    "# we've only specified the data as 2D array of rows, default indices and column names were used\n",
    "pd.DataFrame(data=[[3, 10, 0], [0, 0, 14], [5, 1, 3]])"
   ]
  },
  {
   "cell_type": "markdown",
   "id": "479ea4f0",
   "metadata": {},
   "source": [
    "I když výše uvedený způsob vytvořil korektní dataset, na první pohled není jasně vidět o jaká data se jedná. Přidání indexů a názvů sloupců by jistě pomohlo."
   ]
  },
  {
   "cell_type": "code",
   "execution_count": null,
   "id": "cb3aec6c",
   "metadata": {},
   "outputs": [],
   "source": [
    "beverage_df = pd.DataFrame(\n",
    "    # data (2D array of rows)\n",
    "    data=[[3, 10, 0], [0, 0, 14], [5, 1, 3]],\n",
    "    # row indices\n",
    "    index=['Honza', 'Emma', 'Alex'],\n",
    "    # column labels\n",
    "    columns=['coffee', 'tea', 'mate']\n",
    ")\n",
    "beverage_df"
   ]
  },
  {
   "cell_type": "markdown",
   "id": "906c771b",
   "metadata": {},
   "source": [
    "☕️ Teď už je jasné, jaká data `DataFrame` obsahuje ☕️"
   ]
  },
  {
   "cell_type": "markdown",
   "id": "d4c90b91",
   "metadata": {},
   "source": [
    "## ☝️ Series\n",
    "Series je 1D struktura s řádkovými indexy. Každý sloupec `DataFramu` je `Series`.\n",
    "\n",
    "![series](img/series.png)\n",
    "\n",
    "### Inicializace Series\n",
    "🗂 [dokumentace](https://pandas.pydata.org/docs/reference/api/pandas.Series.html)\n",
    "\n",
    "`Series` inicializujeme pomocí funkce `pd.Series()`. Mnohem častěji ale budeme vytvářet `Series` pomocí **výběru sloupců** `DataFramu`. K tomu nám poslouží **název** daného sloupce."
   ]
  },
  {
   "cell_type": "code",
   "execution_count": null,
   "id": "97f7a04e",
   "metadata": {},
   "outputs": [],
   "source": [
    "# creates Series named 'coffee' representing the number of coffees drunk\n",
    "pd.Series(data=[3,0,5], index=['Honza', 'Emma', 'Alex'], name='coffee')"
   ]
  },
  {
   "cell_type": "code",
   "execution_count": null,
   "id": "819ddcf3",
   "metadata": {},
   "outputs": [],
   "source": [
    "# same as above achieved by selecting the coffee column from existing beverage_df\n",
    "beverage_df['coffee']"
   ]
  },
  {
   "cell_type": "markdown",
   "id": "a363a030",
   "metadata": {},
   "source": [
    "Ve výstupu buňky vidíme následující informace:\n",
    "* samotná `data` \n",
    "    * (3, 0, 5)\n",
    "    * naměřené hodnoty\n",
    "* `index`\n",
    "    * (Honza, Emma, Alex)\n",
    "    * podle indexu se dokážeme na daná měření dotazovat, ale nemusí být unikátní (mohl by dvakrát obsahovat prvek Honza)\n",
    "* `name`\n",
    "    * reprezentuje název `Series` a je volitelný, takže jej můžeme specifikovat pro lepší orientaci ve výpisech buněk\n",
    "    * pokud `Series` vznikne výběrem sloupce `DataFramu`, název `Series` se bude shodovat s názvem sloupce\n",
    "* `dtype`\n",
    "    * určuje datový typ dat uložených v `Series`\n",
    "    * pokud ho nespecifikujeme, `pandas` se ho pokusí odvodit"
   ]
  },
  {
   "cell_type": "code",
   "execution_count": null,
   "id": "16dd9e68",
   "metadata": {},
   "outputs": [],
   "source": [
    "# non-unique index, no name specified, dtype inferred\n",
    "seriesHonza = pd.Series(data=[3,0,5], index=['Honza', 'Honza', 'Honza'])"
   ]
  },
  {
   "cell_type": "code",
   "execution_count": null,
   "id": "713200a8",
   "metadata": {},
   "outputs": [],
   "source": [
    "seriesHonza.Honza"
   ]
  },
  {
   "cell_type": "markdown",
   "id": "dc8a77d0",
   "metadata": {},
   "source": [
    "## ☝️ Výběr\n",
    "Někdy chceme pracovat pouze nad určitou podmnožinou `DataFramu`. `Pandas` nám umožňuje vybrat pouze konkrétní sloupec/řádek či podmnožinu sloupců/řádků.\n",
    "\n",
    "### Výběr sloupců\n",
    "Sloupec získáme tak, že za název `DataFrame` proměnné napíšeme do hranatých závorek název sloupce. Výsledkem operace bude `Series`. Pro výběr více sloupců lze do hranatých závorek vložit  **pole názvů**. Výsledkem pak bude `DataFrame`.\n",
    "\n",
    "Existuje také alternativní syntaxe pro výběr **jednoho sloupce**, které ale fungují jen v některých případech (tzv. dot notation).\n",
    "\n",
    "**Bracket notation**\n",
    "* `df['column_name']`\n",
    "* funguje vždy,\n",
    "* je rychlejší (vizte srovnání [zde](https://stackoverflow.com/questions/56240925/speed-difference-between-bracket-notation-and-dot-notation-for-accessing-columns)).\n",
    "\n",
    "**Dot notation**\n",
    "* `df.column_name`\n",
    "* i když lépe vypadá, jedná se o \"bad practice\", \n",
    "* nefunguje pokud název sloupce:\n",
    "     * obsahuje mezeru (např. max temperature),\n",
    "     * je integer (např. 1),\n",
    "     * shoduje se s názvem atributu DataFrame (např. count),\n",
    "     * shoduje se s nějakým klíčovým slovem Pythonu (např. class)."
   ]
  },
  {
   "cell_type": "code",
   "execution_count": null,
   "id": "255dc734",
   "metadata": {},
   "outputs": [],
   "source": [
    "# single column selection dot notation\n",
    "beverage_df.coffee"
   ]
  },
  {
   "cell_type": "code",
   "execution_count": null,
   "id": "aaf3c699",
   "metadata": {},
   "outputs": [],
   "source": [
    "# single column selection bracket notation\n",
    "single = beverage_df['coffee']\n",
    "single"
   ]
  },
  {
   "cell_type": "code",
   "execution_count": null,
   "id": "5567ebf5",
   "metadata": {},
   "outputs": [],
   "source": [
    "# multiple column selection\n",
    "multiple = beverage_df[['coffee','mate']]\n",
    "multiple"
   ]
  },
  {
   "cell_type": "code",
   "execution_count": null,
   "id": "fa1e3675",
   "metadata": {},
   "outputs": [],
   "source": [
    "# if you don't understand the syntax, look up string interpolation in Python\n",
    "print(\" Result of single column selection is of type {}\" .format(type(single)))\n",
    "print(\"Result of multiple column selection is of type {}\" .format(type(multiple)))"
   ]
  },
  {
   "cell_type": "markdown",
   "id": "b9d1c98c",
   "metadata": {},
   "source": [
    "### Výběr pomocí loc\n",
    "🗂 [dokumentace](https://pandas.pydata.org/docs/reference/api/pandas.DataFrame.loc.html)\n",
    "\n",
    "`loc[]` umožňuje **výběr skupiny řádků a sloupců** pomocí jejich **názvů** (názvů sloupců nebo indexů řádků). Funkce `loc[]` se uvnitř hranatých závorek skládá ze dvou částí oddělených čárkou. První část slouží k výběru řádků a druhá k výběru sloupců.\n",
    "\n",
    "Řádky nebo sloupce můžeme vybírat například pomocí:\n",
    "* jednoho názvu, např. `'coffee'` nebo `'Honza'`\n",
    "* pole názvů, např. `['coffee', 'mate']` nebo `['Honza', 'Emma']`\n",
    "* slice objekt s názvy, např. `'Honza':'Alex'`\n",
    "* více v dokumentaci\n",
    "\n",
    "#### Slice objekty v loc\n",
    "* `start:stop` - od `start` do `stop`\n",
    "* `start:` - od `start` do posledního řádku/sloupce\n",
    "* `:stop` - od prvního řádku/sloupce do `stop`\n",
    "* `:`- všechny řádky/sloupce\n",
    "\n",
    "Tady je pár příkladů použití funkce `.loc[]`:"
   ]
  },
  {
   "cell_type": "code",
   "execution_count": null,
   "id": "c4a17661",
   "metadata": {},
   "outputs": [],
   "source": [
    "beverage_df.loc['Honza']"
   ]
  },
  {
   "cell_type": "code",
   "execution_count": null,
   "id": "031c9007",
   "metadata": {},
   "outputs": [],
   "source": [
    "# single column selection\n",
    "beverage_df.loc[:,'tea']"
   ]
  },
  {
   "cell_type": "code",
   "execution_count": null,
   "id": "ff0b6a2a",
   "metadata": {},
   "outputs": [],
   "source": [
    "# multiple column selection\n",
    "beverage_df.loc[:,['coffee', 'mate']]"
   ]
  },
  {
   "cell_type": "code",
   "execution_count": null,
   "id": "e62e1116",
   "metadata": {},
   "outputs": [],
   "source": [
    "# single row selection (note that : in column part can be ommited)\n",
    "# beverage_df.loc['Emma', :] <- this is equivalent to expresion below\n",
    "beverage_df.loc['Emma']"
   ]
  },
  {
   "cell_type": "code",
   "execution_count": null,
   "id": "bf937363",
   "metadata": {},
   "outputs": [],
   "source": [
    "# multiple row selection (note that : in column part can be ommited)\n",
    "beverage_df.loc[['Emma', 'Alex']]"
   ]
  },
  {
   "cell_type": "code",
   "execution_count": null,
   "id": "f069684a",
   "metadata": {},
   "outputs": [],
   "source": [
    "# mixed selection (column and row)\n",
    "beverage_df.loc[['Emma', 'Alex'],['mate', 'tea']]"
   ]
  },
  {
   "cell_type": "code",
   "execution_count": null,
   "id": "d8b15c10",
   "metadata": {},
   "outputs": [],
   "source": [
    "# mixed selection using slice objects\n",
    "beverage_df.loc[:'Emma','tea':]"
   ]
  },
  {
   "cell_type": "markdown",
   "id": "7297231b",
   "metadata": {},
   "source": [
    "### Výběr pomocí iloc\n",
    "🗂 [dokumentace](https://pandas.pydata.org/docs/reference/api/pandas.DataFrame.iloc.html)\n",
    "\n",
    "`iloc[]` umožňujě **výběr skupiny řádků a sloupců** pomocí jejich **pozice**. Funkce `iloc[]` se uvnitř hranatých závorek taky skládá ze dvou částí oddělených čárkou. První část slouží k výběru řádků a druhá opět k výběru sloupců (stejně jako u `.loc[]`).\n",
    "\n",
    "Řádky nebo sloupce můžeme vybírat například pomocí:\n",
    "* jedné pozice (indexujeme od 0), např. `2`\n",
    "* pole pozic, např. `[0,2]`\n",
    "* slice objekt s pozicemi, např. `1:7`.\n",
    "* více v dokumentaci\n",
    "\n",
    "#### Slice objekty v iloc\n",
    "* `start:stop` - od `start` do `stop-1`\n",
    "* `start:` - od `start` do posledního řádku/sloupce\n",
    "* `:stop` - od prvního řádku/sloupce do `stop-1`\n",
    "* `:`- všechny řádky/sloupce\n",
    "\n",
    "Tady je pár příkladů použití funkce `.iloc[]`:"
   ]
  },
  {
   "cell_type": "code",
   "execution_count": null,
   "id": "c15298e3",
   "metadata": {},
   "outputs": [],
   "source": [
    "# single column selection\n",
    "beverage_df.iloc[:,0]"
   ]
  },
  {
   "cell_type": "code",
   "execution_count": null,
   "id": "8154d78c",
   "metadata": {},
   "outputs": [],
   "source": [
    "# multiple column selection\n",
    "beverage_df.iloc[:,[0,2]]"
   ]
  },
  {
   "cell_type": "code",
   "execution_count": null,
   "id": "04788883",
   "metadata": {},
   "outputs": [],
   "source": [
    "# single row selection\n",
    "beverage_df.iloc[1]"
   ]
  },
  {
   "cell_type": "code",
   "execution_count": null,
   "id": "ec996a7a",
   "metadata": {},
   "outputs": [],
   "source": [
    "# multiple row selection using slice\n",
    "beverage_df.iloc[1:]"
   ]
  },
  {
   "cell_type": "code",
   "execution_count": null,
   "id": "fc53daa5",
   "metadata": {
    "scrolled": true
   },
   "outputs": [],
   "source": [
    "# mixed selection (column and row)\n",
    "beverage_df.iloc[:2,[2,1]]"
   ]
  },
  {
   "cell_type": "markdown",
   "id": "a928674f",
   "metadata": {},
   "source": [
    "## ☝️ Filtrování\n",
    "👨🏽‍💻 [user guide](https://pandas.pydata.org/docs/user_guide/indexing.html#indexing-boolean)\n",
    "\n",
    "Zatím jsme si ukázali výběr řádků a sloupců podle jejich názvů nebo pozice. Co kdybychom chtěli vybrat podle určité podmínky? I to je v `pandas` možné.\n",
    "\n",
    "Pokud chceme vybrat řádky na základě podmínky, je třeba vložit podmínku do hranatých závorek za název `DataFramu`. Podmínka vypadá například takto:"
   ]
  },
  {
   "cell_type": "code",
   "execution_count": null,
   "id": "fb2641b8",
   "metadata": {
    "scrolled": true
   },
   "outputs": [],
   "source": [
    "beverage_df['mate'] >= 3"
   ]
  },
  {
   "cell_type": "markdown",
   "id": "fa86f0d8",
   "metadata": {},
   "source": [
    "Výsledkem podmínky je `Series` typu `bool`. Ta se použije k vyfiltrování řádků. Do výsledku se dostanou jen ty, jejichž hodnota je `True`."
   ]
  },
  {
   "cell_type": "code",
   "execution_count": null,
   "id": "cda1b92e",
   "metadata": {
    "scrolled": true
   },
   "outputs": [],
   "source": [
    "beverage_df[beverage_df['mate'] >= 3]"
   ]
  },
  {
   "cell_type": "markdown",
   "id": "6abe1dae",
   "metadata": {},
   "source": [
    "Podmínky lze kombinovat pomocí & (and) a | (or). Ale ⚠️ POZOR ⚠️ při kombinování více podmínek musí být každá podmínka **uzavřena kulatými závorkami**."
   ]
  },
  {
   "cell_type": "code",
   "execution_count": null,
   "id": "8cb87371",
   "metadata": {},
   "outputs": [],
   "source": [
    "# beverage_df['mate'] >= 3 & beverage_df['coffee'] <= 4 will produce error due to operator precedence\n",
    "(beverage_df['mate'] >= 3) & (beverage_df['coffee'] <= 4)"
   ]
  },
  {
   "cell_type": "code",
   "execution_count": null,
   "id": "4b72c122",
   "metadata": {
    "scrolled": true
   },
   "outputs": [],
   "source": [
    "beverage_df[(beverage_df['mate'] >= 3) & (beverage_df['coffee'] <= 4)]"
   ]
  },
  {
   "cell_type": "markdown",
   "id": "63622355",
   "metadata": {},
   "source": [
    "### isin()\n",
    "👨🏽‍💻 [user guide](https://pandas.pydata.org/docs/user_guide/indexing.html#indexing-basics-indexing-isin) \n",
    "\n",
    "🗂 [dokumentace](https://pandas.pydata.org/docs/reference/api/pandas.Series.isin.html)\n",
    "\n",
    "Další možností jak filtrovat řádky je pomocí metody `isin()` definované na `Series`. "
   ]
  },
  {
   "cell_type": "code",
   "execution_count": null,
   "id": "6f4555f4",
   "metadata": {},
   "outputs": [],
   "source": [
    "# number of coffees is exactly 5 or 0\n",
    "beverage_df[beverage_df['coffee'].isin([5,0])]"
   ]
  },
  {
   "cell_type": "code",
   "execution_count": null,
   "id": "8c63f662",
   "metadata": {},
   "outputs": [],
   "source": [
    "# isin() works on index too\n",
    "beverage_df[beverage_df.index.isin(['Honza','Alex'])]"
   ]
  },
  {
   "cell_type": "markdown",
   "id": "7670b93b",
   "metadata": {},
   "source": [
    "### Použití podmínek v loc a iloc\n",
    "\n",
    "Podmínky lze vkládat i do funkcí `loc` a `iloc`, které jsme si ukazovali před chvílí. `loc` si s podmínkami poradí bez problémů. `iloc` neumí zpracovat `Series`, proto potřebujeme `Series` zkonvertovat na pole booleanů pomocí `.values`."
   ]
  },
  {
   "cell_type": "code",
   "execution_count": null,
   "id": "cb4fec25",
   "metadata": {},
   "outputs": [],
   "source": [
    "# filtering using loc with Series\n",
    "beverage_df.loc[beverage_df['coffee'].isin([5,0]), 'coffee']"
   ]
  },
  {
   "cell_type": "code",
   "execution_count": null,
   "id": "14b28b33",
   "metadata": {},
   "outputs": [],
   "source": [
    "# filtering using iloc with array (note how we used .values to convert Series to array) \n",
    "beverage_df.iloc[beverage_df['coffee'].isin([5,0]).values, 0]"
   ]
  },
  {
   "cell_type": "markdown",
   "id": "71a7ff45",
   "metadata": {},
   "source": [
    "## ☝️ Načtení datasetu\n",
    "Náš jednoduchý `DataFrame` byl sice praktický, ale na ukázku komplikovanějších operací nám už nebude stačit. Využijeme volně dostupný dataset z meteorologické stanice Praha Libuš [dostupný zde](https://www.chmi.cz/historicka-data/pocasi/denni-data/data-ze-stanic-site-RBCN#).\n",
    "\n",
    "Dataset je uložen ve formátu xls. Načteme jej pomocí `pandas` funkce `read_excel` (🗂 [dokumentace](https://pandas.pydata.org/docs/reference/api/pandas.read_excel.html)). My jsme využili tyto parametry:\n",
    "* cesta k souboru, který chceme načíst\n",
    "* `sheet_name` - pole názvů nebo indexů (indexuje se od 1) sešitů (sheets), které chceme načíst\n",
    "* `header` - pozice záhlaví tabulky (indexuje se od 0)\n",
    "\n",
    "Funkce vrací buď jeden `DataFrame` v případě, že jsme načetli jen jeden sešit, nebo dictionary `DataFramů` v případě více sešitů."
   ]
  },
  {
   "cell_type": "code",
   "execution_count": null,
   "id": "df3faee1",
   "metadata": {},
   "outputs": [],
   "source": [
    "# df_dict is a dictionary because we've specified multiple sheets\n",
    "df_dict = pd.read_excel(\"P1PLIB01.xls\", sheet_name=[1, 2, 3], header=3)\n",
    "df_avg, df_max, df_min = df_dict.values()"
   ]
  },
  {
   "cell_type": "markdown",
   "id": "7854841a",
   "metadata": {},
   "source": [
    "Pokud se chceme podívat na to, jaký dataset jsme načetli, poslouží nám funkce \n",
    "* `head` 🗂 [dokumentace](https://pandas.pydata.org/docs/reference/api/pandas.DataFrame.head.html)\n",
    "* `tail` 🗂 [dokumentace](https://pandas.pydata.org/docs/reference/api/pandas.DataFrame.tail.html)\n",
    "* `info` 🗂 [dokumentace](https://pandas.pydata.org/docs/reference/api/pandas.DataFrame.info.html)\n",
    "\n",
    "Funkce `head`/`tail` jsou určeny k zobrazení prvních/posledních n záznamů z `DataFramu`. Funkce `info` produkuje stručné shrnutí o `DataFramu`. Ukáže nám například datové typy sloupců nebo kolik hodnot bylo v každém sloupci vyplněno."
   ]
  },
  {
   "cell_type": "code",
   "execution_count": null,
   "id": "371fbd4c",
   "metadata": {},
   "outputs": [],
   "source": [
    "# displays first 2 rows, default is 5\n",
    "df_max.head(2)"
   ]
  },
  {
   "cell_type": "code",
   "execution_count": null,
   "id": "02403f20",
   "metadata": {},
   "outputs": [],
   "source": [
    "# displays last 7 rows\n",
    "df_max.tail(7)"
   ]
  },
  {
   "cell_type": "markdown",
   "id": "1beb847d",
   "metadata": {},
   "source": [
    "👉 Z výstupu funkcí `head` a `tail` vidíme, že `DataFrame` obsahuje sloupce pro rok, měsíc a 31 sloupců pro každý den v měsíci. Rok a měsíc jsou celá čísla, sloupce 1. až 31. obsahují floaty a někdy hodnotu `NaN`. `NaN` **reprezentuje chybějící hodnotu** (v původním souboru tato hodnota nebyla vyplněna). Floaty ve sloupcích 1. až 31. reprezentují maximální pozorovanou teplotu v daný den.\n",
    "\n",
    "Tato zjištění si můžeme ověřit pomocí funkce `info`:"
   ]
  },
  {
   "cell_type": "code",
   "execution_count": null,
   "id": "d8c0c783",
   "metadata": {},
   "outputs": [],
   "source": [
    "# produces short summary\n",
    "df_max.info()"
   ]
  },
  {
   "cell_type": "markdown",
   "id": "c9cab729",
   "metadata": {},
   "source": [
    "👉 Z výstupu funkce `info` vidíme, že jsme správně odhadli datové typy. Navíc jsme se dozvěděli, že chybějící hodnoty obsahují jen sloupce 29, 30 a 31. To dává smysl, protože ne všechny měsíce mají tolik dní.\n",
    "\n",
    "## ☝️ Některé Series funkce\n",
    "V této sekci si ukážeme, jak získat zajímavé informace o konkrétním sloupci. Umíme získat například minimální, maximální a průměrnou hodnotu, počet unikátních hodnot atp.\n",
    "\n",
    "Předtím, než začneme, přejmenujeme sloupce, abychom nemuseli psát tolik diakritiky:"
   ]
  },
  {
   "cell_type": "code",
   "execution_count": null,
   "id": "148b0664",
   "metadata": {},
   "outputs": [],
   "source": [
    "# renames columns\n",
    "df_max = df_max.rename(columns={\"rok\": \"year\", \"měsíc\": \"month\"})"
   ]
  },
  {
   "cell_type": "code",
   "execution_count": null,
   "id": "0b593170",
   "metadata": {},
   "outputs": [],
   "source": [
    "year = df_max[\"year\"]\n",
    "# unique values of year column\n",
    "year.unique()"
   ]
  },
  {
   "cell_type": "code",
   "execution_count": null,
   "id": "898393dd",
   "metadata": {},
   "outputs": [],
   "source": [
    "# number of unique values of year column\n",
    "year.nunique()"
   ]
  },
  {
   "cell_type": "code",
   "execution_count": null,
   "id": "5a74c9e2",
   "metadata": {},
   "outputs": [],
   "source": [
    "# min and max value of series\n",
    "print(\"📅 První a poslední rok měření: \")\n",
    "print(\"první - {}\" .format(year.min()))\n",
    "print(\"poslední - {}\" .format(year.max()))"
   ]
  },
  {
   "cell_type": "markdown",
   "id": "98a2e810",
   "metadata": {},
   "source": [
    "## ☝️ Reshaping - Melt, Pivot, Stack, Unstack\n",
    "👨🏽‍💻 [user guide](https://pandas.pydata.org/pandas-docs/stable/user_guide/reshaping.html)\n",
    "\n",
    "Funkce `melt`, `pivot`, `stack` a `unstack` slouží ke změně tvaru (tzv. reshaping) `DataFramu`. Abychom si mohli vysvětlit, co přesně dělají, musíme si zadefinovat, co to je široký a dlouhý formát dat.\n",
    "\n",
    "### Široký a dlouhý formát (wide and long format)\n",
    "Široký (wide) formát je formát, kde má každý atribut (příznak) vlastní sloupec. Dlouhý (long) formát má jeden sloupec pro všechny příznaky a jeden sloupec pro jejich hodnoty. Nejsnáze se to dá pochopit z obrázku:\n",
    "![long_wide](img/long_wide.png)\n",
    "\n",
    "### Melt\n",
    "🗂 [dokumentace](https://pandas.pydata.org/docs/reference/api/pandas.melt.html)\n",
    "\n",
    "Funkce `melt` transformuje DataFrame do dlouhého formátu. Volitelně můžeme přes parametr `id_vars` zadat názvy sloupců, které nechceme transformovat."
   ]
  },
  {
   "cell_type": "code",
   "execution_count": null,
   "id": "3957205f",
   "metadata": {},
   "outputs": [],
   "source": [
    "# reshape to long format\n",
    "df_max.melt()"
   ]
  },
  {
   "cell_type": "markdown",
   "id": "88775ec6",
   "metadata": {},
   "source": [
    "⛔️ **Prostor pro vaše zamyšlení:** Jakým způsobem dojde k transformaci dlouhého formátu na široký, pokud jsme použili `melt()` na celý `df_max` jako v ukázce výše? Konkrétně nás zajímá, jaktože jsme neztratili informaci, který den patří ke kterému měsíci? Pokud znáte odpověď, neváhejte ji napsat do Gitlab Issue, aby se ji dozvěděli i ostatní spolužáci! 😇"
   ]
  },
  {
   "cell_type": "code",
   "execution_count": null,
   "id": "67800ec9",
   "metadata": {
    "scrolled": false
   },
   "outputs": [],
   "source": [
    "df_max_long = df_max.melt(id_vars=['year', 'month'], var_name='day', value_name= 'max temperature')\n",
    "df_max_long"
   ]
  },
  {
   "cell_type": "markdown",
   "id": "3acad338",
   "metadata": {},
   "source": [
    "### Pivot\n",
    "🗂  [dokumentace](https://pandas.pydata.org/docs/reference/api/pandas.DataFrame.pivot.html)\n",
    "\n",
    "Funkce `pivot` transformuje `DataFrame` do námi zvoleného tvaru. V parametrech můžeme zadat které sloupce mají být použity jako index, ze kterých sloupců se mají vytvořit nové sloupce a které sloupce obsahují reálné hodnoty (pozorování).\n",
    "\n",
    "Takto můžeme například `pivot` použít k tomu, abychom `DataFrame` vrátili do původního širokého formátu."
   ]
  },
  {
   "cell_type": "code",
   "execution_count": null,
   "id": "40d06f68",
   "metadata": {},
   "outputs": [],
   "source": [
    "# reshape to wide format\n",
    "df_max_long.pivot(index=['year', 'month'], columns='day', values='max temperature')"
   ]
  },
  {
   "cell_type": "markdown",
   "id": "4e522dd9",
   "metadata": {},
   "source": [
    "### Stack\n",
    "🗂 [dokumentace](https://pandas.pydata.org/docs/reference/api/pandas.DataFrame.stack.html)\n",
    "\n",
    "Funkce `stack` funguje podobně jako `melt`, ale melt vytvoří nový sloupec (variable) zatímco stack přidá další úroveň indexu. `stack` teda použije názvy sloupců jako další level indexu.\n",
    "![stack](img/reshaping_stack.png)\n",
    "💡 Řádek nemusí být identifikován pouze jednou hodnotou indexu. Pokud je hodnot více, takový index nazýváme `MultiIndex`. 💡"
   ]
  },
  {
   "cell_type": "code",
   "execution_count": null,
   "id": "a5f7cf48",
   "metadata": {},
   "outputs": [],
   "source": [
    "# stacks all columns\n",
    "df_max.stack()"
   ]
  },
  {
   "cell_type": "code",
   "execution_count": null,
   "id": "89b63e5b",
   "metadata": {},
   "outputs": [],
   "source": [
    "# if year and month are set as index, only day columns are stacked\n",
    "df_max_idx = df_max.set_index(['year', 'month'])\n",
    "df_max_stacked = df_max_idx.stack()\n",
    "df_max_stacked"
   ]
  },
  {
   "cell_type": "markdown",
   "id": "9049ba01",
   "metadata": {},
   "source": [
    "### Unstack\n",
    "🗂 [dokumentace](https://pandas.pydata.org/docs/reference/api/pandas.DataFrame.unstack.html)\n",
    "\n",
    "Inverzní funkce k funkci `stack`. Vezme určitý level indexu a zkonvertuje jej na sloupce. Defaultně se bere nejvnitřnější level, ale můžeme zadat i jinou úroveň.\n",
    "![unstack](img/reshaping_unstack.png)"
   ]
  },
  {
   "cell_type": "code",
   "execution_count": null,
   "id": "dee1ae0f",
   "metadata": {},
   "outputs": [],
   "source": [
    "df_max_stacked.unstack()"
   ]
  },
  {
   "cell_type": "code",
   "execution_count": null,
   "id": "adc3b689",
   "metadata": {
    "scrolled": false
   },
   "outputs": [],
   "source": [
    "# equivalent to df_max_stacked.unstack(1)\n",
    "df_max_stacked.unstack('month')"
   ]
  },
  {
   "cell_type": "markdown",
   "id": "2638d2a9",
   "metadata": {},
   "source": [
    "Pár tipů a triků k stack a unstack najdete například v tomto [tutoriálu](https://towardsdatascience.com/reshaping-a-dataframe-with-pandas-stack-and-unstack-925dc9ce1289)."
   ]
  },
  {
   "cell_type": "markdown",
   "id": "e4ef9a0b",
   "metadata": {},
   "source": [
    "### 🛠 Příprava na další sekci\n",
    "V další sekci by se nám hodilo, aby byla data v širokém formátu. Pojďme tedy pomocí funkce `melt` transformovat všechny `DataFramy`."
   ]
  },
  {
   "cell_type": "code",
   "execution_count": null,
   "id": "46ec0a1b",
   "metadata": {},
   "outputs": [],
   "source": [
    "def preprocess(df, value_name):\n",
    "    # rename columns\n",
    "    df = df.rename(columns={\"rok\": \"year\", \"měsíc\": \"month\"})\n",
    "    # reshape to long format\n",
    "    df = df.melt(id_vars=['year', 'month'], var_name='day', value_name= value_name)\n",
    "    # convert day column from string to int ('3.' -> 3) \n",
    "    df.day = df.day.str.replace(\".\", \"\", regex=False).astype(\"int\")\n",
    "    # make index from year month and day \n",
    "    df = df.set_index(['year', 'month', 'day'])\n",
    "    \n",
    "    return df\n",
    "\n",
    "df_max = preprocess(df_max, \"max temperature\")\n",
    "df_min = preprocess(df_min, \"min temperature\")\n",
    "df_avg = preprocess(df_avg, \"avg temperature\")\n",
    "\n",
    "df_avg.head()"
   ]
  },
  {
   "cell_type": "markdown",
   "id": "4f18eb14",
   "metadata": {},
   "source": [
    "## ☝️ Spojování - Merge, Join, Concat\n",
    "\n",
    "Co když máme data ve více `DataFramech` a chtěli bychom je sloučit do jednoho? I na tohle má `pandas` připraveny různé funkce.\n",
    "\n",
    "👨🏽‍💻 [user guide](https://pandas.pydata.org/pandas-docs/stable/user_guide/merging.html)\n",
    "\n",
    "\n",
    "### Concat\n",
    "🗂 [dokumentace](https://pandas.pydata.org/docs/reference/api/pandas.concat.html)\n",
    "\n",
    "Je to top-level pandas funkce, která kombinuje `DataFramy` vertikálně nebo horizontálně (podle toho, co zadáme v parametru axes - 0 znamená vertikálně a 1 horizontálně). Pokud kombinujeme horizontálně, **řádky se uspořádají podle hodnoty indexu**."
   ]
  },
  {
   "cell_type": "code",
   "execution_count": null,
   "id": "3e07b05c",
   "metadata": {},
   "outputs": [],
   "source": [
    "# notice that values in both max temperature columns are identical, it's because concat uses index to align rows\n",
    "pd.concat([df_min,df_max,df_avg, df_max.sort_values('month')], axis=1)"
   ]
  },
  {
   "cell_type": "markdown",
   "id": "e7afaa5c",
   "metadata": {},
   "source": [
    "### Merge\n",
    "🗂 [dokumentace](https://pandas.pydata.org/docs/reference/api/pandas.DataFrame.merge.html)\n",
    "\n",
    "`merge` kombinuje dva `DataFramy` **horizontálně**. Uspořádá řádky buď podle indexu nebo podle sloupce/sloupců, které zadáme. Defaultně funguje jako inner join, ale dá se změnit na letf, right, cross či outer join (znáte z BI-DBS).\n",
    "\n",
    "### Join\n",
    "🗂 [dokumentace](https://pandas.pydata.org/docs/reference/api/pandas.DataFrame.join.html)\n",
    "\n",
    "Oproti `merge` nepodoporuje cross join a defaultně je nastaven jako left join. I když je možno nastavit pomocí parametru `on` sloupec, který má sloužit jako klíč, platí to jen pro první `DataFrame`. Jako klíč druhého `DataFramu` se **vždy použije index**.\n",
    "\n",
    "`merge` a `join` si ukážeme na `beverage_df` ze začátku tohoto notebooku."
   ]
  },
  {
   "cell_type": "code",
   "execution_count": null,
   "id": "ad85aa5a",
   "metadata": {},
   "outputs": [],
   "source": [
    "beverage_df"
   ]
  },
  {
   "cell_type": "markdown",
   "id": "5ff6bdbb",
   "metadata": {},
   "source": [
    "Představme si, že jsme časem obdrželi nová měření pro další nápoje. A teď chceme obě měření spojit do jednoho `DataFramu`. Měření ale nejsou ve stejném formátu. První měření mají jméno osoby jako index a ty druhé ho mají uvedeny v samostatném sloupci."
   ]
  },
  {
   "cell_type": "code",
   "execution_count": null,
   "id": "f49c3982",
   "metadata": {},
   "outputs": [],
   "source": [
    "# new data\n",
    "beverage_df2 = pd.DataFrame(\n",
    "    data=[['Honza', 3, 2], ['Emma', 1, 1], ['Alex', 5, 3]],\n",
    "    columns=['name', 'beer', 'juice']\n",
    ")\n",
    "beverage_df2"
   ]
  },
  {
   "cell_type": "code",
   "execution_count": null,
   "id": "dcee2ddc",
   "metadata": {},
   "outputs": [],
   "source": [
    "# indices do not match\n",
    "beverage_df2.join(beverage_df)"
   ]
  },
  {
   "cell_type": "code",
   "execution_count": null,
   "id": "52ba844c",
   "metadata": {},
   "outputs": [],
   "source": [
    "# matches beverage_df2 name column with beverage_df index\n",
    "beverage_df2.join(beverage_df, on='name')"
   ]
  },
  {
   "cell_type": "markdown",
   "id": "1fd66a91",
   "metadata": {},
   "source": [
    "Pokud chceme spojit horizontálně dva `DataFramy` podle nějakého sloupce, `concat` ani `join` v tomto případě nebudou fungovat. Musíme použít `merge`. Sloupec dokonce může mít v obou `DataFramech` různý název (názvy prodáme parametry `right_on` a `left_on`)."
   ]
  },
  {
   "cell_type": "code",
   "execution_count": null,
   "id": "3b6588d2",
   "metadata": {},
   "outputs": [],
   "source": [
    "# transform index to character column\n",
    "beverage_df3 = beverage_df.reset_index().rename(columns={'index':'name'})\n",
    "beverage_df3"
   ]
  },
  {
   "cell_type": "code",
   "execution_count": null,
   "id": "1d19802e",
   "metadata": {},
   "outputs": [],
   "source": [
    "beverage_df3.merge(beverage_df2, on='name')"
   ]
  },
  {
   "cell_type": "markdown",
   "id": "3e22673f",
   "metadata": {},
   "source": [
    "## ☝️ Group by, agregace\n",
    "\n",
    "👨🏽‍💻 [user guide](https://pandas.pydata.org/docs/user_guide/groupby.html)\n",
    "\n",
    "🗂 [dokumentace](https://pandas.pydata.org/docs/reference/api/pandas.DataFrame.groupby.html)\n",
    "\n",
    "Pod pojmem **group by** se rozumí proces, který se skládá z jednoho nebo více následujících kroků:\n",
    "* rozdělení dat do skupin na základě zadaných kritérií\n",
    "* aplikování určité funkce na každou skupinu zvlášť\n",
    "* zkombinování výsledků do nějaké datové struktury"
   ]
  },
  {
   "cell_type": "code",
   "execution_count": null,
   "id": "e60c1ede",
   "metadata": {},
   "outputs": [],
   "source": [
    "joined = pd.concat([df_min,df_max,df_avg], axis=1)\n",
    "joined"
   ]
  },
  {
   "cell_type": "markdown",
   "id": "cfda4bb4",
   "metadata": {},
   "source": [
    "#### První krok - rozdělení dat do skupin na základě zadaných kritérií\n",
    "Toho docílíme použitím funkce `groupby`. Data můžeme sloučit například podle měsíce:"
   ]
  },
  {
   "cell_type": "code",
   "execution_count": null,
   "id": "227f948b",
   "metadata": {
    "scrolled": true
   },
   "outputs": [],
   "source": [
    "grouped = joined.groupby('month')\n",
    "\n",
    "for name, group in grouped:\n",
    "    print(name)\n",
    "    print(group)"
   ]
  },
  {
   "cell_type": "markdown",
   "id": "87d79f40",
   "metadata": {},
   "source": [
    "#### Druhý a třerí krok - aplikování funkce a konstrukce výsledku\n",
    "Na výsledek funkce `groupby` můžeme aplikovat agregační funkce (např. min, max, count, avg, ...)"
   ]
  },
  {
   "cell_type": "code",
   "execution_count": null,
   "id": "935a0681",
   "metadata": {},
   "outputs": [],
   "source": [
    "grouped.min()"
   ]
  },
  {
   "cell_type": "code",
   "execution_count": null,
   "id": "dbaea493",
   "metadata": {
    "scrolled": false
   },
   "outputs": [],
   "source": [
    "grouped.max()"
   ]
  },
  {
   "cell_type": "markdown",
   "id": "7d99580c",
   "metadata": {},
   "source": [
    "#### Zkusme si pomocí groupby odpovědět na následující otázky\n",
    "❓Jaká byla nejnižší/nejvyšší roční naměřená teplota?\n",
    "\n",
    "❓Kolik dní každý rok mrzlo (teplota byla pod 0)?\n",
    "\n",
    "**🥶🥶🥶 Nejnižší roční teplota**"
   ]
  },
  {
   "cell_type": "code",
   "execution_count": null,
   "id": "3c054999",
   "metadata": {
    "scrolled": true
   },
   "outputs": [],
   "source": [
    "joined.groupby('year').min()['min temperature']"
   ]
  },
  {
   "cell_type": "markdown",
   "id": "fab21ba3",
   "metadata": {},
   "source": [
    "**🥵🥵🥵 Nejvyšší roční teplota**"
   ]
  },
  {
   "cell_type": "code",
   "execution_count": null,
   "id": "f3f7745f",
   "metadata": {
    "scrolled": true
   },
   "outputs": [],
   "source": [
    "joined.groupby('year').max()['max temperature']"
   ]
  },
  {
   "cell_type": "markdown",
   "id": "d5389728",
   "metadata": {},
   "source": [
    "**🌡 Počet dní kdy mrzlo**"
   ]
  },
  {
   "cell_type": "code",
   "execution_count": null,
   "id": "274fe3b9",
   "metadata": {},
   "outputs": [],
   "source": [
    "import numpy as np\n",
    "\n",
    "def was_freezing(row):\n",
    "    # don't forget to deal with missing values\n",
    "    if pd.isnull(row['min temperature']):\n",
    "        return np.NaN\n",
    "    \n",
    "    return row['min temperature'] <= 0"
   ]
  },
  {
   "cell_type": "code",
   "execution_count": null,
   "id": "e23de760",
   "metadata": {},
   "outputs": [],
   "source": [
    "# creates new row by applying was_freezing funcion to every row\n",
    "# set axis to 0 to apply function to every column\n",
    "df_min['freezing'] = df_min.apply(was_freezing, axis=1)\n",
    "df_min"
   ]
  },
  {
   "cell_type": "code",
   "execution_count": null,
   "id": "6778ca5f",
   "metadata": {},
   "outputs": [],
   "source": [
    "df_min.groupby(['year','freezing']).count()"
   ]
  },
  {
   "cell_type": "markdown",
   "id": "dce197ef",
   "metadata": {},
   "source": [
    "### Uložení dat do souboru\n",
    "\n",
    "🗂[dokumentace](https://pandas.pydata.org/docs/reference/io.html)\n",
    "\n",
    "Data se do souboru ukládají pomocí funkcí `to_*` definovaných na `DataFramu`. Na ukázku si můžeme zkusit uložit `joined DataFrame` do csv souboru, kde budou jednotlivé hodnoty odděleny `;`: "
   ]
  },
  {
   "cell_type": "code",
   "execution_count": null,
   "id": "89887c8e",
   "metadata": {},
   "outputs": [],
   "source": [
    "# sep means separator\n",
    "joined.to_csv('results.csv', sep=';')"
   ]
  },
  {
   "cell_type": "code",
   "execution_count": null,
   "id": "084a07a2",
   "metadata": {},
   "outputs": [],
   "source": [
    "# let's verify that save was successful\n",
    "test = pd.read_csv('results.csv', sep=';')\n",
    "test"
   ]
  },
  {
   "cell_type": "markdown",
   "id": "1e5c40f3",
   "metadata": {},
   "source": [
    "# 🎉 A to je vše! 🎉 "
   ]
  }
 ],
 "metadata": {
  "kernelspec": {
   "display_name": "Python 3 (ipykernel)",
   "language": "python",
   "name": "python3"
  },
  "language_info": {
   "codemirror_mode": {
    "name": "ipython",
    "version": 3
   },
   "file_extension": ".py",
   "mimetype": "text/x-python",
   "name": "python",
   "nbconvert_exporter": "python",
   "pygments_lexer": "ipython3",
   "version": "3.9.12"
  }
 },
 "nbformat": 4,
 "nbformat_minor": 5
}
