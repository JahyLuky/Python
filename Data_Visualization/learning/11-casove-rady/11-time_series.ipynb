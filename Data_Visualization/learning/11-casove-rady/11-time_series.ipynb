{
 "cells": [
  {
   "cell_type": "markdown",
   "id": "1c35a887",
   "metadata": {},
   "source": [
    "# ⏱️ Vizualizace časových řad\n",
    "\n",
    "V tomto Jupyter Notebooku si ukážeme práci s časovými řadami a jejich vizualizaci. Jako **časovou řadu** vnímáme soubor měření nějaké náhodné veličiny, která se v čase vyvíjí -> proces. \n",
    "\n",
    "Značíme jej například takto:\n",
    "\n",
    "$$\\large Y = (y_1, y_2, y_3, \\ldots , y_{t-1}, y_t)$$\n",
    "\n",
    "Časové řady mohou mít zajímavé vlastnosti, které nám mohou pomoci při analýze daného procesu. Můžete je potkat všude - akcie, covid-19, ceny paliv, počasí apod."
   ]
  },
  {
   "cell_type": "code",
   "execution_count": null,
   "id": "56a709f0",
   "metadata": {},
   "outputs": [],
   "source": [
    "import pandas as pd\n",
    "import numpy as np\n",
    "import matplotlib.pyplot as plt\n",
    "import seaborn as sns\n",
    "\n",
    "from mpl_toolkits.mplot3d import Axes3D\n",
    "import matplotlib.pyplot as plt\n",
    "import numpy as np\n",
    "import pandas as pd\n",
    "\n",
    "import plotly.graph_objects as go\n",
    "import plotly.express as px\n",
    "\n",
    "import statsmodels\n",
    "import statsmodels.api as sm\n",
    "\n",
    "from pandas import DataFrame\n",
    "from pandas import Grouper\n",
    "import matplotlib\n",
    "\n",
    "matplotlib.rcParams[\"figure.figsize\"] = (12, 8)\n",
    "\n",
    "sns.set_theme(style=\"darkgrid\", palette=sns.color_palette(\"deep\"))\n",
    "pd.options.plotting.backend = \"plotly\"\n",
    "\n",
    "import warnings\n",
    "warnings.filterwarnings('ignore')"
   ]
  },
  {
   "cell_type": "code",
   "execution_count": null,
   "id": "620b2278",
   "metadata": {},
   "outputs": [],
   "source": [
    "import ipywidgets.widgets as widgets"
   ]
  },
  {
   "cell_type": "markdown",
   "id": "c3a16818",
   "metadata": {},
   "source": [
    "## 💽 Nahrání dat\n",
    "Práci s časovými řadami si ukážeme na datasetu [**Airline Passengers**](https://github.com/jbrownlee/Datasets) ✈️. Jedná se o velmi přímočarý dataset, který obsahuje pouze dva příznaky - časový údaj (měsíc a rok, _Month_) a počet cestujících leteckou dopravou (_Passengers_). Pojďme si jej načíst pomocí `pandas`. 🐼"
   ]
  },
  {
   "cell_type": "code",
   "execution_count": null,
   "id": "54c1b23b",
   "metadata": {},
   "outputs": [],
   "source": [
    "df = pd.read_csv(\n",
    "    \"https://raw.githubusercontent.com/jbrownlee/Datasets/master/airline-passengers.csv\"\n",
    ")"
   ]
  },
  {
   "cell_type": "code",
   "execution_count": null,
   "id": "290af746",
   "metadata": {},
   "outputs": [],
   "source": [
    "df"
   ]
  },
  {
   "cell_type": "code",
   "execution_count": null,
   "id": "a1f2bfd5",
   "metadata": {},
   "outputs": [],
   "source": [
    "df[\"Passengers\"].plot(title=\"Airline passengers\")"
   ]
  },
  {
   "cell_type": "markdown",
   "id": "f469f600",
   "metadata": {},
   "source": [
    "Na grafu vidíme měsíční vývoj v počtu pasažérů v letecké dopravě v letech `1949-1960`. \n",
    "\n",
    "Jediné, co z grafu nevyčteme, je právě časová osa, kterou máme zde diskrétní (`0-t`, osa x). Takto ale přicházíme o cennou informaci, kterou v datasetu máme. 🙈\n",
    "\n",
    "⛔️ Pozn. k datasetu: V praxi se s takto čistou časovou řadou se zjevným trendem setkáte jen velmi zřídka. Není proto náhodou, že tento dataset často potkáte v tutoriálech. 🙈"
   ]
  },
  {
   "cell_type": "markdown",
   "id": "bdc64065",
   "metadata": {},
   "source": [
    "### ⌛ Časový index\n",
    "`Pandas` má nativní podporu pro [časový index](https://pandas.pydata.org/pandas-docs/stable/reference/api/pandas.DatetimeIndex.html). Díky tomu můžeme datumy lépe analyzovat (a např. tak zjistit, jestli anomální chování odpovídá nějakému státnímu svátku) a pracovat s daty v nějakém časovém intervalu - hodina, týden, měsíc apod."
   ]
  },
  {
   "cell_type": "code",
   "execution_count": null,
   "id": "b46b8803",
   "metadata": {},
   "outputs": [],
   "source": [
    "df.info()"
   ]
  },
  {
   "cell_type": "code",
   "execution_count": null,
   "id": "01428616",
   "metadata": {},
   "outputs": [],
   "source": [
    "df[\"Date\"] = pd.to_datetime(df[\"Month\"])  # je třeba převést string na datum\n",
    "df = df.set_index(\"Date\")[\"Passengers\"]"
   ]
  },
  {
   "cell_type": "code",
   "execution_count": null,
   "id": "5861e229",
   "metadata": {},
   "outputs": [],
   "source": [
    "df"
   ]
  },
  {
   "cell_type": "code",
   "execution_count": null,
   "id": "ccb012ec",
   "metadata": {},
   "outputs": [],
   "source": [
    "df.plot(title=\"Monthly airline passengers\")"
   ]
  },
  {
   "cell_type": "markdown",
   "id": "b56c4afb",
   "metadata": {},
   "source": [
    "Graf už teď efektivně zobrazuje celý dataset. Z časové řady však můžeme vytěžit více."
   ]
  },
  {
   "cell_type": "markdown",
   "id": "db1c65a0",
   "metadata": {},
   "source": [
    "### 📈📉📈 Rozpad grafu\n",
    "Pojďme si vykreslit **každý rok zvlášť**. Vykreslíme vždy hodnoty pro jednotlivé roky po měsících a barevně odlišíme aktuální rok. "
   ]
  },
  {
   "cell_type": "code",
   "execution_count": null,
   "id": "5f6dda81",
   "metadata": {},
   "outputs": [],
   "source": [
    "# https://seaborn.pydata.org/examples/timeseries_facets.html\n",
    "\n",
    "sns.set_theme(style=\"dark\")\n",
    "flights = sns.load_dataset(\"flights\")\n",
    "\n",
    "# Plot each year's time series in its own facet\n",
    "g = sns.relplot(\n",
    "    data=flights,\n",
    "    x=\"month\",\n",
    "    y=\"passengers\",\n",
    "    col=\"year\",\n",
    "    hue=\"year\",\n",
    "    kind=\"line\",\n",
    "    palette=\"crest\",\n",
    "    linewidth=4,\n",
    "    zorder=5,\n",
    "    col_wrap=3,\n",
    "    height=2,\n",
    "    aspect=1.5,\n",
    "    legend=False,\n",
    ")\n",
    "\n",
    "# Iterate over each subplot to customize further\n",
    "for year, ax in g.axes_dict.items():\n",
    "\n",
    "    # Add the title as an annotation within the plot\n",
    "    ax.text(0.8, 0.85, year, transform=ax.transAxes, fontweight=\"bold\")\n",
    "\n",
    "    # Plot every year's time series in the background\n",
    "    sns.lineplot(\n",
    "        data=flights,\n",
    "        x=\"month\",\n",
    "        y=\"passengers\",\n",
    "        units=\"year\",\n",
    "        estimator=None,\n",
    "        color=\".7\",\n",
    "        linewidth=1,\n",
    "        ax=ax,\n",
    "    )\n",
    "\n",
    "# Reduce the frequency of the x axis ticks\n",
    "ax.set_xticks(ax.get_xticks()[::2])\n",
    "\n",
    "# Tweak the supporting aspects of the plot\n",
    "g.set_titles(\"\")\n",
    "g.set_axis_labels(\"\", \"Passengers\")\n",
    "g.tight_layout()"
   ]
  },
  {
   "cell_type": "markdown",
   "id": "50921dc6",
   "metadata": {},
   "source": [
    "### 🗺️ Heatmapa\n",
    "Ve stejném duchu můžeme použít i heatmapu."
   ]
  },
  {
   "cell_type": "code",
   "execution_count": null,
   "id": "38357dc0",
   "metadata": {},
   "outputs": [],
   "source": [
    "years = pd.DataFrame(\n",
    "    {name.year: group.values for name, group in df.groupby(pd.Grouper(freq=\"A\"))}\n",
    ")\n",
    "years.index += 1"
   ]
  },
  {
   "cell_type": "code",
   "execution_count": null,
   "id": "ffbbf65a",
   "metadata": {},
   "outputs": [],
   "source": [
    "years"
   ]
  },
  {
   "cell_type": "code",
   "execution_count": null,
   "id": "1a007bc5",
   "metadata": {},
   "outputs": [],
   "source": [
    "fig = years.T.plot(kind=\"imshow\", title=\"Heatmap of flight passengers\")\n",
    "#fig.update_layout(xaxis=dict(ticks))\n",
    "fig.update_xaxes(tick0=0, dtick=1, title=\"Month\")\n",
    "fig.update_yaxes(title=\"Year\")"
   ]
  },
  {
   "cell_type": "markdown",
   "id": "3e2ee533",
   "metadata": {},
   "source": [
    "### 🗺️ Heatmap3D / 3D Surface \n",
    "Heatmapu můžete použít i 3D a můžeme tak zdůraznit rozdíly v hodnotách. Čitelnost však posuďte sami.☝️👀"
   ]
  },
  {
   "cell_type": "code",
   "execution_count": null,
   "id": "8c8be9b6",
   "metadata": {},
   "outputs": [],
   "source": [
    "# interactive plotting\n",
    "%matplotlib notebook \n",
    "\n",
    "X = []\n",
    "Y = []\n",
    "Z = []\n",
    "\n",
    "for row, cols in years.iterrows():\n",
    "    for col in cols.index:\n",
    "        X.append(row)\n",
    "        Y.append(col + 1)\n",
    "        Z.append(cols[col])\n",
    "\n",
    "fig = plt.figure(figsize=(9, 6))\n",
    "ax = fig.add_subplot(111, projection=\"3d\")\n",
    "ax.plot_trisurf(X, Y, Z, cmap=plt.cm.Spectral_r)\n",
    "plt.show()"
   ]
  },
  {
   "cell_type": "code",
   "execution_count": null,
   "id": "0bd1b9c7",
   "metadata": {},
   "outputs": [],
   "source": [
    "# renders the figure in a notebook \n",
    "%matplotlib inline "
   ]
  },
  {
   "cell_type": "markdown",
   "id": "aaab4ee8",
   "metadata": {},
   "source": [
    "### 🐻‍❄️ Polární souřadnice\n",
    "Můžeme sestrojit [polární graf](https://matplotlib.org/stable/gallery/pie_and_polar_charts/polar_demo.html) (angl. polar plot) pomocí [polárních souřadnic](https://cs.wikipedia.org/wiki/Polárn%C3%AD_graf), ve kterém si hodnoty vykreslíme postupně proti směru hodinových ručiček.\n",
    "\n",
    "Polární graf se hodí k porovnání více řad dat, nicméně může být obtížně čitelný. Pokud by vás zajímal více, doporučuji prozkoumat balíček [Plotly](https://plotly.com/python/polar-chart/), kde najdete celou řadu různých variant polárního grafu. 🕵🏻‍♂️"
   ]
  },
  {
   "cell_type": "code",
   "execution_count": null,
   "id": "4f02d3ee",
   "metadata": {},
   "outputs": [],
   "source": [
    "import matplotlib.colors as mcolors"
   ]
  },
  {
   "cell_type": "code",
   "execution_count": null,
   "id": "d8f9136a",
   "metadata": {
    "scrolled": false
   },
   "outputs": [],
   "source": [
    "monthly = df.resample(\"m\").mean() # gets months from datetime-like index and averages them\n",
    "\n",
    "r = monthly # distance (= radius)\n",
    "theta = 2 * np.pi * ((monthly.index.month - 1) / 12) # angle at which we want to draw the curve\n",
    "\n",
    "fig, ax = plt.subplots(1, 1, subplot_kw=dict(projection=\"polar\"), figsize=(12, 7))\n",
    "ax.plot(theta, r)\n",
    "ax.set_rticks([100, 300, 600]) # less radial ticks\n",
    "ax.set_rlabel_position(-22.5) # move radial labels away from plotted line\n",
    "\n",
    "ax.xaxis.set_ticks([2 * np.pi * x / 12 for x in range(1, 13)]) # how often angles labels occur\n",
    "ax.set_thetagrids([30 * i for i in range(12)], labels=list(range(1, 13))) # rename the angles labels\n",
    "ax.grid(True)\n",
    "ax.set_title(\"A line plot on a polar axis of airline passengers\", va='bottom')\n",
    "\n",
    "plt.show()"
   ]
  },
  {
   "cell_type": "markdown",
   "id": "fcb1524e",
   "metadata": {},
   "source": [
    "### 📊 Statistiky\n",
    "\n",
    "I k časovým řadám jsme schopni si spočítat základní popisné statistiky. Pojďme využít nám už známé funkce `pd.DataFrame.describe()`."
   ]
  },
  {
   "cell_type": "code",
   "execution_count": null,
   "id": "bea436b9",
   "metadata": {},
   "outputs": [],
   "source": [
    "df.describe()"
   ]
  },
  {
   "cell_type": "markdown",
   "id": "5c205fd1",
   "metadata": {},
   "source": [
    " Dále se podíváme na histogram hodnot."
   ]
  },
  {
   "cell_type": "code",
   "execution_count": null,
   "id": "a8f4a07b",
   "metadata": {},
   "outputs": [],
   "source": [
    "fig = plt.figure()\n",
    "ax = fig.add_subplot(1, 1, 1)\n",
    "df.hist(backend=\"matplotlib\", ax=ax)\n",
    "ax.set_title(\"Histogram of airline passengers\")\n",
    "plt.show()"
   ]
  },
  {
   "cell_type": "markdown",
   "id": "0ced3bf8",
   "metadata": {},
   "source": [
    "Statistiky i histogram nám sice dají nějakou představu o datech, ale u časových řad to nemusí být vždy postačující. Často v časově závislých datech dochází k dlouhodobém růstu či poklesu, čemuž se říká **trend**. Přítomnost trendu způsobuje, že většina těchto statistik bude oproti hodnotám některých intervalů vychýlena, jelikož dochází ke změně v distribuci. Například v histogramu máme relativně malé četnosti u výskytu \"600 pasažérů za měsíc\". Toto číslo bylo v roce 1960 považované za rekordní, avšak v poměru s dnešními počty cestujících by se jednalo o velmi špatný měsíc."
   ]
  },
  {
   "cell_type": "markdown",
   "id": "0cc18ef9",
   "metadata": {},
   "source": [
    "## ✈️ Lag plot"
   ]
  },
  {
   "cell_type": "markdown",
   "id": "11905697",
   "metadata": {},
   "source": [
    "Dalším vizualizačním nástrojem je tzv. **graf zpoždění** (angl. [`lag plot`](https://pandas.pydata.org/docs/reference/api/pandas.plotting.lag_plot.html)), který nám může pomoct najít nějaký vztah mezi časovou řadou ($y_t$) a její zpožděnou verzí ($y_{t+k}$). _Lag_ tedy představuje míru časového zpoždění jednoho bodu časové řady za jiným bodem.\n",
    "\n",
    "Můžeme tak odhalit různé vzorce v datech jako např. sezónní závislosti, trendy, náhodnost, outliery apod.\n",
    "\n",
    "Graf zpoždění se vykreslí tak, že na ose x jsou znázorněna data časové řady a na ose y jednotlivá zpoždění bodů časové řady. Pokud je pro datový bod zpoždění (_lag_) rovno jedné, je zpožděním předchozí datový bod. Pokud je zpoždění rovno dvěma, je zpožděním datový bod předcházející dvěma datovým bodům v čase."
   ]
  },
  {
   "cell_type": "code",
   "execution_count": null,
   "id": "5de0fbe7",
   "metadata": {},
   "outputs": [],
   "source": [
    "# original graph and lag plot\n",
    "fig, ax = plt.subplots(1, 2, figsize=(12, 7))\n",
    "ax[0].plot(df)\n",
    "ax[0].set_xlabel('Datetime')\n",
    "ax[0].set_ylabel('Passengers')\n",
    "pd.plotting.lag_plot(df, lag=1, c=\"b\", label=\"data point\", ax=ax[1])\n",
    "plt.show()"
   ]
  },
  {
   "cell_type": "code",
   "execution_count": null,
   "id": "f60d97d3",
   "metadata": {
    "scrolled": false
   },
   "outputs": [],
   "source": [
    "def lag_plot(lag):\n",
    "\n",
    "    fig = plt.figure(figsize=(10, 5))\n",
    "\n",
    "    ax = fig.add_subplot(111)\n",
    "    pd.plotting.lag_plot(df, lag=lag, c=\"b\", label=\"data point\", ax=ax)\n",
    "    ax.plot([100, 650], [100, 650], c=\"g\", label=\"y=x\")\n",
    "    ax.legend()\n",
    "\n",
    "    fig.suptitle(\"Lag plot\")\n",
    "    plt.show()\n",
    "widgets.interact(lag_plot, lag=widgets.IntSlider(1, 1,16));"
   ]
  },
  {
   "cell_type": "markdown",
   "id": "3184d73e",
   "metadata": {},
   "source": [
    "> <span style=\"font-size:200%;\"> 🤔 </span> Jelikož víme, že data jsou měřená měsíčně, najdete v grafu pro lag=12 nějakou závislost?"
   ]
  },
  {
   "cell_type": "markdown",
   "id": "b6e46387",
   "metadata": {},
   "source": [
    "Pro zajímavost uvádíme citaci několika interpretací lag plotu z [GeeksForGeeks](https://www.geeksforgeeks.org/lag-plots/):\n",
    "\n",
    "- **Distribution of Model**: Distribution of model here means deciding what is the shape of data on the basis of the lag plot. Below are some examples of lag plot and their original plot:\n",
    "    - If the lag plot is linear, then the underlying structure is of the autoregressive model.\n",
    "    - If the lag plot is of elliptical shape, then the underlying structure represents a continuous periodic function such as sine, cosine, etc.\n",
    "- **Outliers**: Outliers are a set of data points that represent the extreme values in the distribution\n",
    "- **Randomness in data**: The lag plot is also useful for checking whether the given dataset is random or not. If there is randomness in the data then it will be reflected in the lag plot, if there is no pattern in the lag plot.\n",
    "- **Seasonality**: If there is seasonality in the plot then, it will give a periodic lag plot.\n",
    "- **Autocorrelation**: If the lag plot gives a linear plot, then it means the autocorrelation is present in the data, whether there is positive autocorrelation or negative that depends upon the slope of the line of the dataset. If more data is concentrated on the diagonal in lag plot, it means there is a strong autocorrelation."
   ]
  },
  {
   "cell_type": "markdown",
   "id": "fdcb59a3",
   "metadata": {},
   "source": [
    "## 🐈‍⬛🐈 Diferencování\n",
    "\n",
    "Pomocí **diferencování** můžeme \"očistit\" časovou řadu o její zpožděnou verzi, tedy \n",
    "\n",
    "\n",
    "$$Y_t' = Y_t - Y_{t-k} $$\n",
    "\n",
    "Diferencování může pomoci stabilizovat střední hodnotu časové řady tím, že odstraní změny v časové úrovni řady (tj. časovou závislost) a tím eliminuje/snižuje trend a sezónnost."
   ]
  },
  {
   "cell_type": "code",
   "execution_count": null,
   "id": "c5f35635",
   "metadata": {
    "scrolled": false
   },
   "outputs": [],
   "source": [
    "def diff_plot(k):\n",
    "\n",
    "    fig = plt.figure(figsize=(10, 5))\n",
    "    diff = df.diff(k) # num of differences\n",
    "\n",
    "    ax = fig.add_subplot(111)\n",
    "    ax.plot(diff.index, diff, label=f\"k={k}\")\n",
    "    ax.legend()\n",
    "\n",
    "    fig.suptitle(\"Difference plot\")\n",
    "    plt.show()\n",
    "\n",
    "\n",
    "widgets.interact(diff_plot, k=widgets.IntSlider(1, 1, 16));"
   ]
  },
  {
   "cell_type": "markdown",
   "id": "4ad2bc3a",
   "metadata": {},
   "source": [
    "> <span style=\"font-size:200%;\"> 🤔 </span> Jak to vypadá s k=12?"
   ]
  },
  {
   "cell_type": "markdown",
   "id": "0badd861",
   "metadata": {},
   "source": [
    "## 🔩 Dekompozice\n",
    "\n",
    "Některé časové řady můžeme rozložit na podsložky - **trend**, **sezónnost** a **rezidua**. Tyto rozklady mohou být v \n",
    "\n",
    "`aditivní`\n",
    "\n",
    "$$Y_t = T_t + S_t + \\epsilon_t$$\n",
    "\n",
    "nebo `multiplikativní`\n",
    "$$Y_t = T_t \\cdot S_t \\cdot \\epsilon_t$$\n",
    " formě.\n"
   ]
  },
  {
   "cell_type": "markdown",
   "id": "2510386f",
   "metadata": {},
   "source": [
    "Z modulu `statsmodels.tsa` použijeme funkci [`seasonal_decompose()`](https://www.statsmodels.org/dev/generated/statsmodels.tsa.seasonal.seasonal_decompose.html), která provede dekompozici na trend ($T$), Sezónost ($S$) a rezidua ($\\epsilon$), ideálně [IID](https://en.wikipedia.org/wiki/Independent_and_identically_distributed_random_variables) (tj. independent and identically distributed)."
   ]
  },
  {
   "cell_type": "code",
   "execution_count": null,
   "id": "209ec7c7",
   "metadata": {},
   "outputs": [],
   "source": [
    "aditive_decompose = statsmodels.tsa.seasonal.seasonal_decompose(df, model=\"aditive\", period=12)\n",
    "\n",
    "fig = aditive_decompose.plot()\n",
    "fig.suptitle('Aditive decomposition', y=1.025)\n",
    "plt.show()"
   ]
  },
  {
   "cell_type": "code",
   "execution_count": null,
   "id": "98105427",
   "metadata": {},
   "outputs": [],
   "source": [
    "multip_decompose = statsmodels.tsa.seasonal.seasonal_decompose(df, model=\"multiplicative\", period=12)\n",
    "\n",
    "fig = multip_decompose.plot()\n",
    "fig.suptitle('Multiplicative decomposition', y=1.025)\n",
    "plt.show()"
   ]
  },
  {
   "cell_type": "markdown",
   "id": "4632d97f",
   "metadata": {},
   "source": [
    " 📝 Dostali jsme dva rozklady, ale který je lepší? Pokud jsou rezidua a sezónnost nějakým způsobem ovlivněná trendem, což se také projevuje tím, že se hodnoty v jednotlivých sezónách časové řady monotónně zvětšují/zmenšují v čase, je lepší zvolit multiplikativní dekompozici. Pokud jsou sezónnost a reziduální složky nezávislé na trendu, jedná se o aditivní řadu. Více si můžete přečíst např. [zde](https://dziganto.github.io/python/time%20series/Introduction-to-Time-Series/)."
   ]
  },
  {
   "cell_type": "markdown",
   "id": "ae62e41c",
   "metadata": {},
   "source": [
    "## 🪟 Klouzavá okénka\n",
    "\n",
    "**Klouzavá okénka** (angl. rolling window) mají u časových řad mnohá využití. Dají se například použít k vyhlazení časových řad nebo k počítání klouzavého průměru, klouzavého rozptylu nebo jiné klouzavé agregace. K tomu všemu použijeme metodu [`rolling`](https://pandas.pydata.org/pandas-docs/stable/reference/api/pandas.DataFrame.rolling.html), které specifikujeme velikost okénka a zda bude okénko centrované.\n",
    "\n",
    "Velmi zjednodušeně řečeno: Vezmeme okénko o velikosti _k_ (tzn. _k_ po sobě jdoucích hodnot v daném čase) a provedeme s ním nějakou požadovanou matematickou operaci.\n",
    "\n",
    "![](img/window.png) [zdroj obrázku](https://towardsdatascience.com/rolling-windows-in-numpy-the-backbone-of-time-series-analytical-methods-bc2f79ba82d2)"
   ]
  },
  {
   "cell_type": "code",
   "execution_count": null,
   "id": "7377b751",
   "metadata": {},
   "outputs": [],
   "source": [
    "df.rolling(12, center=True).agg({\"mean\", \"median\", \"min\", \"max\"}).plot(\n",
    "    kind=\"line\", title=\"Aggregate functions on windows\")"
   ]
  },
  {
   "cell_type": "markdown",
   "id": "54c54a6b",
   "metadata": {},
   "source": [
    "### 📦 Box plot\n",
    "Tyto statistiky můžeme vizualizovat i jiným způsobem, např. krabicovým grafem."
   ]
  },
  {
   "cell_type": "code",
   "execution_count": null,
   "id": "f9b1d50d",
   "metadata": {},
   "outputs": [],
   "source": [
    "years.boxplot(title=\"Boxplot of number of air passengers\")"
   ]
  },
  {
   "cell_type": "code",
   "execution_count": null,
   "id": "327579d9",
   "metadata": {
    "scrolled": false
   },
   "outputs": [],
   "source": [
    "fig = plt.figure()\n",
    "ax = fig.add_subplot(1, 1, 1)\n",
    "ax.plot(df.rolling(12, center=True).mean(), label=\"12M window mean\")\n",
    "ax.plot(aditive_decompose.trend, label=\"Aditive decompose trend\")\n",
    "ax.legend()\n",
    "ax.set_title(\"Srovnání\")\n",
    "plt.show()"
   ]
  },
  {
   "cell_type": "markdown",
   "id": "990b9a32",
   "metadata": {},
   "source": [
    "📝 Všimněte si, že když vykreslíme klouzavý průměr s periodou 12 a srovnáme jej s trendem z dekompozice, tak jsou téměř identické. ☝️"
   ]
  },
  {
   "cell_type": "markdown",
   "id": "47523e7f",
   "metadata": {},
   "source": [
    "### ⬇️ Downsampling\n",
    "S časovým indexem můžeme \"downsamplovat\" (tj. podvzorkovat) data na menší frekvenci a to pomocí funkce [resample()](https://pandas.pydata.org/pandas-docs/stable/reference/api/pandas.DataFrame.resample.html). Jednoduše řečeno, metoda zachovává pouze každých několik záznamů, čímž vytváří aproximaci signálu na nižší frekvenci. Ještě jednodušeji se jedná o agregaci dat pomocí nové časové periody. \n",
    "\n",
    "Pro lepší popis (včetně \"upsamplingu\") se podívejte např. do [uživatelské příručky](https://pandas.pydata.org/pandas-docs/stable/user_guide/timeseries.html#resampling). 📖"
   ]
  },
  {
   "cell_type": "code",
   "execution_count": null,
   "id": "7e17f129",
   "metadata": {},
   "outputs": [],
   "source": [
    "widgets.interact(\n",
    "    lambda x: df.resample(f\"{x}M\")\n",
    "    .ffill() # use the last known value (forward filling)\n",
    "    .loc[\"1955-01-01\":\"1956-12-01\"]\n",
    "    .plot(title=f\"Perioda {x} měsíců\", kind=\"scatter\"),\n",
    "    x=range(1, 13),\n",
    ");"
   ]
  },
  {
   "cell_type": "markdown",
   "id": "d85d2978",
   "metadata": {},
   "source": [
    "### ⬆️ Upsampling\n",
    "Nebo můžeme počet záznamů zvýšit, tzv. \"upsamplovat\" na větší frekvenci. Zde můžeme použít např. `lineární interpolaci`, `forward fill` nebo `backward fill`."
   ]
  },
  {
   "cell_type": "code",
   "execution_count": null,
   "id": "ef165d85",
   "metadata": {},
   "outputs": [],
   "source": [
    "period = [\"30D\", \"21D\", \"14D\", \"7D\", \"1D\", \"12H\", \"1H\"]\n",
    "widgets.interact(\n",
    "    lambda x: df.resample(x)\n",
    "    .interpolate()\n",
    "    .loc[\"1956-09-01\":\"1956-12-01\"]\n",
    "    .plot(kind=\"scatter\"),\n",
    "    x=period,\n",
    ");"
   ]
  },
  {
   "cell_type": "markdown",
   "id": "e2d52095",
   "metadata": {},
   "source": [
    "## 🥀⛱️🍂❄️ Sezónnost\n",
    "**Sezónnost** jako taková lze vizualizovat několika způsoby. Typicky můžeme využít čárový graf (angl. line plot)."
   ]
  },
  {
   "cell_type": "code",
   "execution_count": null,
   "id": "7ef50de8",
   "metadata": {},
   "outputs": [],
   "source": [
    "multip_decompose.seasonal.plot(title=\"Seasonality of airline passengers\")"
   ]
  },
  {
   "cell_type": "markdown",
   "id": "54bd634c",
   "metadata": {},
   "source": [
    "> <span style=\"font-size:200%;\"> 🔎 </span>  V grafu vidíme, jak vypadají sezónní hodnoty pro jednotlivé měsíce v  roce.\n"
   ]
  },
  {
   "cell_type": "markdown",
   "id": "eeb2a0c5",
   "metadata": {},
   "source": [
    "## 🚧 Transformace\n",
    "\n",
    "Na závěr zmiňme, že je občas dobrý nápad časovou řadu transformovat. Transformace nám může pomoci časovou řadu například lépe modelovat (např. zmírňuje šum a rozptyl v datech). Mezi často aplikované transformace patří logaritmus, nebo [`box-coxova transformace`](https://www.statisticshowto.com/probability-and-statistics/normal-distributions/box-cox-transformation/). "
   ]
  },
  {
   "cell_type": "code",
   "execution_count": null,
   "id": "64879c2c",
   "metadata": {},
   "outputs": [],
   "source": [
    "pd.DataFrame(\n",
    "    {\n",
    "        \"exponential function\": pd.Series(\n",
    "            index=df.index, data=np.exp(np.linspace(4.6, 6.396929655216146, len(df)))\n",
    "        ),\n",
    "        \"time series\": df,\n",
    "    }\n",
    ").plot(title=\"Time series and exponential function\")"
   ]
  },
  {
   "cell_type": "code",
   "execution_count": null,
   "id": "0c35e2df",
   "metadata": {},
   "outputs": [],
   "source": [
    "pd.DataFrame(\n",
    "    {\n",
    "        \"linear function\": pd.Series(index=df.index, data=np.linspace(4.57, 6.39, len(df))),\n",
    "        \"time series\": np.log(df),\n",
    "    }\n",
    ").plot(title=\"Log-transformed time series and linear function\")"
   ]
  },
  {
   "cell_type": "markdown",
   "id": "b15f1d2a",
   "metadata": {},
   "source": [
    "## 🚔  Autoregresní a Moving-Average modely\n",
    "\n",
    "⛔️ **POZOR:** Následující část je **vyšší dívčí** (látka magisterského studia) a my si o ní povíme velmi, opravdu velmi letmo. Naším cílem je, abyste pouze tušili, že pro časové řady **existují nějaké modely**, kterými můžete predikovat jejich vývoj, **a grafy** (tj. lollipop graf, o kterém jsme se doteď neučili), které popisují vztah mezi časovou řadou a jejím zpožděním. ⛔️\n",
    "\n",
    "Časové řady se často používají k modelování (vizte [NI-SCR](https://courses.fit.cvut.cz/MI-SCR/) pro důkladnější výklad). V praxi se často používají **autoregresní (AR) a moving-average modely (MA)** (případně jejich kombinace).\n",
    "\n",
    "`AR` modely používají jako regresory předchozí hodnoty. Často několik různě zpožděných (*lagged*) měření. \n",
    "\n",
    "$$Y_t = \\phi_1X_1 +  \\phi_2X_2 + \\ldots +  \\phi_{t+p-1}X_{t+p-1} + \\phi_{t+p}X_{t+p} + \\epsilon_t, \\text{   kde } \\epsilon_t \\sim \\mathcal{N}(0, \\sigma^2) $$\n",
    "\n",
    "`MA` modely fungují na principu náhodné procházky  \n",
    "$$Y_t = c +  \\sum_{k=1}^{q}\\theta_{k}\\epsilon_{t-k} + \\epsilon_t, \\text{   kde } \\epsilon_i \\sim \\mathcal{N}(0, \\sigma^2) $$\n",
    "\n",
    "Řády těchto modelů (`p` a `q`) můžeme odhadnout pomocí autocorrelation (`ACF`) a partal-correlation (`PACF`) grafů - nebudeme rozebírat přesně jak, jde nám teď jen o to, abyste věděli, k čemu grafy jsou.\n",
    "\n",
    "☝️ Jejich vizualizacemi se zabývá např. tento [blogpost](https://towardsdatascience.com/interpreting-acf-and-pacf-plots-for-time-series-forecasting-af0d6db4061c)."
   ]
  },
  {
   "cell_type": "code",
   "execution_count": null,
   "id": "75514346",
   "metadata": {},
   "outputs": [],
   "source": [
    "from statsmodels.graphics.tsaplots import plot_acf, plot_pacf\n",
    "\n",
    "fig = plt.figure(figsize=(12, 5))\n",
    "ax = fig.add_subplot(121)\n",
    "plot_acf(df, lags=15, ax=ax)\n",
    "ax.set_ylim([-1, 1.1])\n",
    "ax = fig.add_subplot(122)\n",
    "plot_pacf(df, lags=15, ax=ax, method=\"ywm\")\n",
    "ax.set_ylim([-1, 1.1])\n",
    "plt.show()"
   ]
  },
  {
   "cell_type": "markdown",
   "id": "5a29dd4f",
   "metadata": {},
   "source": [
    "🍭 _\"Lízátka\"_ (případně \"tykadla\") v ACF grafu (tzv. \"lollipop plot\") nám říkají, jak moc je dané zpoždění (angl. lag) (lineárně) korelované s časem $t$. Lízátka v PACF grafu nám říkají, jak moc spolu (lineárně) korelují jednotlivá zpoždění, když je očistíme o vliv mezilehlých zpoždění. V grafech ACF a PACF je navíc vidět modrá oblast. Ta znázorňuje 95% interval spolehlivosti a je ukazatelem prahu významnosti. To znamená, že cokoli uvnitř modré oblasti je statisticky blízké nule a cokoli mimo modrou oblast je statisticky nenulové.\n",
    "\n",
    "ACF i PACF začínají se zpožděním 0, což je korelace časové řady s ní samotnou, a proto je korelace rovna 1. U grafů pak dále zkoumáme, kolik lízátek je nad nebo pod intervalem spolehlivosti, než další lízátko vstoupí do modré oblasti. (Pomocí toho lze určit model.) Dále v ACF grafu vidíme, že existuje několik autokorelací, které jsou výrazně nenulové. Časová řada tedy není náhodná."
   ]
  },
  {
   "cell_type": "markdown",
   "id": "96250738",
   "metadata": {},
   "source": [
    "## 🔬 Modelování \n",
    "Zkusíme si teď vytvořit model, který je postavený na `AR` a `MA` modelech, ale zvládá zakomponovat také sezónnost a to jak lokální, tak globální. Z modulu `pmdarima.arima` použijeme funkci [`auto_arima`](https://alkaline-ml.com/pmdarima/modules/generated/pmdarima.arima.auto_arima.html), které předáme časovou řadu, periodu měření a informaci o tom, že časová řada obsahuje sezónnost. Funkce nám vrátí optimální model v závislosti na kombinaci informačního kritéria a solveru."
   ]
  },
  {
   "cell_type": "code",
   "execution_count": null,
   "id": "5b2ff7e3",
   "metadata": {},
   "outputs": [],
   "source": [
    "import pmdarima"
   ]
  },
  {
   "cell_type": "code",
   "execution_count": null,
   "id": "c03254fd",
   "metadata": {},
   "outputs": [],
   "source": [
    "model = pmdarima.arima.auto_arima(df, m=12, seasonal=True, information_criterion=\"hqic\")\n",
    "model"
   ]
  },
  {
   "cell_type": "markdown",
   "id": "849c7dcf",
   "metadata": {},
   "source": [
    "\n",
    "\n",
    "> <span style=\"font-size:200%;\"> 📝 </span> Výsledný model obsahuje `AR` model s řádem 2, `MA` model s řádem 1, differencování s `k=1` a differencování s `k=12`. "
   ]
  },
  {
   "cell_type": "markdown",
   "id": "56dadd74",
   "metadata": {},
   "source": [
    "### 🌦️ Předpověď\n",
    "Podíváme se, jaké nám bude tento model dávat předpovědi do budoucna."
   ]
  },
  {
   "cell_type": "code",
   "execution_count": null,
   "id": "b03ecab2",
   "metadata": {},
   "outputs": [],
   "source": [
    "from datetime import timedelta\n",
    "from dateutil.relativedelta import relativedelta"
   ]
  },
  {
   "cell_type": "code",
   "execution_count": null,
   "id": "e0350997",
   "metadata": {},
   "outputs": [],
   "source": [
    "def forecast(n_months):\n",
    "    inverse_trans = (lambda x: x) or inverse_trans\n",
    "    pred, ci = model.predict(n_periods=n_months, return_conf_int=True) # let's use above specified ARIMA\n",
    "\n",
    "    # create a dataframe with forecast\n",
    "    df2 = pd.DataFrame(\n",
    "        data={\"forecast\": pred, \"lb\": ci[:, 0], \"ub\": ci[:, 1]},\n",
    "        index=pd.DatetimeIndex(\n",
    "            pd.date_range(\n",
    "                start=df.index.max(),\n",
    "                end=df.index.max() + relativedelta(months=n_months),\n",
    "                freq=\"M\")))\n",
    "\n",
    "    fig = plt.figure(figsize=(10, 2))\n",
    "    ax = fig.add_subplot(111)\n",
    "    ax.plot(df.iloc[-50:], label=\"data\")\n",
    "    ax.fill_between(df2.index, df2[\"lb\"], df2[\"ub\"], color=\"b\", alpha=0.1, label=\"confidence interval\")\n",
    "    ax.plot(pred, label=\"forecast\")\n",
    "    ax.legend()\n",
    "    fig.suptitle(f\"Data with forecast ({n_months} months)\")\n",
    "    plt.show()"
   ]
  },
  {
   "cell_type": "code",
   "execution_count": null,
   "id": "73a3945f",
   "metadata": {},
   "outputs": [],
   "source": [
    "widgets.interact(\n",
    "    forecast,\n",
    "    n_months=widgets.IntSlider(\n",
    "        value=25,\n",
    "        min=2,\n",
    "        max=120,\n",
    "    ),\n",
    ");"
   ]
  },
  {
   "cell_type": "markdown",
   "id": "29358fd7",
   "metadata": {},
   "source": [
    "V grafu vidíme modře časovou řadu, oranžovoě předpověď do budoucna a kolem ní konfidenční interval, který nám říká, jak moc jsme si predikcí jistí."
   ]
  },
  {
   "cell_type": "markdown",
   "id": "62439c6b",
   "metadata": {},
   "source": [
    "\n",
    "\n",
    "> <span style=\"font-size:200%;\"> 📝 </span> Všimněte si, že čím je predikce v čase vzdálenější od posledního měření, tím menší důvěru model predikci přisuzuje. \n"
   ]
  },
  {
   "cell_type": "markdown",
   "id": "103a7a96",
   "metadata": {},
   "source": [
    "# 🎉 A to je pro tento semestr vše! 🎉\n",
    "\n",
    "Nezapomeňte prosím **vyplnit Anketu**. Můžete se v ní vyjádřit např. k následujícím otázkám:\n",
    "- Pokud jste se neúčastnili přednášek fyzicky, koukali jste alespoň na stream/záznamy?\n",
    "- Vyhovoval vám formát předmětu nebo byste raději měli klasická cvičení v počítačové učebně?\n",
    "- Líbila se vám jednotlivá témata? Chybělo vám některé téma nebo byste se naopak něčemu věnovali méně?\n",
    "- Jak hodnotíte jednotlivé domácí úkoly? Bylo pro vás jejich řešení přínosné?\n",
    "\n",
    "Pomůžete tak předmět zlepšit! 💛\n",
    "\n",
    "# Děkuji za pozornost! 👏 Hezké svátky! 🎄"
   ]
  },
  {
   "cell_type": "code",
   "execution_count": null,
   "id": "69c39b1d",
   "metadata": {},
   "outputs": [],
   "source": []
  }
 ],
 "metadata": {
  "kernelspec": {
   "display_name": "Python 3 (ipykernel)",
   "language": "python",
   "name": "python3"
  },
  "language_info": {
   "codemirror_mode": {
    "name": "ipython",
    "version": 3
   },
   "file_extension": ".py",
   "mimetype": "text/x-python",
   "name": "python",
   "nbconvert_exporter": "python",
   "pygments_lexer": "ipython3",
   "version": "3.9.12"
  },
  "toc": {
   "base_numbering": 1,
   "nav_menu": {},
   "number_sections": false,
   "sideBar": true,
   "skip_h1_title": true,
   "title_cell": "Table of Contents",
   "title_sidebar": "Contents",
   "toc_cell": false,
   "toc_position": {
    "height": "calc(100% - 180px)",
    "left": "10px",
    "top": "150px",
    "width": "235px"
   },
   "toc_section_display": true,
   "toc_window_display": true
  }
 },
 "nbformat": 4,
 "nbformat_minor": 5
}
