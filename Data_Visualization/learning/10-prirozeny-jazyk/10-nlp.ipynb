{
 "cells": [
  {
   "cell_type": "markdown",
   "id": "665c5be2",
   "metadata": {},
   "source": [
    "# ⚙️📜🗣️  Vizualizace přirozeného jazyka\n",
    "\n",
    "V tomto cvičení budeme vizualizovat data týkající se fenoménu [řetězových e-mailů](https://cs.wikipedia.org/wiki/%C5%98et%C4%9Bzov%C3%BD_e-mail), které kromě zpráv od [Nigérijských princů](https://cs.wikipedia.org/wiki/Nigerijsk%C3%A9_dopisy), [phishingových mailů](https://cs.wikipedia.org/wiki/Phishing), [ocbchodních sdělení](https://cs.wikipedia.org/wiki/Phishing) a dalších druhů e-mailů mohou sídlit v našich inboxech. Řetězové e-maily fungují na principu přeposílání zprávy, která často obsahuje propagandu, dezinformace, hoaxy a nebo poplašné zprávy. Zprávu chceme zaslat co nejvíce lidem a tím exponenciálně šířit informaci, která má za cíl zasít ve společnosti myšlenku nebo názor, na kterém pak bude autor/skupina autorů nějakým způsobem profitovat.\n",
    "\n",
    "Vy sami se nejspíše dobře orientujete v tom, jaké e-maily máte číst, na které klikat a kterým věřit, ale bohužel ne všichni mají stejně vycvičenou intuici. Někteří lidé dokonce berou obsah řetězových e-mailů jako relevantní informační zdroj. \n",
    "\n",
    "*🤷🏻 \"Musí to být přece pravda, když mi to přišlo od někoho, koho znám.\" 🤷‍♀️*\n",
    "\n",
    "V poslední době je čím dál tím více upozorňováno na problematiku řetězových e-mailů. Toto cvičení slouží jako taková malá sonda do tohoto světa. Dataset pochází z databáze [řetězových mailů](https://eldariel.cesti-elfove.cz). "
   ]
  },
  {
   "cell_type": "code",
   "execution_count": null,
   "id": "8d696b18",
   "metadata": {},
   "outputs": [],
   "source": [
    "import pandas as pd\n",
    "import os\n",
    "import operator\n",
    "import unidecode\n",
    "\n",
    "import plotly\n",
    "\n",
    "plotly.offline.init_notebook_mode(connected=True)\n",
    "\n",
    "import numpy as np\n",
    "\n",
    "from os import path\n",
    "from wordcloud import WordCloud\n",
    "import matplotlib.pyplot as plt\n",
    "import plotly.express as px"
   ]
  },
  {
   "cell_type": "code",
   "execution_count": null,
   "id": "d862b2dc",
   "metadata": {
    "scrolled": false
   },
   "outputs": [],
   "source": [
    "df = pd.read_csv(\"./chain_mails.csv\", index_col=0)\n",
    "df.Datum = pd.to_datetime(df.Datum)\n",
    "df.drop(index=df[df[\"Datum\"].dt.year < 2018].index, inplace=True)\n",
    "df[\"Předmět\"] = df[\"Předmět\"].astype(str)\n",
    "\n",
    "df"
   ]
  },
  {
   "cell_type": "markdown",
   "id": "9c3ea8b7",
   "metadata": {},
   "source": [
    "🔎 Na portálu jsou ve větším množství e-maily od roku 2019 do současnosti (19. 9. 2022). Náš dataset obsahuje 11 583 záznamů o 5 sloupcích: `ID`, `Předmět`, `Štítky` (seznam témat probíraných v e-mailu), `Zmínění` (lidé a instituce zmínění v e-mailu) a `Datum`.  "
   ]
  },
  {
   "cell_type": "markdown",
   "id": "2bbcf231",
   "metadata": {},
   "source": [
    "# 📧 Jak často e-maily chodí?\n",
    "\n",
    "Jako první nás může napadnout otázka: \"Jak často chodí takové řetězové e-maily?\""
   ]
  },
  {
   "cell_type": "code",
   "execution_count": null,
   "id": "56eef2c8",
   "metadata": {
    "scrolled": false
   },
   "outputs": [],
   "source": [
    "df = df[\n",
    "        (df[\"Datum\"].dt.year >= 2019)\n",
    "        | ((df[\"Datum\"].dt.year == 2022) & (df[\"Datum\"].dt.month <= 9))\n",
    "    ]\n",
    "\n",
    "fig = (\n",
    "    df.set_index(\"Datum\")\n",
    "    .resample(\"D\")\n",
    "    .size()\n",
    "    .rename(\"počet\")\n",
    "    .plot(backend=\"plotly\", title=\"Denní počty řetězových mailů\")\n",
    ")\n",
    "\n",
    "\n",
    "fig.show()"
   ]
  },
  {
   "cell_type": "markdown",
   "id": "c0025131",
   "metadata": {},
   "source": [
    "🔎 Z grafu vidíme, že řetězové e-maily chodí opravdu každý den, ale počty e-mailů jsou proměnlivé. S velkou pravděpodobností tyto výkyvy souvisí s událostmi a náladami ve společnosti. Zkusme proto přidat pro srovnání pár událostí, které v posledních dvou letech rezonovaly Českem."
   ]
  },
  {
   "cell_type": "code",
   "execution_count": null,
   "id": "41833987-8009-45a7-8afd-6b12ac52a8b2",
   "metadata": {
    "code_folding": []
   },
   "outputs": [],
   "source": [
    "def show_events():\n",
    "    fig.add_vline(\n",
    "        x=pd.to_datetime(\"24/02/2022\", format=\"%d/%m/%Y\").timestamp() * 1000,\n",
    "        line_width=2,\n",
    "        line_dash=\"dash\",\n",
    "        line_color=\"red\",\n",
    "        annotation_text=\"Ruská invaze na Ukrajinu\",\n",
    "        annotation_textangle=90,\n",
    "    )\n",
    "    fig.add_vline(\n",
    "        x=pd.to_datetime(\"08/10/2021\", format=\"%d/%m/%Y\").timestamp() * 1000,\n",
    "        line_width=2,\n",
    "        line_dash=\"dash\",\n",
    "        line_color=\"yellow\",\n",
    "        annotation_text=\"Volby do PSP a hospitalizace prezidenta\",\n",
    "        annotation_textangle=90,\n",
    "    )\n",
    "    fig.add_vline(\n",
    "        x=pd.to_datetime(\"18/04/2021\", format=\"%d/%m/%Y\").timestamp() * 1000,\n",
    "        line_width=2,\n",
    "        line_dash=\"dash\",\n",
    "        line_color=\"green\",\n",
    "        annotation_text=\"BIS + Vrbětice\",\n",
    "        annotation_textangle=90,\n",
    "    )\n",
    "    fig.add_vline(\n",
    "        x=pd.to_datetime(\"27/12/2020\", format=\"%d/%m/%Y\").timestamp() * 1000,\n",
    "        line_width=2,\n",
    "        line_dash=\"dash\",\n",
    "        line_color=\"pink\",\n",
    "        annotation_text=\"Očkování proti COVID-19 v ČR\",\n",
    "        annotation_textangle=90,\n",
    "    )\n",
    "    fig.add_vline(\n",
    "        x=pd.to_datetime(\"23/09/2020\", format=\"%d/%m/%Y\").timestamp() * 1000,\n",
    "        line_width=2,\n",
    "        line_dash=\"dash\",\n",
    "        line_color=\"cyan\",\n",
    "        annotation_text=\"Otrava řeky Bečva\",\n",
    "        annotation_textangle=90,\n",
    "    )\n",
    "    fig.add_vline(\n",
    "        x=pd.to_datetime(\"02/07/2021\", format=\"%d/%m/%Y\").timestamp() * 1000,\n",
    "        line_width=2,\n",
    "        line_dash=\"dash\",\n",
    "        line_color=\"purple\",\n",
    "        annotation_text=\"USA opouští Afghánistán\",\n",
    "        annotation_textangle=90,\n",
    "    )\n",
    "    fig.add_vline(\n",
    "        x=pd.to_datetime(\"01/05/2022\", format=\"%d/%m/%Y\").timestamp() * 1000,\n",
    "        line_width=2,\n",
    "        line_dash=\"dash\",\n",
    "        line_color=\"purple\",\n",
    "        annotation_text=\"Obléhání Mariupolu\",\n",
    "        annotation_textangle=90,\n",
    "    )\n",
    "    fig.show()"
   ]
  },
  {
   "cell_type": "code",
   "execution_count": null,
   "id": "f3029b5e-0fde-4263-945c-37d423e1779e",
   "metadata": {},
   "outputs": [],
   "source": [
    "show_events()"
   ]
  },
  {
   "cell_type": "markdown",
   "id": "81b08d8a",
   "metadata": {},
   "source": [
    "🔎 Z grafu vidíme, že tyto události opravdu předcházely nárůstu v počtu detekovaných řetězových e-mailů, avšak nemůžeme s jistotou říct, že tyto události byly přímo spouštěčem."
   ]
  },
  {
   "cell_type": "markdown",
   "id": "64b11942",
   "metadata": {},
   "source": [
    "## 🔁 Sezónnost v aktivitě\n",
    "\n",
    "Mohlo by nás také zajímat, jestli třeba v nějakém období není situace okolo řetězových e-mailů klidnější než jindy a zda-li jsou naopak některé měsíce těmito e-maily nabité."
   ]
  },
  {
   "cell_type": "code",
   "execution_count": null,
   "id": "429c8988",
   "metadata": {},
   "outputs": [],
   "source": [
    "def get_weekly_counts(x):\n",
    "    \"\"\"Returns a weekly count of e-mails.\"\"\"\n",
    "    return x.groupby(\"Datum\").size().resample(\"w\").size().rename(\"count\")"
   ]
  },
  {
   "cell_type": "markdown",
   "id": "6b0ae85b",
   "metadata": {},
   "source": [
    "👉 Spočítáme týdenní počty e-mailů pro jednotlivé roky:"
   ]
  },
  {
   "cell_type": "code",
   "execution_count": null,
   "id": "370da549",
   "metadata": {},
   "outputs": [],
   "source": [
    "ts = (\n",
    "    df.assign(year=df[\"Datum\"].dt.year)\n",
    "    .groupby(\"year\")\n",
    "    .apply(get_weekly_counts)\n",
    "    .reset_index()\n",
    ")"
   ]
  },
  {
   "cell_type": "code",
   "execution_count": null,
   "id": "1476fef3",
   "metadata": {
    "code_folding": [],
    "scrolled": false
   },
   "outputs": [],
   "source": [
    "fig = (\n",
    "    ts.groupby(\"year\")\n",
    "    .apply(lambda x: x.assign(week=x.Datum.dt.isocalendar().week % 52))\n",
    "    .sort_values(by=\"week\")\n",
    "    .plot(\n",
    "        backend=\"plotly\",\n",
    "        x=\"week\",\n",
    "        y=\"count\",\n",
    "        color=\"year\",\n",
    "        title=\"Sezónnost řetězových e-mailů (týdenní)\",\n",
    "    )\n",
    ")\n",
    "fig.add_vline(\n",
    "    23,\n",
    "    annotation_text=\"Červen\",\n",
    "    line_dash=\"dash\",\n",
    "    line_color=\"purple\",\n",
    ")\n",
    "fig.add_vline(\n",
    "    36,\n",
    "    annotation_text=\"Září\",\n",
    "    line_dash=\"dash\",\n",
    "    line_color=\"purple\",\n",
    ")\n",
    "fig.update_xaxes(range=[2, 51])"
   ]
  },
  {
   "cell_type": "markdown",
   "id": "24521a6f",
   "metadata": {},
   "source": [
    "🔎 Z grafu je vidět, že v letech 2020 a 2021 byli autoři řetězových mailů z počátku roku celkem aktivní, do dubna se počet e-mailů zvětšoval, ale s příchodem letních prázdnin došlo k značnému poklesu. Tento pokles celkem znatelně souvisí se [sezónností v období dovolených](https://ec.europa.eu/eurostat/statistics-explained/index.php?title=Seasonality_in_the_tourist_accommodation_sector)."
   ]
  },
  {
   "cell_type": "markdown",
   "id": "881ebb0c",
   "metadata": {},
   "source": [
    "# 📦 Co je obsahem e-mailů? \n",
    "\n",
    "Další dobrá otázka. Problém je, že asi nezvládneme přečíst všech téměř 12 tisíc e-mailů, tím spíš když bychom je museli analyzovat. Naštěstí můžeme tento proces automatizovat pomocí programování, regulárních výrazů a špetkou statistiky. Jelikož předměty e-mailů často slouží ke shrnutí obsahu zprávy, začněme zde."
   ]
  },
  {
   "cell_type": "code",
   "execution_count": null,
   "id": "9b2689d1",
   "metadata": {},
   "outputs": [],
   "source": [
    "from collections import Counter\n",
    "from functools import reduce\n",
    "import re"
   ]
  },
  {
   "cell_type": "markdown",
   "id": "47b65349",
   "metadata": {},
   "source": [
    "👉 Nejdříve pomocí regulárních výrazů vyextrahujeme jednotlivá slova z předmětů (více viz modul [re](https://docs.python.org/3/howto/regex.html)). "
   ]
  },
  {
   "cell_type": "code",
   "execution_count": null,
   "id": "e06dc0c1",
   "metadata": {},
   "outputs": [],
   "source": [
    "tokens = df[\"Předmět\"].str.findall(r\"[\\w]+\", flags=re.IGNORECASE)"
   ]
  },
  {
   "cell_type": "code",
   "execution_count": null,
   "id": "5e5ff950",
   "metadata": {},
   "outputs": [],
   "source": [
    "words = reduce(lambda a, b: a + b, tokens.values.tolist())"
   ]
  },
  {
   "cell_type": "code",
   "execution_count": null,
   "id": "0eda69a9",
   "metadata": {
    "scrolled": true
   },
   "outputs": [],
   "source": [
    "# prvních 14 slov\n",
    "words[:14]"
   ]
  },
  {
   "cell_type": "markdown",
   "id": "aa6a7101",
   "metadata": {},
   "source": [
    "👉 Ve výsledku budeme mít seznam všech slov nacházejících se v předmětech e-mailů. Uděláme si tedy statistiku výskytů a podíváme se na nejčastěji použitá slova."
   ]
  },
  {
   "cell_type": "code",
   "execution_count": null,
   "id": "beec97eb",
   "metadata": {},
   "outputs": [],
   "source": [
    "subject_word_count = Counter(words)"
   ]
  },
  {
   "cell_type": "code",
   "execution_count": null,
   "id": "f3496767",
   "metadata": {},
   "outputs": [],
   "source": [
    "# 10 nejčastějších slov\n",
    "subject_word_count.most_common()[:10]"
   ]
  },
  {
   "cell_type": "markdown",
   "id": "4fd16155",
   "metadata": {},
   "source": [
    "🔎 Z výpisu ale vidíme, že nejčastější slova jsou spojky a zájmena, včetně zvratných. Je třeba trochu zlepšit naši detekci."
   ]
  },
  {
   "cell_type": "markdown",
   "id": "aee91429",
   "metadata": {},
   "source": [
    "## 🛑 Stop words\n",
    "Jednou základní operací NLP je odebrání tzv. stop words (spojky, předložky, apod.)."
   ]
  },
  {
   "cell_type": "markdown",
   "id": "1def805a",
   "metadata": {},
   "source": [
    "👉 Jednou z možností je pomocí knihovny `requests` si stáhnout seznam stopwords z internetu, např.:"
   ]
  },
  {
   "cell_type": "code",
   "execution_count": null,
   "id": "1effd38b",
   "metadata": {},
   "outputs": [],
   "source": [
    "#import requests\n",
    "#stop_words = requests.get(\n",
    "#    \"https://raw.githubusercontent.com/Alir3z4/stop-words/master/czech.txt\"\n",
    "#).text.split()"
   ]
  },
  {
   "cell_type": "markdown",
   "id": "39faa4c6",
   "metadata": {},
   "source": [
    "Nebo můžete nahrát vlastní soubor, např. který jsme si pro danou úlohu připravili: "
   ]
  },
  {
   "cell_type": "code",
   "execution_count": null,
   "id": "0809a1b9",
   "metadata": {},
   "outputs": [],
   "source": [
    "with open('stopwords.txt') as e:\n",
    "  stop_words = e.read()"
   ]
  },
  {
   "cell_type": "code",
   "execution_count": null,
   "id": "e105b3f5",
   "metadata": {
    "scrolled": true
   },
   "outputs": [],
   "source": [
    "# count of stopwords\n",
    "len(stop_words)"
   ]
  },
  {
   "cell_type": "markdown",
   "id": "672f6e68",
   "metadata": {},
   "source": [
    "👉 A odfiltrujeme stop slova."
   ]
  },
  {
   "cell_type": "code",
   "execution_count": null,
   "id": "ac7fe18f",
   "metadata": {},
   "outputs": [],
   "source": [
    "from functools import lru_cache\n",
    "\n",
    "\n",
    "@lru_cache(maxsize=None)\n",
    "def is_stop_word(word):\n",
    "    return word in stop_words"
   ]
  },
  {
   "cell_type": "code",
   "execution_count": null,
   "id": "0cc13124",
   "metadata": {},
   "outputs": [],
   "source": [
    "subject_word_count = Counter(\n",
    "    filter(\n",
    "        lambda x: not is_stop_word(x) and not x.isnumeric() and not len(x) < 2,\n",
    "        map(lambda x: x.lower(), words),\n",
    "    )\n",
    ")"
   ]
  },
  {
   "cell_type": "code",
   "execution_count": null,
   "id": "6c6461f8",
   "metadata": {
    "scrolled": true
   },
   "outputs": [],
   "source": [
    "subject_word_count.most_common()[:10]"
   ]
  },
  {
   "cell_type": "markdown",
   "id": "6cd32e78",
   "metadata": {},
   "source": [
    "🔎 Z výpisu vidíme, že odebrání stop slov opravdu pomohlo a v prvních `10 nejčastějších slovech` se už žádná spojka nenachází. Máme zde ale jiný problém - osmé a desáté nejčastější slovo, je vlastně jedno a to samé, jen má jiný tvar. V obou případech jde o Ukrajinu. Počítač bohužel tohle sám nerozliší, máme ale k dispozici lingvistické nástroje, které ano."
   ]
  },
  {
   "cell_type": "markdown",
   "id": "47677d58",
   "metadata": {},
   "source": [
    "## ✨ Lemmatizace\n",
    "\n",
    "Jedním takovým nástrojem je lemmatizace textu. Můžeme využít nástroj [majka](https://nlp.fi.muni.cz/ma/) od kolegů z Masarykovy Univerzity v Brně. Díky tomuto nástroji můžeme najít lemmata (základní tvary) jednotlivých slov."
   ]
  },
  {
   "cell_type": "code",
   "execution_count": null,
   "id": "ba83087a",
   "metadata": {},
   "outputs": [],
   "source": [
    "import majka"
   ]
  },
  {
   "cell_type": "code",
   "execution_count": null,
   "id": "4957ef94",
   "metadata": {},
   "outputs": [],
   "source": [
    "morph = majka.Majka(\"./majka.w-lt\")"
   ]
  },
  {
   "cell_type": "code",
   "execution_count": null,
   "id": "7dd1fda3",
   "metadata": {},
   "outputs": [],
   "source": [
    "def lemmatize(word):\n",
    "    \"\"\"Returns a lemmatized form of a word, or the word if the lemma does not exist.\"\"\"\n",
    "    lemma = word\n",
    "    try:\n",
    "        lemma = morph.find(word)[0][\"lemma\"]\n",
    "    except IndexError:\n",
    "        lemma = word\n",
    "    return lemma"
   ]
  },
  {
   "cell_type": "markdown",
   "id": "f4ea3c44",
   "metadata": {},
   "source": [
    "👉Například slovo `\"Nůžek\"` jednoduše převedeme na  "
   ]
  },
  {
   "cell_type": "code",
   "execution_count": null,
   "id": "bc94041e",
   "metadata": {},
   "outputs": [],
   "source": [
    "lemmatize(\"Nůžek\")"
   ]
  },
  {
   "cell_type": "code",
   "execution_count": null,
   "id": "0b6ab8e2",
   "metadata": {},
   "outputs": [],
   "source": [
    "def preprocess(words):\n",
    "    \"\"\"Filters out a list of worlds and converts them to lemmas.\"\"\"\n",
    "    out = []\n",
    "    for word in words:\n",
    "        if is_stop_word(word.lower()) or word.isnumeric() or len(word) < 2:\n",
    "            continue\n",
    "        out.append(lemmatize(word).lower())\n",
    "    return out"
   ]
  },
  {
   "cell_type": "code",
   "execution_count": null,
   "id": "5684e10d",
   "metadata": {},
   "outputs": [],
   "source": [
    "subject_word_count = Counter(preprocess(words))"
   ]
  },
  {
   "cell_type": "code",
   "execution_count": null,
   "id": "4ccef944",
   "metadata": {},
   "outputs": [],
   "source": [
    "subject_word_count.most_common()[:10]"
   ]
  },
  {
   "cell_type": "markdown",
   "id": "9464c283",
   "metadata": {},
   "source": [
    "🔎 A je to. Podařilo se nám spojit slova se stejným významem a tím značně zlepšit kvalitu naší statistiky."
   ]
  },
  {
   "cell_type": "markdown",
   "id": "9fef19e7",
   "metadata": {},
   "source": [
    "## ☁️ Word Cloud\n",
    "Jedna z forem vizualizace přirozeného jazyka je wordcloud, který kombinuje četnost slov a slova samotná tak, že častější slova mají větší velikost a naopak. Využijeme k tomu balíček [`wordcloud`](https://amueller.github.io/word_cloud/index.html)."
   ]
  },
  {
   "cell_type": "code",
   "execution_count": null,
   "id": "ddac7e0d",
   "metadata": {},
   "outputs": [],
   "source": [
    "import wordcloud"
   ]
  },
  {
   "cell_type": "code",
   "execution_count": null,
   "id": "3a8a4066",
   "metadata": {},
   "outputs": [],
   "source": [
    "cloud = wordcloud.WordCloud(background_color=\"white\", max_font_size=70, width=1000, height=500)\n",
    "cloud.fit_words(subject_word_count)\n",
    "# show image in matplotlib way\n",
    "plt.figure(figsize=(16, 10))\n",
    "plt.imshow(cloud) #interpolation=\"bilinear\"\n",
    "plt.axis(\"off\")\n",
    "plt.show()"
   ]
  },
  {
   "cell_type": "markdown",
   "id": "d0234f86",
   "metadata": {},
   "source": [
    "Pamatujete si na 3. cvičení, kdy jsme si povídali o rozhraních `matplotlib`u? Podívejte se na kód k wordcloudu a zkuste jej za ⭐️**dobrovolný domácí úkol**⭐️ převést do objektově orientované reprezentace."
   ]
  },
  {
   "cell_type": "markdown",
   "id": "a73c51c4",
   "metadata": {},
   "source": [
    "Pozn.: U `plt.imshow()` se můžete setkat s parametrem `interpolation`, u wordcloudů nastaveným na hodnotu `bilinear`. Více si o této transformaci můžete přečíst v [📖dokumentaci](https://matplotlib.org/stable/gallery/images_contours_and_fields/interpolation_methods.html)."
   ]
  },
  {
   "cell_type": "markdown",
   "id": "e095b03a",
   "metadata": {},
   "source": [
    "## 😐 Sentiment\n",
    "\n",
    "Další věc, kterou můžeme v textu sledovat, je sentiment. Ten se často dělí na _negativní_ 😖, _neutrální_ 😐 a _pozitivní_ 🙂. K tomu použijeme druhou část datasetu, která obsahuje dodatečné informace k jednotlivým e-mailům včetně klasifikace obsahu e-mailu do zmíněných kategorií. 🙊"
   ]
  },
  {
   "cell_type": "code",
   "execution_count": null,
   "id": "9a47cfd7",
   "metadata": {},
   "outputs": [],
   "source": [
    "meta = pd.read_csv(\"./chain_mails_meta_info.csv\", index_col=\"id\").fillna(\"\")\n",
    "meta['Datum'] = pd.to_datetime(meta['Datum'])\n",
    "meta = meta[meta['Datum'].dt.year > 2019]"
   ]
  },
  {
   "cell_type": "code",
   "execution_count": null,
   "id": "e3c38499",
   "metadata": {},
   "outputs": [],
   "source": [
    "meta.tail(5)"
   ]
  },
  {
   "cell_type": "code",
   "execution_count": null,
   "id": "b11f5144",
   "metadata": {},
   "outputs": [],
   "source": [
    "positive_mentions = reduce(\n",
    "    lambda a, b: a + b,\n",
    "    meta[\"positive_mentions\"].fillna(\"\").apply(lambda x: x.split(\",\")),\n",
    ")"
   ]
  },
  {
   "cell_type": "code",
   "execution_count": null,
   "id": "5caca1dc",
   "metadata": {},
   "outputs": [],
   "source": [
    "neutral_mentions = reduce(\n",
    "    lambda a, b: a + b,\n",
    "    meta[\"neutral_mentions\"].fillna(\"\").apply(lambda x: x.split(\",\")),\n",
    ")"
   ]
  },
  {
   "cell_type": "code",
   "execution_count": null,
   "id": "5d87c0f3",
   "metadata": {},
   "outputs": [],
   "source": [
    "negative_mentions = reduce(\n",
    "    lambda a, b: a + b,\n",
    "    meta[\"negative_mentions\"].fillna(\"\").apply(lambda x: x.split(\",\")),\n",
    ")"
   ]
  },
  {
   "cell_type": "code",
   "execution_count": null,
   "id": "db8a7b09",
   "metadata": {},
   "outputs": [],
   "source": [
    "positive = Counter(filter(bool, positive_mentions))\n",
    "neutral = Counter(filter(bool, neutral_mentions))\n",
    "negative = Counter(filter(bool, negative_mentions))"
   ]
  },
  {
   "cell_type": "code",
   "execution_count": null,
   "id": "090e7f9f",
   "metadata": {},
   "outputs": [],
   "source": [
    "positive.most_common()[:10]"
   ]
  },
  {
   "cell_type": "code",
   "execution_count": null,
   "id": "5cbf9cd2",
   "metadata": {},
   "outputs": [],
   "source": [
    "neutral.most_common()[:10]"
   ]
  },
  {
   "cell_type": "code",
   "execution_count": null,
   "id": "fd28ae00",
   "metadata": {},
   "outputs": [],
   "source": [
    "negative.most_common()[:10]"
   ]
  },
  {
   "cell_type": "markdown",
   "id": "5fb80817",
   "metadata": {},
   "source": [
    "🔎 Ze statistik je vidět, že nejvíce pozitivně se mluvilo o Rusku, což podporuje i tvrzení, že řetězové e-maily jsou využívány jako nástroj ruské propagandy. 🫢 Neutrálně se mluvilo o důchodcích, což může reflektovat i to, že [každý pátý důchodce přeposílá řetězové e-maily](https://zpravy.aktualne.cz/domaci/seniori-retezove-emaily-trollove-elpida/r~4bc1f5faef4a11e99d020cc47ab5f122/). Negativně se pak nejvíce mluví o Evropské unii."
   ]
  },
  {
   "cell_type": "markdown",
   "id": "ad71fcfb",
   "metadata": {},
   "source": [
    "### 🥧 Koláčový graf a sentiment\n",
    "\n",
    "Můžeme se také podívat na poměr pozitivních, negativních a neutrálních zmínění jednotlivých osob v e-mailech."
   ]
  },
  {
   "cell_type": "code",
   "execution_count": null,
   "id": "8011b49c",
   "metadata": {},
   "outputs": [],
   "source": [
    "intersection = sorted(\n",
    "    list(set(positive).union(set(negative)).union(set(neutral)))\n",
    ") # vezmeme sjednocení všech množin"
   ]
  },
  {
   "cell_type": "markdown",
   "id": "a0b50d69",
   "metadata": {},
   "source": [
    "👉 Tady budeme uvažovat jen zmínky, které jsou ve všech třech kategoriích:"
   ]
  },
  {
   "cell_type": "code",
   "execution_count": null,
   "id": "fdbaeb23",
   "metadata": {},
   "outputs": [],
   "source": [
    "import plotly.graph_objects as go\n",
    "from plotly.subplots import make_subplots\n",
    "from ipywidgets import widgets\n",
    "\n",
    "\n",
    "def get_pie_chart(subject):\n",
    "    \"\"\"Creates a pie chart of sentiment shares.\"\"\"\n",
    "    fig = go.Figure(\n",
    "        data=[\n",
    "            go.Pie(\n",
    "                title=subject,\n",
    "                labels=[\"Neutral\", \"Negative\", \"Positve\"],\n",
    "                values=[neutral.get(subject, 0), negative.get(subject, 0), positive.get(subject, 0)],\n",
    "                hole=0.4,\n",
    "                sort=False,\n",
    "            )\n",
    "        ]\n",
    "    )\n",
    "    fig.update_layout(\n",
    "    title=\"Koláčový graf sentimentu k subjektům řetězových e-mailů\")\n",
    "    fig.show()\n",
    "\n",
    "\n",
    "widgets.interact(get_pie_chart, subject=sorted(intersection));"
   ]
  },
  {
   "cell_type": "markdown",
   "id": "a4f5f177",
   "metadata": {},
   "source": [
    "### 🎨 Obarvení slov ve wordcloudech\n",
    "Nebo můžeme obarvit jednotlivé zmínky podle převažujícího sentimentu."
   ]
  },
  {
   "cell_type": "code",
   "execution_count": null,
   "id": "68678fbd",
   "metadata": {},
   "outputs": [],
   "source": [
    "cloud = wordcloud.WordCloud(max_font_size=70, width=1000, height=500)\n",
    "cloud.fit_words({k: v for k, v in negative.most_common()});\n",
    "cloud.fit_words({k: v for k, v in positive.most_common()});\n",
    "cloud.fit_words({k: v for k, v in neutral.most_common()});"
   ]
  },
  {
   "cell_type": "code",
   "execution_count": null,
   "id": "094fe515",
   "metadata": {},
   "outputs": [],
   "source": [
    "red = \"#DD1C1A\"\n",
    "green = \"#29BF12\"\n",
    "blue = \"#6878DE\""
   ]
  },
  {
   "cell_type": "code",
   "execution_count": null,
   "id": "dde87e04",
   "metadata": {},
   "outputs": [],
   "source": [
    "def color(word, **kwargs):\n",
    "    \"\"\"Colors words based on sentiment (negative, positive, neutral).\"\"\"\n",
    "    colors = (red, blue, green)\n",
    "    neg_count = negative[word] if word in negative else 0\n",
    "    neu_count = neutral[word] if word in neutral else 0\n",
    "    pos_count = positive[word] if word in positive else 0\n",
    "    return colors[np.argmax([neg_count, neu_count, pos_count])]"
   ]
  },
  {
   "cell_type": "code",
   "execution_count": null,
   "id": "6c0f2206",
   "metadata": {},
   "outputs": [],
   "source": [
    "color(\"Miroslav Kalousek\") is red"
   ]
  },
  {
   "cell_type": "code",
   "execution_count": null,
   "id": "97094cb2",
   "metadata": {},
   "outputs": [],
   "source": [
    "cloud.recolor(color_func=color);"
   ]
  },
  {
   "cell_type": "code",
   "execution_count": null,
   "id": "b19f3df9",
   "metadata": {},
   "outputs": [],
   "source": [
    "plt.figure(figsize=(16, 10))\n",
    "plt.imshow(cloud) #interpolation=\"bicubic\"\n",
    "plt.axis(\"off\")\n",
    "plt.show()"
   ]
  },
  {
   "cell_type": "markdown",
   "id": "daa0c97f",
   "metadata": {},
   "source": [
    "🔎 Teď už máme kompletní přehled o tom, koho nebo co zmiňovaly řetězové e-maily a jaký v daným případech převládá nálada. V e-mailech jsou pozitivně zmiňováni někteří čeští politici, Čína, Donald Trump, Putin nebo dokonce Stalin (diktátor, vzpomeňte). Neutrálně jsou zmiňováni senioři, různé státy jako například Turecko, Bulharsko nebo Česká republika, ale také (nečekaně) ukrajinský prezident Volodymyr Zelenskyj. Negativně se psalo o Václavu Havlovi, USA, Angele Merkelové nebo Ukrajině."
   ]
  },
  {
   "cell_type": "markdown",
   "id": "1ed32b2a",
   "metadata": {},
   "source": [
    "# 💬 Témata řetězových e-mailů\n",
    "\n",
    "Další informací, které se budeme věnovat jsou, `Štítky`. Pojďme se podívat, jak se vyvíjel seznam nejprobíranějších témat v čase. "
   ]
  },
  {
   "cell_type": "code",
   "execution_count": null,
   "id": "b96650ce",
   "metadata": {},
   "outputs": [],
   "source": [
    "N = 10\n",
    "period = \"14D\" # 14 calendar day frequency (see pandas Offset aliases for time series)\n",
    "\n",
    "topics = df.set_index(\"Datum\")[\"Štítky\"].str.split(\"  \")\n",
    "out = []\n",
    "for week, data in topics[topics.index.year > 2019].groupby(pd.Grouper(freq=period)):\n",
    "    week_words = reduce(\n",
    "        lambda a, b: (a if isinstance(a, list) else [])\n",
    "        + (b if isinstance(b, list) else []),\n",
    "        data.values.tolist(),\n",
    "    )\n",
    "    counter = Counter(preprocess(week_words))\n",
    "    data = {}\n",
    "    for i, w in enumerate(counter.most_common()[:N]):\n",
    "        data[\"rank\"] = i\n",
    "        data[\"type\"] = [w[0]]\n",
    "        data[\"count\"] = [w[1]]\n",
    "        out.append(pd.DataFrame(data, index=[week]))"
   ]
  },
  {
   "cell_type": "code",
   "execution_count": null,
   "id": "e98961d1",
   "metadata": {},
   "outputs": [],
   "source": [
    "trends = pd.concat(out)"
   ]
  },
  {
   "cell_type": "code",
   "execution_count": null,
   "id": "b924ba77",
   "metadata": {},
   "outputs": [],
   "source": [
    "fig = (\n",
    "    trends.groupby(\"type\")\n",
    "    .filter(lambda x: x.shape[0] > 4)\n",
    "    .reset_index()\n",
    "    .plot(\n",
    "        backend=\"plotly\",\n",
    "        kind=\"bar\",\n",
    "        x=\"index\",\n",
    "        y=\"count\",\n",
    "        color=\"type\",\n",
    "        text=\"type\",\n",
    "        title=\"Graf vývoje témat v čase\",\n",
    "        color_discrete_sequence=px.colors.qualitative.Dark24,\n",
    "    )\n",
    ")\n",
    "fig.update_xaxes(rangeslider_visible=True)\n",
    "fig.update_layout(barmode=\"stack\")"
   ]
  },
  {
   "cell_type": "markdown",
   "id": "91e0b5d5",
   "metadata": {},
   "source": [
    "> *🔦 Cvičení*: Dokážete najít nějaká témata, které spolu nejspíše souvisejí?"
   ]
  },
  {
   "cell_type": "code",
   "execution_count": null,
   "id": "a9d74850-3047-4a54-abd2-fa70f30409af",
   "metadata": {},
   "outputs": [],
   "source": [
    "show_events()"
   ]
  },
  {
   "cell_type": "markdown",
   "id": "09bebcef",
   "metadata": {},
   "source": [
    "🔎 Ještě se můžete podívat na to, jak vývoj v probíraných tématech může souviset s událostmi."
   ]
  },
  {
   "cell_type": "markdown",
   "id": "0d521993",
   "metadata": {},
   "source": [
    "# 📰 A co zdroje?\n",
    "\n",
    "Pro dobrou argumentaci je třeba podložit svá tvrzení zdroji. I toto se děje ve světě řetězových e-mailů. Pojďme se společně podívat na to, jaké zdroje jsou nejcitovanější. "
   ]
  },
  {
   "cell_type": "code",
   "execution_count": null,
   "id": "19f873f1",
   "metadata": {},
   "outputs": [],
   "source": [
    "source, num_references = zip(*Counter(filter(lambda x: x, meta.Zdroj)).items())"
   ]
  },
  {
   "cell_type": "code",
   "execution_count": null,
   "id": "7fdd74fd",
   "metadata": {},
   "outputs": [],
   "source": [
    "sources = pd.DataFrame.from_dict(dict(source=source, references=num_references))"
   ]
  },
  {
   "cell_type": "code",
   "execution_count": null,
   "id": "cdec95c1",
   "metadata": {},
   "outputs": [],
   "source": [
    "k = 15 # vezmeme top 15\n",
    "sources.sort_values(by=\"references\", ascending=False).iloc[:k].plot(\n",
    "    kind=\"bar\",\n",
    "    x=\"source\",\n",
    "    y=\"references\",\n",
    "    backend=\"plotly\",\n",
    "    title=f\"Top {k} zdrojů zmíněných v řetezových e-mailech\",\n",
    ")"
   ]
  },
  {
   "cell_type": "markdown",
   "id": "21d997f0",
   "metadata": {},
   "source": [
    "🔎 Většina z těchto zdojů jsou \"staří známí\" na [dezinformační scéně](https://cs.wikipedia.org/wiki/Seznam_dezinforma%C4%8Dn%C3%ADch_web%C5%AF_v_%C4%8De%C5%A1tin%C4%9B), dále jsou tu specifikované i nespecifikované profily na sociálních sítích."
   ]
  },
  {
   "cell_type": "code",
   "execution_count": null,
   "id": "044befb3",
   "metadata": {},
   "outputs": [],
   "source": [
    "cloud = wordcloud.WordCloud(max_font_size=70, width=1000, height=500)\n",
    "cloud.fit_words(Counter(meta.Zdroj))\n",
    "plt.figure(figsize=(16, 10)) # další wordcloud ;)\n",
    "plt.imshow(cloud) #interpolation=\"bicubic\"\n",
    "plt.axis(\"off\")\n",
    "plt.show()"
   ]
  },
  {
   "cell_type": "markdown",
   "id": "40e805c3",
   "metadata": {},
   "source": [
    "# 🗝️ Extrakce klíčových slov\n",
    "\n",
    "Algoritmů pro detekci klíčových slov existuje několik. Ukážeme si, jaké výsledky nám vrátí algoritmus [RAKE (RApid Keyword Extractor)](https://www.analyticsvidhya.com/blog/2021/10/rapid-keyword-extraction-rake-algorithm-in-natural-language-processing/)."
   ]
  },
  {
   "cell_type": "code",
   "execution_count": null,
   "id": "e287c149",
   "metadata": {},
   "outputs": [],
   "source": [
    "from multi_rake import Rake, stopwords as sw"
   ]
  },
  {
   "cell_type": "code",
   "execution_count": null,
   "id": "f1ebcc2e",
   "metadata": {},
   "outputs": [],
   "source": [
    "rake = Rake(language_code=\"cs\", stopwords=stop_words, max_words=2, max_words_unknown_lang=1, min_freq=15)"
   ]
  },
  {
   "cell_type": "code",
   "execution_count": null,
   "id": "bf8eb505",
   "metadata": {},
   "outputs": [],
   "source": [
    "text = ' '.join(meta.assign(len=meta[\"Tělo\"].apply(len)).sort_values(by=\"len\", ascending=False).iloc[:100][\"Tělo\"].values)"
   ]
  },
  {
   "cell_type": "code",
   "execution_count": null,
   "id": "992a77ab",
   "metadata": {},
   "outputs": [],
   "source": [
    "print(text[:250])"
   ]
  },
  {
   "cell_type": "code",
   "execution_count": null,
   "id": "03b697dc",
   "metadata": {},
   "outputs": [],
   "source": [
    "keywords = rake.apply(text)"
   ]
  },
  {
   "cell_type": "code",
   "execution_count": null,
   "id": "45ecc856",
   "metadata": {},
   "outputs": [],
   "source": [
    "keywords[:15]"
   ]
  },
  {
   "cell_type": "markdown",
   "id": "93e20a94",
   "metadata": {},
   "source": [
    "🔎 Můžeme si všimnout, že některá klíčová slova jsme detekovali stejně, některé jsou úplně jiná. Bylo by třeba použít nějaký postprocessing."
   ]
  },
  {
   "cell_type": "markdown",
   "id": "524e80ff",
   "metadata": {},
   "source": [
    "# 🧲  Souběžný výskyt štítků a zmínek\n",
    "\n",
    "Dále nás může zajímat, jaké dvojice mezi zmínkami a štítky se často opakují."
   ]
  },
  {
   "cell_type": "code",
   "execution_count": null,
   "id": "2f31d6e9",
   "metadata": {},
   "outputs": [],
   "source": [
    "from tqdm.notebook import tqdm\n",
    "import networkx as nx\n",
    "import plotly.graph_objects as go"
   ]
  },
  {
   "cell_type": "code",
   "execution_count": null,
   "id": "7c507a7d",
   "metadata": {},
   "outputs": [],
   "source": [
    "coocurences = (\n",
    "    df[[\"Štítky\", \"Zmínění\"]]\n",
    "    .fillna(\"\")\n",
    "    .apply(\n",
    "        lambda row: [\n",
    "            tuple(sorted([x, y]))\n",
    "            for x in row[\"Štítky\"].split(\"  \")\n",
    "            for y in row[\"Zmínění\"].split(\"  \")\n",
    "        ],\n",
    "        axis=1,\n",
    "    )\n",
    ")"
   ]
  },
  {
   "cell_type": "code",
   "execution_count": null,
   "id": "9a894e10",
   "metadata": {},
   "outputs": [],
   "source": [
    "coocurences = reduce(operator.add, tqdm(coocurences.values))"
   ]
  },
  {
   "cell_type": "code",
   "execution_count": null,
   "id": "2a19c977",
   "metadata": {},
   "outputs": [],
   "source": [
    "ctr = Counter(coocurences)"
   ]
  },
  {
   "cell_type": "code",
   "execution_count": null,
   "id": "1345f02a",
   "metadata": {},
   "outputs": [],
   "source": [
    "G = nx.Graph()\n",
    "for edge, w in ctr.most_common()[:40]:\n",
    "    if edge[0] != edge[1]:\n",
    "        G.add_edge(*edge, weight=w, title=w)"
   ]
  },
  {
   "cell_type": "code",
   "execution_count": null,
   "id": "f20f316b",
   "metadata": {},
   "outputs": [],
   "source": [
    "from IPython.display import HTML"
   ]
  },
  {
   "cell_type": "code",
   "execution_count": null,
   "id": "48b1b645",
   "metadata": {},
   "outputs": [],
   "source": [
    "from pyvis.network import Network\n",
    "\n",
    "coocurences = Network(notebook=True)\n",
    "coocurences.from_nx(G, edge_scaling=True, default_edge_weight=1)\n",
    "coocurences.toggle_hide_edges_on_drag(True)\n",
    "display(HTML(f\"<h4>Graf souběžných výskytů zmínek a témat</h4>\"))\n",
    "coocurences.show(\"coocurences.html\")"
   ]
  },
  {
   "cell_type": "markdown",
   "id": "20147982",
   "metadata": {},
   "source": [
    "🔎 Nejsilnější souběžný výskyt je mezi Ruskem a USA, společně s nimi se řešilo hodně téma Ukrajiny. Dále se řešila česká politika a s ní související subjekty, nebo Evropská unie."
   ]
  },
  {
   "cell_type": "markdown",
   "id": "36a8c1b3",
   "metadata": {},
   "source": [
    "# ✳️ Vizualizace jednotlivých shluků řetězových mailů\n",
    "\n",
    "Jako předposlední se podíváme na shluky e-mailů se stejnými vzory. Pomocí `networkx` vytvoříme graf, ve kterém vrcholy budou jednotlivé e-maily (modře 🔵) a jejich zdroje (oranžově 🟠). Jednotlivé e-maily budou také propojené se sobě podobnými."
   ]
  },
  {
   "cell_type": "code",
   "execution_count": null,
   "id": "af8b931f",
   "metadata": {},
   "outputs": [],
   "source": [
    "G = nx.Graph()"
   ]
  },
  {
   "cell_type": "code",
   "execution_count": null,
   "id": "0e1fa7f4",
   "metadata": {},
   "outputs": [],
   "source": [
    "meta[\"Datum\"] = pd.to_datetime(meta[\"Datum\"])"
   ]
  },
  {
   "cell_type": "code",
   "execution_count": null,
   "id": "037a561e",
   "metadata": {},
   "outputs": [],
   "source": [
    "df[\"Štítky\"].fillna(\"\", inplace=True)"
   ]
  },
  {
   "cell_type": "markdown",
   "id": "7dbc7dc1",
   "metadata": {},
   "source": [
    "👉 Mezi e-maily budeme měřit podobnost mezi štítky pomocí `Jaccardovy vzdálenosti`."
   ]
  },
  {
   "cell_type": "code",
   "execution_count": null,
   "id": "251d4de6",
   "metadata": {},
   "outputs": [],
   "source": [
    "def jaccard(u, v, zero_division=1):\n",
    "    if not u and not v:\n",
    "        return zero_division\n",
    "\n",
    "    return len(u & v) / len(u | v)"
   ]
  },
  {
   "cell_type": "code",
   "execution_count": null,
   "id": "c3f0ee37",
   "metadata": {},
   "outputs": [],
   "source": [
    "jaccard(set(['a', 'h', 'o', 'j']), set(['h', 'o', 'j']))"
   ]
  },
  {
   "cell_type": "markdown",
   "id": "5bc43e6e",
   "metadata": {},
   "source": [
    "👉 Mezi dny budeme také měřit, jak dlouhý je časový odstup mezi dvojicí podobných e-mailů (opět ve dnech)."
   ]
  },
  {
   "cell_type": "code",
   "execution_count": null,
   "id": "0f8cae6d",
   "metadata": {},
   "outputs": [],
   "source": [
    "def get_commons(u, v):\n",
    "    \"\"\"Populates the graph. \"\"\"\n",
    "    global G\n",
    "    payload = {\n",
    "        \"type_\": \"similar\",\n",
    "        \"color\": \"blue\",\n",
    "        \"weight\": 0.5,\n",
    "        \"label\": None,\n",
    "        \"title\": np.nan,\n",
    "    }\n",
    "\n",
    "    G.add_node(u, title=f\"{u}\\n\", color=\"blue\", type_=\"mail\")\n",
    "    G.add_node(v, title=f\"{v}\\n\", color=\"blue\", type_=\"mail\")\n",
    "\n",
    "    try:\n",
    "        U = meta.loc[u]\n",
    "        V = meta.loc[v]\n",
    "\n",
    "        G.nodes[u]['title'] = G.nodes[u]['title'] + U['Předmět']\n",
    "        G.nodes[v]['title'] = G.nodes[u]['title'] + V['Předmět']\n",
    "        \n",
    "        if U[\"Zdroj\"]:\n",
    "            G.add_node(U[\"Zdroj\"], title=U[\"Zdroj\"], type_=\"source\", color=\"orange\")\n",
    "            G.add_edge(u, U[\"Zdroj\"], color=\"orange\")\n",
    "\n",
    "        if V[\"Zdroj\"]:\n",
    "            G.add_node(V[\"Zdroj\"], title=V[\"Zdroj\"], type_=\"source\", color=\"orange\")\n",
    "            G.add_edge(v, V[\"Zdroj\"], type_=\"source\", color=\"orange\")\n",
    "\n",
    "        payload[\"label\"] = payload[\"title\"] = abs((U.Datum - V.Datum).days)\n",
    "\n",
    "        tmp = df[(df.ID == u)][\"Štítky\"]\n",
    "        tags_u = set(tmp.iloc[0].split(\"  \") if tmp.shape[0] else \"\")\n",
    "\n",
    "        tmp = df[(df.ID == v)][\"Štítky\"]\n",
    "        tags_v = set(tmp.iloc[0].split(\"  \") if tmp.shape[0] else \"\")\n",
    "\n",
    "        payload[\"weight\"] = payload[\"sim\"] = jaccard(tags_u, tags_v, zero_division=1)\n",
    "    except KeyError:\n",
    "        pass\n",
    "    return payload"
   ]
  },
  {
   "cell_type": "markdown",
   "id": "a7e334aa",
   "metadata": {},
   "source": [
    "👉 Atributy hran pak vypadají například takto:"
   ]
  },
  {
   "cell_type": "code",
   "execution_count": null,
   "id": "97dc4a01",
   "metadata": {},
   "outputs": [],
   "source": [
    "get_commons(4860, 4309)"
   ]
  },
  {
   "cell_type": "code",
   "execution_count": null,
   "id": "ac4116f5",
   "metadata": {},
   "outputs": [],
   "source": [
    "from tqdm.notebook import tqdm"
   ]
  },
  {
   "cell_type": "code",
   "execution_count": null,
   "id": "b945be0e",
   "metadata": {},
   "outputs": [],
   "source": [
    "def add_to_graph(series):\n",
    "    global G\n",
    "    for key, value in tqdm(series.items(), total=series.shape[0]):\n",
    "        for dest in value:\n",
    "            commons = get_commons(key, dest)\n",
    "            G.add_edge(key, dest, **commons)"
   ]
  },
  {
   "cell_type": "code",
   "execution_count": null,
   "id": "1a526ed3",
   "metadata": {
    "scrolled": true
   },
   "outputs": [],
   "source": [
    "meta[\"similar\"].str.split(\",\").apply(\n",
    "    lambda x: list(map(int, filter(bool, x))) if x else []\n",
    ").pipe(add_to_graph)"
   ]
  },
  {
   "cell_type": "code",
   "execution_count": null,
   "id": "5974e9e3",
   "metadata": {},
   "outputs": [],
   "source": [
    "components = list(nx.connected_components(G))"
   ]
  },
  {
   "cell_type": "code",
   "execution_count": null,
   "id": "7903e4f0",
   "metadata": {},
   "outputs": [],
   "source": [
    "components_sizes = np.fromiter(map(len, components), dtype=np.int32)"
   ]
  },
  {
   "cell_type": "code",
   "execution_count": null,
   "id": "7064a9de",
   "metadata": {},
   "outputs": [],
   "source": [
    "print(f\"👉 Průměrná velikost shluku je {components_sizes.mean():.3f} vrcholů se směrodatnou odchylkou {components_sizes.std():.3f}\")"
   ]
  },
  {
   "cell_type": "code",
   "execution_count": null,
   "id": "a424f461",
   "metadata": {},
   "outputs": [],
   "source": [
    "components = sorted(\n",
    "    filter(lambda x: len(x) > 5, list(nx.connected_components(G))),\n",
    "    key=lambda x: len(x),\n",
    "    reverse=True,\n",
    ")"
   ]
  },
  {
   "cell_type": "code",
   "execution_count": null,
   "id": "5eae7a4e-8ef4-4be8-a1ed-7695f25f2998",
   "metadata": {},
   "outputs": [],
   "source": [
    "components_sizes = components_sizes[1:]"
   ]
  },
  {
   "cell_type": "code",
   "execution_count": null,
   "id": "b358b305",
   "metadata": {},
   "outputs": [],
   "source": [
    "df[\"Zmínění\"].fillna(\"\", inplace=True)"
   ]
  },
  {
   "cell_type": "code",
   "execution_count": null,
   "id": "b038fa11",
   "metadata": {},
   "outputs": [],
   "source": [
    "def show_cluster(index):\n",
    "    S = G.subgraph(components[index])\n",
    "\n",
    "    ctr = Counter(\n",
    "        filter(\n",
    "            lambda x: x,\n",
    "            reduce(\n",
    "                operator.add,\n",
    "                [\n",
    "                    df[df.ID == x][\"Štítky\"].str.split(\"  \").values[0]\n",
    "                    for x, attr in S.nodes(data=True)\n",
    "                    if attr[\"type_\"] != \"source\" and x in df.ID.unique()\n",
    "                ],\n",
    "            )\n",
    "            + reduce(\n",
    "                operator.add,\n",
    "                [\n",
    "                    df[df.ID == x][\"Zmínění\"].str.split(\"  \").values[0]\n",
    "                    for x, attr in S.nodes(data=True)\n",
    "                    if attr[\"type_\"] != \"source\" and x in df.ID.unique()\n",
    "                ],\n",
    "            ),\n",
    "        )\n",
    "    )\n",
    "\n",
    "    nt = Network(\n",
    "        notebook=True,\n",
    "    )\n",
    "    nt.from_nx(S, edge_scaling=False)\n",
    "    nt.toggle_hide_edges_on_drag(True)\n",
    "    nt.toggle_physics(False)\n",
    "    nt.toggle_stabilization(False)\n",
    "    display(HTML(f\"<h1>Graf řetězových mailů na téma: {ctr.most_common()[0][0]}</h1>\"))\n",
    "    display(nt.show(\"nx.html\"))\n",
    "    \n",
    "widgets.interact(show_cluster, index=range(1, len(components)));"
   ]
  },
  {
   "cell_type": "markdown",
   "id": "fdc4d48b",
   "metadata": {},
   "source": [
    "🔎 Díky interaktivnímu grafu můžete shluk prozkoumat zblízka."
   ]
  },
  {
   "cell_type": "markdown",
   "id": "945e49aa",
   "metadata": {},
   "source": [
    "## 🪞 Jak to vypadá s podobností štítků mezi podobnými e-maily?"
   ]
  },
  {
   "cell_type": "code",
   "execution_count": null,
   "id": "bfc269c4",
   "metadata": {},
   "outputs": [],
   "source": [
    "tag_sim = np.array([attr[\"width\"] for u,v, attr in G.edges(data=True) if 'width' in attr])\n",
    "plt.hist(tag_sim)\n",
    "plt.title(\"Histogram Jaccardovy podobnosti mezi štítky jednotlivých e-mailů\")\n",
    "plt.show()"
   ]
  },
  {
   "cell_type": "markdown",
   "id": "9b2801af",
   "metadata": {},
   "source": [
    "🔎 Z grafu je vidět, že ve většině případů jsou štítky úplně stejné nebo se jen lehce liší. Pak jsou tu e-maily, které mají menší podobnost - těch je ale méně."
   ]
  },
  {
   "cell_type": "markdown",
   "id": "8b492f00",
   "metadata": {},
   "source": [
    "## ⌚ Jak dlouho žije takový řetězový mail?"
   ]
  },
  {
   "cell_type": "code",
   "execution_count": null,
   "id": "361f87f6",
   "metadata": {},
   "outputs": [],
   "source": [
    "days_diff = np.array(\n",
    "    [a[\"title\"] for src, dest, a in G.edges(data=True) if \"title\" in a]\n",
    ")\n",
    "plt.hist(days_diff, density=False, bins=52, log=True)\n",
    "plt.title(\"Histogram počtu dnů mezi zaregistrováním podobného e-mailu (logaritmická škála) \")\n",
    "plt.show()"
   ]
  },
  {
   "cell_type": "markdown",
   "id": "44831aa3",
   "metadata": {},
   "source": [
    "🔎 Z histogramu vidíme, že většina e-mailů se šíří pouze krátkodobě, ale některé e-maily dokáží přežít až skoro 3 roky."
   ]
  },
  {
   "cell_type": "markdown",
   "id": "c14cef7e",
   "metadata": {},
   "source": [
    "# 🕸️ Phrase net a POS-tagging\n",
    "\n",
    "Jako poslední si uděláme vlastní \"phrase net\" a navíc obarvíme vrcholy podle toho, jaký [POS tag](https://en.wikipedia.org/wiki/Part-of-speech_tagging) má dané slovo (tj. proces označování slov v textu (korpusu)  odpovídajících určité části řeči na základě jejich definice a kontextu jako např. podstatná jména, slovesa, citoslovce apod.). \n",
    "\n",
    "👉 Pojďme se podívat na to, jaké POS tagy má text z e-mailu s nejdelším tělem."
   ]
  },
  {
   "cell_type": "code",
   "execution_count": null,
   "id": "59bdb4ad",
   "metadata": {},
   "outputs": [],
   "source": [
    "import unidecode"
   ]
  },
  {
   "cell_type": "code",
   "execution_count": null,
   "id": "851e9d1a",
   "metadata": {},
   "outputs": [],
   "source": [
    "words = (\n",
    "    unidecode.unidecode(\n",
    "        meta.assign(len=meta[\"Tělo\"].apply(len))\n",
    "        .sort_values(by=\"len\", ascending=True)[\"Tělo\"]\n",
    "        .iloc[-1]\n",
    "    )\n",
    "    .replace(\"\\r\\n\", \"\").replace(\",\",\" \")\n",
    "    .split()\n",
    ")\n",
    "print(words[:15])"
   ]
  },
  {
   "cell_type": "code",
   "execution_count": null,
   "id": "ab290e8f",
   "metadata": {},
   "outputs": [],
   "source": [
    "def get_pos_tag(word):\n",
    "    \"\"\"Returns a POS tag for given word.\"\"\"\n",
    "    m = morph.find(word)\n",
    "    pos = None\n",
    "    try:\n",
    "        pos = m[0][\"tags\"][\"pos\"]\n",
    "    except (KeyError, IndexError):\n",
    "        pass\n",
    "    return pos"
   ]
  },
  {
   "cell_type": "code",
   "execution_count": null,
   "id": "da5e91d9",
   "metadata": {},
   "outputs": [],
   "source": [
    "list(filter(lambda x: x[1] is not None, zip(words, map(get_pos_tag, words))))[:15]"
   ]
  },
  {
   "cell_type": "markdown",
   "id": "8a2df94e",
   "metadata": {},
   "source": [
    "👉 Vizualizovat takto celý dataset by bylo výpočetně náročné. Zkusíme si to alespoň na úryvku textu o řetězových e-mailech z Wikipedie."
   ]
  },
  {
   "cell_type": "code",
   "execution_count": null,
   "id": "59ba860a",
   "metadata": {},
   "outputs": [],
   "source": [
    "#https://cs.wikipedia.org/wiki/%C5%98et%C4%9Bzov%C3%BD_e-mail\n",
    "sentences = \"Řetězový e-mail je hromadně přeposílaná zpráva, která se exponenciálně šíří prostřednictvím soukromé internetové komunikace. Jejím obsahem jsou často dezinformace, hoaxy a propaganda, provázanost s konkrétní osobou mu dodává mezi čtenáři validitu. Původně se jednalo o obdobu řetězových dopisů, od nich se dnešní (2019) texty řetězových e-mailů odlišují zejména absencí povinnosti přeposlání zprávy spojené se slibem profitu v případě přeposlání a výhrůžky, pokud k přeposlání nedojde. Nejvíce jsou řetězovými e-maily zasaženi uživatelé internetu starší 65 let\"\n",
    "print(sentences)\n",
    "sentences = re.sub(\"[,\\.]\", \" \", sentences).split(\".\")"
   ]
  },
  {
   "cell_type": "code",
   "execution_count": null,
   "id": "8b8fc064",
   "metadata": {},
   "outputs": [],
   "source": [
    "SG = nx.DiGraph()"
   ]
  },
  {
   "cell_type": "code",
   "execution_count": null,
   "id": "8f139490",
   "metadata": {},
   "outputs": [],
   "source": [
    "colors = (x for x in px.colors.qualitative.Dark24)\n",
    "mapping = {}\n",
    "\n",
    "for sentence in sentences:\n",
    "    tokens = re.sub(\"[^\\w0-9\\s]+\", \"\", sentence).split(\" \")\n",
    "    for i, node in enumerate(tokens):\n",
    "        pos = get_pos_tag(node)\n",
    "        node = lemmatize(node)\n",
    "        if pos not in mapping:\n",
    "            mapping[pos] = next(colors)\n",
    "        SG.add_node(node, pos=pos, color=mapping[pos], title=pos or \"unknown\")\n",
    "        if i > 0:\n",
    "            SG.add_edge(lemmatize(tokens[i - 1]), node)"
   ]
  },
  {
   "cell_type": "code",
   "execution_count": null,
   "id": "3f006138",
   "metadata": {},
   "outputs": [],
   "source": [
    "nt = Network(notebook=True, directed=True,   neighborhood_highlight=True)\n",
    "nt.from_nx(SG)\n",
    "\n",
    "nt.toggle_hide_edges_on_drag(True)\n",
    "nt.toggle_stabilization(True)\n",
    "display(HTML(f\"<h1>🏷️ Vizualizace POS tagů pro text o řetězových e-mailech</h1>\"))\n",
    "nt.show(\"nx2.html\")"
   ]
  }
 ],
 "metadata": {
  "kernelspec": {
   "display_name": "Python 3 (ipykernel)",
   "language": "python",
   "name": "python3"
  },
  "language_info": {
   "codemirror_mode": {
    "name": "ipython",
    "version": 3
   },
   "file_extension": ".py",
   "mimetype": "text/x-python",
   "name": "python",
   "nbconvert_exporter": "python",
   "pygments_lexer": "ipython3",
   "version": "3.9.12"
  },
  "toc": {
   "base_numbering": 1,
   "nav_menu": {},
   "number_sections": false,
   "sideBar": true,
   "skip_h1_title": false,
   "title_cell": "Table of Contents",
   "title_sidebar": "Contents",
   "toc_cell": false,
   "toc_position": {
    "height": "calc(100% - 180px)",
    "left": "10px",
    "top": "150px",
    "width": "225px"
   },
   "toc_section_display": true,
   "toc_window_display": true
  }
 },
 "nbformat": 4,
 "nbformat_minor": 5
}
