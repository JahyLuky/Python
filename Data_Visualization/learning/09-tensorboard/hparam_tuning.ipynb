{
 "cells": [
  {
   "cell_type": "markdown",
   "id": "8c4a0973",
   "metadata": {},
   "source": [
    "# TensorBoard - Ladění hyperparametrů ⚒️\n",
    "Jak už asi víte z jiných předmětů, při vytváření ML modelů hrají velkou roli hyperparametry. Jejich správná volba se může výrazně projevit v hodnotě metriky, kterou zkoumáme (např. přesnost). Právě proto je hledání nejlepších hyperparametrů 🔎 velmi častým úkolem a někdy nezbývá nic jiného, než zkusit všechny (nebo nějaké rozumně zvolené) možnosti.\n",
    "\n",
    "V tomto notebooku si ukážeme, jak nám s tímto úkolem může pomoci TensorBoard právě díky vizualizacím, které nabízí. K vysvětlení budeme používat stejný modelový problém jako v předchozích noteboocích – neuronovou síť na datasetu MNIST ✍️."
   ]
  },
  {
   "cell_type": "code",
   "execution_count": null,
   "id": "7b3faf96",
   "metadata": {},
   "outputs": [],
   "source": [
    "import tensorflow as tf\n",
    "from tensorboard.plugins.hparams import api as hp"
   ]
  },
  {
   "cell_type": "code",
   "execution_count": null,
   "id": "b6f0b7c1",
   "metadata": {},
   "outputs": [],
   "source": [
    "%load_ext tensorboard\n",
    "\n",
    "# removes logs from previous runs\n",
    "!rm -rf ./logs/ "
   ]
  },
  {
   "cell_type": "code",
   "execution_count": null,
   "id": "7abdabbd",
   "metadata": {},
   "outputs": [],
   "source": [
    "# this code is copied from first notebook\n",
    "mnist = tf.keras.datasets.mnist\n",
    "\n",
    "(X_train, y_train),(X_test, y_test) = mnist.load_data()\n",
    "\n",
    "X_train = X_train / 255.0\n",
    "X_test = X_test / 255.0"
   ]
  },
  {
   "cell_type": "markdown",
   "id": "67c7746d",
   "metadata": {},
   "source": [
    "⚙️ Budeme ladit tři hyperparametry:\n",
    "* dropout - hodnoty v intervalu <0.1, 0.25> (= regularizace pomocí vynulování některých neuronů)\n",
    "* optimizer - Adam nebo sgd (= metoda pro update vah)\n",
    "* počet neuronů v první dense vrstvě - 16 nebo 32 (= plně propojená, fully connected)\n",
    "\n",
    "Tuto konfiguraci hyperparametrů zalogujeme do TensorBoardu, později budeme díky tomu moci filtrovat určité hodnoty hyperparamterů a metriky."
   ]
  },
  {
   "cell_type": "code",
   "execution_count": null,
   "id": "66dda8d8",
   "metadata": {},
   "outputs": [],
   "source": [
    "HP_DROPOUT = hp.HParam('dropout', hp.RealInterval(0.1, 0.25))\n",
    "HP_OPTIMIZER = hp.HParam('optimizer', hp.Discrete(['adam', 'sgd']))\n",
    "HP_NUM_UNITS = hp.HParam('num_units', hp.Discrete([16, 32]))\n",
    "\n",
    "ACCURACY = 'accuracy'\n",
    "log_dir = 'logs/hparam_tuning'\n",
    "\n",
    "with tf.summary.create_file_writer(log_dir).as_default():\n",
    "    # logs hyperparameters configuration\n",
    "    hp.hparams_config(\n",
    "        hparams=[HP_NUM_UNITS, HP_DROPOUT, HP_OPTIMIZER],\n",
    "        # specify which metrics should be displayed\n",
    "        metrics=[hp.Metric(ACCURACY, display_name='Accuracy')],\n",
    "    )"
   ]
  },
  {
   "cell_type": "markdown",
   "id": "84538251",
   "metadata": {},
   "source": [
    "Jak to zatím vypadá 👀 ?"
   ]
  },
  {
   "cell_type": "code",
   "execution_count": null,
   "id": "9ac22e71",
   "metadata": {},
   "outputs": [],
   "source": [
    "%tensorboard --logdir logs/hparam_tuning"
   ]
  },
  {
   "cell_type": "markdown",
   "id": "f615fd24",
   "metadata": {},
   "source": [
    "Zatím nám v TensorBoardu chybí to hlavní – přesnosti vzhledem ke konkrétním kombinacím hyperparametrů. Pojďme je změřit a zalogovat. S měřením 📐 nám pomůže tato funkce.\n",
    "\n",
    "Kód je velmi podobný tomu, co jsme viděli v předchozích noteboocích. Například při vytváření Keras modelu, kde v poli zadáváme jednotlivé vrstvy, ze kterých se má model skládat, jsme v předchozích noteboocích měli tuto definici dense vrstvy:\n",
    "\n",
    "```python\n",
    "tf.keras.layers.Dense(512, activation='relu')\n",
    "````\n",
    "nyní je definice podobná, ale počet neuronů zadáváme parametrem:\n",
    "\n",
    "```python\n",
    "tf.keras.layers.Dense(hparams[HP_NUM_UNITS], activation='relu')\n",
    "````\n",
    "\n",
    "Podobné změny nastaly i při kompilaci modelu. V závěru funkce model natrénujeme 🏋️  na trénovacích datech (pouze v jedné epoše, aby výpočet netrval dlouho), změříme jeho přesnost na validačních datech a tuto přesnost vrátíme."
   ]
  },
  {
   "cell_type": "code",
   "execution_count": null,
   "id": "72238832",
   "metadata": {},
   "outputs": [],
   "source": [
    "# creates model with specified hyperparameters\n",
    "# returns its accuracy on validation data\n",
    "def compute_accuracy(hparams):\n",
    "    model = tf.keras.models.Sequential([\n",
    "        tf.keras.layers.Flatten(input_shape=(28, 28)),\n",
    "        tf.keras.layers.Dense(hparams[HP_NUM_UNITS], activation='relu'),\n",
    "        tf.keras.layers.Dropout(hparams[HP_DROPOUT]),\n",
    "        tf.keras.layers.Dense(10, activation='softmax'),\n",
    "    ])\n",
    "    \n",
    "    model.compile(\n",
    "        optimizer=hparams[HP_OPTIMIZER],\n",
    "        loss='sparse_categorical_crossentropy',\n",
    "        metrics=['accuracy'],\n",
    "    )\n",
    "\n",
    "    # 1 epoch for demo purposes, you will need a lot more in practice\n",
    "    model.fit(X_train, y_train, epochs=1) \n",
    "    _, accuracy = model.evaluate(X_test, y_test)\n",
    "    return accuracy"
   ]
  },
  {
   "cell_type": "markdown",
   "id": "1079f927",
   "metadata": {},
   "source": [
    "Pomocí předchozí funkce `compute_accuracy` umíme změřit přesnost modelu vytvořeného s nějakou kombinací hyperparametrů. Funkce níže se postará o zalogování do TensorBoardu. Nejdříve zaloguje hyperparametry, poté vypočítá přesnost pomocí funkce `compute_accuracy` a zaloguje ji."
   ]
  },
  {
   "cell_type": "code",
   "execution_count": null,
   "id": "e2e92b7b",
   "metadata": {},
   "outputs": [],
   "source": [
    "def log_accuracy(log_dir, hparams):\n",
    "    with tf.summary.create_file_writer(log_dir).as_default():\n",
    "        # logs hyperparameter values used in this run\n",
    "        hp.hparams(hparams)\n",
    "        # trains model with specified hyperparameters and computes accuracy\n",
    "        accuracy = compute_accuracy(hparams)\n",
    "        # logs the accuracy\n",
    "        tf.summary.scalar(ACCURACY, accuracy, step=1)"
   ]
  },
  {
   "cell_type": "markdown",
   "id": "e53b669b",
   "metadata": {},
   "source": [
    "A už zbývá jen jedna věc – zavolat předchozí funkci `log_accuracy` pro každou kombinaci hyperparametrů. Kombinace hyperparametrů vytvoříme pomocí tří vnořených for cyklů – jeden pro každý hyperparametr. Dovolili jsme si udělat menší zjednodušení a vyzkoušíme jen minimální a maximální hodnotu pro dropout hyperparametr, jehož interval je <0.1,0.25>."
   ]
  },
  {
   "cell_type": "code",
   "execution_count": null,
   "id": "d65da268",
   "metadata": {},
   "outputs": [],
   "source": [
    "run_num = 0\n",
    "\n",
    "# 3 nested fors to get every combination of hyperparameters\n",
    "for num_units in HP_NUM_UNITS.domain.values:\n",
    "    for dropout in (HP_DROPOUT.domain.min_value, HP_DROPOUT.domain.max_value):\n",
    "        for optimizer in HP_OPTIMIZER.domain.values:\n",
    "            hparams = {\n",
    "                HP_NUM_UNITS: num_units,\n",
    "                HP_DROPOUT: dropout,\n",
    "                HP_OPTIMIZER: optimizer,\n",
    "            }\n",
    "            \n",
    "            log_accuracy('logs/hparam_tuning/{}'.format(run_num), hparams)\n",
    "            run_num += 1"
   ]
  },
  {
   "cell_type": "markdown",
   "id": "a3a47fbc",
   "metadata": {},
   "source": [
    "## 📈 Výsledky\n",
    "\n",
    "Podívejme se na výsledky. Když se otevře TensorBoard, je třeba v horním navigačním panelu kliknout na záložku HParams.\n",
    "\n",
    "V levém panelu je pak možné filtrovat, které hyperparametry či hodnoty hyperparametrů a metrik se mají zobrazovat. Můžeme si vybrat i to, jak se mají data seřadit apod.\n",
    "\n",
    "HParams dashboard obsahuje tři taby:\n",
    "* TableView\n",
    "     * tabulka, kde je pro každý běh uvedena výsledná metrika a hyperparametry, které byly použity\n",
    "* Parallel Coordinates View\n",
    "     * graf paralelních souřadnic\n",
    "     * na jednotlivých osách můžeme filtrovat, které hodnoty nás zajímají\n",
    "* Scatter Plot View\n",
    "     * skupina bodových grafů pro každý hyperparametr a metriku\n",
    "     * když označíte nějaký region v jednom grafu, vyfiltrují se tím data i v ostatních grafech"
   ]
  },
  {
   "cell_type": "code",
   "execution_count": null,
   "id": "18ca72b8",
   "metadata": {},
   "outputs": [],
   "source": [
    "%tensorboard --logdir logs/hparam_tuning"
   ]
  },
  {
   "cell_type": "markdown",
   "id": "e75389cb",
   "metadata": {},
   "source": [
    "Chcete-li si prohlédnout HParams dashboard detailněji, ve složce hparams_demo máte více dat, než jsme si vygenerovali v tomto notebooku 🙂\n",
    "\n",
    "# A to je dnes vše! 🎉"
   ]
  },
  {
   "cell_type": "code",
   "execution_count": null,
   "id": "constitutional-delicious",
   "metadata": {},
   "outputs": [],
   "source": []
  }
 ],
 "metadata": {
  "kernelspec": {
   "display_name": "Python 3 (ipykernel)",
   "language": "python",
   "name": "python3"
  },
  "language_info": {
   "codemirror_mode": {
    "name": "ipython",
    "version": 3
   },
   "file_extension": ".py",
   "mimetype": "text/x-python",
   "name": "python",
   "nbconvert_exporter": "python",
   "pygments_lexer": "ipython3",
   "version": "3.9.12"
  }
 },
 "nbformat": 4,
 "nbformat_minor": 5
}
