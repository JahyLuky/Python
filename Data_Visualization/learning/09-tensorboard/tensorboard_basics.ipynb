{
 "cells": [
  {
   "cell_type": "markdown",
   "id": "c37d9f04",
   "metadata": {},
   "source": [
    "# 📋 TensorBoard\n",
    "[TensorBoard](https://tensorboard.dev) je nástroj, který se používá pro tvorbu vizualizací modelů strojového učení (neuronové sítě). Dokáže například sbírat data o vývoji nějaké metriky během trénování modelu a ty následně zobrazit v grafu, vizualizovat architekturu ML modelu a mnoho jiných věcí 🙂.\n",
    "\n",
    "TensorBoard se vám může hodit například při bakalářské práci 👩🏽‍🎓, protože vzniklé vizualizace lze sdílet pomocí odkazu."
   ]
  },
  {
   "cell_type": "code",
   "execution_count": null,
   "id": "1d1ffdb6",
   "metadata": {},
   "outputs": [],
   "source": [
    "import tensorflow as tf\n",
    "from tensorflow import keras\n",
    "from datetime import datetime"
   ]
  },
  {
   "cell_type": "markdown",
   "id": "4d779762",
   "metadata": {},
   "source": [
    "V minulých noteboocích jsme si říkali, že příkazy, které začínají na %, se nazývají [magické příkazy](https://ipython.readthedocs.io/en/stable/interactive/magics.html). Tento spustí TensorBoard extension."
   ]
  },
  {
   "cell_type": "code",
   "execution_count": null,
   "id": "a0738069",
   "metadata": {},
   "outputs": [],
   "source": [
    "%load_ext tensorboard\n",
    "\n",
    "# removes logs from previous runs\n",
    "!rm -rf ./logs/ "
   ]
  },
  {
   "cell_type": "markdown",
   "id": "98890ef6",
   "metadata": {},
   "source": [
    "TensorBoard si ukážeme na malé neuronové síti 🧠, jejímž úkolem bude klasifikovat obrázky z datasetu [MNIST](https://en.wikipedia.org/wiki/MNIST_database). Je to dataset černobílých obrázků ručně psaných číslic ✍️. Každý obrázek má 28x28 pixelů a barva každého pixelu je reprezentována jedním číslem od 0 do 255.\n",
    "\n",
    "O práci s obrázky jsme si povídali na předminulé přednášce.☝️"
   ]
  },
  {
   "cell_type": "code",
   "execution_count": null,
   "id": "80ae3238",
   "metadata": {},
   "outputs": [],
   "source": [
    "mnist = tf.keras.datasets.mnist\n",
    "\n",
    "(X_train, y_train),(X_test, y_test) = mnist.load_data()\n",
    "\n",
    "# normalizes image data\n",
    "X_train = X_train / 255.0\n",
    "X_test = X_test / 255.0"
   ]
  },
  {
   "cell_type": "markdown",
   "id": "d2624a70",
   "metadata": {},
   "source": [
    "Příznaky jsme normalizovali, takže se hodnoty pixelů pohybují v intervalu od 0 do 1.\n",
    "\n",
    "Nyní se můžeme posunout k vytvoření neuronové sítě. Není třeba, abyste rozuměli každému detailu v tomto kódu. O neuronových sítích se budete učit více v jiných předmětech 😉. \n",
    "\n",
    "Zkusme si práci s balíčkem *tensorflow* porovnat se *scikit-learn*, který už znáte.\n",
    "\n",
    "Ve *scikit-learn* model vytvoříme pomocí jeho konstruktoru. Například rozhodovací strom pro klasifikaci vytvoříme voláním `DecisionTreeClassifier()`. V *tensorflow* jsme model vytvořili pomocí volání `keras.models.Sequential`, kde jsme jako parametr zadali pole vrstev, které má neuronová síť obsahovat.\n",
    "\n",
    "Neuronová síť potřebuje pár informací navíc, kterými jsou hlavně ztrátová funkce a evaluační metrika. Ztrátová funkce se používá při optimalizaci vah a metrika zase na výběr nejlepšího modelu 💪. Tyto údaje se zadávají ve funkci `compile`.\n",
    "\n",
    "Ve *scikit-learn* jsme model natrénovali tak, že jsme zavolali jeho funkci `fit` 🏋️‍♂️. Úplně analogicky to funguje také v *tensorflow*."
   ]
  },
  {
   "cell_type": "code",
   "execution_count": null,
   "id": "e3ff535f",
   "metadata": {},
   "outputs": [],
   "source": [
    "# model architecture\n",
    "def create_model():\n",
    "    return tf.keras.models.Sequential([\n",
    "        tf.keras.layers.Flatten(input_shape=(28, 28)),\n",
    "        tf.keras.layers.Dense(512, activation='relu'),\n",
    "        tf.keras.layers.Dropout(0.25),\n",
    "        tf.keras.layers.Dense(10, activation='softmax')\n",
    "    ])\n",
    "\n",
    "# provides loss function, metrics and optimizer\n",
    "def compile_model(model):\n",
    "    model.compile(\n",
    "        optimizer='adam',\n",
    "        loss='sparse_categorical_crossentropy',\n",
    "        metrics=['accuracy']\n",
    "    )\n",
    "    \n",
    "def create_log_dir():\n",
    "    return \"logs/\" + datetime.now().strftime(\"%Y%m%d-%H%M%S\")\n",
    "\n",
    "model = create_model()\n",
    "compile_model(model)\n",
    "log_dir = create_log_dir()"
   ]
  },
  {
   "cell_type": "markdown",
   "id": "b98baebe",
   "metadata": {},
   "source": [
    "Aby TensorBoard mohl fungovat, potřebujeme mu vygenerovat nějaká data (logy) 📚, která bude vykreslovat. V předchozí buňce jsme si vytvořili složku, do které se logy budou ukládat.\n",
    "\n",
    "Nyní vytvoříme callback. Tensorflow callback-y jsou funkce nebo bloky kódu, které se spustí v nějakých specifických momentech během trénování modelu. Můžeme pomocí nich měnit hyperparametry, ukončit trénování nebo právě to, co potřebujeme – zalogovat data pro TensorBoard. K logování slouží [`tf.keras.callbacks.TensorBoard`](https://www.tensorflow.org/api_docs/python/tf/keras/callbacks/TensorBoard) callback.\n",
    "\n",
    "Aby vše fungovalo, musíme callback prodat modelu ve funkci [`Model.fit`](https://www.tensorflow.org/api_docs/python/tf/keras/Model#fit)."
   ]
  },
  {
   "cell_type": "code",
   "execution_count": null,
   "id": "caca5862",
   "metadata": {
    "scrolled": true
   },
   "outputs": [],
   "source": [
    "tensorboard_callback = tf.keras.callbacks.TensorBoard(log_dir=log_dir, histogram_freq=1) # 1 stands for each epoch\n",
    "\n",
    "model.fit(\n",
    "    x=X_train, \n",
    "    y=y_train, \n",
    "    epochs=10, \n",
    "    verbose=0,\n",
    "    validation_data=(X_test, y_test),\n",
    "    # this is important\n",
    "    callbacks=[tensorboard_callback]\n",
    ")"
   ]
  },
  {
   "cell_type": "markdown",
   "id": "e847839e",
   "metadata": {},
   "source": [
    "Poté, co doběhne trénování, si můžeme zkusit zobrazit výsledky. TensorBoard lze zobrazit buď přímo v notebooku pomocí příkazu v následující buňce nebo v prohlížeči 🌐. V případě zobrazení v prohlížeči je třeba zadat příkaz `tensorboard --logdir logs` do terminálu a do prohlížeče zkopírovat localhost URL, kterou v terminálu uvidíte."
   ]
  },
  {
   "cell_type": "code",
   "execution_count": null,
   "id": "860ec7d7",
   "metadata": {
    "scrolled": false
   },
   "outputs": [],
   "source": [
    "# runs tensorboard with data in directory named logs\n",
    "%tensorboard --logdir logs"
   ]
  },
  {
   "cell_type": "markdown",
   "id": "6d0bd67b",
   "metadata": {},
   "source": [
    "Jednotlivé záložky v horním navigačním baru se nazývají dashboardy:\n",
    "\n",
    "* Dashboard **Scalars** ukazuje, jak se v každé epoše měnila metrika a ztráta (loss). Tento dashboard lze použít i pro sledování jiných skalárních hodnot.\n",
    "* Dashboard **Graphs** slouží k vizualizaci architektury modelu. Díky tomu se můžeme ujistit, že při sestavování modelu nedošlo k nějaké chybě a vypadá tak, jak bychom čekali.\n",
    "\n",
    "TensorBord nabízí mnohem více vizualizací. Vždy se zobrazí jen ty vizualizace, ke kterým jsme během trénování logovali potřebná data. Všechny typy vizualizací, které jsou dostupné, si můžete prohlédnout kliknutím na dropdown tlačítko `inactive` v horním navigačním panelu."
   ]
  },
  {
   "cell_type": "markdown",
   "id": "2c33836c",
   "metadata": {},
   "source": [
    "## ☝️ Scalars\n",
    "Metriky jsou ve strojovém učení velmi důležité a jejich správná interpretace může například pomoci odhalit přeučení nebo ukázat, že model trénujeme zbytečně dlouho.\n",
    "\n",
    "Dashboard Scalars umožňuje zobrazit vývoj metrik napříč epochami. V základní podobě se sbírají data pro metriky a ztrátovou funkci, které jsme uvedli při kompilaci modelu. Data se sbírají pro trénovací a validační množinu.\n",
    "\n",
    "Aby se začala logovat data pro metriky v TensorBoardu, je třeba provést následující:\n",
    "\n",
    "* 📁 specifikovat složku, kde se budou logy ukládat\n",
    "* 🤙 vytvořit [TensorBoard callback](https://www.tensorflow.org/api_docs/python/tf/keras/callbacks/TensorBoard)\n",
    "* 🏋️‍♂️ prodat TensorBoard callback modelu při volání [`Model.fit()`](https://www.tensorflow.org/api_docs/python/tf/keras/Model#fit)\n",
    "\n",
    "Toto vše jsme již udělali v kódu výše, ale pro zopakování:\n",
    "```python\n",
    "# specify log directory\n",
    "log_dir = \"logs/\" + datetime.datetime.now().strftime(\"%Y%m%d-%H%M%S\")\n",
    "# create callback\n",
    "tensorboard_callback = tf.keras.callbacks.TensorBoard(log_dir=log_dir)\n",
    "\n",
    "model.fit(\n",
    "    ...\n",
    "    # pass the callback to the model\n",
    "    callbacks=[tensorboard_callback]\n",
    ")\n",
    "````\n",
    "\n",
    "Po natrénování modelu TensorBoard načte data z logovací složky. V našem případě je root složka `logs`. V této složce vzniknou nové složky, jejichž název bude shodný s timestampem v době jejich vytvoření. Díky tomuto přístupu můžeme pak v TensorBoardu porovnat data z více běhů. Na výběr podmnožiny běhů, které nás zajímají, slouží sekce **Runs** 🏃 v levém panelu.\n",
    "\n",
    "### 📚 Logování vlastních hodnot\n",
    "Logování vlastních hodnot si ukážeme na příkladu logování tzv. learning rate (míra učení). Budeme postupovat následovně:\n",
    "* vytvoříme file writer pomocí `tf.summary.create_file_writer()`\n",
    "* zadefinujeme funkci, která nám na základě čísla epochy vrátí learning rate\n",
    "  * v této funkci použijeme tf.summary.scalar(), která zaloguje nově vypočtenou hodnotu při každém volání funkce\n",
    "* vytvoříme callback (v tomto případě LearningRateScheduler callback)\n",
    "* callback prodáme modelu při volání `Model.fit`\n",
    "\n",
    "Obecně při logování vlastních hodnot je třeba vždy vytvořit file writer a poté použít `tf.summary.scalar()` k zalogování nové hodnoty."
   ]
  },
  {
   "cell_type": "code",
   "execution_count": null,
   "id": "43888ed5",
   "metadata": {},
   "outputs": [],
   "source": [
    "log_dir = create_log_dir()\n",
    "file_writer = tf.summary.create_file_writer(log_dir + \"/metrics\")\n",
    "file_writer.set_as_default()\n",
    "\n",
    "def compute_learning_rate(epoch):\n",
    "    learning_rate = 0.02\n",
    "    if epoch > 3:\n",
    "        learning_rate = 0.01\n",
    "    if epoch > 7:\n",
    "        learning_rate = 0.005\n",
    "\n",
    "    tf.summary.scalar('learning rate', data=learning_rate, step=epoch)\n",
    "    return learning_rate\n",
    "\n",
    "lr_callback = keras.callbacks.LearningRateScheduler(compute_learning_rate)"
   ]
  },
  {
   "cell_type": "code",
   "execution_count": null,
   "id": "4a9ea37b",
   "metadata": {
    "scrolled": true
   },
   "outputs": [],
   "source": [
    "tensorboard_callback = keras.callbacks.TensorBoard(log_dir=log_dir)\n",
    "\n",
    "model = create_model()\n",
    "compile_model(model)\n",
    "\n",
    "model.fit(\n",
    "    x=X_train, \n",
    "    y=y_train, \n",
    "    epochs=10,\n",
    "    verbose=0,\n",
    "    validation_data=(X_test, y_test),\n",
    "    # this is important\n",
    "    callbacks=[tensorboard_callback, lr_callback]\n",
    ")\n",
    "\n",
    "file_writer.close()"
   ]
  },
  {
   "cell_type": "markdown",
   "id": "746b0e9d",
   "metadata": {},
   "source": [
    "## 📊 Graphs\n",
    "V dashboardu Graphs se defaultně (v levé liště je jako tag zvolen *Default*) zobrazuje operation-level (zkráceně op-level) graf.\n",
    "\n",
    "### 💭 Konceptuální graf\n",
    "Jednodušší k pochopení je konceptuální graf, který vizualizuje jen Keras model. Zobrazíme ho tak, že jako tag zvolíme *keras*. V našem případě se pak zobrazí jeden uzel, který expanduje, pokud na něj dvakrát klikneme. V expandované formě graf zobrazuje jednotlivé vrstvy Keras modelu a šipky ukazují směr proudění dat. První vrstva reprezentuje vstupní data a poté následují 4 vrstvy, které odpovídají naší definici modelu:\n",
    "\n",
    "```python\n",
    "tf.keras.models.Sequential([\n",
    "    tf.keras.layers.Flatten(input_shape=(28, 28)),\n",
    "    tf.keras.layers.Dense(512, activation='relu'),\n",
    "    tf.keras.layers.Dropout(0.25),\n",
    "    tf.keras.layers.Dense(10, activation='softmax')\n",
    "])\n",
    "````\n",
    "\n",
    "![conceptual_graph](img/conceptual_graph.png)\n",
    "\n",
    "Více informací k jednotlivým vrstvám grafu lze zobrazit tak, že na ně klikneme.\n",
    "\n",
    "### 🔬 Operational-level graf\n",
    "Op-level graf zobrazuje každou operaci, která se s daty děje. Graf tedy obsahuje Keras model, ale i všechny ostatní operace jako například výpočet metrik a podobně. Pozor na to, že graf je oproti kódu obrácen vzhůru nohama – flow dat jde zdola nahoru.\n",
    "\n",
    "Výsledná vizualizace je často velká, lze s ní manipulovat:\n",
    "* přibližuje a oddaluje se pomocí scrollování,\n",
    "* posouvat se dá kliknutím a potáhnutím,\n",
    "* vrcholy jsou expandovatelné/kolapsovatelné pomocí dvojkliku,\n",
    "* jeden klik na vrchol zobrazí jeho metadata."
   ]
  },
  {
   "cell_type": "markdown",
   "id": "6ee18f7c",
   "metadata": {},
   "source": [
    "## 🔗 TensorBoard.dev - hosting ML výsledků\n",
    "\n",
    "[TensorBoard.dev](https://tensorboard.dev) umožňuje zdarma uploadnout TensorBoard logy a vygenerovat link, který lze sdílet s kýmkoliv.\n",
    "\n",
    "Pro použití TensorBoard.dev stačí zadat do terminálu tento příkaz (name a description jsou volitelné).\n",
    "\n",
    "```shell\n",
    "tensorboard dev upload \\\n",
    "  --logdir logs/fit \\\n",
    "  --name \"BI-VIZ TensorBoard test\" \\\n",
    "  --description \"Visualizations for neural network trained on MNIST dataset\" \\\n",
    "  --one_shot\n",
    "```"
   ]
  },
  {
   "cell_type": "code",
   "execution_count": null,
   "id": "advance-respondent",
   "metadata": {},
   "outputs": [],
   "source": []
  }
 ],
 "metadata": {
  "kernelspec": {
   "display_name": "Python 3 (ipykernel)",
   "language": "python",
   "name": "python3"
  },
  "language_info": {
   "codemirror_mode": {
    "name": "ipython",
    "version": 3
   },
   "file_extension": ".py",
   "mimetype": "text/x-python",
   "name": "python",
   "nbconvert_exporter": "python",
   "pygments_lexer": "ipython3",
   "version": "3.9.12"
  }
 },
 "nbformat": 4,
 "nbformat_minor": 5
}
