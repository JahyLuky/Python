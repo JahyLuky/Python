{
 "cells": [
  {
   "cell_type": "markdown",
   "id": "db956d3b",
   "metadata": {},
   "source": [
    "# TensorBoard - Logování obrázků 🏞 a textů 📜\n",
    "Do TensorBoardu můžeme logovat i texty a obrázky. To se může hodit například na ukázku vstupů a výstupů, získaných metadat v průběhu trénování či na diagnostiku problémů."
   ]
  },
  {
   "cell_type": "code",
   "execution_count": null,
   "id": "e8e916ee",
   "metadata": {},
   "outputs": [],
   "source": [
    "import tensorflow as tf\n",
    "from datetime import datetime\n",
    "import numpy as np\n",
    "import io\n",
    "from sklearn.metrics import ConfusionMatrixDisplay\n",
    "import matplotlib.pyplot as plt"
   ]
  },
  {
   "cell_type": "code",
   "execution_count": null,
   "id": "814f17b1",
   "metadata": {},
   "outputs": [],
   "source": [
    "%load_ext tensorboard\n",
    "\n",
    "# removes logs from previous runs\n",
    "!rm -rf ./logs/ "
   ]
  },
  {
   "cell_type": "markdown",
   "id": "9e9c312a",
   "metadata": {},
   "source": [
    "## 📜 Texty\n",
    "K logování textů slouží **TensorFlow Text Summary API**. Postup je následující:\n",
    "* 📁 definujeme, kde se budou ukládat logy\n",
    "* ✍️ vytvoříme file writer pomocí `tf.summary.create_file_writer()`\n",
    "* ☑️ text zalogujeme pomocí file writeru a funkce `tf.summary.text()`"
   ]
  },
  {
   "cell_type": "code",
   "execution_count": null,
   "id": "0b934c03",
   "metadata": {},
   "outputs": [],
   "source": [
    "# sets up a timestamped log directory\n",
    "def create_log_dir(subfolder):\n",
    "    return 'logs/' + subfolder + '/' + datetime.now().strftime('%Y%m%d-%H%M%S')\n",
    "\n",
    "\n",
    "log_dir = create_log_dir('text')\n",
    "# creates a file writer for the log directory\n",
    "file_writer = tf.summary.create_file_writer(log_dir)"
   ]
  },
  {
   "cell_type": "code",
   "execution_count": null,
   "id": "e2fd2892",
   "metadata": {},
   "outputs": [],
   "source": [
    "text = 'Visualizations are great! 😍'\n",
    "\n",
    "with file_writer.as_default():\n",
    "    # logs the text\n",
    "    tf.summary.text('my first text', text, step=0)"
   ]
  },
  {
   "cell_type": "markdown",
   "id": "47e64e5f",
   "metadata": {},
   "source": [
    "Zalogovaný text se pak ukáže v dashboardu **Text**."
   ]
  },
  {
   "cell_type": "code",
   "execution_count": null,
   "id": "9fbd8d39",
   "metadata": {
    "scrolled": false
   },
   "outputs": [],
   "source": [
    "%tensorboard --logdir logs/text"
   ]
  },
  {
   "cell_type": "markdown",
   "id": "74db0d63",
   "metadata": {},
   "source": [
    "Pokud je během trénování potřeba logovat text z více míst, lze logy organizovat do jmenných prostorů. Pozor na to, že pokud budete logovat hodně, TensorBoard zobrazí jen tolik dat, kolik uzná za vhodné. Toto chování lze ovlivnit použitím flagu `--samples_per_plugin`, kde můžeme přesně specifikovat, kolik logů se má zobrazit.\n",
    "\n",
    "TensorBoard také podporuje vykreslování Markdownu 😍."
   ]
  },
  {
   "cell_type": "code",
   "execution_count": null,
   "id": "af1727fe",
   "metadata": {},
   "outputs": [],
   "source": [
    "log_dir = create_log_dir('text')\n",
    "file_writer = tf.summary.create_file_writer(log_dir)\n",
    "\n",
    "markdown_texts = [\n",
    "    '### This is a headline',\n",
    "    '**Bold** and *italic* text',\n",
    "    \"\"\"\n",
    "| *hello* | *there* |\n",
    "|---------|---------|\n",
    "| this    | is      |\n",
    "| a       | table   |\n",
    "    \"\"\"\n",
    "]\n",
    "\n",
    "with file_writer.as_default():\n",
    "    # creates a scope (name space) for text organisation\n",
    "    with tf.name_scope('first scope'):\n",
    "        for step in range(3):\n",
    "            tf.summary.text(\"markdown\", markdown_texts[step], step=step)\n",
    "            tf.summary.text(\"random number\", 'My random number is {}!'.format(np.random.randint(100)), step=step)\n",
    "    with tf.name_scope(\"second scope\"):\n",
    "        tf.summary.text(\"step 3 announcement\", \"Step 3 is the best 👌!\", step=3)    "
   ]
  },
  {
   "cell_type": "markdown",
   "id": "acda5286",
   "metadata": {},
   "source": [
    "Zkusme nyní aktualizovat předcházející TensorBoard okno, a potom spustit následující buňku. Liší se právě v použití `--samples_per_plugin` tagu."
   ]
  },
  {
   "cell_type": "code",
   "execution_count": null,
   "id": "2051b892",
   "metadata": {
    "scrolled": true
   },
   "outputs": [],
   "source": [
    "%tensorboard --logdir logs/text --samples_per_plugin 'text=1'"
   ]
  },
  {
   "cell_type": "markdown",
   "id": "91d08152",
   "metadata": {},
   "source": [
    "## 🏞 Obrázky\n",
    "Logování obrázků si ukážeme na stejném příkladu, jaký jsme použili v předchozím notebooku.\n",
    "\n",
    "🧠 Neuronová síť, která predikuje nad datasetem MNIST ✍️."
   ]
  },
  {
   "cell_type": "code",
   "execution_count": null,
   "id": "c4e78d1e",
   "metadata": {},
   "outputs": [],
   "source": [
    "# this code is copied from previous notebook\n",
    "mnist = tf.keras.datasets.mnist\n",
    "\n",
    "(X_train, y_train),(X_test, y_test) = mnist.load_data()\n",
    "\n",
    "X_train = X_train / 255.0\n",
    "X_test = X_test / 255.0"
   ]
  },
  {
   "cell_type": "markdown",
   "id": "d4cd8761",
   "metadata": {},
   "source": [
    "Když se podíváme na vstupní data, vidíme, že jeden obrázek je reprezentován 2D polem (přesněji rank-2 tensor; šířka, výška)."
   ]
  },
  {
   "cell_type": "code",
   "execution_count": null,
   "id": "5b9d591f",
   "metadata": {},
   "outputs": [],
   "source": [
    "print(\"Image shape: \", X_train[0].shape)"
   ]
  },
  {
   "cell_type": "markdown",
   "id": "40803078",
   "metadata": {},
   "source": [
    "TensorBoard očekává obrázek jako 4D pole (rank-4 tensor; batch size, výška, šířka, počet barevných kanálů). Proto musíme obrázek nejprve transformovat ♻️ a teprve potom zalogovat. Jelikož chceme logovat jen jeden obrázek, **batch size bude 1**. V předchozím notebooku jsme si říkali, že obrázky jsou černobílé, tedy mají jen **jeden barevný kanál**."
   ]
  },
  {
   "cell_type": "code",
   "execution_count": null,
   "id": "ad44b73d",
   "metadata": {},
   "outputs": [],
   "source": [
    "# reshapes the image for the Image Summary API\n",
    "img = np.reshape(X_train[0], (-1, 28, 28, 1))\n",
    "print('first pixel value: {}'.format(img[0][0][0][0]))\n",
    "print('some pixel value: {}'.format(img[0][10][11][0]))\n",
    "print('last pixel value: {}'.format(img[0][27][27][0]))"
   ]
  },
  {
   "cell_type": "markdown",
   "id": "e87317ce",
   "metadata": {},
   "source": [
    "K logování obrázků slouží **TensorFlow Image Summary API**. Postup je následující:\n",
    "* 📁 definujeme, kde se budou ukládat logy\n",
    "* ✍️ vytvoříme file writer pomocí `tf.summary.create_file_writer()`\n",
    "* ☑️ obrázek ve vhodném formátu zalogujeme pomocí file writeru a funkce `tf.summary.image()`"
   ]
  },
  {
   "cell_type": "code",
   "execution_count": null,
   "id": "87722749",
   "metadata": {},
   "outputs": [],
   "source": [
    "log_dir = create_log_dir('image')\n",
    "file_writer = tf.summary.create_file_writer(log_dir)\n",
    "\n",
    "with file_writer.as_default():\n",
    "    tf.summary.image(\"First training image\", img, step=0)"
   ]
  },
  {
   "cell_type": "code",
   "execution_count": null,
   "id": "15f89ef8",
   "metadata": {},
   "outputs": [],
   "source": [
    "%tensorboard --logdir logs/image"
   ]
  },
  {
   "cell_type": "markdown",
   "id": "b80cd737",
   "metadata": {},
   "source": [
    "Obrázek se zobrazí v dashboardu Images a má upravenou velikost. Pokud si chcete prohlédnout obrázky ve skutečné velikosti, je třeba označit checkbox *Show actual image size* v levém panelu.\n",
    "\n",
    "Zalogovat více než jeden obrázek lze velmi podobně:"
   ]
  },
  {
   "cell_type": "code",
   "execution_count": null,
   "id": "55bc5fd9",
   "metadata": {},
   "outputs": [],
   "source": [
    "imgs = np.reshape(X_train[1:11], (-1, 28, 28, 1))\n",
    "\n",
    "with file_writer.as_default():\n",
    "    tf.summary.image(\"Other training images\", imgs, max_outputs=10, step=0)"
   ]
  },
  {
   "cell_type": "markdown",
   "id": "6b4681e0",
   "metadata": {},
   "source": [
    "### 🧰 Praktická ukázka - logování matice záměn po každé epoše"
   ]
  },
  {
   "cell_type": "code",
   "execution_count": null,
   "id": "5e225143",
   "metadata": {},
   "outputs": [],
   "source": [
    "# these functions are copied from previous notebook\n",
    "\n",
    "def create_model():\n",
    "    return tf.keras.models.Sequential([\n",
    "        tf.keras.layers.Flatten(input_shape=(28, 28)),\n",
    "        tf.keras.layers.Dense(512, activation='relu'),\n",
    "        tf.keras.layers.Dropout(0.25),\n",
    "        tf.keras.layers.Dense(10, activation='softmax')\n",
    "    ])\n",
    "\n",
    "def compile_model(model):\n",
    "    model.compile(\n",
    "        optimizer='adam',\n",
    "        loss='sparse_categorical_crossentropy',\n",
    "        metrics=['accuracy']\n",
    "    )"
   ]
  },
  {
   "cell_type": "markdown",
   "id": "39f095a9",
   "metadata": {},
   "source": [
    "Pokud chceme zalogovat obrázek, který není tensor, tedy například matplotlib graf, potřebujeme jej nejprve zkonvertovat."
   ]
  },
  {
   "cell_type": "code",
   "execution_count": null,
   "id": "a65c0da3",
   "metadata": {},
   "outputs": [],
   "source": [
    "# converts matplotlib figure to png and then to tensor flow image\n",
    "def convert_to_tf_image(figure):\n",
    "    # saves the plot to memmory as PNG\n",
    "    buffer = io.BytesIO()\n",
    "    figure.savefig(buffer, format='png')\n",
    "    buffer.seek(0)\n",
    "    \n",
    "    # closing the figure so it is not displayed in cell output\n",
    "    plt.close(figure)\n",
    "    \n",
    "    # converts PNG buffer to TF image\n",
    "    image = tf.image.decode_png(buffer.getvalue(), channels=4)\n",
    "    \n",
    "    # adds the batch dimension\n",
    "    image = tf.expand_dims(image, 0)\n",
    "    return image"
   ]
  },
  {
   "cell_type": "markdown",
   "id": "8bca66f9",
   "metadata": {},
   "source": [
    "Nyní vytvoříme funkci, která se bude volat na konci každé epochy. Ve funkci vypočítáme predikce pro validační množinu (X_test), vytvoříme matici záměn, tu zkonvertujeme do správného formátu a poté zalogujeme do TensourBoardu.\n",
    "\n",
    "Pak nám ještě zbývá vytvořit callback 🤙, který tuto funkci zavolá na konci každé epochy, a předat jej modelu ve funkci fit."
   ]
  },
  {
   "cell_type": "code",
   "execution_count": null,
   "id": "55721821",
   "metadata": {},
   "outputs": [],
   "source": [
    "log_dir = create_log_dir('image')\n",
    "file_writer = tf.summary.create_file_writer(log_dir)\n",
    "\n",
    "def log_confusion_matrix(epoch, logs):\n",
    "    # creates predictions\n",
    "    y_pred_probabilities = model.predict(X_test)\n",
    "    y_pred = np.argmax(y_pred_probabilities, axis=1)\n",
    "    \n",
    "    # creates confusion matrix in TensorBoard compatible format\n",
    "    cm = ConfusionMatrixDisplay.from_predictions(y_test, y_pred)\n",
    "    cm_tensor = convert_to_tf_image(cm.figure_)\n",
    "    \n",
    "    # logs the image\n",
    "    with file_writer.as_default():\n",
    "        tf.summary.image(\"Confusion Matrix\", cm_tensor, step=epoch)\n",
    "\n",
    "# per-epoch callback\n",
    "cm_callback = tf.keras.callbacks.LambdaCallback(on_epoch_end=log_confusion_matrix)"
   ]
  },
  {
   "cell_type": "code",
   "execution_count": null,
   "id": "647571a4",
   "metadata": {},
   "outputs": [],
   "source": [
    "model = create_model()\n",
    "compile_model(model)\n",
    "\n",
    "model.fit(\n",
    "    x=X_train, \n",
    "    y=y_train, \n",
    "    epochs=10, \n",
    "    verbose=0,\n",
    "    validation_data=(X_test, y_test),\n",
    "    callbacks=[cm_callback]\n",
    ")"
   ]
  }
 ],
 "metadata": {
  "kernelspec": {
   "display_name": "Python 3 (ipykernel)",
   "language": "python",
   "name": "python3"
  },
  "language_info": {
   "codemirror_mode": {
    "name": "ipython",
    "version": 3
   },
   "file_extension": ".py",
   "mimetype": "text/x-python",
   "name": "python",
   "nbconvert_exporter": "python",
   "pygments_lexer": "ipython3",
   "version": "3.9.12"
  }
 },
 "nbformat": 4,
 "nbformat_minor": 5
}
