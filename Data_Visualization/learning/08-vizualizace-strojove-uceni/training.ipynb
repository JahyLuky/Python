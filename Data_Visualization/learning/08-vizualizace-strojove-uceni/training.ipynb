{
 "cells": [
  {
   "cell_type": "markdown",
   "id": "d33c1b71",
   "metadata": {},
   "source": [
    "# 🏋🏽‍♂️ Vizualizace během trénování\n",
    "Vizualizace nám mohou pomoci lépe pochopit proces trénování. V přednášce jsme si říkali, že lze vizualizovat výsledný model pro různé množiny hyperparametrů nebo třeba vizualizovat nějakou metriku jako časovou řadu napříč iteracemi. V tomto notebooku si ukážeme, jak to udělat v praxi."
   ]
  },
  {
   "cell_type": "code",
   "execution_count": null,
   "id": "01eb34d6",
   "metadata": {},
   "outputs": [],
   "source": [
    "# models\n",
    "from sklearn.tree import DecisionTreeClassifier \n",
    "\n",
    "# data generation\n",
    "from sklearn.datasets import make_blobs\n",
    "import numpy as np\n",
    "\n",
    "# plotting\n",
    "import matplotlib.pyplot as plt\n",
    "from mlxtend.plotting import plot_decision_regions \n",
    "\n",
    "# interactive elements\n",
    "from ipywidgets import interact"
   ]
  },
  {
   "cell_type": "markdown",
   "id": "3a787451",
   "metadata": {},
   "source": [
    "## 📊 Vizualizace modelu pro různé hodnoty hyperparametrů\n",
    "Postup si ukážeme na rozhodovacím stromu a jeho hyperparametru `max_depth`.\n",
    "\n",
    "Začneme tím, že si vygenerujeme nějaká data (např. pomocí funkce [`make_blobs()`](https://scikit-learn.org/stable/modules/generated/sklearn.datasets.make_blobs.html), která defaultně generuje 2 příznaky) pro klasifikační problém a vytvoříme funkci, která bude vizualizovat natrénovaný model."
   ]
  },
  {
   "cell_type": "code",
   "execution_count": null,
   "id": "806ed475",
   "metadata": {},
   "outputs": [],
   "source": [
    "X, y = make_blobs(n_samples=300, centers=4, random_state=0, cluster_std=1.2)\n",
    "\n",
    "fig, ax = plt.subplots()\n",
    "ax.scatter(X[:, 0], X[:, 1], c=y, s=50)"
   ]
  },
  {
   "cell_type": "code",
   "execution_count": null,
   "id": "71422b68",
   "metadata": {},
   "outputs": [],
   "source": [
    "def show_decision_region(X, y, clf):\n",
    "    fig, ax = plt.subplots(figsize=(16,8))\n",
    "    \n",
    "    # styling\n",
    "    scatter_kwargs = {'edgecolor': None, 'alpha': 0.7}\n",
    "    contourf_kwargs = {'alpha': 0.3}\n",
    "    \n",
    "    # plotting\n",
    "    plot_decision_regions(X, y, clf=clf, ax=ax, legend=2, scatter_kwargs=scatter_kwargs, contourf_kwargs=contourf_kwargs)"
   ]
  },
  {
   "cell_type": "markdown",
   "id": "6efa3e2f",
   "metadata": {},
   "source": [
    "Pojďme se podívat, co nám funkce `show_decision_region` vykreslí 👀."
   ]
  },
  {
   "cell_type": "code",
   "execution_count": null,
   "id": "ceb5e229",
   "metadata": {},
   "outputs": [],
   "source": [
    "clf = DecisionTreeClassifier(random_state=42)\n",
    "clf.fit(X, y)\n",
    "\n",
    "show_decision_region(X, y, clf)"
   ]
  },
  {
   "cell_type": "markdown",
   "id": "23352c87",
   "metadata": {},
   "source": [
    "Nyní vytvoříme funkci, která vykreslí interaktivní vizualizaci. K tomu využijeme funkci `interact`.\n",
    "\n",
    "👨🏽‍💻 [user guide](https://ipywidgets.readthedocs.io/en/latest/examples/Using%20Interact.html)\n",
    "\n",
    "Funkce `interact` funguje následovně – parametrem prodáme funkci, která má nějaké vlastní parametry a `interact` vytvoří UI elementy, které nám umožní tyto parametry nastavit. Po nastavení parametru `interact` je zavolána funkce s vybranými hodnotami a její výstup se vypíše/vykreslí do výstupu buňky."
   ]
  },
  {
   "cell_type": "code",
   "execution_count": null,
   "id": "85d5d79c",
   "metadata": {},
   "outputs": [],
   "source": [
    "def plot_tree_interactive(X, y, depth_min, depth_max):   \n",
    "    # trains classifier with provided depth and displays decision region\n",
    "    def interactive_tree(depth):\n",
    "        clf = DecisionTreeClassifier(max_depth=depth, random_state=0)\n",
    "        clf.fit(X, y)\n",
    "        show_decision_region(X, y, clf)\n",
    "\n",
    "    # interact witdget (calls interactive_tree function with current depth specified by slider value)\n",
    "    # slider values go from depth_min to depth_max\n",
    "    return interact(interactive_tree, depth=(depth_min,depth_max))"
   ]
  },
  {
   "cell_type": "code",
   "execution_count": null,
   "id": "5b39b799",
   "metadata": {
    "scrolled": false
   },
   "outputs": [],
   "source": [
    "_ = plot_tree_interactive(X, y, 1, 8)"
   ]
  },
  {
   "cell_type": "markdown",
   "id": "1f7bcfdf",
   "metadata": {},
   "source": [
    "Díky vizualizaci můžeme konstatovat, že ideální hloubka je v tomto případě 3 nebo 4. Stromy s menší hloubkou neuměly predikovat všechny třídy a stromy s větší hloubkou byly přeučené.\n",
    "\n",
    "## 📈 Vizualizace metriky napříč iteracemi\n",
    "Při výběru výsledného modelu se rozhodujeme podle nějaké metriky (nebo více metrik). Při klasifikaci je to často klasifikační přesnost (angl. classification accuracy).\n",
    "\n",
    "Predispozicí k tomuto typu vizualizace je, že jsme si během trénování v každé iteraci ukládali hodnotu dané metriky.\n",
    "\n",
    "Vytvořme si tedy data, která takovou situaci simulují. Představme si, že jsme trénovali rozhodovací strom 🌳 a zkusili jsme ladit hyperparametr `max_depth` pro hodnoty 1 až 11. V každé iteraci jsme si uložili trénovací a validační přesnost."
   ]
  },
  {
   "cell_type": "code",
   "execution_count": null,
   "id": "5a2fadfe",
   "metadata": {},
   "outputs": [],
   "source": [
    "train_acc = [0.4880, 0.7023, 0.9047, 0.9226, 0.9404, 0.9642, 0.9642, 0.9821, 0.9940, 0.9940]\n",
    "val_acc = [0.4210, 0.7192, 0.9298, 0.9122, 0.8771, 0.8771, 0.8771, 0.8421, 0.8421, 0.8771]\n",
    "\n",
    "depths = range(1,11)"
   ]
  },
  {
   "cell_type": "code",
   "execution_count": null,
   "id": "8b048da3",
   "metadata": {},
   "outputs": [],
   "source": [
    "# styling\n",
    "blue = '#8592dc'\n",
    "violet = '#9047A0'\n",
    "red = '#d14081'\n",
    "\n",
    "plt.rcParams.update({\"axes.grid\" : True})\n",
    "plt.rcParams['axes.prop_cycle'] = plt.cycler(color=[blue, violet, red])\n",
    "plt.style.use('seaborn-darkgrid')"
   ]
  },
  {
   "cell_type": "markdown",
   "id": "f6d4d40f",
   "metadata": {},
   "source": [
    "Graf pak vytvoříme tak, že vykreslíme dva čárové grafy (angl. line charts), jeden pro trénovací a druhý pro validační přesnost."
   ]
  },
  {
   "cell_type": "code",
   "execution_count": null,
   "id": "9b2b7115",
   "metadata": {},
   "outputs": [],
   "source": [
    "fig, ax = plt.subplots(figsize=(16,8))\n",
    "ax.set_xlabel('max depth')\n",
    "ax.set_ylabel('accuracy')\n",
    "\n",
    "ax.plot(depths, train_acc,'o-', label='train')\n",
    "ax.plot(depths, val_acc,'o-', label='validation')\n",
    "\n",
    "_ = ax.legend()"
   ]
  },
  {
   "cell_type": "markdown",
   "id": "f8220a78",
   "metadata": {},
   "source": [
    "Z grafu vidíme, že i když trénovací přesnost stále rostla, validační začala od hloubky 3 klesat. To signalizuje přeučení. Nejlepší byl tedy model s hloubkou 3."
   ]
  },
  {
   "cell_type": "markdown",
   "id": "5c081284",
   "metadata": {},
   "source": [
    "### 🛠 Ladění více hyperparametrů\n",
    "Většinou ladíme více než jeden hyperparametr. V takovém případě můžeme jemně ohnout graf z předchozí sekce (to si ukážeme v notebooku `example.ipynb`). Druhá možnost je například použít graf paralelních souřadnic. Ten v `matplotlib`u neexistuje a museli bychom jej naprogramovat ručně. Naštěstí můžeme použít balíček `plotly`, který tento graf obsahuje.\n",
    "\n",
    "Navíc je tento graf defaultně interaktivní. Můžete zkusit přeuspořádat osy tím, že kliknete na jejich název a potáhnete je. Také můžete filtrovat, jaký interval hodnot vás na dané ose zajímá. Stačí kliknout na maximální hodnotu a potáhnout myš směrem dolů na minimální hodnotu (nebo naopak).\n",
    "\n",
    "🗂 [dokumentace](https://plotly.com/python-api-reference/generated/plotly.express.parallel_coordinates.html)\n",
    "\n",
    "👨🏽‍💻 [examples](https://plotly.com/python/parallel-coordinates-plot/)"
   ]
  },
  {
   "cell_type": "code",
   "execution_count": null,
   "id": "ecf14378",
   "metadata": {},
   "outputs": [],
   "source": [
    "import plotly.express as px\n",
    "import pandas as pd\n",
    "\n",
    "rng = np.random.RandomState(1)\n",
    "\n",
    "d = {\n",
    "    'max_depth': [5, 5, 5, 8, 8, 8, 10, 10, 10, 5, 5, 5, 8, 8, 8, 10, 10, 10, 5, 5, 5, 8, 8, 8, 10, 10, 10], \n",
    "    'min_samples_leaf': [1, 3, 5, 1, 3, 5, 1, 3, 5, 1, 3, 5, 1, 3, 5, 1, 3, 5, 1, 3, 5, 1, 3, 5, 1, 3, 5],\n",
    "    'min_samples_split': [ 2, 2, 2, 2, 2, 2, 2, 2, 2, 5, 5, 5, 5, 5, 5, 5, 5, 5, 8, 8, 8, 8, 8, 8, 8, 8, 8],\n",
    "    'accuracy': rng.rand(27)\n",
    "}\n",
    "\n",
    "df = pd.DataFrame(data=d)\n",
    "\n",
    "fig = px.parallel_coordinates(\n",
    "    df, \n",
    "    color='accuracy', \n",
    "    # sets color scale to red-yellow-green\n",
    "    color_continuous_scale=px.colors.diverging.RdYlGn,\n",
    "    # sets middle value (accuracy range is 0 to 1, middle is in 0.5)\n",
    "    color_continuous_midpoint=0.5\n",
    ")\n",
    "\n",
    "fig.show()"
   ]
  },
  {
   "cell_type": "markdown",
   "id": "9964808a",
   "metadata": {},
   "source": [
    "# 🎉 A to je k trénování vše! 🎉 "
   ]
  }
 ],
 "metadata": {
  "kernelspec": {
   "display_name": "Python 3 (ipykernel)",
   "language": "python",
   "name": "python3"
  },
  "language_info": {
   "codemirror_mode": {
    "name": "ipython",
    "version": 3
   },
   "file_extension": ".py",
   "mimetype": "text/x-python",
   "name": "python",
   "nbconvert_exporter": "python",
   "pygments_lexer": "ipython3",
   "version": "3.9.12"
  }
 },
 "nbformat": 4,
 "nbformat_minor": 5
}
