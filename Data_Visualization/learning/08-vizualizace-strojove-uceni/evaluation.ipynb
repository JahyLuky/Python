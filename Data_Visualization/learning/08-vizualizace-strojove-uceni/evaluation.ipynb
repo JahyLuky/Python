{
 "cells": [
  {
   "cell_type": "markdown",
   "id": "277dd177",
   "metadata": {},
   "source": [
    "# ⚖️ Vizualizace pro evaluaci modelů\n",
    "\n",
    "V tomto notebooku si ukážeme základní vizualizace pro vyhodnocení úspěšnosti modelů strojového učení.✨"
   ]
  },
  {
   "cell_type": "code",
   "execution_count": null,
   "id": "7d3db01f",
   "metadata": {},
   "outputs": [],
   "source": [
    "# plotting\n",
    "import matplotlib.pyplot as plt\n",
    "\n",
    "# models\n",
    "from sklearn.tree import DecisionTreeClassifier \n",
    "\n",
    "# metrics\n",
    "from sklearn.metrics import roc_auc_score\n",
    "from sklearn.metrics import roc_curve\n",
    "from sklearn.metrics import ConfusionMatrixDisplay\n",
    "from sklearn.metrics import RocCurveDisplay\n",
    "\n",
    "# data generation and manipulation\n",
    "import numpy as np\n",
    "from sklearn.datasets import make_classification\n",
    "from sklearn.model_selection import train_test_split\n",
    "import pandas as pd"
   ]
  },
  {
   "cell_type": "markdown",
   "id": "d17d939f",
   "metadata": {},
   "source": [
    "## Evaluace klasifikátoru\n",
    "V přednášce jsme si zmínili, že klasifikátor můžeme vyhodnotit například pomocí matice záměn (ať už klasické nebo normalizované) nebo pomocí ROC křivky.\n",
    "\n",
    "### 🔲 Matice záměn\n",
    "K jejímu vykreslení můžeme použít funkci `ConfusionMatrixDisplay.from_predictions` z balíčku `sklearn`. Jako parametr potřebujeme zadat reálné a predikované hodnoty, ze kterých se matice vypočítá. Volitelně můžeme zadat například barevnou mapu (parametr `cmap`) nebo `Axes` objekt, do kterého chceme matici vykreslit. Pokud chceme, aby byla matice normalizovaná, je třeba nastavit parametr `normalize` na 'true'. Více si můžete přečíst v dokumentaci.\n",
    "\n",
    "🗂 [dokumentace](https://scikit-learn.org/stable/modules/generated/sklearn.metrics.ConfusionMatrixDisplay.html#sklearn.metrics.ConfusionMatrixDisplay.from_predictions)\n",
    "\n",
    "👨🏽‍💻 [user guide](https://scikit-learn.org/stable/modules/model_evaluation.html#confusion-matrix)"
   ]
  },
  {
   "cell_type": "code",
   "execution_count": null,
   "id": "86fee1fa",
   "metadata": {},
   "outputs": [],
   "source": [
    "def show_confusion_matrices(y_real, y_pred):\n",
    "    fig, axs = plt.subplots(1,2, figsize=(16,6))\n",
    "\n",
    "    ConfusionMatrixDisplay.from_predictions(y_real, y_pred, ax=axs[0], cmap='RdPu')\n",
    "    ConfusionMatrixDisplay.from_predictions(y_real, y_pred, ax=axs[1], cmap='RdPu', normalize='true')\n",
    "\n",
    "    axs[0].set_title('Confusion matrix')\n",
    "    axs[1].set_title('Normalized confusion matrix')"
   ]
  },
  {
   "cell_type": "markdown",
   "id": "c021df5a",
   "metadata": {},
   "source": [
    "### Matice záměn pro binární klasifikaci 🟢 🟣 "
   ]
  },
  {
   "cell_type": "code",
   "execution_count": null,
   "id": "f7079909",
   "metadata": {},
   "outputs": [],
   "source": [
    "X, y = make_classification(n_classes=2, n_clusters_per_class=2, random_state=0)\n",
    "X_train, X_test, y_train, y_test = train_test_split(X, y, random_state=0)\n",
    "\n",
    "clf = DecisionTreeClassifier(random_state=0)\n",
    "clf.fit(X_train, y_train)\n",
    "y_pred = clf.predict(X_test)\n",
    "\n",
    "show_confusion_matrices(y_test, y_pred)"
   ]
  },
  {
   "cell_type": "markdown",
   "id": "8400da10",
   "metadata": {},
   "source": [
    "### Matice záměn pro ternární klasifikaci 🟠 🟢 🟣"
   ]
  },
  {
   "cell_type": "code",
   "execution_count": null,
   "id": "abd8d5a3",
   "metadata": {},
   "outputs": [],
   "source": [
    "X, y = make_classification(n_classes=3, n_clusters_per_class=1, random_state=0)\n",
    "X_train, X_test, y_train, y_test = train_test_split(X, y, random_state=0)\n",
    "\n",
    "clf = DecisionTreeClassifier(random_state=0)\n",
    "clf.fit(X_train, y_train)\n",
    "y_pred = clf.predict(X_test)\n",
    "\n",
    "show_confusion_matrices(y_test, y_pred)"
   ]
  },
  {
   "cell_type": "markdown",
   "id": "8aa7372a",
   "metadata": {},
   "source": [
    "### 📈 ROC křivka\n",
    "ROC křivku vykreslíme pomocí funkce `RocCurveDisplay.from_estimator` balíčku `sklearn`. Stačí zadat klasifikátor a testovací data (matici příznaků a vektor vysvětlované proměnné). Volitelně můžeme zadat i `Axes` objekt, do kterého se má výsledný graf vykreslit."
   ]
  },
  {
   "cell_type": "code",
   "execution_count": null,
   "id": "102727df",
   "metadata": {},
   "outputs": [],
   "source": [
    "from sklearn.svm import SVC\n",
    "\n",
    "X, y = make_classification(random_state=0)\n",
    "X_train, X_test, y_train, y_test = train_test_split(X, y, random_state=0)\n",
    "\n",
    "# SVC is a classification model (https://scikit-learn.org/stable/modules/svm.html)\n",
    "clf = SVC(random_state=0, probability=True).fit(X_train, y_train)\n",
    "#clf = DecisionTreeClassifier(random_state=0).fit(X_train, y_train)\n",
    "\n",
    "fig, ax = plt.subplots()\n",
    "_ = RocCurveDisplay.from_estimator(clf, X_test, y_test, ax=ax)"
   ]
  },
  {
   "cell_type": "markdown",
   "id": "386a857f",
   "metadata": {},
   "source": [
    "Křivku ale můžeme vytvořit i sami. Z přednášky víme, že nás zajímají hodnoty TPR a FPR vzhledem k určitému tresholdu. Ty dokážeme získat pomocí funkce `roc_curve` z `sklearn.metrics`. Jako parametr jí je třeba zadat vektor vysvětlované proměnné a vektor pravděpodobností, že dané pozorování patří do pozitivní třídy (tedy že je hodnota vysvětlované proměnné 1).\n",
    "\n",
    "Vektor vysvětlované proměnné už máme - `y_test`. Vektor pravděpodobností získáme pomocí funkce `predict_proba`.\n",
    "\n",
    "🗂 [dokumentace](https://scikit-learn.org/stable/modules/generated/sklearn.svm.SVC.html#sklearn.svm.SVC.predict_proba)"
   ]
  },
  {
   "cell_type": "code",
   "execution_count": null,
   "id": "c4b3009e",
   "metadata": {},
   "outputs": [],
   "source": [
    "clf.predict_proba(X_test)"
   ]
  },
  {
   "cell_type": "markdown",
   "id": "a2ad9ab2",
   "metadata": {},
   "source": [
    "Výstupem funkce je pole dvojic pravděpodobností pro každé pozorování z X_test. První element vyjadřuje pravděpodobnost, že pozorování patří do třídy 0 a druhý zase pravděpodobnost, že pozorování patří do třídy 1 (můžete si ověřit, že se obě čísla sčítají na 1).\n",
    "\n",
    "Nás zajímá pravděpodobnost, že pozorování patří do třídy 1, tedy druhý element. Vektor dostaneme následovně."
   ]
  },
  {
   "cell_type": "code",
   "execution_count": null,
   "id": "bb287124",
   "metadata": {},
   "outputs": [],
   "source": [
    "probabilities = clf.predict_proba(X_test)[:,1]"
   ]
  },
  {
   "cell_type": "markdown",
   "id": "4de66682",
   "metadata": {},
   "source": [
    "Teď už máme oba potřebné parametry do funkce `roc_curve`. Ta nám vrátí TPR a FPR. \n",
    "\n",
    "🗂 [dokumentace](https://scikit-learn.org/stable/modules/generated/sklearn.metrics.roc_curve.html)"
   ]
  },
  {
   "cell_type": "code",
   "execution_count": null,
   "id": "ceecaf1f",
   "metadata": {},
   "outputs": [],
   "source": [
    "fpr, tpr, _ = roc_curve(y_test, probabilities)\n",
    "\n",
    "# Increasing fpr/tpr such that element i is \n",
    "# the fpr/tpr of predictions with score >= thresholds[i]."
   ]
  },
  {
   "cell_type": "code",
   "execution_count": null,
   "id": "b48bfcaf",
   "metadata": {},
   "outputs": [],
   "source": [
    "print('FPR')\n",
    "print(['{:0.3f}'.format(x) for x in fpr])\n",
    "print('TPR')\n",
    "print(['{:0.3f}'.format(x) for x in tpr])"
   ]
  },
  {
   "cell_type": "markdown",
   "id": "b32765e8",
   "metadata": {},
   "source": [
    "S FPR a TPR už umíme vykreslit ROC křivku 🥳."
   ]
  },
  {
   "cell_type": "code",
   "execution_count": null,
   "id": "fcad0e43",
   "metadata": {},
   "outputs": [],
   "source": [
    "# styling\n",
    "blue = '#8592dc'\n",
    "violet = '#9047A0'\n",
    "red = '#d14081'\n",
    "grey = '#8E8DB4'\n",
    "\n",
    "plt.rcParams.update({\"axes.grid\" : True})\n",
    "plt.rcParams['axes.prop_cycle'] = plt.cycler(color=[blue, violet, red, grey])\n",
    "plt.style.use('seaborn-darkgrid')"
   ]
  },
  {
   "cell_type": "code",
   "execution_count": null,
   "id": "2d068c69",
   "metadata": {
    "scrolled": true
   },
   "outputs": [],
   "source": [
    "# custom ROC curve visualization\n",
    "fig, ax = plt.subplots(figsize=(16,8))\n",
    "\n",
    "# ROC curve\n",
    "ax.plot(fpr, tpr, label='ROC')\n",
    "# area under the curve\n",
    "ax.fill_between(fpr, tpr, alpha=0.2, label='AUC = {:.3f}'.format(roc_auc_score(y_test, probabilities)))\n",
    "# random classifier\n",
    "ax.plot([0,1], [0,1], '--', label='Random classifier')\n",
    "\n",
    "ax.legend()\n",
    "ax.set_xlabel('False positive rate (positive label: 1)')\n",
    "ax.set_ylabel('True positive rate (positive label: 1)')\n",
    "\n",
    "_ = ax.set_title('ROC curve')"
   ]
  },
  {
   "cell_type": "markdown",
   "id": "cc19f409",
   "metadata": {},
   "source": [
    "Co jsme si doposud nezmínili - na grafu vidíme znázorněno i **AUC** (angl. Area Under Curve). Jedná se o souhrnné hodnocení klasifikační schopnosti proměnné, které je vyjádřeno plochou pod ROC křivkou. Čím je AUC blíže 1, tím jde o lepší model. Její hodnotu můžeme získat pomocí `metrics.roc_auc_score`.\n",
    "\n",
    "ROC křivku můžete použít i pro vyhodnocení **klasifikace do více tříd**, vizte [dokumentaci](https://scikit-learn.org/stable/auto_examples/model_selection/plot_roc.html#plot-roc-curves-for-the-multiclass-problem). Nebo tak můžete **porovnat více klasifikátorů** (☝️ kód si můžete zkusit přepsat s využitím `Axes`)."
   ]
  },
  {
   "cell_type": "code",
   "execution_count": null,
   "id": "70a70a34",
   "metadata": {},
   "outputs": [],
   "source": [
    "clf2 = DecisionTreeClassifier(random_state=0).fit(X_train, y_train)\n",
    "\n",
    "svc_disp = RocCurveDisplay.from_estimator(clf, X_test, y_test)\n",
    "rfc_disp = RocCurveDisplay.from_estimator(clf2, X_test, y_test, ax=svc_disp.ax_)\n",
    "plt.title(\"ROC curve comparison\");"
   ]
  },
  {
   "cell_type": "markdown",
   "id": "5128915e",
   "metadata": {},
   "source": [
    "## Evaluace regresoru\n",
    "Regresor můžeme vyhodnotit několika způsoby. Ukážeme si, jak vytvořit graf zobrazující reálné a predikované hodnoty, jak změnit styl pandas `DataFrame`, abychom jej mohli použít jako vizualizaci, a v neposlední řadě přidáme pár vizualizací distribuce chyby modelu.\n",
    "\n",
    "### 🏠🏚 Graf reálných a predikovaných hodnot\n",
    "K vykreslení potřebujeme vektor reálných a predikovaných hodnot. Reálná hodnota se stane x-ovou souřadnicí a predikovaná y-ovou souřadnicí. Kdyby se predikce a reálné hodnoty shodovaly, platilo by _y=x_. Proto do grafu přidáme i přímku _y=x_. Čím blíže jsou body této přímce, tím lepší model je."
   ]
  },
  {
   "cell_type": "code",
   "execution_count": null,
   "id": "110558c1",
   "metadata": {},
   "outputs": [],
   "source": [
    "from numpy.random import default_rng\n",
    "rng = np.random.default_rng(300)\n",
    "y_real = 100 * rng.random(50)\n",
    "y_pred = y_real + (rng.standard_normal(50) * 10)"
   ]
  },
  {
   "cell_type": "code",
   "execution_count": null,
   "id": "7200712c",
   "metadata": {},
   "outputs": [],
   "source": [
    "fig, ax = plt.subplots(figsize=(16,8))\n",
    "\n",
    "ax.vlines(y_real, y_real, y_pred, color=red, zorder=1)\n",
    "ax.plot([0,100],[0,100], label='y = x')\n",
    "ax.scatter(y_real, y_pred, color=grey)\n",
    "\n",
    "ax.set_xlabel('Real value')\n",
    "ax.set_ylabel('Predicted value')\n",
    "ax.legend()\n",
    "_ = ax.set_title('Error visualization')"
   ]
  },
  {
   "cell_type": "markdown",
   "id": "98a88530",
   "metadata": {},
   "source": [
    "### 🗒 Tabulka chyb\n",
    "Na tabulku chyb potřebujeme vektor predikcí a vektor reálných hodnot. Následně si potřebujeme určit kategorie závažnosti chyb (měli bychom to udělat nějak rozumně s ohledem na distribuci chyby). V tomto příkladu to uděláme od oka 👀🙈. Řekněme, že závažnost (tj. severita) bude\n",
    "* nízká (low), pokud je rozdíl reálné a predikované hodnoty v absolutní hodnotě menší než 5,\n",
    "* vysoká (high), pokud je rozdíl reálné a predikované hodnoty v absolutní hodnotě větší než 10,\n",
    "* střední (medium) ve všech ostatních případech.\n",
    "\n",
    "Zkusme vytvořit dataset, který obsauhje reálné a predikované hodnoty, ale i rozdíl hodnot a severitu vypočítanou podle předchozích podmínek."
   ]
  },
  {
   "cell_type": "code",
   "execution_count": null,
   "id": "805f4f70",
   "metadata": {},
   "outputs": [],
   "source": [
    "def compute_severity(row):\n",
    "    if abs(row.difference) < 5:\n",
    "        return 'low'\n",
    "    if abs(row.difference) > 10:\n",
    "        return 'high'\n",
    "    return 'medium'\n",
    "\n",
    "df = pd.DataFrame()\n",
    "df['real value'] = y_real\n",
    "df['predicted value'] = y_pred\n",
    "df['difference'] = y_pred - y_real\n",
    "df['error severity'] = df.apply(compute_severity, axis=1)"
   ]
  },
  {
   "cell_type": "code",
   "execution_count": null,
   "id": "be1cbfc7",
   "metadata": {},
   "outputs": [],
   "source": [
    "df.head()"
   ]
  },
  {
   "cell_type": "markdown",
   "id": "ca1b89bd",
   "metadata": {},
   "source": [
    "Zkusme tabulku udělat trochu přehlednější tím, že řádky obarvíme podle závažnosti.\n",
    "\n",
    "Funkce `highlight_col` vrátí `DataFrame` se stejným počtem řádků a sloupců jako `DataFrame`, který jí byl prodán jako parametr. V každé buňce obsahuje string s barvou pozadí, které by mělo být aplikováno.\n",
    "\n",
    "Více o tom, jak můžete stylovat pandas tabulky, si můžete přečíst v 👨🏽‍💻 [user guide](https://pandas.pydata.org/pandas-docs/stable/user_guide/style.html)."
   ]
  },
  {
   "cell_type": "code",
   "execution_count": null,
   "id": "4223bfe7",
   "metadata": {},
   "outputs": [],
   "source": [
    "def highlight_col(df):\n",
    "    # original data are not changed\n",
    "    copy = df.copy()\n",
    "    \n",
    "    copy[copy['error severity'] == 'low'] = 'background-color: #A5FDD3'\n",
    "    copy[copy['error severity'] == 'medium'] = 'background-color: #FFEBA5'\n",
    "    copy[copy['error severity'] == 'high'] = 'background-color: #FFC2C2'\n",
    "        \n",
    "    return copy   \n",
    "\n",
    "df.style.apply(highlight_col, axis=None)"
   ]
  },
  {
   "cell_type": "markdown",
   "id": "4aaeae75",
   "metadata": {},
   "source": [
    "### 📉 Grafy distribuce chyby\n",
    "\n",
    "Pojďme si sestrojit graf distribuce chyby. Opět si nagenerujeme nějaká data včetně predikcí, ze kterých napočítáme chyby. Jejich rozdělení si následně vizualizujeme.⚙️"
   ]
  },
  {
   "cell_type": "code",
   "execution_count": null,
   "id": "bde60602",
   "metadata": {},
   "outputs": [],
   "source": [
    "# data generation\n",
    "rng = np.random.default_rng(300)\n",
    "y_train_real = 100 * rng.random(50)\n",
    "y_train_pred = y_train_real + (rng.standard_normal(50) * 10)\n",
    "\n",
    "rng = np.random.default_rng(301)\n",
    "y_test_real = 100 * rng.random(50)\n",
    "y_test_pred = y_test_real + (rng.standard_normal(50) * 20)"
   ]
  },
  {
   "cell_type": "code",
   "execution_count": null,
   "id": "fc91600a",
   "metadata": {},
   "outputs": [],
   "source": [
    "# dataframe creation\n",
    "train = pd.DataFrame()\n",
    "train['error'] = y_train_real - y_train_pred\n",
    "train['batch'] = 'train'\n",
    "\n",
    "test = pd.DataFrame()\n",
    "test['error'] = y_test_real - y_test_pred\n",
    "test['batch'] = 'test'\n",
    "\n",
    "df = pd.concat([train, test])\n",
    "df"
   ]
  },
  {
   "cell_type": "markdown",
   "id": "dc5ec233",
   "metadata": {},
   "source": [
    "Grafy budeme vytvářet pomocí balíčku `seaborn`. Velice jednoduchou a efektní vizualizaci chyby můžeme realizovat pomocí [box plotu](https://seaborn.pydata.org/generated/seaborn.boxplot.html) nebo [violin plotu](https://seaborn.pydata.org/generated/seaborn.violinplot.html)."
   ]
  },
  {
   "cell_type": "code",
   "execution_count": null,
   "id": "ad5a58ec",
   "metadata": {},
   "outputs": [],
   "source": [
    "import seaborn as sns\n",
    "sns.boxplot(data=df, x='batch', y='error')"
   ]
  },
  {
   "cell_type": "code",
   "execution_count": null,
   "id": "3031f1dc",
   "metadata": {},
   "outputs": [],
   "source": [
    "sns.violinplot(data=df, x='batch', y='error')"
   ]
  },
  {
   "cell_type": "markdown",
   "id": "80205b09",
   "metadata": {},
   "source": [
    "Trochu komplikovanější vizualizaci lze dosáhnout pomocí funkce [`displot`](https://seaborn.pydata.org/generated/seaborn.displot.html). Ta defaultně zobrazí histogram, ale pokud přidáme parametr `kde=True`, spolu s histogramem se zobrazí i kernel density estimate křivka. Pokud chceme mít přehled o jednotlivých chybách, je třeba nastavit `rug=True`. V tom případě se do grafu nad x-ovou osu přidají indikátory jednotlivých chyb. Jejich x-ová souřadnice je shodná s velikostí chyby."
   ]
  },
  {
   "cell_type": "code",
   "execution_count": null,
   "id": "36a5989c",
   "metadata": {},
   "outputs": [],
   "source": [
    "sns.displot(data=df, x='error', hue='batch', kde = True, rug = True)"
   ]
  },
  {
   "cell_type": "markdown",
   "id": "4a03b5ac",
   "metadata": {},
   "source": [
    "# 🎉 A to je k evaluaci vše! 🎉 "
   ]
  }
 ],
 "metadata": {
  "kernelspec": {
   "display_name": "Python 3 (ipykernel)",
   "language": "python",
   "name": "python3"
  },
  "language_info": {
   "codemirror_mode": {
    "name": "ipython",
    "version": 3
   },
   "file_extension": ".py",
   "mimetype": "text/x-python",
   "name": "python",
   "nbconvert_exporter": "python",
   "pygments_lexer": "ipython3",
   "version": "3.9.12"
  }
 },
 "nbformat": 4,
 "nbformat_minor": 5
}
