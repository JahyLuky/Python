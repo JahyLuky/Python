{
 "cells": [
  {
   "cell_type": "markdown",
   "id": "38f2d43b",
   "metadata": {},
   "source": [
    "# 🎨 Manipulace s obrazovými daty\n",
    "\n",
    "V této ukázce se budeme věnovat obrazovým datům a základním operacím s nimi. \n",
    "\n",
    "🗒️ Poznámka: V tomto notebooku používáme interaktivní prvky. Pro jejich správné zobrazení je třeba notebook spustit. Například pomocí `Cell > Run all Cells `.\n",
    "\n",
    "Také se ujistěte, že máte nainstalovaný modul `ipywidgets` a je povolený v `jupyteru`. Pokud ne, lze to napravit následujícími kroky:\n",
    "\n",
    "- nainstalovat ipywidgets (nemáte-li)\n",
    "    > conda install -c conda-forge ipywidgets\n",
    "- povolit ipywidgets\n",
    "    > jupyter nbextension enable --py widgetsnbextension\n",
    "- restartovat jupyter notebook (běží-li)\n",
    "\n",
    "Obrázky pro toto cvičení pochází z [thecatapi](https://api.thecatapi.com).\n",
    "\n",
    "⛔️ **POZOR!** Pro toto cvičení nedoporučujeme používat prohlížeč Safari 🦒 kvůli chybnému rozvržení interaktivních oken."
   ]
  },
  {
   "cell_type": "code",
   "execution_count": null,
   "id": "6f986452",
   "metadata": {},
   "outputs": [],
   "source": [
    "import matplotlib.pyplot as plt\n",
    "from PIL import ImageOps\n",
    "import cv2 as cv\n",
    "import sys\n",
    "\n",
    "import io\n",
    "import mpmath\n",
    "\n",
    "sys.modules[\"sympy.mpmath\"] = mpmath\n",
    "\n",
    "import skimage\n",
    "import glob\n",
    "\n",
    "import helpers\n",
    "import sympy\n",
    "import numpy as np\n",
    "\n",
    "from IPython.display import Latex, Math\n",
    "from ipywidgets import widgets\n",
    "\n",
    "import scipy.spatial.distance as dist\n",
    "from matplotlib import pyplot as plt\n",
    "from scipy.cluster.hierarchy import dendrogram\n",
    "from sklearn.datasets import load_iris\n",
    "from sklearn.cluster import AgglomerativeClustering\n",
    "from PIL import Image, ImageEnhance, ImageStat, ImageFilter, ImageTransform\n",
    "\n",
    "from sklearn.cluster import KMeans\n",
    "\n",
    "# Pillow<9.0import skimage\n",
    "if not hasattr(Image, \"Resampling\"):\n",
    "    Image.Resampling = Image"
   ]
  },
  {
   "cell_type": "markdown",
   "id": "4346ae15",
   "metadata": {},
   "source": [
    "Ukážeme si několik modulů pro práci s obrazovými daty. Pro tyto potřeby si pomocí modulu [`PIL`](https://pillow.readthedocs.io/en/stable/) načteme obrázek kočky 🐈, na kterém budeme vše demonstrovat."
   ]
  },
  {
   "cell_type": "code",
   "execution_count": null,
   "id": "4273c753",
   "metadata": {},
   "outputs": [],
   "source": [
    "cat = Image.open(\"selected_cat.png\")\n",
    "cat"
   ]
  },
  {
   "cell_type": "markdown",
   "id": "2b42976f",
   "metadata": {},
   "source": [
    "`Image` objekt z modulu [`PIL.Image`](https://pillow.readthedocs.io/en/stable/reference/Image.html?highlight=image) neoplývá mnoha užitečnými atributy (vesměs se potkáte primárně s `Image.size`, který se skládá z `Image.width` a `Image.height`) a jen s malým výčtem metod. Hlavní funkckionality se schovávají v dalších submodulech balíčku `PIL` a postupně si je představíme. 🧑🏽‍🏫"
   ]
  },
  {
   "cell_type": "code",
   "execution_count": null,
   "id": "e3077be5",
   "metadata": {},
   "outputs": [],
   "source": [
    "# cat.size == (cat.width, cat.height)\n",
    "cat.size"
   ]
  },
  {
   "cell_type": "markdown",
   "id": "demonstrated-cornell",
   "metadata": {},
   "source": [
    "Pokud byste používali `scikit-image` a atribut `shape`, budou vaše data trojsložková: první dva údaje vypovídají o velikosti x a y-ové osy, třetí pak udává barevnost. `shape` je atribut definovaný pro `numpy.ndarray` (`PIL.Image` nepracuje s obrázky jako s poli). \n",
    "\n",
    "Ukažme si výstup atributu `shape` na příkladu."
   ]
  },
  {
   "cell_type": "code",
   "execution_count": null,
   "id": "analyzed-toner",
   "metadata": {},
   "outputs": [],
   "source": [
    "chelsea = skimage.data.chelsea()\n",
    "fig, ax = plt.subplots()\n",
    "ax.imshow(chelsea)\n",
    "print('Tvar obrázku:', chelsea.shape)"
   ]
  },
  {
   "cell_type": "markdown",
   "id": "superior-factory",
   "metadata": {},
   "source": [
    "Pokud trváte na získání barevnosti i pro `PIL.Image`, pak můžete využít:"
   ]
  },
  {
   "cell_type": "code",
   "execution_count": null,
   "id": "dramatic-beginning",
   "metadata": {},
   "outputs": [],
   "source": [
    "np.shape(cat)"
   ]
  },
  {
   "cell_type": "markdown",
   "id": "457cd52e",
   "metadata": {},
   "source": [
    "## ☝️ Histogram"
   ]
  },
  {
   "cell_type": "markdown",
   "id": "817f580f",
   "metadata": {},
   "source": [
    "Z přednášky víte, že jedním ze zdrojů informace o obrázku je `histogram` barev. 📊 Instance obrázků mají metodu `histogram()`, která vrátí pole hodnot odpovídající četnostem barev jednotlivých pixelů. \n",
    "\n",
    "U `grayscale` obrázku bychom dostali pole o velikosti `256`, u `RGB` obrázku dostaneme pole o `3x256` hodnotách. "
   ]
  },
  {
   "cell_type": "markdown",
   "id": "ae913f69",
   "metadata": {},
   "source": [
    "Histogram barev lze vizualizovat. Z grafu níže můžeme vyčíst, jaké hodnoty byly nejčastější, jaký kanál byl dominantní nebo také světlost obrázku."
   ]
  },
  {
   "cell_type": "code",
   "execution_count": null,
   "id": "14e82bb2",
   "metadata": {},
   "outputs": [],
   "source": [
    "pixel_counts = np.array(cat.histogram()).reshape((3, 256))\n",
    "\n",
    "fig, ax = plt.subplots(figsize=(10, 8))\n",
    "ax.set_title(\"RGB histogram fotky s kočkou\")\n",
    "ax.bar(range(256), pixel_counts[0, :], color=\"r\", label=\"r\", alpha=0.5)\n",
    "ax.bar(range(256), pixel_counts[1, :], color=\"g\", label=\"g\", alpha=0.5)\n",
    "ax.bar(range(256), pixel_counts[2, :], color=\"b\", label=\"b\", alpha=0.5)\n",
    "ax.legend()\n",
    "ax.set_xlabel(\"Počet\")\n",
    "ax.set_ylabel(\"Hodnota\");"
   ]
  },
  {
   "cell_type": "markdown",
   "id": "portuguese-tonight",
   "metadata": {},
   "source": [
    "Podle histogramu lze usoudit, že se v obrázku vyskytují převážně červené odstíny a to díky ostrému vrcholu červené (`r`) barvy. Zelený (`g`) a modrý (`b`) kanál mají vrcholy při menších hodnotách intenzity než červený kanál."
   ]
  },
  {
   "cell_type": "markdown",
   "id": "77b3a5c4",
   "metadata": {},
   "source": [
    "### 📊 Vliv kalibrací na histogram\n",
    "Pojďme se společně podívat na to, jaký efekt budou mít změny v jasu, kontrastu, sytosti nebo ostrosti na histogram obrázku."
   ]
  },
  {
   "cell_type": "code",
   "execution_count": null,
   "id": "e035e57f",
   "metadata": {
    "code_folding": []
   },
   "outputs": [],
   "source": [
    "def enhance(color, contrast, brightness, sharpness):\n",
    "    \"\"\"Creates a view where user can change PIL.ImageEnhance interactively.\"\"\"\n",
    "    image = ImageEnhance.Sharpness(\n",
    "        ImageEnhance.Brightness(\n",
    "            ImageEnhance.Contrast(ImageEnhance.Color(cat).enhance(color)).enhance(\n",
    "                contrast\n",
    "            )\n",
    "        ).enhance(brightness)\n",
    "    ).enhance(sharpness)\n",
    "\n",
    "    img_byte_arr = helpers.get_image_bytes(cat)\n",
    "    img_byte_arr2 = helpers.get_image_bytes(image)\n",
    "    target_size = tuple(map(lambda x: x // 4, image.size))\n",
    "    layout = widgets.HBox(\n",
    "        [\n",
    "            widgets.VBox(\n",
    "                [\n",
    "                    widgets.HBox(\n",
    "                        [\n",
    "                            widgets.Image(\n",
    "                                value=helpers.get_hist(\n",
    "                                    cat.resize(target_size), \"Original\"\n",
    "                                ),\n",
    "                            ),\n",
    "                            widgets.Image(\n",
    "                                value=helpers.get_hist(\n",
    "                                    image.resize(target_size), \"Processed\"\n",
    "                                ),\n",
    "                            ),\n",
    "                        ],\n",
    "                    ),\n",
    "                    widgets.HBox(\n",
    "                        [\n",
    "                            widgets.Image(\n",
    "                                value=img_byte_arr,\n",
    "                            ),\n",
    "                            widgets.Image(\n",
    "                                value=img_byte_arr2,\n",
    "                            ),\n",
    "                        ],\n",
    "                        layout=widgets.Layout(height=\"15%\"),\n",
    "                    ),\n",
    "                ],\n",
    "                layout=widgets.Layout(\n",
    "                    display=\"flex\",\n",
    "                    flex_flow=\"column\",\n",
    "                    align_items=\"center\",\n",
    "                ),\n",
    "            ),\n",
    "        ],\n",
    "        layout=widgets.Layout(\n",
    "            display=\"flex\",\n",
    "            flex_flow=\"column\",\n",
    "        ),\n",
    "    )\n",
    "\n",
    "    display(layout)"
   ]
  },
  {
   "cell_type": "code",
   "execution_count": null,
   "id": "518814e2",
   "metadata": {},
   "outputs": [],
   "source": [
    "# fmt: off\n",
    "widgets.interact(\n",
    "    enhance,\n",
    "    color=widgets.FloatSlider(value=1, min=0, max=1, step=0.2),\n",
    "    contrast=widgets.FloatSlider(value=1, min=0, max=1, step=0.2),\n",
    "    brightness=widgets.FloatSlider(value=1, min=0, max=1, step=0.2),\n",
    "    sharpness=widgets.FloatSlider(value=1, min=0, max=2, step=0.2),\n",
    ");"
   ]
  },
  {
   "cell_type": "markdown",
   "id": "7a1e63a0",
   "metadata": {},
   "source": [
    "### 👯 Histogram matching\n",
    "\n",
    "Porovnání histogramů je disciplína, ve které **upravíme kontrast jednoho obrázku na základě druhého**. Pojďme se společně podívat, jak bude vypadat náš obrázek kočky ekvalizovaný na základě obrázků z modulu [`scikit-image`](https://scikit-image.org/docs/stable/api/skimage.data.html).\n",
    "\n",
    "☝️ Pozn.: **Ekvalizace histogramu** je algoritmus, který změní rozložení intenzit v obraze tak, aby se v něm vyskytovaly pokud možno intenzity v širokém rozmezí, a to přibližně se stejnou četností. Pokud ekvalizujeme obrázek jiným obrázkem, snažíme se histogram zdrojového obrázku přiblížit histogramu cílového obrázku."
   ]
  },
  {
   "cell_type": "code",
   "execution_count": null,
   "id": "4b08fac7",
   "metadata": {},
   "outputs": [],
   "source": [
    "def wrap_with_hist(img, label):\n",
    "    \"\"\"Returns a VBox with image and its histogram.\"\"\"\n",
    "    return widgets.VBox(\n",
    "        [\n",
    "            widgets.Image(value=helpers.get_image_bytes(img), height=\"70%\"),\n",
    "            widgets.Image(value=helpers.get_hist(img, label), height=\"30%\"),\n",
    "        ],\n",
    "        layout=widgets.Layout(width=\"33%\"),\n",
    "    )"
   ]
  },
  {
   "cell_type": "code",
   "execution_count": null,
   "id": "e59dd4cb",
   "metadata": {},
   "outputs": [],
   "source": [
    "def equalize_image(image):\n",
    "    \"\"\"Returns a view with original image, target, and equalized original. With histograms.\"\"\"\n",
    "    cat_arr = np.array(cat)\n",
    "    target = getattr(skimage.data, image)()\n",
    "    matched = skimage.exposure.match_histograms(cat_arr, target, channel_axis=-1)\n",
    "    display(\n",
    "        widgets.Box(\n",
    "            [\n",
    "                wrap_with_hist(cat, \"Originální\"),\n",
    "                wrap_with_hist(Image.fromarray(target), \"Cílový\"),\n",
    "                wrap_with_hist(Image.fromarray(matched), \"Ekvalizovaný\"),\n",
    "            ],\n",
    "            layout=widgets.Layout(\n",
    "                display=\"flex\",\n",
    "                flex_flow=\"row\",\n",
    "                align_items=\"center\",\n",
    "            ),\n",
    "        )\n",
    "    )"
   ]
  },
  {
   "cell_type": "code",
   "execution_count": null,
   "id": "b043892d",
   "metadata": {},
   "outputs": [],
   "source": [
    "images = []\n",
    "for image in dir(skimage.data):\n",
    "    try:\n",
    "        i = Image.fromarray(getattr(skimage.data, image)())\n",
    "        if i.mode == \"RGB\":\n",
    "            images.append(image)\n",
    "    except Exception:\n",
    "        continue"
   ]
  },
  {
   "cell_type": "code",
   "execution_count": null,
   "id": "35e4e49f",
   "metadata": {},
   "outputs": [],
   "source": [
    "# fmt: off\n",
    "widgets.interact(equalize_image, image=images);"
   ]
  },
  {
   "cell_type": "markdown",
   "id": "a817995f",
   "metadata": {},
   "source": [
    "## 🏗️ Afinní transformace\n",
    "\n",
    "**Afinní transformace** nám umožňují transformovat obrázky pomocí lineární algebry 🔠. Kromě klasické lineární transformace zde navíc dochází k přidání vektoru, který nám umožní posunout obrázek v daném směru od počátku ↗️. Jsou vyjádřeny vztahem $P' = P A$, kde $P$ je bod, který transformujeme pomocí matice $A$. Platí $P' = [x' y' w'] = P A = [x y w] A$. Matice $A$ reprezentuje jednotlivé transformace, které mohou být i skládány.\n",
    "\n",
    "Geometrické afinní transformace souřadnic nám tak umožňují bod $P$ posunout, otočit nebo změnit jeho měřítko (týká se objektů, z těchto bodů složených). ☝️ Pozn.: Bod $\\overrightarrow{P}=(x,y)^T$ reprezentujeme třemi homogenními souřadnicemi –> Každý bod v rovině $\\overrightarrow{P} \\in \\mathbb{R^2}$ je reprezentován přímkou $(X,Y,W)$ v $\\mathbb{R^3}$. Pozn. 2: Body, kde $W = 0$, se nazývají body v nekonečnu. A bod $[0,0,0]^T$ není povolen.\n",
    "\n",
    "Více o afinních transformací lze zjistit např. [zde](http://petr.olsak.net/bilin/afinita4.pdf). Pro další úpravy budeme využívat balíček [SymPy](https://www.sympy.org/en/index.html) 🐍, který je určený pro symbolické operace."
   ]
  },
  {
   "cell_type": "code",
   "execution_count": null,
   "id": "59a3d1e4",
   "metadata": {},
   "outputs": [],
   "source": [
    "#let's define symbols for symbolic computations\n",
    "from sympy.functions.elementary import trigonometric as tr\n",
    "\n",
    "x, y, d_x, d_y, s_x, s_y, theta, c_x, c_y = sympy.symbols(\n",
    "    \"x y d_x d_y s_x s_y theta c_x c_y\"\n",
    ")"
   ]
  },
  {
   "cell_type": "markdown",
   "id": "f2189abf",
   "metadata": {},
   "source": [
    "Zmiňme základní 2D operace a jejich maticovou reprezentaci:\n",
    "\n",
    "### 🗜 Škálování\n",
    "Tzn. změna měřítka (angl. scale, zoom). Určuje poměr mezi aktuální velikostí a cílovou velikostí. Měřítko měníme ve směru osy x, resp. y. $s_x$ určuje škálovací faktor osy x, $s_y$ určuje škálovací faktor osy y. Matice škálování vypadá následovně:"
   ]
  },
  {
   "cell_type": "code",
   "execution_count": null,
   "id": "a59a68e1",
   "metadata": {},
   "outputs": [],
   "source": [
    "scale = sympy.Matrix([[s_x, 0, 0], [0, s_y, 0], [0, 0, 1]])\n",
    "scale"
   ]
  },
  {
   "cell_type": "markdown",
   "id": "faeccbd0",
   "metadata": {},
   "source": [
    "### 😵‍💫 Rotace\n",
    "Vůči počátku soustavy souřadnic [0,0] parametrem $\\theta$ (orientovaný úhel). Matice rotace vypadá následovně:"
   ]
  },
  {
   "cell_type": "code",
   "execution_count": null,
   "id": "eba7c95b",
   "metadata": {},
   "outputs": [],
   "source": [
    "rot = sympy.Matrix(\n",
    "    [[tr.cos(theta), tr.sin(theta), 0], [-tr.sin(theta), tr.cos(theta), 0], [0, 0, 1]]\n",
    ")\n",
    "rot"
   ]
  },
  {
   "cell_type": "markdown",
   "id": "7b938168",
   "metadata": {},
   "source": [
    "### 🏎 Posunutí\n",
    "Transformace posunutí, nebo-li translace, probíhá posunem po osách x a y, kdy pro posunutí o $\\overrightarrow{d}=(d_x,d_y)^T$ násobíme bod $\\overrightarrow{P}=[x,y,1]^T$ maticí:"
   ]
  },
  {
   "cell_type": "code",
   "execution_count": null,
   "id": "5f52114f",
   "metadata": {},
   "outputs": [],
   "source": [
    "tran = sympy.Matrix([[1, 0, d_x], [0, 1, d_y], [0, 0, 1]])\n",
    "tran"
   ]
  },
  {
   "cell_type": "markdown",
   "id": "171ced7c",
   "metadata": {},
   "source": [
    "### ✨ Skládání transformací\n",
    "Při aplikování více transformací na bod $P$ **záleží na pořadí**, v jakém se transformace provádějí. Je rozdíl, jestliže bod posuneme a poté otočíme okolo počátku souřadnicového systému, nebo zda bod nejprve otočíme a poté provedeme transformaci posunutí. \n",
    "\n",
    "☝️ Protože záleží na pořadí transformací, záleží i na pořadí násobení matic. Jelikož používáme zápis $P'=PA$, musíme matice reprezentující jednotlivé transformace **násobit zprava**.\n",
    "\n",
    "Složením výše zmíněných operací"
   ]
  },
  {
   "cell_type": "code",
   "execution_count": null,
   "id": "3bd0616e",
   "metadata": {},
   "outputs": [],
   "source": [
    "center = sympy.Matrix([[1, 0, c_x], [0, 1, c_y], [0, 0, 1]])\n",
    "decenter = sympy.Matrix([[1, 0, -c_x], [0, 1, -c_y], [0, 0, 1]])\n",
    "\n",
    "sympy.MatMul(tran, scale, decenter, rot, center)"
   ]
  },
  {
   "cell_type": "markdown",
   "id": "dd4e2b93",
   "metadata": {},
   "source": [
    "dostaneme pomocí maticového násobení jedinou matici, do které už stačí jen dosadit:"
   ]
  },
  {
   "cell_type": "code",
   "execution_count": null,
   "id": "c7822dac",
   "metadata": {},
   "outputs": [],
   "source": [
    "T = tran @ scale @ decenter @ rot @ center\n",
    "# T = tran@scale@rot\n",
    "display(T)"
   ]
  },
  {
   "cell_type": "markdown",
   "id": "bbf54cb5",
   "metadata": {},
   "source": [
    "> 🧠❓ Otázka: Proč myslíte, že se zde nacházejí matice $\\left[\\begin{matrix}1 & 0 & c_{x}\\\\0 & 1 & c_{y}\\\\0 & 0 & 1\\end{matrix}\\right]$ a $\\left[\\begin{matrix}1 & 0 & -c_{x}\\\\0 & 1 & -c_{y}\\\\0 & 0 & 1\\end{matrix}\\right]$ ?"
   ]
  },
  {
   "cell_type": "markdown",
   "id": "5a836df9",
   "metadata": {},
   "source": [
    "👀 Napadají vás ještě další operace, o kterých jsme si neřekli?"
   ]
  },
  {
   "cell_type": "markdown",
   "id": "fee10f82",
   "metadata": {},
   "source": [
    "### ⚙️ Pojďme si to vyzkoušet\n",
    "\n",
    "V následující buňce je funkce, která vezme zadané parametry, dosadí je do matice a provede s obrázkem danou transformaci. O buňku dále je interaktivní buňka, ve které můžete měnit jednotlivé parametry a sledovat, jak to ovlivní podobu obrázku a podobu matice.\n",
    "\n",
    "Pozn.: Obrázek bohužel není umístěn na středu canvasu 🙈, a tak je zobrazena pouze jeho část. Je to \"feature\" knihovny Pillow, kdybyste přišli na zlepšení, založte prosím [issue](https://gitlab.fit.cvut.cz/BI-VIZ/bi-viz/-/issues)."
   ]
  },
  {
   "cell_type": "code",
   "execution_count": null,
   "id": "060e7373",
   "metadata": {},
   "outputs": [],
   "source": [
    "def affine_transform(\n",
    "    x_move: int, y_move: int, scale_x: float, scale_y: float, rotation: int\n",
    "):\n",
    "    \"\"\"Performs an affine transformation on image.\"\"\"\n",
    "    rotation = np.deg2rad(rotation)\n",
    "    transformation = (\n",
    "        T.subs(c_x, -cat.width // 2)\n",
    "        .subs(c_y, -cat.height // 2)\n",
    "        .subs(d_x, cat.width // 2)\n",
    "        .subs(d_y, cat.height // 2)\n",
    "        .subs(theta, rotation)\n",
    "        .subs(s_x, scale_x)\n",
    "        .subs(s_y, scale_y)\n",
    "        .subs(x, x_move)\n",
    "        .subs(y, y_move)\n",
    "    )\n",
    "    display(widgets.HTMLMath(f\"${sympy.latex(transformation)}$\"))\n",
    "    transformation = np.array(transformation.tolist()).astype(np.float64)\n",
    "    coeff = transformation.flatten()[:6]\n",
    "    transformed = ImageTransform.AffineTransform(coeff).transform(cat.size, cat)\n",
    "    display(widgets.Image(value=helpers.get_image_bytes(transformed)))"
   ]
  },
  {
   "cell_type": "code",
   "execution_count": null,
   "id": "372e1da0",
   "metadata": {},
   "outputs": [],
   "source": [
    "# fmt: off\n",
    "widgets.interact(\n",
    "    affine_transform,\n",
    "    x_move=widgets.IntText(value=0),\n",
    "    y_move=widgets.IntText(value=0),\n",
    "    scale_x=widgets.FloatText(value=1), # 1 odpovida 100%\n",
    "    scale_y=widgets.FloatText(value=1), # 1 odpovida 100%\n",
    "    rotation=widgets.IntText(value=0),\n",
    ");"
   ]
  },
  {
   "cell_type": "markdown",
   "id": "dd792405",
   "metadata": {},
   "source": [
    "# 📐 Škálování\n",
    "\n",
    "I když teď umíme škálovat (tj. převzorkovávat, tj. proces změny měřítka) pomocí matic, v praxi není nezbytně nutné si manuálně vytvářet transformační matice. `PIL`  obsahuje rozhraní pro škálování obrázků, navíc vám umožní si vybrat převzorkovací metodu, pomocí které se budou dopočítávat hodnoty mezilehlých pixelů po škálování.\n",
    "\n",
    "☝️ Pozn.: Převzorkování (angl. resampling) mění počet pixelů v obrázku. "
   ]
  },
  {
   "cell_type": "code",
   "execution_count": null,
   "id": "7b8c9116",
   "metadata": {},
   "outputs": [],
   "source": [
    "resamplers = [\n",
    "    \"BICUBIC\",\n",
    "    \"BILINEAR\",\n",
    "    \"BOX\",\n",
    "    \"HAMMING\",\n",
    "    \"LANCZOS\",\n",
    "    \"NEAREST\",\n",
    "]"
   ]
  },
  {
   "cell_type": "markdown",
   "id": "dd4f5f57",
   "metadata": {},
   "source": [
    "Pokud by vás zajímalo, jak jednotlivé metody fungují a jaký je mezi nimi rozdíl, podívejte se na článek na [🌍 Wikipedii](https://en.wikipedia.org/wiki/Image_scaling). \n",
    "\n",
    "👀 My si ukážeme, jak vypadají výsledné obrázky. K tomu použijeme `image.resize(NEW_SIZE, resample=RESAMPLER)`:"
   ]
  },
  {
   "cell_type": "code",
   "execution_count": null,
   "id": "41d5b56f",
   "metadata": {
    "code_folding": [
     4,
     14
    ]
   },
   "outputs": [],
   "source": [
    "def get_scaled_cat(scale):\n",
    "    \"\"\"Returns a view with rescaled and resampled images.\"\"\"\n",
    "    images = []\n",
    "    width, height = cat.size\n",
    "\n",
    "    buffer = [\n",
    "        widgets.VBox(\n",
    "            [\n",
    "                widgets.HTML(f\"<center><h4>ORIGINAL</h4><center>\"),\n",
    "                widgets.Image(value=helpers.get_image_bytes(cat)),\n",
    "            ],\n",
    "            layout=widgets.Layout(width=f\"100%\"),\n",
    "        )\n",
    "    ]\n",
    "\n",
    "    for resampler in resamplers:\n",
    "        if len(buffer) >= 4:\n",
    "            images.append(widgets.HBox(buffer))\n",
    "            buffer.clear()\n",
    "\n",
    "        resampled_image = cat.resize(\n",
    "            (int(width / scale), int(height / scale)),\n",
    "            resample=getattr(Image.Resampling, resampler),\n",
    "        )\n",
    "\n",
    "        img_byte_arr = helpers.get_image_bytes(resampled_image)\n",
    "\n",
    "        buffer.append(\n",
    "            widgets.VBox(\n",
    "                [\n",
    "                    widgets.HTML(f\"<center><h4>{resampler}</h4><center>\"),\n",
    "                    widgets.Image(value=img_byte_arr),\n",
    "                ],\n",
    "                layout=widgets.Layout(width=f\"100%\"),\n",
    "            )\n",
    "        )\n",
    "\n",
    "    images.append(widgets.HBox(buffer))\n",
    "\n",
    "    display(\n",
    "        widgets.VBox(\n",
    "            images,\n",
    "            layout=widgets.Layout(display=\"flex\", justify_content=\"center\"),\n",
    "        )\n",
    "    )"
   ]
  },
  {
   "cell_type": "code",
   "execution_count": null,
   "id": "f974eeda",
   "metadata": {},
   "outputs": [],
   "source": [
    "# fmt: off\n",
    "widgets.interact(\n",
    "    get_scaled_cat, scale=widgets.FloatSlider(min=0.1, max=10, step=0.5, value=3)\n",
    ");"
   ]
  },
  {
   "cell_type": "markdown",
   "id": "a74179e0",
   "metadata": {},
   "source": [
    "## [🔁](https://www.youtube.com/watch?v=PGNiXGX2nLU) Rotace a transpozice"
   ]
  },
  {
   "cell_type": "markdown",
   "id": "1ed3a1f2",
   "metadata": {},
   "source": [
    "`PIL` obsahuje několik předdefinovaných rotací (každých 90˚) a převrácení obrázků. \n",
    "\n",
    "☝️ Těchto \"transpozicí\" můžeme docílit pomocí [`image.transpose(Image.Transpose.TRANSPOSER)`](https://pillow.readthedocs.io/en/stable/reference/Image.html#PIL.Image.Image.transpose)."
   ]
  },
  {
   "cell_type": "code",
   "execution_count": null,
   "id": "652ac8cf",
   "metadata": {},
   "outputs": [],
   "source": [
    "transposers = [\n",
    "    \"FLIP_LEFT_RIGHT\",\n",
    "    \"FLIP_TOP_BOTTOM\",\n",
    "    \"ROTATE_180\",\n",
    "    \"ROTATE_270\",\n",
    "    \"ROTATE_90\",\n",
    "    \"TRANSPOSE\",\n",
    "    \"TRANSVERSE\",\n",
    "]"
   ]
  },
  {
   "cell_type": "code",
   "execution_count": null,
   "id": "f04adc4b",
   "metadata": {},
   "outputs": [],
   "source": [
    "images = []\n",
    "for transposer in transposers:\n",
    "\n",
    "    if hasattr(Image, 'Transpose'):\n",
    "        transposed_image = cat.transpose(getattr(Image.Transpose, transposer))\n",
    "    else: \n",
    "        transposed_image = cat.transpose(getattr(Image.Resampling, transposer))\n",
    "\n",
    "    images.append(\n",
    "        widgets.VBox(\n",
    "            [\n",
    "                widgets.HTML(f\"<center><h5>{transposer}</h5><center>\"),\n",
    "                widgets.Image(value=helpers.get_image_bytes(transposed_image)),\n",
    "            ],\n",
    "        )\n",
    "    )\n",
    "\n",
    "display(\n",
    "    widgets.HBox(\n",
    "        images,\n",
    "        layout=widgets.Layout(display=\"flex\", justify_content=\"center\"),\n",
    "    )\n",
    ")"
   ]
  },
  {
   "cell_type": "markdown",
   "id": "bff73bec",
   "metadata": {},
   "source": [
    "👇 Případně si můžete jakoukoliv rotaci vyrobit vlastnoručně pomocí [`image.rotate(angle=DEGREES)`](https://pillow.readthedocs.io/en/stable/reference/Image.html#PIL.Image.Image.rotate)."
   ]
  },
  {
   "cell_type": "code",
   "execution_count": null,
   "id": "de08e10f",
   "metadata": {
    "code_folding": [
     9
    ]
   },
   "outputs": [],
   "source": [
    "degrees = 10\n",
    "total = 0\n",
    "tmp = cat.copy()\n",
    "\n",
    "\n",
    "def rotate_cat(cw=True):\n",
    "    \"\"\"Creates a view with rotated images.\"\"\"\n",
    "    global tmp, degrees, total\n",
    "    total = 0\n",
    "    images = []\n",
    "    for i in range(360 // degrees):\n",
    "        if cw:\n",
    "            total -= degrees\n",
    "        else:\n",
    "            total += degrees\n",
    "\n",
    "        images.append(cat.rotate(angle=total))\n",
    "    image_iterator = (img for img in images)\n",
    "    size = len(images)\n",
    "    display(\n",
    "        widgets.VBox(\n",
    "            [\n",
    "                widgets.HBox(\n",
    "                    [\n",
    "                        widgets.Image(\n",
    "                            value=helpers.get_image_bytes(next(image_iterator)),\n",
    "                            width=\"25%\",\n",
    "                        )\n",
    "                        for _ in range(size // 4)\n",
    "                    ],\n",
    "                )\n",
    "                for i in range(4)\n",
    "            ],\n",
    "            layout=widgets.Layout(width=f\"100%\"),\n",
    "        ),\n",
    "        layout=widgets.Layout(display=\"flex\", justify_content=\"center\"),\n",
    "    )"
   ]
  },
  {
   "cell_type": "code",
   "execution_count": null,
   "id": "d3194e71",
   "metadata": {},
   "outputs": [],
   "source": [
    "rotate_cat()"
   ]
  },
  {
   "cell_type": "markdown",
   "id": "f070899a",
   "metadata": {},
   "source": [
    "A k čemu je to všechno dobré? Tyto manipulace jsou užitečné například pro [augmentaci dat](https://machinelearningmastery.com/how-to-configure-image-data-augmentation-when-training-deep-learning-neural-networks/) při trénování [konvolučních neuronových sítích (CNN)](https://en.wikipedia.org/wiki/Convolutional_neural_network). \n",
    "\n",
    "Představte si, že byste měli sadu portrétových fotografií zvířat, a chtěli byste automaticky říct, jestli je na obrázku kočka 🐈 nebo pes 🐕. \n",
    "\n",
    "Pokud bychom měli jen portétové fotky těchto dvou zvířat, budeme schopni na těchto datech natrénovat CNN a s relativně dobrou úspěšností u nich říct, které zvíře je na obrázku. Pokud ale použijeme fotku, na které je náš mazlíček v jiné poloze, může to být pro model celkem obtížná disciplína. Neuronové síti bohužel nemůžeme říct: _\"Tak a teď si představ, jak by tahle fotka psa vypadala vzhůru nohama.\"_ jinak, než že jí takovou fotku vyrobíme. A to neplatí jenom pro `rotace`, ale také pro `škálování`, `zrcadlení` nebo jiné deformace obrazu ( `pokřivení`, `přidání šumu` atd.)."
   ]
  },
  {
   "cell_type": "markdown",
   "id": "43d3bf8d",
   "metadata": {},
   "source": [
    "## ✨ Efekty\n",
    "Kromě transformací obrázků můžeme také měnit jejich barevnou podobu. Některé efekty můžeme aplikovat pomocí [`PIL.ImageOps`](https://pillow.readthedocs.io/en/stable/reference/ImageOps.html#module-PIL.ImageOps). Je to opravdu jen takový malý výčet.\n"
   ]
  },
  {
   "cell_type": "markdown",
   "id": "ddef2344",
   "metadata": {},
   "source": [
    "☝️ Například můžeme převést obrázek do [`grayscale`](https://pillow.readthedocs.io/en/stable/reference/ImageOps.html#PIL.ImageOps.grayscale)."
   ]
  },
  {
   "cell_type": "code",
   "execution_count": null,
   "id": "3a0c42f7",
   "metadata": {},
   "outputs": [],
   "source": [
    "ImageOps.grayscale(cat)"
   ]
  },
  {
   "cell_type": "markdown",
   "id": "133eec4c",
   "metadata": {},
   "source": [
    "A nebo můžeme černobílý obrázek naopak obarvit pomocí [`PIL.ImageOps.colorize`](https://pillow.readthedocs.io/en/stable/reference/ImageOps.html#PIL.ImageOps.colorize). Specifikujeme RGB barvy pro černé a bílé pixely a metoda vytvoří barevný přechod pro jednotlivé pixely.\n",
    "\n",
    "☝️ Dále parametrem `mid` můžeme specifikovat třetí barvu pro střed rozsahu pro zajímavější barevný přechod. "
   ]
  },
  {
   "cell_type": "code",
   "execution_count": null,
   "id": "6957fd7f",
   "metadata": {},
   "outputs": [],
   "source": [
    "# https://convertingcolors.com\n",
    "ImageOps.colorize(\n",
    "    ImageOps.grayscale(cat),\n",
    "    mid=(250, 123, 143), # oranžovočervená\n",
    "    black=(16, 234, 104), # zářivě zelená\n",
    "    white=(15, 10, 123), # tmavě modrá\n",
    ")"
   ]
  },
  {
   "cell_type": "markdown",
   "id": "541b3eac",
   "metadata": {},
   "source": [
    "Nebo můžeme také invertovat barvy obrázku pomocí [`PIL.ImageOps.invert`](https://pillow.readthedocs.io/en/stable/reference/ImageOps.html#PIL.ImageOps.invert)."
   ]
  },
  {
   "cell_type": "code",
   "execution_count": null,
   "id": "e1dc94c9",
   "metadata": {},
   "outputs": [],
   "source": [
    "ImageOps.invert(cat)"
   ]
  },
  {
   "cell_type": "markdown",
   "id": "9de71108",
   "metadata": {},
   "source": [
    "Dalším zajímavým efektem je  [`PIL.ImageOps.solarize`](https://pillow.readthedocs.io/en/stable/reference/ImageOps.html#PIL.ImageOps.solarize), který invertuje jen hodnoty vyšší než je stanovený threshold."
   ]
  },
  {
   "cell_type": "code",
   "execution_count": null,
   "id": "38807957",
   "metadata": {},
   "outputs": [],
   "source": [
    "ImageOps.solarize(cat, threshold=70)"
   ]
  },
  {
   "cell_type": "markdown",
   "id": "b4f97251",
   "metadata": {},
   "source": [
    "## 🔮 Konvoluce"
   ]
  },
  {
   "cell_type": "markdown",
   "id": "37875ae1",
   "metadata": {},
   "source": [
    "Dalším způsobem jak manipulovat s obrazovými daty je [konvoluce](https://en.wikipedia.org/wiki/Kernel_(image_processing)). ⚙️ Pro nás se už jedná o **algoritmus pokročilejší**, který přesahuje rámec tohoto kurzu. 🙊 S konvolucí se setkáte během studia ještě několikrát, především u neronových sítí pro obrazová data. My si ji proto představíme pouze vágně a z rychlíku! ☝️ 🧨\n",
    "\n",
    "Konvoluce je definována jako zobrazení:\n",
    "\n",
    "$${\\displaystyle g(x,y)=\\omega *f(x,y)=\\sum _{dx=-a}^{a}{\\sum _{dy=-b}^{b}{\\omega (dx,dy)f(x-dx,y-dy)}},}$$\n",
    "\n",
    "kde $x$ a $y$ jsou souřadnice \"zpracovávaného\" pixelu (tj. původního), $f(x, y)$ je funkce vracející hodnotu pixelu, $\\omega$ je takzvaný kernel (jádro, reprezentováno maticí) obecně různých, ale často lichých čtvercových rozměrů. Existují také kernely sudých velikostí, s těmi je to ale trochu složitější a nebudeme se jimi zabývat.\n",
    "\n",
    "Konvoluci si můžete představit tak, že okolo každého pixelu z původního obrázku se udělá výřez o rozměrech kernelu a hodnoty odpovídajících souřadnic těchto dvou matic se mezi sebou vynásobí, pokud to lze. Tyto součiny se následně vysčítají a tento součet je poté použit jako výsledná hodnota nového obrázku.\n",
    "\n",
    "Pro představu se podívejte na animaci níže 👇"
   ]
  },
  {
   "cell_type": "markdown",
   "id": "68c811f7",
   "metadata": {},
   "source": [
    "<img src=\"https://upload.wikimedia.org/wikipedia/commons/1/19/2D_Convolution_Animation.gif\"/>"
   ]
  },
  {
   "cell_type": "markdown",
   "id": "9eea58b3",
   "metadata": {},
   "source": [
    "K čemu je to dobré? Například se tato metoda používá k extrakci příznaků z obrázků. Pomocí kernelů můžete vyextrahovat hrany objektů z obrázku a můžete tak vašemu modelu dát informaci o tom, že v daném regionu se nachází nějaký objekt a s trochou dalšího úsilí třeba klasifikovat, že je to kočka 🙀.\n",
    "\n",
    "Tento princip se používá také v [konvolučních neuronových sítích (CNN)](https://en.wikipedia.org/wiki/Convolutional_neural_network), kde každá konvoluční vrstva má nějakou množinu svých kernelů. Jediný rozdíl je ten, že si konvoluční vrstva sama kernely natrénuje a díky tomu, že se v praxi používá několik takových vrstev po sobě, dokáže konvoluční síť detekovat i složitější tvary jako je například kočičí čumák 😺.\n",
    "\n",
    "Pro více informací o CNN doporučujeme tento [web](https://cs231n.github.io/convolutional-networks/). Během studia se s nimi ještě několikrát setkáte.\n",
    "\n",
    "🧬 V praxi existuje celá řada konvolučních jader (kernelů). Každé z těchto jader má svůj specifický účel. Pomocí nich jsme schopni nadefinovat mnoho různých operací. Lze tak například definovat **obrazové filtry** (např. pro vyhlazení, doostření apod.) - některé z nich si ukážeme níže 👇 "
   ]
  },
  {
   "cell_type": "code",
   "execution_count": null,
   "id": "578ac6d8",
   "metadata": {
    "code_folding": [
     7
    ]
   },
   "outputs": [],
   "source": [
    "def visualize_filter(\n",
    "    mat: np.ndarray,\n",
    "    image: Image,\n",
    "    image2: Image,\n",
    "    error=None,\n",
    "    name: str = None,\n",
    "    attr: dict = None,\n",
    "):\n",
    "    \"\"\"Visualizes origin and processed images, their histograms, kernel (if present) and histogram distance.\"\"\"\n",
    "    # get byte arrays\n",
    "    img_byte_arr = helpers.get_image_bytes(image)\n",
    "    img_byte_arr2 = helpers.get_image_bytes(image2)\n",
    "\n",
    "    # matrix latex representation\n",
    "    matrix = sympy.latex(sympy.Matrix(mat)) if mat is not None else \"\"\n",
    "\n",
    "    # If there is a scale and loc for kernel, add it to latex repr.\n",
    "    if \"scale\" in attr:\n",
    "        scale = attr[\"scale\"]\n",
    "        if scale != 1:\n",
    "            sgn = scale < 0\n",
    "            frac = \"\\\\frac{1}{%s}\" % abs(scale)\n",
    "            matrix = f\"{'-' if sgn else ''}{frac} {matrix}\"\n",
    "        del attr[\"scale\"]\n",
    "\n",
    "    if \"offset\" in attr:\n",
    "        if attr[\"offset\"]:\n",
    "            matrix = f'{matrix} + {attr[\"offset\"]}'\n",
    "        del attr[\"offset\"]\n",
    "    if \"size\" in attr:\n",
    "        del attr[\"size\"]\n",
    "\n",
    "    layout = widgets.VBox(\n",
    "        [\n",
    "            widgets.HTML(f\"<h1>{name}</h1>\" if name else \"\"),\n",
    "            widgets.HTML(\n",
    "                f'<p> params: {\", \".join([f\"{k}={v}\" for k, v in attr.items()]) if attr else \"\"} </p>'\n",
    "                if attr\n",
    "                else \"\"\n",
    "            ),\n",
    "            widgets.HBox(\n",
    "                [\n",
    "                    widgets.VBox(\n",
    "                        [\n",
    "                            widgets.HTML(\"<center><b>Kernel</b><center>\"),\n",
    "                            widgets.HTMLMath(value=f\"${matrix}$\"),\n",
    "                            widgets.HTML(\n",
    "                                \"</br><center><b>Histogram Euclidean distance</b><center>\"\n",
    "                            ),\n",
    "                            widgets.HTML(f\"<center>{int(error)}<center>\"),\n",
    "                        ],\n",
    "                        layout=widgets.Layout(align_items=\"center\", width=\"250px\"),\n",
    "                    )\n",
    "                    if mat is not None\n",
    "                    else widgets.HTML(),\n",
    "                    widgets.VBox(\n",
    "                        [\n",
    "                            widgets.HBox(\n",
    "                                [\n",
    "                                    widgets.Image(value=img_byte_arr),\n",
    "                                    widgets.Image(\n",
    "                                        value=helpers.get_hist(image, \"Original\"),\n",
    "                                    ),\n",
    "                                ],\n",
    "                                layout=widgets.Layout(height=\"300px\", width=\"auto\"),\n",
    "                            ),\n",
    "                            widgets.HBox(\n",
    "                                [\n",
    "                                    widgets.Image(value=img_byte_arr2),\n",
    "                                    widgets.Image(\n",
    "                                        value=helpers.get_hist(image2, \"Processed\"),\n",
    "                                    ),\n",
    "                                ],\n",
    "                                layout=widgets.Layout(height=\"300px\"),\n",
    "                            ),\n",
    "                        ],\n",
    "                        layout=widgets.Layout(),\n",
    "                    ),\n",
    "                ],\n",
    "                layout=widgets.Layout(\n",
    "                    display=\"flex\",\n",
    "                    flex_flow=\"row\",\n",
    "                    align_items=\"center\",\n",
    "                    padding=\"5px\",\n",
    "                    width=\"100%\",\n",
    "                    justify_content=\"center\",\n",
    "                ),\n",
    "            ),\n",
    "        ],\n",
    "        layout=widgets.Layout(display=\"flex\", flex_flow=\"column\", width=\"100%\"),\n",
    "    )\n",
    "\n",
    "    display(layout)"
   ]
  },
  {
   "cell_type": "code",
   "execution_count": null,
   "id": "5fdce9a1",
   "metadata": {
    "code_folding": [
     6
    ]
   },
   "outputs": [],
   "source": [
    "def apply_image_filter(image_filter: ImageFilter, image: Image):\n",
    "    \"\"\"Applies a kernel to image and renders results.\"\"\"\n",
    "    kernel = None\n",
    "    extra = {}\n",
    "    attrs = list(filter(lambda x: not x[0] == \"_\" and x != \"filter\", dir(image_filter)))\n",
    "    attrs.remove(\"name\")\n",
    "\n",
    "    if \"filterargs\" in attrs:\n",
    "        size, scale, offset, kernel = getattr(image_filter, \"filterargs\")\n",
    "        kernel = np.array(kernel).reshape(size)\n",
    "        attrs.remove(\"filterargs\")\n",
    "        extra = dict(size=size, scale=scale, offset=offset)\n",
    "\n",
    "    attr = dict(**{x: getattr(image_filter, x) for x in attrs}, **extra)\n",
    "\n",
    "    name = image_filter.name\n",
    "    processed = image.filter(image_filter)\n",
    "    distance = dist.euclidean(image.histogram(), processed.histogram())\n",
    "    visualize_filter(kernel, image, processed, error=distance, name=name, attr=attr)"
   ]
  },
  {
   "cell_type": "markdown",
   "id": "1538edf8",
   "metadata": {},
   "source": [
    "Pro aplikaci filtru použijeme metodu [`image.filter(IMAGE_FILTER)`](https://pillow.readthedocs.io/en/stable/reference/Image.html?highlight=image.filter#PIL.Image.Image.filter), kde `IMAGE_FILTER` je filtr ze submodulu [`PIL.ImageFilter`](https://pillow.readthedocs.io/en/stable/reference/ImageFilter.html?highlight=Imagefilter). \n",
    "\n",
    "📖 Pro jednotlivé filtry si můžete pomocí `help(ImageFilter)` zobrazit dokumentaci. Nejvíce vás budou zajímat `filterargs`, ve kterých se dozvíte: velikost kernelu, škálovací faktor, offset a kernel samotný."
   ]
  },
  {
   "cell_type": "code",
   "execution_count": null,
   "id": "9c3012b9",
   "metadata": {},
   "outputs": [],
   "source": [
    "help(ImageFilter.EDGE_ENHANCE)"
   ]
  },
  {
   "cell_type": "code",
   "execution_count": null,
   "id": "28a0dfdf",
   "metadata": {},
   "outputs": [],
   "source": [
    "# zvyrazneni hran\n",
    "apply_image_filter(ImageFilter.EDGE_ENHANCE, cat)"
   ]
  },
  {
   "cell_type": "code",
   "execution_count": null,
   "id": "29e3fa04",
   "metadata": {
    "scrolled": false
   },
   "outputs": [],
   "source": [
    "# rozostreni\n",
    "apply_image_filter(ImageFilter.BLUR, cat)"
   ]
  },
  {
   "cell_type": "code",
   "execution_count": null,
   "id": "1a08ca34",
   "metadata": {
    "scrolled": false
   },
   "outputs": [],
   "source": [
    "# zostreni\n",
    "apply_image_filter(ImageFilter.SHARPEN, cat)"
   ]
  },
  {
   "cell_type": "code",
   "execution_count": null,
   "id": "f2d599df",
   "metadata": {
    "scrolled": false
   },
   "outputs": [],
   "source": [
    "# vyhlazeni\n",
    "apply_image_filter(ImageFilter.SMOOTH, cat)"
   ]
  },
  {
   "cell_type": "code",
   "execution_count": null,
   "id": "2fe51c38",
   "metadata": {},
   "outputs": [],
   "source": [
    "# zvyrazneni kontur\n",
    "apply_image_filter(ImageFilter.CONTOUR, cat)"
   ]
  },
  {
   "cell_type": "code",
   "execution_count": null,
   "id": "51144d5f",
   "metadata": {},
   "outputs": [],
   "source": [
    "# relief\n",
    "apply_image_filter(ImageFilter.EMBOSS, cat)"
   ]
  },
  {
   "cell_type": "code",
   "execution_count": null,
   "id": "95fce38b",
   "metadata": {},
   "outputs": [],
   "source": [
    "# vytazeni hran\n",
    "apply_image_filter(ImageFilter.FIND_EDGES, cat)"
   ]
  },
  {
   "cell_type": "markdown",
   "id": "3f322c94",
   "metadata": {},
   "source": [
    "## 🖌 Sestrojení vlastního kernelu "
   ]
  },
  {
   "cell_type": "code",
   "execution_count": null,
   "id": "1ebe041c",
   "metadata": {},
   "outputs": [],
   "source": [
    "def get_custom_kernel(mat, loc=0, scale=1, name=\"Custom kernel\"):\n",
    "    \"\"\"Returns a custom kernel filter based on matrix and loc scale parameters.\"\"\"\n",
    "    kernel = ImageFilter.Kernel(mat.shape, mat.flatten(), offset=loc, scale=scale)\n",
    "    kernel.name = name\n",
    "    return kernel"
   ]
  },
  {
   "cell_type": "code",
   "execution_count": null,
   "id": "151e9a40",
   "metadata": {},
   "outputs": [],
   "source": [
    "h = np.array([[-1, -1, -1], [2, 2, 2], [-1, -1, -1]])"
   ]
  },
  {
   "cell_type": "code",
   "execution_count": null,
   "id": "42a76df0",
   "metadata": {
    "scrolled": false
   },
   "outputs": [],
   "source": [
    "apply_image_filter(get_custom_kernel(h, name=\"Horizontal lines\"), cat)"
   ]
  },
  {
   "cell_type": "code",
   "execution_count": null,
   "id": "dc193084",
   "metadata": {
    "scrolled": false
   },
   "outputs": [],
   "source": [
    "apply_image_filter(get_custom_kernel(h.T, name=\"Vertical lines\"), cat)"
   ]
  },
  {
   "cell_type": "markdown",
   "id": "b3581588",
   "metadata": {},
   "source": [
    "## 🎰 Náhodný kernel\n",
    "\n",
    "Nebo můžeme zkusit štěstí a vygenerovat si náhodný kernel pomocí generátoru pseudonáhodných čísel."
   ]
  },
  {
   "cell_type": "code",
   "execution_count": null,
   "id": "3afb4c74",
   "metadata": {},
   "outputs": [],
   "source": [
    "kernel_size = np.random.choice([3, 5])\n",
    "k = np.random.randint(-8, 8, size=(kernel_size, kernel_size))"
   ]
  },
  {
   "cell_type": "code",
   "execution_count": null,
   "id": "60ba9144",
   "metadata": {
    "scrolled": false
   },
   "outputs": [],
   "source": [
    "apply_image_filter(get_custom_kernel(k, loc=50, scale=-8, name=\"Random kernel\"), cat)"
   ]
  },
  {
   "cell_type": "markdown",
   "id": "e3308e10",
   "metadata": {},
   "source": [
    "## 📍 Vyhlazovací filtry\n",
    "V následující sekci si ukážeme filtry, které slouží k **vyhlazování okolí obrázku**. U těchto filtrů se používají čtvercové výběry různých velikostí s nějakou agregační funkci - `mean`, `max`, `min`, `median` atp.  "
   ]
  },
  {
   "cell_type": "markdown",
   "id": "3f273721",
   "metadata": {},
   "source": [
    "První filtr `BoxBlur` je průměrem ze čtvercového výběru. Parametr `radius` udává velikost hrany čtverce v jednom směru: Poloměr 0 nerozmazává, vrací identický obrázek. Poloměr 1 zabere 1 pixel v každém směru, tj. celkem 9 pixelů."
   ]
  },
  {
   "cell_type": "code",
   "execution_count": null,
   "id": "25c67b5c",
   "metadata": {
    "scrolled": false
   },
   "outputs": [],
   "source": [
    "# fmt: off\n",
    "widgets.interact(\n",
    "    lambda radius: apply_image_filter(ImageFilter.BoxBlur(radius=radius), cat),\n",
    "    radius=widgets.IntSlider(val=2, step=1, min=0, max=50),\n",
    ");"
   ]
  },
  {
   "cell_type": "markdown",
   "id": "419c9ab2",
   "metadata": {},
   "source": [
    "Dalším filtrem je `Gaussian Blur`. Tento filtr nám umožní vyhladit výběr pomocí gaussovské funkce.\n",
    "\n",
    "Představme si to tak, že máme 2D gaussovskou funkci s předpisem \n",
    "\n",
    "$$ G(x, y) = \\frac{1}{\\sqrt{2\\pi\\sigma^2}}e^{-\\frac{x^2+y^2}{2\\sigma^2}} $$\n",
    "\n",
    "a grafem funkce\n",
    "\n",
    "<img src=\"https://homepages.inf.ed.ac.uk/rbf/HIPR2/figs/gauss2.gif\"/>\n",
    "\n",
    "Pokud bychom tuto funkci zdiskretizovali a přeškálovali, dostali bychom následující matici:\n",
    "\n",
    "<img src=\"https://homepages.inf.ed.ac.uk/rbf/HIPR2/figs/gausmask.gif\"/>\n",
    "\n",
    "což můžeme interpretovat tak, že největší váhu bude mít střed kernelu a čím jsou pixely dál od středu, tím menší mají váhu."
   ]
  },
  {
   "cell_type": "code",
   "execution_count": null,
   "id": "b2b8cd45",
   "metadata": {},
   "outputs": [],
   "source": [
    "# fmt: off\n",
    "widgets.interact(\n",
    "    lambda radius: apply_image_filter(ImageFilter.GaussianBlur(radius=radius), cat),\n",
    "    radius=widgets.IntSlider(val=2, step=1, min=1, max=50),\n",
    ");"
   ]
  },
  {
   "cell_type": "markdown",
   "id": "wooden-horror",
   "metadata": {},
   "source": [
    "🌪 Pak už zde máme filtry, které vezmou hodnoty z výběru a aplikují nějakou ze zmíněných agregačních funkcí:"
   ]
  },
  {
   "cell_type": "code",
   "execution_count": null,
   "id": "574e4d32",
   "metadata": {},
   "outputs": [],
   "source": [
    "# vybira nejvyssi hodnotu pixelu v okne o dane velikosti \n",
    "# size = velikost kernelu v pixelech \n",
    "\n",
    "# fmt: off\n",
    "widgets.interact(\n",
    "    lambda size: apply_image_filter(ImageFilter.MaxFilter(size=size), cat),\n",
    "    size=widgets.Dropdown(options=[x for x in range(1, 30) if x % 2 != 0], value=13),\n",
    ");"
   ]
  },
  {
   "cell_type": "code",
   "execution_count": null,
   "id": "a2463c52",
   "metadata": {
    "scrolled": false
   },
   "outputs": [],
   "source": [
    "# vybira median hodnot pixelu v okne o dane velikosti \n",
    "\n",
    "# fmt: off\n",
    "widgets.interact(\n",
    "    lambda size: apply_image_filter(ImageFilter.MedianFilter(size=size), cat),\n",
    "    size=widgets.Dropdown(options=[x for x in range(1, 30) if x % 2 != 0], value=13),\n",
    ");"
   ]
  },
  {
   "cell_type": "code",
   "execution_count": null,
   "id": "a6afac98",
   "metadata": {
    "scrolled": false
   },
   "outputs": [],
   "source": [
    "# vybira nejnizsi hodnotu pixelu v okne o dane velikosti \n",
    "\n",
    "# fmt: off\n",
    "widgets.interact(\n",
    "    lambda size: apply_image_filter(ImageFilter.MinFilter(size=size), cat),\n",
    "    size=widgets.Dropdown(options=[x for x in range(1, 30) if x % 2 != 0], value=13),\n",
    ");"
   ]
  },
  {
   "cell_type": "code",
   "execution_count": null,
   "id": "34db1e0e",
   "metadata": {
    "scrolled": false
   },
   "outputs": [],
   "source": [
    "# vybira modus hodnot pixelu v okne o dane velikosti \n",
    "\n",
    "# fmt: off\n",
    "widgets.interact(\n",
    "    lambda size: apply_image_filter(ImageFilter.ModeFilter(size=size), cat),\n",
    "    size=widgets.Dropdown(options=[x for x in range(1, 30) if x % 2 != 0], value=13),\n",
    ");"
   ]
  },
  {
   "cell_type": "markdown",
   "id": "b5d1a9bb",
   "metadata": {},
   "source": [
    "## 🗃️ Segmentace obrazu\n",
    "\n",
    "Segmentace obrazu je disciplína, v rámci které se snažíme **rozdělit jednotlivé části obrázku** do disjunktních skupin na základě barevných hodnot pixelů, jejich 2D souřadnic a dalších příznaků, které si vyrobíme například pomocí kernelů zmíněných výše. Segmentace obrazu je důležitá - díky ní můžeme detekovat například kde přesně se nachází problém na medicínských snímcích, kde leží předmět, který má zvednout robotická ruka nebo jaký tvar má objekt, který zachycuje bezpečnostní kamera. \n",
    "\n",
    "🪚 Jednou (nesupervizovanou) metodou je segmentace pomocí [`K-means algoritmu`](https://en.wikipedia.org/wiki/K-means_clustering) (vizte BI-ML1), který pro předem daný počet shluků rozdělí pixely do skupin podle barev a souřadnic. Jednotlivé shluky pak můžeme použít k \"rozřezání\" obrázku na podmnožiny, které nás zajímají pro další práci.\n",
    "\n",
    "Pojďme se podívat, jak to vypadá v praxi. 🕵🏻‍♂️ Pro náš obrázek zkusíme provést segmentaci na `2`, `3`, `4`, ..., až `9` shluků.\n",
    "\n",
    "🗒️ Pozn.: Kvůli lepší vizualizaci nastavíme každému pixelu ve shluku barvu, která odpovídá průměrné barvě v daném shluku."
   ]
  },
  {
   "cell_type": "code",
   "execution_count": null,
   "id": "131c0474",
   "metadata": {
    "code_folding": [
     4,
     5,
     11
    ]
   },
   "outputs": [],
   "source": [
    "img = np.array(cat)\n",
    "segmented_images = (helpers.segment_image(n, img) for n in range(2, 10))\n",
    "clusters = (x for x in range(2, 10))\n",
    "imgs = []\n",
    "buffer = []\n",
    "for im in segmented_images:\n",
    "    if len(buffer) == 4:\n",
    "        imgs.append(widgets.HBox(buffer))\n",
    "        buffer.clear()\n",
    "\n",
    "    img_byte_arr = helpers.get_image_bytes(im)\n",
    "\n",
    "    buffer.append(\n",
    "        widgets.VBox(\n",
    "            [\n",
    "                widgets.HTML(f\"<center><h4>K={next(clusters)}</h4></center>\"),\n",
    "                widgets.Image(value=img_byte_arr),\n",
    "            ],\n",
    "            layout=widgets.Layout(width=f\"100%\"),\n",
    "        )\n",
    "    )\n",
    "\n",
    "imgs.append(widgets.HBox(buffer))\n",
    "\n",
    "display(\n",
    "    widgets.VBox(\n",
    "        imgs,\n",
    "        layout=widgets.Layout(display=\"flex\", justify_content=\"center\"),\n",
    "    )\n",
    ")"
   ]
  },
  {
   "cell_type": "markdown",
   "id": "ada561aa",
   "metadata": {},
   "source": [
    "## 🪞Podobnost obrázků na základě histogramu\n",
    "\n",
    "Jelikož histogram je vlastně n-dimenzionální vektor, můžeme pomocí metrik měřit vzdálenosti mezi jednotlivými obrázky. Pojďme se podívat, které obrázky ze složky `./cats` jsou našemu obrázku kočky nejpodobnější."
   ]
  },
  {
   "cell_type": "code",
   "execution_count": null,
   "id": "b5537fd8",
   "metadata": {},
   "outputs": [],
   "source": [
    "# supported metrics\n",
    "distance_metrics = [\n",
    "    \"braycurtis\",\n",
    "    \"canberra\",\n",
    "    \"chebyshev\",\n",
    "    \"cityblock\",\n",
    "    \"correlation\",\n",
    "    \"cosine\",\n",
    "    \"dice\",\n",
    "    \"euclidean\",\n",
    "    \"hamming\",\n",
    "    \"jaccard\",\n",
    "    \"jensenshannon\",\n",
    "    \"kulsinski\",\n",
    "    \"minkowski\",\n",
    "    \"rogerstanimoto\",\n",
    "    \"russellrao\",\n",
    "    \"sokalmichener\",\n",
    "    \"sokalsneath\",\n",
    "    \"sqeuclidean\",\n",
    "    \"yule\",\n",
    "]"
   ]
  },
  {
   "cell_type": "code",
   "execution_count": null,
   "id": "1c2c3292",
   "metadata": {},
   "outputs": [],
   "source": [
    "cat_images = [Image.open(path) for path in glob.glob(\"./cats/*\")]\n",
    "cat_histograms = np.vstack(\n",
    "    [np.array(image.convert(\"RGBA\").histogram()) for image in cat_images]\n",
    ")\n",
    "cat_hist = np.array(cat.convert(\"RGBA\").histogram())"
   ]
  },
  {
   "cell_type": "code",
   "execution_count": null,
   "id": "9faad861",
   "metadata": {
    "code_folding": []
   },
   "outputs": [],
   "source": [
    "# fmt: off\n",
    "def get_nearest_images(metric, n):\n",
    "    distances = np.array(\n",
    "        [getattr(dist, metric)(cat_hist, cat_histograms[i, :]) for i in range(cat_histograms.shape[0])]\n",
    "    )\n",
    "    indices = np.argsort(distances)[:n]\n",
    "\n",
    "    components = [\n",
    "        widgets.VBox(\n",
    "            [\n",
    "                widgets.HTML(f\"<center><h5>Original<h5></center>\"),\n",
    "                widgets.Image(value=helpers.get_image_bytes(cat)),\n",
    "            ], layout=widgets.Layout(width=f'{100//(n+1)}%')\n",
    "        )\n",
    "    ]\n",
    "\n",
    "    for i in indices.tolist():\n",
    "        components.append(\n",
    "         widgets.VBox(\n",
    "            [\n",
    "                widgets.HTML(f\"<center><h5>i={i}, distance={distances[i]:.4f}<h5></center>\"),\n",
    "                widgets.Image(value=helpers.get_image_bytes(cat_images[i])),\n",
    "            ],layout=widgets.Layout(width=f'{100//(n+1)}%')\n",
    "        )\n",
    "        )\n",
    "    display(widgets.HBox([\n",
    "        *components\n",
    "    ]));"
   ]
  },
  {
   "cell_type": "code",
   "execution_count": null,
   "id": "0dd57bfa",
   "metadata": {},
   "outputs": [],
   "source": [
    "# fmt: off\n",
    "widgets.interact(get_nearest_images, metric=distance_metrics, n=widgets.IntSlider(min=1, max=8, value=3));"
   ]
  },
  {
   "cell_type": "markdown",
   "id": "bdb0bfc2",
   "metadata": {},
   "source": [
    "## 🦄 Shlukování na základě histogramů\n",
    "\n",
    "A teď, když víme, že můžeme měřit vzdálenost mezi obrázky, nabízí se vyzkoušet si shlukovou analýzu pomocí histogramů těchto obrázků. Např. pomocí [hierarchického shlukování](https://en.wikipedia.org/wiki/Hierarchical_clustering) (znáte z BI-ML1, [dokumentace ve scikit-learn](https://scikit-learn.org/stable/modules/generated/sklearn.cluster.AgglomerativeClustering.html), jehož výsledek vizualizujeme dendogramem. 🌳"
   ]
  },
  {
   "cell_type": "code",
   "execution_count": null,
   "id": "a8cc13ee",
   "metadata": {},
   "outputs": [],
   "source": [
    "# https://scikit-learn.org/stable/auto_examples/cluster/plot_agglomerative_dendrogram.html\n",
    "def plot_dendrogram(model, **kwargs):\n",
    "    # Create linkage matrix and then plot the dendrogram\n",
    "    \"\"\"Merges a clusters based on linkage method.\"\"\"\n",
    "    # create the counts of samples under each node\n",
    "    counts = np.zeros(model.children_.shape[0])\n",
    "    n_samples = len(model.labels_)\n",
    "    for i, merge in enumerate(model.children_):\n",
    "        current_count = 0\n",
    "        for child_idx in merge:\n",
    "            if child_idx < n_samples:\n",
    "                current_count += 1  # leaf node\n",
    "            else:\n",
    "                current_count += counts[child_idx - n_samples]\n",
    "        counts[i] = current_count\n",
    "\n",
    "    linkage_matrix = np.column_stack(\n",
    "        [model.children_, model.distances_, counts]\n",
    "    ).astype(float)\n",
    "\n",
    "    # Plot the corresponding dendrogram\n",
    "    dendrogram(linkage_matrix, **kwargs)"
   ]
  },
  {
   "cell_type": "code",
   "execution_count": null,
   "id": "a0e9f65a",
   "metadata": {},
   "outputs": [],
   "source": [
    "def generate_dendogram(p=3, metric=\"euclid\"):\n",
    "    \"\"\"Creates a dendogram plot.\"\"\"\n",
    "    data = cat_histograms    \n",
    "    model = AgglomerativeClustering(\n",
    "        distance_threshold=0,\n",
    "        n_clusters=None,\n",
    "        affinity=metric,\n",
    "        linkage=\"average\",\n",
    "    )\n",
    "    out = model.fit_predict(data)\n",
    "    fig, ax = plt.subplots(figsize=(14, 8))\n",
    "    ax.set_title(\"Hierarchical Clustering Dendrogram\")\n",
    "\n",
    "    plot_dendrogram(model, truncate_mode=\"lastp\", p=p)\n",
    "    ax.set_xlabel(\"Number of images in node (or index of image if no parenthesis)\")\n",
    "    ax.set_ylabel(\"Measure of closeness of either individual data points or clusters\")"
   ]
  },
  {
   "cell_type": "code",
   "execution_count": null,
   "id": "cf5c24df",
   "metadata": {},
   "outputs": [],
   "source": [
    "widgets.interactive(\n",
    "    generate_dendogram,    \n",
    "    p=widgets.IntSlider(min=3, max=25, value=25), # počet clusterů\n",
    "    metric=[\n",
    "        \"cosine\",\n",
    "        \"euclidean\",\n",
    "        \"l1\",\n",
    "        \"l2\",\n",
    "        \"manhattan\",\n",
    "    ],\n",
    ")"
   ]
  },
  {
   "cell_type": "markdown",
   "id": "d3960d23",
   "metadata": {},
   "source": [
    "☝️ V ukázce výše si můžete všimnout, že volba jiné metriky může kompletně změnit výsledek.\n",
    "\n",
    "Pomocí buněk níže můžete prozkoumat, jak jsou si jednotlivé blízké obrázky vizuálně podobné."
   ]
  },
  {
   "cell_type": "code",
   "execution_count": null,
   "id": "556d5f0b",
   "metadata": {},
   "outputs": [],
   "source": [
    "indexes = [17, 20, ] # sem zadejte indexy z blízkých obrázků z dendogramu"
   ]
  },
  {
   "cell_type": "code",
   "execution_count": null,
   "id": "46ade1ae",
   "metadata": {},
   "outputs": [],
   "source": [
    "display(\n",
    "    widgets.HBox(\n",
    "        [\n",
    "            widgets.Image(\n",
    "                value=helpers.get_image_bytes(cat_images[i]),\n",
    "                width=f\"{1000//len(indexes)}\",\n",
    "            )\n",
    "            for i in indexes\n",
    "        ],\n",
    "        layout=widgets.Layout(display=\"flex\", justify_content=\"center\"),\n",
    "    )\n",
    ")"
   ]
  },
  {
   "cell_type": "markdown",
   "id": "41cb33de",
   "metadata": {},
   "source": [
    "# 🎉 A to je pro dnešek všechno! 🎉"
   ]
  },
  {
   "cell_type": "code",
   "execution_count": null,
   "id": "b4da551c",
   "metadata": {},
   "outputs": [],
   "source": []
  }
 ],
 "metadata": {
  "kernelspec": {
   "display_name": "Python 3 (ipykernel)",
   "language": "python",
   "name": "python3"
  },
  "language_info": {
   "codemirror_mode": {
    "name": "ipython",
    "version": 3
   },
   "file_extension": ".py",
   "mimetype": "text/x-python",
   "name": "python",
   "nbconvert_exporter": "python",
   "pygments_lexer": "ipython3",
   "version": "3.9.12"
  },
  "toc": {
   "base_numbering": 1,
   "nav_menu": {},
   "number_sections": false,
   "sideBar": true,
   "skip_h1_title": true,
   "title_cell": "Table of Contents",
   "title_sidebar": "Contents",
   "toc_cell": false,
   "toc_position": {
    "height": "742px",
    "left": "61px",
    "top": "397.133px",
    "width": "373.767px"
   },
   "toc_section_display": true,
   "toc_window_display": true
  }
 },
 "nbformat": 4,
 "nbformat_minor": 5
}
