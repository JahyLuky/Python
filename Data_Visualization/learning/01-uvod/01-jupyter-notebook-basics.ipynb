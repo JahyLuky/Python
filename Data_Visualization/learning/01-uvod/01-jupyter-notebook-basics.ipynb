{
 "cells": [
  {
   "cell_type": "markdown",
   "metadata": {},
   "source": [
    "# Práce s Jupyter Notebookem\n",
    "\n",
    "Jupyter Notebook je webová aplikace pro vytváření a sdílení dokumentů, které obsahují kód, vizualizace a text.\n",
    "Jak funguje si vysvětlíme v čem jiném, než v Jupyter Notebooku!"
   ]
  },
  {
   "cell_type": "markdown",
   "metadata": {},
   "source": [
    "## Uživatelské rozhraní\n",
    "Každý Jupyter Notebook obsahuje horní informační panel s názvem notebooku, menu bar, tool bar a sekvenci buněk.\n",
    "\n",
    "![user_inteface](img/jupyter.png)\n",
    "\n",
    "### 📔 Název notebooku\n",
    "Název notebooku je zobrazen napravo od Jupyter loga. Je stejný jako název příslušného `.ipynb` souboru. To znamená, že pokud přejmenujete *Untitled* na *MyFirstNotebook* v prohlížeči, `Untitled.ipynb` soubor na disku se přejmenuje na `MyFirstNotebook.ipynb`\n",
    "\n",
    "### 🛠 Menu bar\n",
    "Menu bar slouží k ovládání Jupyter Notebooku. Můžete pomocí něj například vytvořit novou buňku, změnit pořadí buněk, spustit kód, restartovat kernel a mnoho dalšího.\n",
    "\n",
    "### 🔨 Tool bar\n",
    "Tool bar obsahuje nejčastěji používané akce z Menu baru."
   ]
  },
  {
   "cell_type": "markdown",
   "metadata": {},
   "source": [
    "### 🔲 Buňka\n",
    "Buňka je textové pole a její obsah lze spustit pomocí: \n",
    "* `Shift + Enter`\n",
    "* kliknutím na tlačítko `Run` v tool baru\n",
    "* kliknutím na `Cell -> Run` v menu baru\n",
    "\n",
    "To, co se s buňkou po spuštění provede, je určeno **jejím typem**. Existují tři typy buněk: \n",
    "* Code cell\n",
    "* Markdown cell\n",
    "* Raw cell \n",
    "\n",
    "Každá nová buňka se vytvoří jako 'code cell'. Její typ lze změnit pomocí dropdownu v tool baru nebo pomocí klávesových zkratek. Pro zobrazení všech klávesových zkratek klikněte v menu baru na `Help -> Keyboard Shortcuts`."
   ]
  },
  {
   "cell_type": "markdown",
   "metadata": {},
   "source": [
    "#### 🧑🏻‍💻 Code buňka\n",
    "Code buňka slouží (jak její název napovídá) na psaní kódu. Jupyter Notebook podporuje více programovacích jazyků. Který se použije, určuje kernel. Defaultní kernel spouští kód v Pythonu (Python budeme využívat během celého kurzu).\n",
    "\n",
    "Po spuštění code buňky je kód, který obsahuje, zpracován kernelem. Výsledky se pak zobrazí v notebooku jako výstup buňky. Výstup není omezen na text, notebook umí zobrazit například obrázky, grafy a HTML tabulky."
   ]
  },
  {
   "cell_type": "code",
   "execution_count": 1,
   "metadata": {},
   "outputs": [
    {
     "name": "stdout",
     "output_type": "stream",
     "text": [
      "10\n"
     ]
    }
   ],
   "source": [
    "# text output\n",
    "number = 10\n",
    "print(number)"
   ]
  },
  {
   "cell_type": "code",
   "execution_count": 2,
   "metadata": {},
   "outputs": [
    {
     "data": {
      "image/png": "[encoded data removed]",
      "text/plain": [
       "<Figure size 432x288 with 1 Axes>"
      ]
     },
     "metadata": {
      "needs_background": "light"
     },
     "output_type": "display_data"
    }
   ],
   "source": [
    "# plot output\n",
    "import matplotlib.pyplot as plt\n",
    "import numpy as np\n",
    "\n",
    "# generate data for plotting\n",
    "x = np.arange(0.0, 2*np.pi, 0.01)\n",
    "y = np.sin(x)\n",
    "\n",
    "plt.plot(x, y)\n",
    "plt.show()"
   ]
  },
  {
   "cell_type": "markdown",
   "metadata": {},
   "source": [
    "#### 🖍 Markdown buňka\n",
    "Markdown buňka slouží k přidávání komentářů ke kódu (tyto buňky jsme používali od začátku tohoto notebooku). Text se formátuje pomocí jazyka [Markdown](https://www.markdownguide.org/basic-syntax/). Můžete díky němu jednoduše vytvořit text, **tučný text**, *kurzívu*, vložit do textu rovnice (např. $y=ax+b$), vytvářet listy, nadpisy a podobně.\n",
    "\n",
    "Po spuštění Markdown buňky se kód v jazyce Markdown převede na odpovídající formátovaný text. Pokud se chcete znovu dostat do editačního módu, dvakrát klikněte na formátovaný text."
   ]
  },
  {
   "cell_type": "markdown",
   "metadata": {},
   "source": [
    "# Nadpis 1\n",
    "\n",
    "## Nadpis 2\n",
    "\n",
    "###### Nadpis 6\n",
    "\n",
    "text\n",
    "\n",
    "**tučný text**\n",
    "\n",
    "*kurzíva*\n",
    "\n",
    "[link](https://www.youtube.com/watch?v=rTgj1HxmUbg)\n",
    "\n",
    "$$x=\\frac{-b\\pm\\sqrt{b^2-4ac}}{2a}$$"
   ]
  },
  {
   "cell_type": "markdown",
   "metadata": {},
   "source": [
    "#### Raw buňka\n",
    "Raw buňky notebook nezpracovává, můžete do nich zapisovat přímo výstup. V předmětu je nebudeme využívat."
   ]
  },
  {
   "cell_type": "markdown",
   "metadata": {},
   "source": [
    "## Vyhodnocování code buněk\n",
    "### ✅ Kód z jedné buňky je po jejím spuštění dostupný i v ostatních buňkách.\n",
    "\n",
    "**Příklad** - Když si v *cell 1* definujete proměnnou `favorite_pizza`, můžete ji použít i v *cell 2*."
   ]
  },
  {
   "cell_type": "code",
   "execution_count": 7,
   "metadata": {},
   "outputs": [],
   "source": [
    "# cell 1\n",
    "favorite_pizza = \"Margherita\""
   ]
  },
  {
   "cell_type": "code",
   "execution_count": 8,
   "metadata": {
    "scrolled": true
   },
   "outputs": [
    {
     "name": "stdout",
     "output_type": "stream",
     "text": [
      "My favorite pizza is Margherita! 🍕\n"
     ]
    }
   ],
   "source": [
    "# cell 2\n",
    "print(\"My favorite pizza is \" + favorite_pizza + \"! 🍕\")"
   ]
  },
  {
   "cell_type": "markdown",
   "metadata": {},
   "source": [
    "### ✅ Záleží na pořadí spouštění buněk\n",
    "Pořadí v jakém jdou buňky po sobě v notebooku **není** důležité (z hlediska kernelu, samozřejmě by měly být nějak logicky uspořádány, aby se v notebooku orientoval i někdo jiný než vy 😉). Pro kernel je důležité pořadí, v jakém jsou buňky spouštěny.\n",
    "\n",
    "**Příklad** - Když spustíte *cell 3*, proměnná `favorite_pizza` bude mít hodnotu  \"Quatro Formaggi\". To si můžete ověřit spuštěním *cell 2*. Když následně spustíte *cell 1*, `favorite_pizza` bude mít hodnotu \"Margherita\". Opět si to můžete ověřit spuštěním *cell 2*."
   ]
  },
  {
   "cell_type": "code",
   "execution_count": 5,
   "metadata": {},
   "outputs": [],
   "source": [
    "# cell 3\n",
    "favorite_pizza = \"Quattro Formaggi\""
   ]
  },
  {
   "cell_type": "markdown",
   "metadata": {},
   "source": [
    "### ✅ Smazání buňky nevymaže v ní definované entity z kernelu\n",
    "Kernel si pamatuje všechny proměnné, funkce, ... dokud jej **nerestartujeme**. Pokud tedy smažete buňku, ve které byla definována nějaká proměnná, její hodnota zůstane uložena v kernelu.\n",
    "\n",
    "**Příklad** - Spusťte *cell 4*, a pak ji odstraňte. Když následně spustíte *cell 5*, můžete vidět, že kód bez problémů proběhl a nevypsal žádný error. To je způsobeno tím, že si kernel pořád pamatuje hodnotu proměnné `secret`. Zkuste kernel restartovat a znovu spustit *cell 5* a uvidíte, že si kernel začne stěžovat."
   ]
  },
  {
   "cell_type": "code",
   "execution_count": 10,
   "metadata": {},
   "outputs": [
    {
     "name": "stdout",
     "output_type": "stream",
     "text": [
      "Your secret is: I like pineapple on pizza 🍍\n"
     ]
    }
   ],
   "source": [
    "# cell 5\n",
    "print(\"Your secret is: \" + secret)"
   ]
  },
  {
   "cell_type": "markdown",
   "metadata": {},
   "source": [
    "### Co z toho vyplývá?\n",
    "Pokud se kód chová zvláštně, zkuste restartovat kernel a zjistit, zda to nebylo tím, že měl v sobě uloženou hodnotu, o které jste nevěděli. Všechny proměnné aktuálně uložené v kernelu lze zobrazit pomocí příkazu `whos`.\n",
    "\n",
    "Při opravování domácích úkolů bude opravující buňky spouštět **v pořadí v jakém jsou v dokumentu uspořádány** s **novým kernelem**. Zkuste proto vždy před odevzdáním úkolu restartovat kernel a spustit celý notebook znovu, abyste zjistili, zda vše opravdu funguje tak, jak jste chtěli."
   ]
  },
  {
   "cell_type": "code",
   "execution_count": 11,
   "metadata": {
    "scrolled": true
   },
   "outputs": [
    {
     "name": "stdout",
     "output_type": "stream",
     "text": [
      "Variable         Type       Data/Info\n",
      "-------------------------------------\n",
      "favorite_pizza   str        Margherita\n",
      "np               module     <module 'numpy' from '/Us<...>kages/numpy/__init__.py'>\n",
      "number           int        10\n",
      "plt              module     <module 'matplotlib.pyplo<...>es/matplotlib/pyplot.py'>\n",
      "secret           str        I like pineapple on pizza 🍍\n",
      "x                ndarray    629: 629 elems, type `float64`, 5032 bytes\n",
      "y                ndarray    629: 629 elems, type `float64`, 5032 bytes\n"
     ]
    }
   ],
   "source": [
    "whos"
   ]
  },
  {
   "cell_type": "markdown",
   "metadata": {},
   "source": [
    "## Importy\n",
    "Bude se stávat, že si nevystačíme s Python Standard Library a budeme potřebovat kód z nějakého Python modulu (například `pandas`, `numpy`, `matplotlib`, ...). Kód z modulu není v notebooku dostupný by default a budeme jej muset importovat. Toho lze dosáhnout pomocí klíčového slova `import`, za kterým napíšete název modulu.\n",
    "\n",
    "Běžná konvence je přidat všechny importy do první code buňky notebooku. Importy, které se využívají jen v jedné buňce, mají výjimku a mohou se umístit do dané buňky."
   ]
  },
  {
   "cell_type": "code",
   "execution_count": 12,
   "metadata": {},
   "outputs": [
    {
     "name": "stdout",
     "output_type": "stream",
     "text": [
      "3.141592653589793\n"
     ]
    }
   ],
   "source": [
    "# basic import\n",
    "import math\n",
    "print(math.pi)"
   ]
  },
  {
   "cell_type": "code",
   "execution_count": 13,
   "metadata": {},
   "outputs": [
    {
     "name": "stdout",
     "output_type": "stream",
     "text": [
      "3.141592653589793\n"
     ]
    }
   ],
   "source": [
    "# import with renaming\n",
    "import math as unicorn\n",
    "print(unicorn.pi)"
   ]
  },
  {
   "cell_type": "code",
   "execution_count": 14,
   "metadata": {},
   "outputs": [
    {
     "name": "stdout",
     "output_type": "stream",
     "text": [
      "3.141592653589793\n"
     ]
    }
   ],
   "source": [
    "# import specific element from module\n",
    "from math import pi\n",
    "print(pi)"
   ]
  },
  {
   "cell_type": "markdown",
   "metadata": {},
   "source": [
    "## 🎉 A to je vše! 🎉\n",
    "Pokud byste chtěli zjistit více, můžete se podívat do [dokumentace](https://jupyter-notebook.readthedocs.io/en/stable/). "
   ]
  }
 ],
 "metadata": {
  "kernelspec": {
   "display_name": "Python 3 (ipykernel)",
   "language": "python",
   "name": "python3"
  },
  "language_info": {
   "codemirror_mode": {
    "name": "ipython",
    "version": 3
   },
   "file_extension": ".py",
   "mimetype": "text/x-python",
   "name": "python",
   "nbconvert_exporter": "python",
   "pygments_lexer": "ipython3",
   "version": "3.9.12"
  }
 },
 "nbformat": 4,
 "nbformat_minor": 4
}
