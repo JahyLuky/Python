{
 "cells": [
  {
   "cell_type": "markdown",
   "metadata": {},
   "source": [
    "# Cvičení 03 - rozhodovací stromy pro regresi"
   ]
  },
  {
   "cell_type": "markdown",
   "metadata": {
    "ExecuteTime": {
     "end_time": "2020-10-06T08:54:34.399618Z",
     "start_time": "2020-10-06T08:54:34.390811Z"
    }
   },
   "source": [
    "Klasifikace versus regrese \n",
    "\n",
    "- **Klasifikace**:  V předchozím cvičení jsme zkoušeli natrénovat model, který z demografických údajů predikuje zda příjem člověka přesáhne 50000 USD ročně.\n",
    "    - Predikovali jsme tedy veličinu která náleží do diskrétní množiny (přesáhne/nepřesáhne), $y \\in \\{0, 1\\}$. \n",
    "- **Regrese**:  V tomto cvičení se zaměříme na predikci spojité hodnoty kterou představuje cena domu\n",
    "    - Problém, ve kterém predikujeme spojitou veličinu, označujeme jako problém regrese.\n",
    "\n",
    "Jak víme z přednášky, rozhodovací stromy lze využít jak pro klasifikaci, tak pro regresi! 🚀"
   ]
  },
  {
   "cell_type": "markdown",
   "metadata": {
    "ExecuteTime": {
     "end_time": "2020-10-06T09:16:15.967421Z",
     "start_time": "2020-10-06T09:16:15.959578Z"
    }
   },
   "source": [
    "## Dataset 🏘️\n",
    "- V tomto notebooku využijeme další populární dataset z [Kaggle.com](https://www.kaggle.com/c/house-prices-advanced-regression-techniques).\n",
    "- Jedná se o údaje o domech a jejich prodejních cenách. Cílem je předpovědět **cenu domu** (příznak **SalePrice**) na základě celkem 79 příznaků.\n",
    "\n",
    "Popis jednotlivých dat i jednotlivých příznaků se nachází v souboru `data_description.txt`.\n",
    "\n",
    "```python\n",
    "# Show the data description\n",
    "!cat data_description.txt\n",
    "```\n",
    "\n",
    "![https://storage.googleapis.com/kaggle-competitions/kaggle/5407/media/housesbanner.png](https://storage.googleapis.com/kaggle-competitions/kaggle/5407/media/housesbanner.png)\n",
    "*zdroj obrázku: [https://www.kaggle.com/c/house-prices-advanced-regression-techniques](https://www.kaggle.com/c/house-prices-advanced-regression-techniques)*"
   ]
  },
  {
   "cell_type": "code",
   "execution_count": 1,
   "metadata": {
    "ExecuteTime": {
     "end_time": "2020-10-13T18:26:55.202443Z",
     "start_time": "2020-10-13T18:26:52.830432Z"
    }
   },
   "outputs": [],
   "source": [
    "import math\n",
    "import pandas as pd\n",
    "import numpy as np\n",
    "import seaborn as sns\n",
    "import sklearn.metrics as metrics\n",
    "from sklearn.model_selection import ParameterGrid\n",
    "from sklearn.tree import DecisionTreeRegressor\n",
    "\n",
    "import matplotlib.pyplot as plt\n",
    "import matplotlib\n",
    "%matplotlib inline\n",
    "\n",
    "random_seed = 42"
   ]
  },
  {
   "cell_type": "markdown",
   "metadata": {},
   "source": [
    "# Příprava dat\n",
    "Otevřeme si dataset a podívejme se co obsahuje."
   ]
  },
  {
   "cell_type": "code",
   "execution_count": 3,
   "metadata": {},
   "outputs": [
    {
     "data": {
      "text/html": [
       "<div>\n",
       "<style scoped>\n",
       "    .dataframe tbody tr th:only-of-type {\n",
       "        vertical-align: middle;\n",
       "    }\n",
       "\n",
       "    .dataframe tbody tr th {\n",
       "        vertical-align: top;\n",
       "    }\n",
       "\n",
       "    .dataframe thead th {\n",
       "        text-align: right;\n",
       "    }\n",
       "</style>\n",
       "<table border=\"1\" class=\"dataframe\">\n",
       "  <thead>\n",
       "    <tr style=\"text-align: right;\">\n",
       "      <th></th>\n",
       "      <th>Id</th>\n",
       "      <th>MSSubClass</th>\n",
       "      <th>MSZoning</th>\n",
       "      <th>LotFrontage</th>\n",
       "      <th>LotArea</th>\n",
       "      <th>Street</th>\n",
       "      <th>Alley</th>\n",
       "      <th>LotShape</th>\n",
       "      <th>LandContour</th>\n",
       "      <th>Utilities</th>\n",
       "      <th>...</th>\n",
       "      <th>PoolArea</th>\n",
       "      <th>PoolQC</th>\n",
       "      <th>Fence</th>\n",
       "      <th>MiscFeature</th>\n",
       "      <th>MiscVal</th>\n",
       "      <th>MoSold</th>\n",
       "      <th>YrSold</th>\n",
       "      <th>SaleType</th>\n",
       "      <th>SaleCondition</th>\n",
       "      <th>SalePrice</th>\n",
       "    </tr>\n",
       "  </thead>\n",
       "  <tbody>\n",
       "    <tr>\n",
       "      <th>0</th>\n",
       "      <td>1</td>\n",
       "      <td>60</td>\n",
       "      <td>RL</td>\n",
       "      <td>65.0</td>\n",
       "      <td>8450</td>\n",
       "      <td>Pave</td>\n",
       "      <td>NaN</td>\n",
       "      <td>Reg</td>\n",
       "      <td>Lvl</td>\n",
       "      <td>AllPub</td>\n",
       "      <td>...</td>\n",
       "      <td>0</td>\n",
       "      <td>NaN</td>\n",
       "      <td>NaN</td>\n",
       "      <td>NaN</td>\n",
       "      <td>0</td>\n",
       "      <td>2</td>\n",
       "      <td>2008</td>\n",
       "      <td>WD</td>\n",
       "      <td>Normal</td>\n",
       "      <td>208500</td>\n",
       "    </tr>\n",
       "    <tr>\n",
       "      <th>1</th>\n",
       "      <td>2</td>\n",
       "      <td>20</td>\n",
       "      <td>RL</td>\n",
       "      <td>80.0</td>\n",
       "      <td>9600</td>\n",
       "      <td>Pave</td>\n",
       "      <td>NaN</td>\n",
       "      <td>Reg</td>\n",
       "      <td>Lvl</td>\n",
       "      <td>AllPub</td>\n",
       "      <td>...</td>\n",
       "      <td>0</td>\n",
       "      <td>NaN</td>\n",
       "      <td>NaN</td>\n",
       "      <td>NaN</td>\n",
       "      <td>0</td>\n",
       "      <td>5</td>\n",
       "      <td>2007</td>\n",
       "      <td>WD</td>\n",
       "      <td>Normal</td>\n",
       "      <td>181500</td>\n",
       "    </tr>\n",
       "    <tr>\n",
       "      <th>2</th>\n",
       "      <td>3</td>\n",
       "      <td>60</td>\n",
       "      <td>RL</td>\n",
       "      <td>68.0</td>\n",
       "      <td>11250</td>\n",
       "      <td>Pave</td>\n",
       "      <td>NaN</td>\n",
       "      <td>IR1</td>\n",
       "      <td>Lvl</td>\n",
       "      <td>AllPub</td>\n",
       "      <td>...</td>\n",
       "      <td>0</td>\n",
       "      <td>NaN</td>\n",
       "      <td>NaN</td>\n",
       "      <td>NaN</td>\n",
       "      <td>0</td>\n",
       "      <td>9</td>\n",
       "      <td>2008</td>\n",
       "      <td>WD</td>\n",
       "      <td>Normal</td>\n",
       "      <td>223500</td>\n",
       "    </tr>\n",
       "    <tr>\n",
       "      <th>3</th>\n",
       "      <td>4</td>\n",
       "      <td>70</td>\n",
       "      <td>RL</td>\n",
       "      <td>60.0</td>\n",
       "      <td>9550</td>\n",
       "      <td>Pave</td>\n",
       "      <td>NaN</td>\n",
       "      <td>IR1</td>\n",
       "      <td>Lvl</td>\n",
       "      <td>AllPub</td>\n",
       "      <td>...</td>\n",
       "      <td>0</td>\n",
       "      <td>NaN</td>\n",
       "      <td>NaN</td>\n",
       "      <td>NaN</td>\n",
       "      <td>0</td>\n",
       "      <td>2</td>\n",
       "      <td>2006</td>\n",
       "      <td>WD</td>\n",
       "      <td>Abnorml</td>\n",
       "      <td>140000</td>\n",
       "    </tr>\n",
       "    <tr>\n",
       "      <th>4</th>\n",
       "      <td>5</td>\n",
       "      <td>60</td>\n",
       "      <td>RL</td>\n",
       "      <td>84.0</td>\n",
       "      <td>14260</td>\n",
       "      <td>Pave</td>\n",
       "      <td>NaN</td>\n",
       "      <td>IR1</td>\n",
       "      <td>Lvl</td>\n",
       "      <td>AllPub</td>\n",
       "      <td>...</td>\n",
       "      <td>0</td>\n",
       "      <td>NaN</td>\n",
       "      <td>NaN</td>\n",
       "      <td>NaN</td>\n",
       "      <td>0</td>\n",
       "      <td>12</td>\n",
       "      <td>2008</td>\n",
       "      <td>WD</td>\n",
       "      <td>Normal</td>\n",
       "      <td>250000</td>\n",
       "    </tr>\n",
       "  </tbody>\n",
       "</table>\n",
       "<p>5 rows × 81 columns</p>\n",
       "</div>"
      ],
      "text/plain": [
       "   Id  MSSubClass MSZoning  LotFrontage  LotArea Street Alley LotShape  \\\n",
       "0   1          60       RL         65.0     8450   Pave   NaN      Reg   \n",
       "1   2          20       RL         80.0     9600   Pave   NaN      Reg   \n",
       "2   3          60       RL         68.0    11250   Pave   NaN      IR1   \n",
       "3   4          70       RL         60.0     9550   Pave   NaN      IR1   \n",
       "4   5          60       RL         84.0    14260   Pave   NaN      IR1   \n",
       "\n",
       "  LandContour Utilities  ... PoolArea PoolQC Fence MiscFeature MiscVal MoSold  \\\n",
       "0         Lvl    AllPub  ...        0    NaN   NaN         NaN       0      2   \n",
       "1         Lvl    AllPub  ...        0    NaN   NaN         NaN       0      5   \n",
       "2         Lvl    AllPub  ...        0    NaN   NaN         NaN       0      9   \n",
       "3         Lvl    AllPub  ...        0    NaN   NaN         NaN       0      2   \n",
       "4         Lvl    AllPub  ...        0    NaN   NaN         NaN       0     12   \n",
       "\n",
       "  YrSold  SaleType  SaleCondition  SalePrice  \n",
       "0   2008        WD         Normal     208500  \n",
       "1   2007        WD         Normal     181500  \n",
       "2   2008        WD         Normal     223500  \n",
       "3   2006        WD        Abnorml     140000  \n",
       "4   2008        WD         Normal     250000  \n",
       "\n",
       "[5 rows x 81 columns]"
      ]
     },
     "execution_count": 3,
     "metadata": {},
     "output_type": "execute_result"
    }
   ],
   "source": [
    "df = pd.read_csv('house-prices-train.csv')\n",
    "df.head()"
   ]
  },
  {
   "cell_type": "code",
   "execution_count": 4,
   "metadata": {
    "ExecuteTime": {
     "end_time": "2020-10-13T18:26:55.262409Z",
     "start_time": "2020-10-13T18:26:55.239304Z"
    }
   },
   "outputs": [
    {
     "name": "stdout",
     "output_type": "stream",
     "text": [
      "<class 'pandas.core.frame.DataFrame'>\n",
      "RangeIndex: 1460 entries, 0 to 1459\n",
      "Data columns (total 81 columns):\n",
      " #   Column         Non-Null Count  Dtype  \n",
      "---  ------         --------------  -----  \n",
      " 0   Id             1460 non-null   int64  \n",
      " 1   MSSubClass     1460 non-null   int64  \n",
      " 2   MSZoning       1460 non-null   object \n",
      " 3   LotFrontage    1201 non-null   float64\n",
      " 4   LotArea        1460 non-null   int64  \n",
      " 5   Street         1460 non-null   object \n",
      " 6   Alley          91 non-null     object \n",
      " 7   LotShape       1460 non-null   object \n",
      " 8   LandContour    1460 non-null   object \n",
      " 9   Utilities      1460 non-null   object \n",
      " 10  LotConfig      1460 non-null   object \n",
      " 11  LandSlope      1460 non-null   object \n",
      " 12  Neighborhood   1460 non-null   object \n",
      " 13  Condition1     1460 non-null   object \n",
      " 14  Condition2     1460 non-null   object \n",
      " 15  BldgType       1460 non-null   object \n",
      " 16  HouseStyle     1460 non-null   object \n",
      " 17  OverallQual    1460 non-null   int64  \n",
      " 18  OverallCond    1460 non-null   int64  \n",
      " 19  YearBuilt      1460 non-null   int64  \n",
      " 20  YearRemodAdd   1460 non-null   int64  \n",
      " 21  RoofStyle      1460 non-null   object \n",
      " 22  RoofMatl       1460 non-null   object \n",
      " 23  Exterior1st    1460 non-null   object \n",
      " 24  Exterior2nd    1460 non-null   object \n",
      " 25  MasVnrType     1452 non-null   object \n",
      " 26  MasVnrArea     1452 non-null   float64\n",
      " 27  ExterQual      1460 non-null   object \n",
      " 28  ExterCond      1460 non-null   object \n",
      " 29  Foundation     1460 non-null   object \n",
      " 30  BsmtQual       1423 non-null   object \n",
      " 31  BsmtCond       1423 non-null   object \n",
      " 32  BsmtExposure   1422 non-null   object \n",
      " 33  BsmtFinType1   1423 non-null   object \n",
      " 34  BsmtFinSF1     1460 non-null   int64  \n",
      " 35  BsmtFinType2   1422 non-null   object \n",
      " 36  BsmtFinSF2     1460 non-null   int64  \n",
      " 37  BsmtUnfSF      1460 non-null   int64  \n",
      " 38  TotalBsmtSF    1460 non-null   int64  \n",
      " 39  Heating        1460 non-null   object \n",
      " 40  HeatingQC      1460 non-null   object \n",
      " 41  CentralAir     1460 non-null   object \n",
      " 42  Electrical     1459 non-null   object \n",
      " 43  1stFlrSF       1460 non-null   int64  \n",
      " 44  2ndFlrSF       1460 non-null   int64  \n",
      " 45  LowQualFinSF   1460 non-null   int64  \n",
      " 46  GrLivArea      1460 non-null   int64  \n",
      " 47  BsmtFullBath   1460 non-null   int64  \n",
      " 48  BsmtHalfBath   1460 non-null   int64  \n",
      " 49  FullBath       1460 non-null   int64  \n",
      " 50  HalfBath       1460 non-null   int64  \n",
      " 51  BedroomAbvGr   1460 non-null   int64  \n",
      " 52  KitchenAbvGr   1460 non-null   int64  \n",
      " 53  KitchenQual    1460 non-null   object \n",
      " 54  TotRmsAbvGrd   1460 non-null   int64  \n",
      " 55  Functional     1460 non-null   object \n",
      " 56  Fireplaces     1460 non-null   int64  \n",
      " 57  FireplaceQu    770 non-null    object \n",
      " 58  GarageType     1379 non-null   object \n",
      " 59  GarageYrBlt    1379 non-null   float64\n",
      " 60  GarageFinish   1379 non-null   object \n",
      " 61  GarageCars     1460 non-null   int64  \n",
      " 62  GarageArea     1460 non-null   int64  \n",
      " 63  GarageQual     1379 non-null   object \n",
      " 64  GarageCond     1379 non-null   object \n",
      " 65  PavedDrive     1460 non-null   object \n",
      " 66  WoodDeckSF     1460 non-null   int64  \n",
      " 67  OpenPorchSF    1460 non-null   int64  \n",
      " 68  EnclosedPorch  1460 non-null   int64  \n",
      " 69  3SsnPorch      1460 non-null   int64  \n",
      " 70  ScreenPorch    1460 non-null   int64  \n",
      " 71  PoolArea       1460 non-null   int64  \n",
      " 72  PoolQC         7 non-null      object \n",
      " 73  Fence          281 non-null    object \n",
      " 74  MiscFeature    54 non-null     object \n",
      " 75  MiscVal        1460 non-null   int64  \n",
      " 76  MoSold         1460 non-null   int64  \n",
      " 77  YrSold         1460 non-null   int64  \n",
      " 78  SaleType       1460 non-null   object \n",
      " 79  SaleCondition  1460 non-null   object \n",
      " 80  SalePrice      1460 non-null   int64  \n",
      "dtypes: float64(3), int64(35), object(43)\n",
      "memory usage: 924.0+ KB\n"
     ]
    }
   ],
   "source": [
    "df.info()"
   ]
  },
  {
   "cell_type": "code",
   "execution_count": 6,
   "metadata": {
    "ExecuteTime": {
     "end_time": "2020-10-13T18:26:55.531577Z",
     "start_time": "2020-10-13T18:26:55.265707Z"
    }
   },
   "outputs": [
    {
     "data": {
      "image/png": "[encoded data removed]",
      "text/plain": [
       "<Figure size 640x480 with 1 Axes>"
      ]
     },
     "metadata": {},
     "output_type": "display_data"
    }
   ],
   "source": [
    "df.SalePrice.hist(bins=20)\n",
    "plt.title(\"Rozdělení cílové proměnné - SalePrice\")\n",
    "plt.show()"
   ]
  },
  {
   "cell_type": "markdown",
   "metadata": {},
   "source": [
    "### Příprava datasetu pro použití modelu\n",
    "\n",
    "Opět vidíme, že v datasetu existuje spousta nečíselných příznaků a příznaků, které mají chybějící hodnoty. Nejprve tedy musíme provést základní předzpracování."
   ]
  },
  {
   "cell_type": "markdown",
   "metadata": {},
   "source": [
    "**Krok 1**: Převedeme textové příznaky (`dtype = object`) na příznaky kategoriální.\n",
    "- Zkusme nejprve nastavit jejich typ na *kategoriální* (`dtype = category`). Pandas si pak tyto příznaky interně ukládá jako číselné.\n",
    "- Jako kategoriální lze chápat pouze příznaky *s ne moc různými hodnotami* (např. jméno není vhodné).\n",
    "- V našem případě lze brát jako kategoriální všechny textové příznaky.\n",
    "\n",
    "```python\n",
    "# Zkonvertujeme sloupce typu object na typ category\n",
    "for col in df.select_dtypes('object').columns:\n",
    "    df[col] = df[col].astype('category')\n",
    "```\n",
    "\n",
    "Interně takto získáne vhodnou reprezentaci, ale pro použití modelu ještě musíme provést další krok, protože implementace ve `scikit-learn` nepodporuje `dtype = category`.\n",
    "\n",
    "**Krok 2**: Kategoriální proměnné nahradíme čísly.\n",
    "- Pro řazené kategoriální příznaky (tzv. **ordinální**) stačí použít interní číslování kategorií, které dostaneme pomocí `...cat.codes`.\n",
    "- Pro ty neřazené (**nominální**) je tento přístup poněkud nešťastný (čísla seřazená vždycky jsou).\n",
    "- U nominálních příznaků je lépe využít **one-hot encoding**. To je reprezentace, kdy daný příznak nahradíme mnoha novými binárními tzv. **dummy**  příznaky reprezentujícími příslušnost k každé z kategorií.\n",
    "    \n",
    "Rozhodnutí, který příznak je nominální a který ordinální, lze stěží automatizovat a je nutné postupovat ručně. Dobrým kandidátem pro ordinální příznak je *KitchenQual*. "
   ]
  },
  {
   "cell_type": "code",
   "execution_count": 7,
   "metadata": {
    "ExecuteTime": {
     "end_time": "2020-10-13T18:26:55.538895Z",
     "start_time": "2020-10-13T18:26:55.533825Z"
    }
   },
   "outputs": [
    {
     "data": {
      "text/plain": [
       "array(['Gd', 'TA', 'Ex', 'Fa'], dtype=object)"
      ]
     },
     "metadata": {},
     "output_type": "display_data"
    }
   ],
   "source": [
    "display(df.KitchenQual.unique())"
   ]
  },
  {
   "cell_type": "markdown",
   "metadata": {},
   "source": [
    "Dle popisu v souboru `data_description.txt`: Ex = Excellent, Gd = Good, TA = Typical/Average, Fa = Fair, Po = Poor. Takže bychom chtěli tyto textové hodnoty nahradit čísly tak, aby se zachovalo pořadí Po < Fa < TA < Gd < Ex. Při prvotním převodu na kategorickou proměnnou tedy řekneme, že se jedná o uspořádané kategorie a zadáme je ve správném pořadí."
   ]
  },
  {
   "cell_type": "code",
   "execution_count": 8,
   "metadata": {
    "ExecuteTime": {
     "end_time": "2020-10-13T18:26:55.555848Z",
     "start_time": "2020-10-13T18:26:55.541900Z"
    }
   },
   "outputs": [
    {
     "name": "stdout",
     "output_type": "stream",
     "text": [
      "Příznak KitchenQual před změnou typu:\n"
     ]
    },
    {
     "data": {
      "text/plain": [
       "892     TA\n",
       "1105    Gd\n",
       "413     TA\n",
       "522     TA\n",
       "1036    Ex\n",
       "Name: KitchenQual, dtype: object"
      ]
     },
     "metadata": {},
     "output_type": "display_data"
    },
    {
     "name": "stdout",
     "output_type": "stream",
     "text": [
      "Příznak KitchenQual po změně typu:\n"
     ]
    },
    {
     "data": {
      "text/plain": [
       "892     TA\n",
       "1105    Gd\n",
       "413     TA\n",
       "522     TA\n",
       "1036    Ex\n",
       "Name: KitchenQual, dtype: category\n",
       "Categories (5, object): ['Po' < 'Fa' < 'TA' < 'Gd' < 'Ex']"
      ]
     },
     "metadata": {},
     "output_type": "display_data"
    }
   ],
   "source": [
    "print(\"Příznak KitchenQual před změnou typu:\")\n",
    "display(df.KitchenQual.sample(5, random_state=random_seed))\n",
    "\n",
    "qual_category = pd.api.types.CategoricalDtype(categories=['Po', 'Fa', 'TA', 'Gd', 'Ex'], ordered=True)\n",
    "\n",
    "df.KitchenQual = df.KitchenQual.astype(qual_category)\n",
    "\n",
    "print(\"Příznak KitchenQual po změně typu:\")\n",
    "display(df.KitchenQual.sample(5, random_state=random_seed))"
   ]
  },
  {
   "cell_type": "markdown",
   "metadata": {},
   "source": [
    "Nyní si můžeme všimnout, že nejenom *KitchenQual*, ale i další příznaky končící na **Qual** nebo **Qu** nebo **QC** nebo **Cond** mají hodnoty ze stejné škály a á tedy smysl je reprezentovat stejným způsobem.\n",
    "\n",
    "### ÚKOL: Reprezentujte všechny takové příznaky jako category type. "
   ]
  },
  {
   "cell_type": "code",
   "execution_count": null,
   "metadata": {},
   "outputs": [],
   "source": [
    "## Váš kód zde\n",
    "\n",
    "df.head()"
   ]
  },
  {
   "cell_type": "code",
   "execution_count": null,
   "metadata": {},
   "outputs": [],
   "source": [
    "df.info()"
   ]
  },
  {
   "cell_type": "markdown",
   "metadata": {},
   "source": [
    "Před kodováním zbytku příznaků typu **object** pomocí **one-hot encoding** si ty stávající categoriální převedeme na číselnou reprezentaci."
   ]
  },
  {
   "cell_type": "code",
   "execution_count": null,
   "metadata": {},
   "outputs": [],
   "source": [
    "for col in df.select_dtypes('category').columns:\n",
    "    df[col] = df[col].cat.codes"
   ]
  },
  {
   "cell_type": "markdown",
   "metadata": {},
   "source": [
    "U ostatních nečíselných příznaků budeme předpokládat, že se jedná o **nominální** příznaky a převedeme je na **one-hot encoding** reprezentaci. K tomu můžeme využít metodu `get_dummies()` z `pandas`. Udělejme to nejprve nejpřímějším způsobem a později budeme diskutovat limity tohoto přístupu."
   ]
  },
  {
   "cell_type": "code",
   "execution_count": null,
   "metadata": {},
   "outputs": [],
   "source": [
    "df = pd.get_dummies(df)"
   ]
  },
  {
   "cell_type": "code",
   "execution_count": null,
   "metadata": {},
   "outputs": [],
   "source": [
    "df.head()"
   ]
  },
  {
   "cell_type": "code",
   "execution_count": null,
   "metadata": {},
   "outputs": [],
   "source": [
    "df.info()"
   ]
  },
  {
   "cell_type": "code",
   "execution_count": null,
   "metadata": {},
   "outputs": [],
   "source": [
    "list(df.columns)"
   ]
  },
  {
   "cell_type": "markdown",
   "metadata": {},
   "source": [
    "Na závěr nahradíme všechny chybějící hodnoty -1."
   ]
  },
  {
   "cell_type": "code",
   "execution_count": null,
   "metadata": {},
   "outputs": [],
   "source": [
    "df = df.fillna('-1')"
   ]
  },
  {
   "cell_type": "markdown",
   "metadata": {},
   "source": [
    "## Rozdělení dat\n",
    "\n",
    "Adresář obsahuje CSV soubory `house-prices-train.csv` a `house-prices-test.csv`. `house-prices-test.csv` použijeme později. Pro naše účely použijeme pouze `house-prices-train.csv` a rozdělíme ho na **trénovací**, **validační** a **testovací** množinu."
   ]
  },
  {
   "cell_type": "code",
   "execution_count": null,
   "metadata": {
    "ExecuteTime": {
     "end_time": "2020-10-13T18:26:56.813272Z",
     "start_time": "2020-10-13T18:26:56.803492Z"
    }
   },
   "outputs": [],
   "source": [
    "from sklearn.model_selection import train_test_split\n",
    "\n",
    "# Split the training dataset into 60% train and 40% rest\n",
    "Xtrain, Xrest, ytrain, yrest = train_test_split(\n",
    "    df.drop(columns=['SalePrice']), df.SalePrice, test_size=0.4, random_state=random_seed\n",
    ")\n",
    "\n",
    "# Split the rest of the data into 0.6*0.4=24% validation, 0.4*0.4=16% test\n",
    "Xtest, Xval, ytest, yval = train_test_split(\n",
    "    Xrest, yrest, test_size=0.6, random_state=random_seed\n",
    ")"
   ]
  },
  {
   "cell_type": "markdown",
   "metadata": {},
   "source": [
    "# Rozhodovací stromy pro regresi\n",
    "V minulém cvičení jsme viděli rozhodovací stromy pro klasifikaci. Nyní si ukážeme, jejich regresní verzi.\n",
    "\n",
    "### Trénovací kritéria\n",
    "Jako optimalizační kritérium při konstrukci rozhodovacího stromu pro klasifikaci byla použita entropie nebo Gini index. Jako optimální dělící kritérium určené příznakem a thresholdem se vzala taková dvojice, která odpovídala největšímu informačnímu zisku, který představoval rozdíl hodnoty před rozdělením a váženého průměru hodnot po rozdělení.\n",
    "\n",
    "V případě regresní úlohy chceme, aby po rozdělení došlo ke snížení *rozptylu* hodnot v jednotlivých větvích.\n",
    "Jako míru *rozptylování* nejčastěji bereme MSE příp. MAE definované jako:\n",
    "$$\n",
    "\\text{MSE} = \\frac{1}{n} \\sum_{i=1}^n (Y_i - \\bar Y)^2\\quad \\text{resp.}\\quad \\text{MAE} = \\frac{1}{n} \\sum_{i=1}^n |Y_i - \\bar Y|.\n",
    "$$\n",
    "\n",
    "Jako optimální dělení množiny $\\mathcal D$ pak bereme dělení na části $\\mathcal{D}_1$ a $\\mathcal{D}_2$, která maximalizuje kritérium\n",
    "$$\n",
    " J = \\text{MSE}(\\mathcal{D}) - t_1 \\text{MSE}(\\mathcal{D}_1) - t_2 \\text{MSE}(\\mathcal{D}_2),\n",
    "$$\n",
    "kde $t_1 = \\frac{\\#\\mathcal{D}_1}{\\#\\mathcal{D}}$.\n",
    "\n",
    "### Vyhodnocovací metriky\n",
    "V případě klasifikace jsme používali accuracy (kolik dat model predikoval správně). Nyní ovšem predikujeme spojitou proměnnou. Jak říct o výsledku, že je správně? Budeme měřit, jak daleko od kýženého výsledku se model strefil! Často používané metriky pro měření kvality regresního modelu jsou:\n",
    "\n",
    "Název | Vzorec\n",
    "----- | -------\n",
    "MSE   | $$\\frac{1}{n}\\sum_{i=1}^{n}(Y_{i} - \\hat{Y}_{i})^2$$\n",
    "RMSE   | $$\\sqrt{\\frac{1}{n}\\sum_{i=1}^{n}(Y_{i} - \\hat{Y}_{i})^2}$$\n",
    "MAE   | $$\\frac{1}{n}\\sum_{i=1}^{n}|Y_{i} - \\hat{Y}_{i}|$$\n",
    "RMSLE | $$\\sqrt{\\frac{1}{n}\\sum_{i=1}^{n}(log(Y_{i} + 1) - log(\\hat{Y}_{i} + 1))^2}$$\n",
    "\n",
    "Výběr správné metriky je extrémně podstatný úkol, který může zásadním způsobem ovlivnit, který model vybereme jako finální. Musíme si dát pozor, aby metrika správně reflektovala vlastnosti modelu, které jsou pro nás důležité (např. aby se soustředila na odlhelé hodnoty, nebo napak aby je částečně ignorovala). Často bohužel naše metrika neodpovídá přesně tomu, čeho chceme dosáhnout (ono to často ani přesně nevíme). Jednotlivé metriky se liší v mnoha směrech:\n",
    "- jak je můžeme interpretovat (co vyjadřují)\n",
    "- jak snadno je (ne)lze zderivovat\n",
    "- jak se chovají pro různá data (outliers)\n",
    "\n",
    "Například pro zmíněné metriky\n",
    "- MSE a RMSE je citlivé na outliers (penalizuje je hodně)\n",
    "- MAE se dá snadno interpretovat, méně citlivé na outliers\n",
    "- RMSLE je citlivé na malé odchylky a relativně necitlivé k outliers"
   ]
  },
  {
   "cell_type": "markdown",
   "metadata": {},
   "source": [
    "### Použití rozhodovacího stromu\n",
    "\n",
    "Pro klasifikaci jsme používali `DecisionTreeClassifier`, pro regresi využijeme jeho variantu `DecisionTreeRegressor`.\n",
    "\n",
    "Na měření výkonnosti využijeme `mean_squared_error`."
   ]
  },
  {
   "cell_type": "code",
   "execution_count": null,
   "metadata": {},
   "outputs": [],
   "source": [
    "from sklearn.tree import DecisionTreeRegressor\n",
    "from sklearn.metrics import mean_squared_error"
   ]
  },
  {
   "cell_type": "markdown",
   "metadata": {},
   "source": [
    "Zkusíme rovnou různé hloubky stromu a porovnáme jejich validační chybu měřenou pomocí RMSE."
   ]
  },
  {
   "cell_type": "code",
   "execution_count": null,
   "metadata": {
    "ExecuteTime": {
     "end_time": "2020-10-13T18:26:58.033062Z",
     "start_time": "2020-10-13T18:26:57.878171Z"
    }
   },
   "outputs": [],
   "source": [
    "depths = range(1,10)\n",
    "\n",
    "val_metric = []\n",
    "for depth in depths:\n",
    "    clf = DecisionTreeRegressor(max_depth = depth).fit(Xtrain, ytrain)\n",
    "    val_metric.append(mean_squared_error(yval, clf.predict(Xval), squared = False))"
   ]
  },
  {
   "cell_type": "code",
   "execution_count": null,
   "metadata": {},
   "outputs": [],
   "source": [
    "plt.figure(figsize=(20,6))\n",
    "plt.plot(depths, val_metric,'or-') #o: body, r: barva, -: spojení bodů linkou"
   ]
  },
  {
   "cell_type": "code",
   "execution_count": null,
   "metadata": {},
   "outputs": [],
   "source": [
    "val_metric"
   ]
  },
  {
   "cell_type": "markdown",
   "metadata": {},
   "source": [
    "Zkusíme se podívat, jak vypadá predikce pro nejlepší"
   ]
  },
  {
   "cell_type": "code",
   "execution_count": null,
   "metadata": {},
   "outputs": [],
   "source": [
    "# Vybereme nejlepší parametry\n",
    "best_depth = depths[np.argmin(val_metric)]\n",
    "print(f\"We found the best depth {best_depth} with validation RMSE {min(val_metric):.4f}.\")\n",
    "\n",
    "# Natrénujeme na nich DecisionTreeRegressor\n",
    "clf = DecisionTreeRegressor(max_depth = best_depth).fit(Xtrain, ytrain)"
   ]
  },
  {
   "cell_type": "code",
   "execution_count": null,
   "metadata": {},
   "outputs": [],
   "source": [
    "plt.scatter(ytrain, clf.predict(Xtrain))"
   ]
  },
  {
   "cell_type": "code",
   "execution_count": null,
   "metadata": {
    "ExecuteTime": {
     "end_time": "2020-10-13T18:26:58.274402Z",
     "start_time": "2020-10-13T18:26:58.259285Z"
    }
   },
   "outputs": [],
   "source": [
    "train_rmse_tree = mean_squared_error(ytrain, clf.predict(Xtrain), squared = False)\n",
    "valid_rmse_tree = mean_squared_error(yval, clf.predict(Xval), squared = False)\n",
    "print(f\"RMSE (train): \\t{train_rmse_tree:.4f}\")\n",
    "print(f\"RMSE (valid): \\t{valid_rmse_tree:.4f}\")"
   ]
  },
  {
   "cell_type": "markdown",
   "metadata": {},
   "source": [
    "```python\n",
    "# Na chybu na testovacích date se dívat nebudeme! \n",
    "# Na trénovacích datech ještě chceme trénovat další modely!\n",
    "test_rmse_tree = rmsle(ytest, dt.predict(Xtest))\n",
    "print(f\"RMSE (test): \\t{test_rmse_tree:.4f}\")\n",
    "```"
   ]
  },
  {
   "cell_type": "markdown",
   "metadata": {},
   "source": [
    "## Úkol: zkuste, jak by byl model výkonný bez využití get_dummies\n",
    "\n",
    "Využije `LabelEncoder` ze `sklearn.preprocessing` pro získání číselné reprezentace místo převodu na kategorické a použití `...cat.codes`."
   ]
  },
  {
   "cell_type": "code",
   "execution_count": null,
   "metadata": {},
   "outputs": [],
   "source": [
    "# Váš kód zde.\n",
    "\n",
    "\n"
   ]
  },
  {
   "cell_type": "markdown",
   "metadata": {},
   "source": [
    "## Vyhodnocení pomocí RMSLE\n",
    "\n",
    "Posledním úkolem je zkusit, jak Váš model obstojí v soutěži na Kaggle. Vyhodnocení je zde prováděno pomocí metriky RMSLE, kterou si nejdříve naimplementujme."
   ]
  },
  {
   "cell_type": "code",
   "execution_count": null,
   "metadata": {},
   "outputs": [],
   "source": [
    "def rmsle(y_true: pd.Series, y_hat: pd.Series) -> float:\n",
    "    return math.sqrt(\n",
    "        metrics.mean_squared_error(\n",
    "            np.log1p(y_true), np.log1p(y_hat)\n",
    "        )\n",
    "    )"
   ]
  },
  {
   "cell_type": "code",
   "execution_count": null,
   "metadata": {},
   "outputs": [],
   "source": [
    "print(f\"Validační RMSLE: {rmsle(yval, clf.predict(Xval))}\")"
   ]
  },
  {
   "cell_type": "markdown",
   "metadata": {},
   "source": [
    "## Úkol: Zkuste snížit RMSLE jak to jen jde s využitím dalších hyperparametrů a nahrát svoje řešení na Kaggle\n",
    "\n",
    "Využijte opět `ParameterGrid`.\n",
    "\n",
    "Stránka pro odevzdání: https://www.kaggle.com/c/house-prices-advanced-regression-techniques/submit"
   ]
  },
  {
   "cell_type": "code",
   "execution_count": null,
   "metadata": {
    "ExecuteTime": {
     "end_time": "2020-10-13T18:28:15.103809Z",
     "start_time": "2020-10-13T18:28:15.057258Z"
    }
   },
   "outputs": [],
   "source": [
    "train = pd.read_csv('house-prices-train.csv')\n",
    "test = pd.read_csv('house-prices-test.csv')"
   ]
  },
  {
   "cell_type": "markdown",
   "metadata": {
    "ExecuteTime": {
     "end_time": "2020-10-08T16:50:57.933417Z",
     "start_time": "2020-10-08T16:50:57.926585Z"
    }
   },
   "source": [
    "Kaggle při odevzdání počítá s CSV souborem, který má 2 sloupce `Id` a `SalePrice`. \n",
    "\n",
    "Příklad souboru který projde odevzdáním:\n",
    "\n",
    "|   Id |   SalePrice |\n",
    "|-----:|------------:|\n",
    "| 1461 |      112317 |\n",
    "| 1462 |      132388 |\n",
    "| 1463 |      156409 |\n",
    "| 1464 |      172197 |\n",
    "| 1465 |      179526 |\n",
    "\n",
    "Při ukládání můžete využít parametr `index=False` pro ignorování indexu.\n",
    "\n",
    "```python\n",
    "df.to_csv('kaggle_submission.csv', index=False)\n",
    "```"
   ]
  },
  {
   "cell_type": "code",
   "execution_count": null,
   "metadata": {
    "ExecuteTime": {
     "end_time": "2020-10-13T18:28:15.108723Z",
     "start_time": "2020-10-13T18:28:15.106157Z"
    }
   },
   "outputs": [],
   "source": [
    "# Your code goes here :)\n"
   ]
  }
 ],
 "metadata": {
  "kernelspec": {
   "display_name": "Python 3 (ipykernel)",
   "language": "python",
   "name": "python3"
  },
  "language_info": {
   "codemirror_mode": {
    "name": "ipython",
    "version": 3
   },
   "file_extension": ".py",
   "mimetype": "text/x-python",
   "name": "python",
   "nbconvert_exporter": "python",
   "pygments_lexer": "ipython3",
   "version": "3.8.2"
  }
 },
 "nbformat": 4,
 "nbformat_minor": 4
}
