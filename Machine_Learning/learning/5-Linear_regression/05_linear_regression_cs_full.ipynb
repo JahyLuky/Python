{
 "cells": [
  {
   "cell_type": "markdown",
   "metadata": {},
   "source": [
    "# Cvičení 5 - Lineární regrese\n",
    "\n",
    "V tomto cvičení se budeme zabývat modelem lineární regrese."
   ]
  },
  {
   "cell_type": "markdown",
   "metadata": {},
   "source": [
    "## Stručný úvod do lineární algebry v numpy\n",
    "\n",
    "Než se pustíme do modelu lineární regrese, podívejme se na práci s poli, maticemi a vektory v [NumPy](https://numpy.org/).\n",
    "\n",
    "NumPy je efektivní knihovna pro práci s numerickými daty ve formě tenzorů (vícerozměrných polí). \n",
    "\n",
    "NumPy používá homogenní pole –⁠ všechny položky mají stejný datový typ a také má pevnou velikost. \n",
    "\n",
    "Několik užitečných odkazů:\n",
    "\n",
    "- Kompletní úvod do NumPy: https://towardsdatascience.com/the-ultimate-beginners-guide-to-numpy-f5a2f99aef54\n",
    "- Vizuální ukázka práce s NumPy: https://medium.com/@yp7121/a-visual-intro-to-numpy-2903458d25ea\n",
    "- Cheatsheet na jednotlivé funkce: https://pyvec.github.io/cheatsheets/numpy/numpy-cs.pdf\n",
    "\n",
    "NumPy se standardně importuje jako `np`, (ale neomezuje vás to od toho si tento alias pojmenovat, jak chcete)."
   ]
  },
  {
   "cell_type": "code",
   "execution_count": 2,
   "metadata": {},
   "outputs": [],
   "source": [
    "import numpy as np"
   ]
  },
  {
   "cell_type": "markdown",
   "metadata": {},
   "source": [
    "### NumPy array\n",
    "\n",
    "NumPy pole, `ndarray`, je N-dimenzionální tensor. \n",
    "\n",
    "Nejjednodušší cesta, jak vytvořit ndarray je vytvořit ho z listu."
   ]
  },
  {
   "cell_type": "code",
   "execution_count": 3,
   "metadata": {},
   "outputs": [
    {
     "name": "stdout",
     "output_type": "stream",
     "text": [
      "[1 2 3]\n",
      "================================================================================ \n",
      "\n",
      "[[1 2]\n",
      " [5 3]\n",
      " [4 6]]\n",
      "<class 'numpy.ndarray'> int64\n",
      "================================================================================ \n",
      "\n",
      "[[1. 2.]\n",
      " [5. 3.]\n",
      " [4. 6.]]\n",
      "<class 'numpy.ndarray'> int64\n"
     ]
    }
   ],
   "source": [
    "# ndarray, n=1\n",
    "a = np.array([1, 2, 3])\n",
    "print(a)\n",
    "print(\"=\"*80,'\\n')\n",
    "\n",
    "# ndarray, n=2\n",
    "b = np.array([[1, 2], [5, 3], [4, 6]])\n",
    "print(b)\n",
    "print(type(b), b.dtype)\n",
    "print(\"=\"*80,'\\n')\n",
    "\n",
    "# můžeme také nastavit datový typ, pokud potřebujeme\n",
    "c = np.array(b, dtype=np.float64)\n",
    "print(c)\n",
    "print(type(b), b.dtype)"
   ]
  },
  {
   "cell_type": "markdown",
   "metadata": {},
   "source": [
    "Další možností je vytvoření `ndarray` speciálních typů (např. samé nuly, jednotkové matice, atd.). \n",
    "\n",
    "Argumentem následujících funkcí býva shape nového `ndarray`."
   ]
  },
  {
   "cell_type": "code",
   "execution_count": 4,
   "metadata": {},
   "outputs": [
    {
     "name": "stdout",
     "output_type": "stream",
     "text": [
      "[[0. 0. 0.]\n",
      " [0. 0. 0.]]\n",
      "================================================================================ \n",
      "\n",
      "[[1. 1. 1.]\n",
      " [1. 1. 1.]]\n",
      "================================================================================ \n",
      "\n",
      "[[ True  True  True]\n",
      " [ True  True  True]]\n",
      "bool\n",
      "================================================================================ \n",
      "\n",
      "[[0.8288861  0.61862906 0.33261981]\n",
      " [0.00807982 0.8959708  0.46674067]]\n",
      "================================================================================ \n",
      "\n",
      "[[1. 0. 0. 0.]\n",
      " [0. 1. 0. 0.]\n",
      " [0. 0. 1. 0.]]\n"
     ]
    }
   ],
   "source": [
    "# ndarray plné nul\n",
    "print(np.zeros((2, 3))) \n",
    "print(\"=\"*80,'\\n')\n",
    "\n",
    "# ndarray plné jedniček\n",
    "print(np.ones((2, 3))) \n",
    "print(\"=\"*80,'\\n')\n",
    "\n",
    "# ndarray plné logických true\n",
    "a = np.ones((2, 3), dtype = bool)\n",
    "print(a) \n",
    "print(a.dtype)\n",
    "print(\"=\"*80,'\\n')\n",
    "\n",
    "# vytvoří ndarray s random čísly s rozsahem mezi 0 a 1\n",
    "# pokud byste chtěli jiný rozsah, použijte google.\n",
    "# např. se může hodit https://docs.scipy.org/doc/numpy-1.16.0/reference/generated/numpy.random.uniform.html\n",
    "print(np.random.random((2, 3))) \n",
    "print(\"=\"*80,'\\n')\n",
    "\n",
    "# vytvoří ndarray s jedničkami na diagonále. Podívejte se na parametr k\n",
    "print(np.eye(3, 4)) "
   ]
  },
  {
   "cell_type": "markdown",
   "metadata": {},
   "source": [
    "Pokud pracujeme s maticemi (odpovídající `ndarray` by bylo dvourozměrné), tak pro ulehčení práce může být výhodné je převést je na `np.matrix`.\n",
    "\n",
    "V takovou chvíli je malinko snazší zápis maticových operací (s `ndarray` to ale lze udělat vše také).\n",
    "\n",
    "Pozor, že NumPy matice `matrix` jsou striktně 2-dimenzionální!"
   ]
  },
  {
   "cell_type": "code",
   "execution_count": 5,
   "metadata": {},
   "outputs": [
    {
     "name": "stdout",
     "output_type": "stream",
     "text": [
      "[[1 2]\n",
      " [3 4]]\n",
      "<class 'numpy.matrix'> int64\n",
      "================================================================================ \n",
      "\n",
      "Násobení číslem\n",
      "[[ 8 16]\n",
      " [24 32]]\n",
      "[[ 8 16]\n",
      " [24 32]]\n"
     ]
    }
   ],
   "source": [
    "# Normální numpy array\n",
    "a1 = np.array([[1,2],[3,4]])\n",
    "a2 = np.array([[2,3],[4,5]])\n",
    "\n",
    "# NumPy matrix\n",
    "m1 = np.matrix(a1)\n",
    "m2 = np.matrix([[2,3],[4,5]])\n",
    "\n",
    "print(m1)\n",
    "print(type(m1), m1.dtype)\n",
    "print(\"=\"*80, '\\n')\n",
    "\n",
    "# nasobeni skalarem je stejné u ndarray i u matrix\n",
    "print('Násobení číslem')\n",
    "print(a1 * 8)\n",
    "print(m1 * 8)"
   ]
  },
  {
   "cell_type": "markdown",
   "metadata": {},
   "source": [
    "U maticových operací již budou rozdíly.\n",
    "\n",
    "**Operátor * se u `matrix` chová jako maticové násobení, u `ndarray` je to násobení po složkách!**"
   ]
  },
  {
   "cell_type": "code",
   "execution_count": 6,
   "metadata": {},
   "outputs": [
    {
     "name": "stdout",
     "output_type": "stream",
     "text": [
      "Násobení matic pomocí *\n",
      "[[10 13]\n",
      " [22 29]]\n",
      "Násobení v ndarray po prvcích pomocí *\n",
      "[[ 2  6]\n",
      " [12 20]]\n",
      "================================================================================ \n",
      "\n",
      "Maticové násobení v ndarray pomocí @\n",
      "[[10 13]\n",
      " [22 29]]\n",
      "================================================================================ \n",
      "\n",
      "Maticové násobení pomocí @ funguje i u matrix\n",
      "[[10 13]\n",
      " [22 29]]\n",
      "================================================================================ \n",
      "\n"
     ]
    }
   ],
   "source": [
    "a1 = np.array([[1,2],[3,4]])\n",
    "a2 = np.array([[2,3],[4,5]])\n",
    "# nasobeni matic u np.matrix\n",
    "print('Násobení matic pomocí *')\n",
    "print(m1*m2)\n",
    "\n",
    "# obyčejné násobení prvek krát prvek u ndarray\n",
    "print('Násobení v ndarray po prvcích pomocí *')\n",
    "print(a1*a2)\n",
    "print(\"=\"*80, '\\n')\n",
    "\n",
    "# maticové násobení u ndarray\n",
    "print('Maticové násobení v ndarray pomocí @')\n",
    "print(a1@a2)\n",
    "print(\"=\"*80, '\\n')\n",
    "\n",
    "# taktéž funguje pro np.matrix\n",
    "print('Maticové násobení pomocí @ funguje i u matrix')\n",
    "print(m1@m2)\n",
    "print(\"=\"*80, '\\n')"
   ]
  },
  {
   "cell_type": "markdown",
   "metadata": {},
   "source": [
    "- Funkce maticového násobení, která funguje vždy je v numpy ve funkci `np.dot`. \n",
    "- Funkce násobení po složkách je ve funkci `np.multiply`."
   ]
  },
  {
   "cell_type": "code",
   "execution_count": 7,
   "metadata": {},
   "outputs": [
    {
     "name": "stdout",
     "output_type": "stream",
     "text": [
      "Pro maticové násobení lze použít funkci np.dot\n",
      "[[10 13]\n",
      " [22 29]]\n",
      "[[10 13]\n",
      " [22 29]]\n",
      "================================================================================ \n",
      "\n",
      "Pro maticové násobení lze použít funkci np.multiply\n",
      "[[ 2  6]\n",
      " [12 20]]\n",
      "[[ 2  6]\n",
      " [12 20]]\n"
     ]
    }
   ],
   "source": [
    "# případně se dá násobit přes\n",
    "print('Pro maticové násobení lze použít funkci np.dot')\n",
    "print(np.dot(a1, a2))\n",
    "print(np.dot(m1, m2))\n",
    "print(\"=\"*80, '\\n')\n",
    "\n",
    "# případně se dá násobit přes\n",
    "print('Pro maticové násobení lze použít funkci np.multiply')\n",
    "print(np.multiply(a1, a2))\n",
    "print(np.multiply(m1, m2))"
   ]
  },
  {
   "cell_type": "markdown",
   "metadata": {},
   "source": [
    "Matice a ndarray se dají snadno transponovat."
   ]
  },
  {
   "cell_type": "code",
   "execution_count": 8,
   "metadata": {},
   "outputs": [
    {
     "name": "stdout",
     "output_type": "stream",
     "text": [
      "Originální:\n",
      " [[1 2]\n",
      " [3 4]]\n",
      "Transponované (.T):\n",
      " [[1 3]\n",
      " [2 4]]\n",
      "Transponované (.transpose()):\n",
      " [[1 3]\n",
      " [2 4]]\n",
      "Transponované (np.transpose()):\n",
      " [[1 3]\n",
      " [2 4]]\n",
      "================================================================================ \n",
      "\n",
      "Transponované (matrix, .T):\n",
      " [[1 3]\n",
      " [2 4]]\n",
      "Transponované (matrix, .transpose()):\n",
      " [[1 3]\n",
      " [2 4]]\n",
      "Transponované (matrix, np.transpose()):\n",
      " [[1 3]\n",
      " [2 4]]\n"
     ]
    }
   ],
   "source": [
    "print(\"Originální:\\n\", a1)\n",
    "print(\"Transponované (.T):\\n\", a1.T)\n",
    "print(\"Transponované (.transpose()):\\n\", a1.transpose())\n",
    "print(\"Transponované (np.transpose()):\\n\", np.transpose(a1))\n",
    "print(\"=\"*80, '\\n')\n",
    "\n",
    "print(\"Transponované (matrix, .T):\\n\", m1.T)\n",
    "print(\"Transponované (matrix, .transpose()):\\n\", m1.transpose())\n",
    "print(\"Transponované (matrix, np.transpose()):\\n\", np.transpose(m1))"
   ]
  },
  {
   "cell_type": "markdown",
   "metadata": {},
   "source": [
    "Pro zjisštění velikosti v numpy existuje několik funkcí."
   ]
  },
  {
   "cell_type": "code",
   "execution_count": 9,
   "metadata": {},
   "outputs": [
    {
     "name": "stdout",
     "output_type": "stream",
     "text": [
      "[[[0.66002142 0.92809224 0.02388149]\n",
      "  [0.30919325 0.99670424 0.01918391]]\n",
      "\n",
      " [[0.33596839 0.69804446 0.00696526]\n",
      "  [0.18480759 0.84227733 0.62412788]]] \n",
      "\n",
      "Shape (2, 2, 3)\n",
      "ndim 3\n",
      "size 12\n"
     ]
    }
   ],
   "source": [
    "# rozměry (shape), dimenzi (ndim) a velikost (size)\n",
    "a3 = np.random.random((2,2,3))\n",
    "\n",
    "print(a3, '\\n')\n",
    "\n",
    "print('Shape', a3.shape)\n",
    "print('ndim', a3.ndim)  \n",
    "print('size', a3.size)"
   ]
  },
  {
   "cell_type": "markdown",
   "metadata": {},
   "source": [
    "V numpy funguje dle očekávání slicing a indexing."
   ]
  },
  {
   "cell_type": "code",
   "execution_count": 10,
   "metadata": {},
   "outputs": [
    {
     "name": "stdout",
     "output_type": "stream",
     "text": [
      "(3, 4)\n",
      "================================================================================ \n",
      "\n",
      "[[0.183606   0.01876206 0.24502071 0.76386934]\n",
      " [0.19751392 0.04078887 0.12750112 0.77792954]\n",
      " [0.79771417 0.53233805 0.90691412 0.14979029]]\n",
      "================================================================================ \n",
      "\n",
      "[[0.12750112 0.77792954]\n",
      " [0.90691412 0.14979029]]\n",
      "================================================================================ \n",
      "\n",
      "[[0.183606   0.01876206 0.24502071]\n",
      " [0.19751392 0.04078887 0.12750112]\n",
      " [0.79771417 0.53233805 0.90691412]]\n"
     ]
    }
   ],
   "source": [
    "a5 = np.random.random((3,4))\n",
    "print(a5.shape)\n",
    "print(\"=\"*80, '\\n')\n",
    "print(a5)\n",
    "print(\"=\"*80, '\\n')\n",
    "print(a5[1:, 2:]) # od řádku 1 a dál, sloupce 2 a dál (indexujeme od nuly)\n",
    "print(\"=\"*80, '\\n')\n",
    "print(a5[:, :-1]) # všechny řádky, všechny sloupce kromě posledního"
   ]
  },
  {
   "cell_type": "markdown",
   "metadata": {},
   "source": [
    "Další dvě šikovné funkce jsou `flatten` a `ravel`, které _zplošťují_ pole."
   ]
  },
  {
   "cell_type": "code",
   "execution_count": 11,
   "metadata": {},
   "outputs": [
    {
     "name": "stdout",
     "output_type": "stream",
     "text": [
      "[[1 2]\n",
      " [3 4]\n",
      " [5 6]]\n",
      "(3, 2)\n",
      "================================================================================\n",
      "a4 flatten:\n",
      " [1 2 3 4 5 6]\n",
      "================================================================================\n",
      "a4 ravel:\n",
      " [1 2 3 4 5 6]\n",
      "================================================================================\n",
      "a4 se zmenilo:\n",
      " [[555   2]\n",
      " [  3   4]\n",
      " [  5   6]]\n",
      "f1 se nezmenilo:\n",
      " [1 2 3 4 5 6]\n",
      "r1 se zmenilo:\n",
      " [555   2   3   4   5   6]\n"
     ]
    }
   ],
   "source": [
    "a4 = np.array([[1,2],[3,4],[5,6]])\n",
    "\n",
    "print(a4)\n",
    "print(a4.shape)\n",
    "print(\"=\"*80)\n",
    "\n",
    "# flatten nam vytvori novy objekt a \"narovna\" nam ndarray jako 1D pole. Deep copy.\n",
    "f1 = a4.flatten()\n",
    "print(\"a4 flatten:\\n\", f1)\n",
    "print(\"=\"*80)\n",
    "\n",
    "# ravel nam novy objekt nevytvari, ale funguje jako shallow copy. Jinak funguje stejne jako flatten\n",
    "r1 = a4.ravel()\n",
    "print(\"a4 ravel:\\n\", r1)\n",
    "print(\"=\"*80)\n",
    "\n",
    "a4[0,0] = 555\n",
    "print(\"a4 se zmenilo:\\n\", a4)\n",
    "print(\"f1 se nezmenilo:\\n\", f1)\n",
    "print(\"r1 se zmenilo:\\n\", r1)"
   ]
  },
  {
   "cell_type": "markdown",
   "metadata": {},
   "source": [
    "Dále si ukažme `reshape`, které se může hodit při přípravě dat. Všimněte si užití -1."
   ]
  },
  {
   "cell_type": "code",
   "execution_count": 12,
   "metadata": {},
   "outputs": [
    {
     "name": "stdout",
     "output_type": "stream",
     "text": [
      "Originál: [555   2   3   4   5   6] \n",
      "\n",
      "Reshape (1, 6):\n",
      "[[555   2   3   4   5   6]] \n",
      "\n",
      "Reshape (2, 3):\n",
      "[[555   2   3]\n",
      " [  4   5   6]] \n",
      "\n",
      "Reshape (3, 2):\n",
      "[[555   2]\n",
      " [  3   4]\n",
      " [  5   6]] \n",
      "\n",
      "Reshape (6, 1):\n",
      "[[555]\n",
      " [  2]\n",
      " [  3]\n",
      " [  4]\n",
      " [  5]\n",
      " [  6]] \n",
      "\n",
      "Reshape (-1, 1):\n",
      "[[555]\n",
      " [  2]\n",
      " [  3]\n",
      " [  4]\n",
      " [  5]\n",
      " [  6]] \n",
      "\n",
      "Reshape (2, -1):\n",
      "[[555   2   3]\n",
      " [  4   5   6]] \n",
      "\n"
     ]
    }
   ],
   "source": [
    "# to se může hodit, když někdy s tím chcete pracovat jak n-dimenzionální pole a někdy jako 1D pole.\n",
    "# zpátky (nebo do jiného shape) si s tím můžete pohrát pomocí příkazu reshape (který dává smysl)\n",
    "print('Originál:', r1, '\\n')\n",
    "for r in [(1,6), (2,3), (3,2), (6,1), (-1,1), (2,-1)]:\n",
    "    print(f\"Reshape {r}:\")\n",
    "    print(r1.reshape(r),'\\n')\n"
   ]
  },
  {
   "cell_type": "markdown",
   "metadata": {},
   "source": [
    "Spojování polí můžeme dělat pomocí `np.concatenate`."
   ]
  },
  {
   "cell_type": "code",
   "execution_count": 13,
   "metadata": {},
   "outputs": [
    {
     "name": "stdout",
     "output_type": "stream",
     "text": [
      "a =  [[1 2]\n",
      " [3 4]\n",
      " [5 6]] \n",
      "\n",
      "b =  [[1.]\n",
      " [1.]\n",
      " [1.]] \n",
      "\n",
      "Vektor b přilepený za matici a:\n",
      "[[1. 2. 1.]\n",
      " [3. 4. 1.]\n",
      " [5. 6. 1.]] \n",
      "\n",
      "První 2 prvky vektoru b, transponovány a přilepeny pod matici a:\n",
      "[[1. 2.]\n",
      " [3. 4.]\n",
      " [5. 6.]\n",
      " [1. 1.]]\n"
     ]
    }
   ],
   "source": [
    "a = np.array([[1,2],[3,4],[5,6]])\n",
    "print('a = ', a,'\\n')\n",
    "\n",
    "b = np.ones((a.shape[0],1))\n",
    "print('b = ', b,'\\n')\n",
    "\n",
    "c = np.concatenate((a,b), axis = 1)\n",
    "print('Vektor b přilepený za matici a:')\n",
    "print(c,'\\n')\n",
    "\n",
    "c = np.concatenate((a,b[:2].T), axis = 0)\n",
    "print('První 2 prvky vektoru b, transponovány a přilepeny pod matici a:')\n",
    "print(c)"
   ]
  },
  {
   "cell_type": "markdown",
   "metadata": {},
   "source": [
    "## Lineární regrese\n",
    "\n",
    "Pojďme se nyní konečně věnovat modelu lineární regrese. Nejprve si načteme další potřebné knihovny."
   ]
  },
  {
   "cell_type": "code",
   "execution_count": 14,
   "metadata": {},
   "outputs": [],
   "source": [
    "import pandas as pd\n",
    "\n",
    "from sklearn.model_selection import train_test_split\n",
    "\n",
    "import matplotlib.pyplot as plt\n",
    "import matplotlib\n",
    "%matplotlib inline\n",
    "\n",
    "# nastavení počtu vypisovaných cifer z numpy\n",
    "np.set_printoptions(precision=5, suppress=True)  # suppress scientific float notation (so 0.000 is printed as 0.)"
   ]
  },
  {
   "cell_type": "markdown",
   "metadata": {},
   "source": [
    "### Dataset\n",
    "\n",
    "Využijeme data ze serveru Kaggle o cenách domů v oblasti Bostonu v USA [více info zde](https://www.kaggle.com/c/boston-housing).\n",
    "\n",
    "Data jsou již vyčištěná. Proměnná, kterou chceme predikovat je `medv`."
   ]
  },
  {
   "cell_type": "code",
   "execution_count": 15,
   "metadata": {},
   "outputs": [
    {
     "name": "stdout",
     "output_type": "stream",
     "text": [
      "Shape (333, 15)\n"
     ]
    },
    {
     "data": {
      "text/html": [
       "<div>\n",
       "<style scoped>\n",
       "    .dataframe tbody tr th:only-of-type {\n",
       "        vertical-align: middle;\n",
       "    }\n",
       "\n",
       "    .dataframe tbody tr th {\n",
       "        vertical-align: top;\n",
       "    }\n",
       "\n",
       "    .dataframe thead th {\n",
       "        text-align: right;\n",
       "    }\n",
       "</style>\n",
       "<table border=\"1\" class=\"dataframe\">\n",
       "  <thead>\n",
       "    <tr style=\"text-align: right;\">\n",
       "      <th></th>\n",
       "      <th>ID</th>\n",
       "      <th>crim</th>\n",
       "      <th>zn</th>\n",
       "      <th>indus</th>\n",
       "      <th>chas</th>\n",
       "      <th>nox</th>\n",
       "      <th>rm</th>\n",
       "      <th>age</th>\n",
       "      <th>dis</th>\n",
       "      <th>rad</th>\n",
       "      <th>tax</th>\n",
       "      <th>ptratio</th>\n",
       "      <th>black</th>\n",
       "      <th>lstat</th>\n",
       "      <th>medv</th>\n",
       "    </tr>\n",
       "  </thead>\n",
       "  <tbody>\n",
       "    <tr>\n",
       "      <th>0</th>\n",
       "      <td>1</td>\n",
       "      <td>0.00632</td>\n",
       "      <td>18.0</td>\n",
       "      <td>2.31</td>\n",
       "      <td>0</td>\n",
       "      <td>0.538</td>\n",
       "      <td>6.575</td>\n",
       "      <td>65.2</td>\n",
       "      <td>4.0900</td>\n",
       "      <td>1</td>\n",
       "      <td>296</td>\n",
       "      <td>15.3</td>\n",
       "      <td>396.90</td>\n",
       "      <td>4.98</td>\n",
       "      <td>24.0</td>\n",
       "    </tr>\n",
       "    <tr>\n",
       "      <th>1</th>\n",
       "      <td>2</td>\n",
       "      <td>0.02731</td>\n",
       "      <td>0.0</td>\n",
       "      <td>7.07</td>\n",
       "      <td>0</td>\n",
       "      <td>0.469</td>\n",
       "      <td>6.421</td>\n",
       "      <td>78.9</td>\n",
       "      <td>4.9671</td>\n",
       "      <td>2</td>\n",
       "      <td>242</td>\n",
       "      <td>17.8</td>\n",
       "      <td>396.90</td>\n",
       "      <td>9.14</td>\n",
       "      <td>21.6</td>\n",
       "    </tr>\n",
       "    <tr>\n",
       "      <th>2</th>\n",
       "      <td>4</td>\n",
       "      <td>0.03237</td>\n",
       "      <td>0.0</td>\n",
       "      <td>2.18</td>\n",
       "      <td>0</td>\n",
       "      <td>0.458</td>\n",
       "      <td>6.998</td>\n",
       "      <td>45.8</td>\n",
       "      <td>6.0622</td>\n",
       "      <td>3</td>\n",
       "      <td>222</td>\n",
       "      <td>18.7</td>\n",
       "      <td>394.63</td>\n",
       "      <td>2.94</td>\n",
       "      <td>33.4</td>\n",
       "    </tr>\n",
       "    <tr>\n",
       "      <th>3</th>\n",
       "      <td>5</td>\n",
       "      <td>0.06905</td>\n",
       "      <td>0.0</td>\n",
       "      <td>2.18</td>\n",
       "      <td>0</td>\n",
       "      <td>0.458</td>\n",
       "      <td>7.147</td>\n",
       "      <td>54.2</td>\n",
       "      <td>6.0622</td>\n",
       "      <td>3</td>\n",
       "      <td>222</td>\n",
       "      <td>18.7</td>\n",
       "      <td>396.90</td>\n",
       "      <td>5.33</td>\n",
       "      <td>36.2</td>\n",
       "    </tr>\n",
       "    <tr>\n",
       "      <th>4</th>\n",
       "      <td>7</td>\n",
       "      <td>0.08829</td>\n",
       "      <td>12.5</td>\n",
       "      <td>7.87</td>\n",
       "      <td>0</td>\n",
       "      <td>0.524</td>\n",
       "      <td>6.012</td>\n",
       "      <td>66.6</td>\n",
       "      <td>5.5605</td>\n",
       "      <td>5</td>\n",
       "      <td>311</td>\n",
       "      <td>15.2</td>\n",
       "      <td>395.60</td>\n",
       "      <td>12.43</td>\n",
       "      <td>22.9</td>\n",
       "    </tr>\n",
       "  </tbody>\n",
       "</table>\n",
       "</div>"
      ],
      "text/plain": [
       "   ID     crim    zn  indus  chas    nox     rm   age     dis  rad  tax  \\\n",
       "0   1  0.00632  18.0   2.31     0  0.538  6.575  65.2  4.0900    1  296   \n",
       "1   2  0.02731   0.0   7.07     0  0.469  6.421  78.9  4.9671    2  242   \n",
       "2   4  0.03237   0.0   2.18     0  0.458  6.998  45.8  6.0622    3  222   \n",
       "3   5  0.06905   0.0   2.18     0  0.458  7.147  54.2  6.0622    3  222   \n",
       "4   7  0.08829  12.5   7.87     0  0.524  6.012  66.6  5.5605    5  311   \n",
       "\n",
       "   ptratio   black  lstat  medv  \n",
       "0     15.3  396.90   4.98  24.0  \n",
       "1     17.8  396.90   9.14  21.6  \n",
       "2     18.7  394.63   2.94  33.4  \n",
       "3     18.7  396.90   5.33  36.2  \n",
       "4     15.2  395.60  12.43  22.9  "
      ]
     },
     "execution_count": 15,
     "metadata": {},
     "output_type": "execute_result"
    }
   ],
   "source": [
    "df = pd.read_csv('boston.csv')\n",
    "print('Shape', df.shape)\n",
    "df.head()"
   ]
  },
  {
   "cell_type": "markdown",
   "metadata": {},
   "source": [
    "### Příprava trénovací a validační množiny\n",
    "\n",
    "Opět použijeme [train_test_split](https://scikit-learn.org/stable/modules/generated/sklearn.model_selection.train_test_split.html) ze `scikit-learn`.\n",
    "\n",
    "Testovací množinu nebudeme vytvářet, protože nás nyní finální chyba modelu nebude zajímat."
   ]
  },
  {
   "cell_type": "code",
   "execution_count": 16,
   "metadata": {},
   "outputs": [
    {
     "name": "stdout",
     "output_type": "stream",
     "text": [
      "Train rozměry, X: (199, 14), y: (199,)\n",
      "Val rozměry, X: (93, 14), y: (93,)\n",
      "Test rozměry, X: (41, 14), y: (41,)\n"
     ]
    }
   ],
   "source": [
    "random_seed = 42\n",
    "\n",
    "Xtrain, Xval, ytrain, yval = train_test_split(df.drop(columns = ['medv']), df['medv'], test_size=0.4, random_state=random_seed)\n",
    "Xval, Xtest, yval, ytest = train_test_split(Xval, yval, test_size=0.3, random_state=random_seed)\n",
    "\n",
    "print(f\"Train rozměry, X: {Xtrain.shape}, y: {ytrain.shape}\")\n",
    "print(f\"Val rozměry, X: {Xval.shape}, y: {yval.shape}\")\n",
    "print(f\"Test rozměry, X: {Xtest.shape}, y: {ytest.shape}\")"
   ]
  },
  {
   "cell_type": "markdown",
   "metadata": {},
   "source": [
    "## Úkol - proveďte metodu nejmenších čtverců ručně\n",
    "\n",
    "Používejte pouze maticové operace v [numpy.linalg](https://numpy.org/doc/stable/reference/routines.linalg.html).\n",
    "\n",
    "* Vypočtěte odhad $\\hat{\\boldsymbol w}_{OLS} = (\\mathbf{X}^T \\mathbf X)^{-1} \\mathbf X^T \\boldsymbol Y$, uložte ho do proměnné `w_hat` a vypište jednotlivé koeficienty. Který z nich je intercept? \n",
    "* Spočtěte hodnotu $\\text{RSS}(\\hat{\\boldsymbol w}_{OLS}) = \\lVert \\boldsymbol Y - \\mathbf X \\boldsymbol w \\rVert^2$.\n",
    "* Nakreslete scatter plot hodnot $Y_i$ a $\\hat Y_i$ pro validační množinu.\n",
    "* Pro validační data proveďte predikce $\\hat Y_i$ a porovnejte je se skutečnými hodnotami $Y_i$.\n",
    "Jako míru porovnání použijte RMSE - root mean squared error definovanou pomocí vztahu $\\text{RMSE} = \\sqrt{\\sum_{i}(Y_i - \\hat Y_i)^2}$. Opět použijeme implementaci [sklearn.metrics.mean_squared_error](https://scikit-learn.org/stable/modules/generated/sklearn.metrics.mean_squared_error.html#sklearn.metrics.mean_squared_error)\n"
   ]
  },
  {
   "cell_type": "code",
   "execution_count": 17,
   "metadata": {},
   "outputs": [
    {
     "name": "stdout",
     "output_type": "stream",
     "text": [
      "w_hat =  [[ 36.59171  -0.0056   -0.06179   0.06238  -0.07662   5.65933 -10.94482\n",
      "    3.43289  -0.01942  -1.85337   0.42811  -0.01343  -0.68126   0.00739\n",
      "   -0.65277]]\n",
      "\n",
      "Ověření normální rovnice:  [[0. 0. 0. 0. 0. 0. 0. 0. 0. 0. 0. 0. 0. 0. 0.]]\n",
      "\n",
      "Intercept, w_0 =  [[36.59171]]\n",
      "Ostatní koeficienty:  [[ -0.0056   -0.06179   0.06238  -0.07662   5.65933 -10.94482   3.43289\n",
      "   -0.01942  -1.85337   0.42811  -0.01343  -0.68126   0.00739  -0.65277]]\n",
      "\n",
      "RSS =  4944.209853119575\n",
      "RSS spočítané napřímo =  [[4944.20985]]\n"
     ]
    },
    {
     "data": {
      "image/png": "[encoded data removed]",
      "text/plain": [
       "<Figure size 640x480 with 1 Axes>"
      ]
     },
     "metadata": {},
     "output_type": "display_data"
    },
    {
     "name": "stdout",
     "output_type": "stream",
     "text": [
      "RMSE: 4.475179618128924\n"
     ]
    }
   ],
   "source": [
    "# Váš kód zde\n",
    "\n",
    "# Matice X\n",
    "# - nejprve musíme přidat sloupec jedniček !!!\n",
    "XX = np.matrix(np.concatenate([np.ones((Xtrain.shape[0],1)),np.array(Xtrain)], axis = 1))\n",
    "\n",
    "# Vektor Y\n",
    "YY = np.matrix(ytrain).T\n",
    "\n",
    "# Odhad pomocí vzorečku\n",
    "w_hat = (XX.T*XX).I * XX.T*YY\n",
    "print('w_hat = ', w_hat.T)\n",
    "\n",
    "# Je řešením normální rovnice\n",
    "print('\\nOvěření normální rovnice: ',(XX.T*XX*w_hat - XX.T*YY).flatten())\n",
    "\n",
    "print('\\nIntercept, w_0 = ', w_hat[0])\n",
    "print('Ostatní koeficienty: ', w_hat[1:].flatten())\n",
    "\n",
    "# Hodnota RSS\n",
    "RSS = np.linalg.norm(YY - XX*w_hat)**2\n",
    "print('\\nRSS = ', RSS)\n",
    "print('RSS spočítané napřímo = ', (YY - XX*w_hat).T*(YY - XX*w_hat))\n",
    "\n",
    "# Matice X odpovídající validační množině\n",
    "XXv = np.matrix(np.concatenate([np.ones((Xval.shape[0],1)),np.array(Xval)], axis = 1))\n",
    "\n",
    "# Predikce pro validační množinu\n",
    "Yv_hat = XXv*w_hat\n",
    "Yv_h = np.array(Yv_hat).flatten()\n",
    "\n",
    "# scatter plot\n",
    "plt.scatter(yval, Yv_h)\n",
    "plt.plot([0,50], [0,50], 'r')\n",
    "plt.show()\n",
    "\n",
    "from sklearn.metrics import mean_squared_error\n",
    "RMSE = mean_squared_error(yval, Yv_h, squared = False)\n",
    "print('RMSE:', RMSE)"
   ]
  },
  {
   "cell_type": "markdown",
   "metadata": {},
   "source": [
    "## Úkol - zopakujte metodu nejmenších čtverců s využitím scikit-learn\n",
    "\n",
    "* Zopakujte postup z předchozího bodu s využitím třídy [LinearRegression](https://scikit-learn.org/stable/modules/generated/sklearn.linear_model.LinearRegression.html#sklearn.linear_model.LinearRegression) ze `scikit-learn`.\n",
    "* Porovnejte výsledky s předchozím manuálním přístupem."
   ]
  },
  {
   "cell_type": "code",
   "execution_count": 18,
   "metadata": {},
   "outputs": [
    {
     "name": "stdout",
     "output_type": "stream",
     "text": [
      "[ -0.0056   -0.06179   0.06238  -0.07662   5.65933 -10.94482   3.43289\n",
      "  -0.01942  -1.85337   0.42811  -0.01343  -0.68126   0.00739  -0.65277]\n",
      "36.59170748703169\n"
     ]
    },
    {
     "data": {
      "image/png": "[encoded data removed]",
      "text/plain": [
       "<Figure size 640x480 with 1 Axes>"
      ]
     },
     "metadata": {},
     "output_type": "display_data"
    },
    {
     "name": "stdout",
     "output_type": "stream",
     "text": [
      "RMSE: 4.4751796181289265\n"
     ]
    }
   ],
   "source": [
    "# Váš kód zde\n",
    "\n",
    "\n",
    "from sklearn.linear_model import LinearRegression\n",
    "clf = LinearRegression()\n",
    "clf.fit(Xtrain,ytrain)\n",
    "\n",
    "print(clf.coef_)\n",
    "print(clf.intercept_)\n",
    "\n",
    "Yth = clf.predict(Xval)\n",
    "plt.scatter(yval, Yth)\n",
    "plt.plot([0,50], [0,50], 'r')\n",
    "plt.show()\n",
    "\n",
    "print('RMSE:', np.sqrt(mean_squared_error(np.array(yval), Yth)))"
   ]
  },
  {
   "cell_type": "code",
   "execution_count": 19,
   "metadata": {},
   "outputs": [
    {
     "name": "stdout",
     "output_type": "stream",
     "text": [
      "Rozdíl koeficientů:\n",
      "[ 0. -0.  0.  0. -0.  0.  0. -0. -0.  0. -0.  0. -0. -0.] \n",
      "\n",
      "Rozdíl interceptů:\n",
      "-4.654054919228656e-12\n"
     ]
    }
   ],
   "source": [
    "print('Rozdíl koeficientů:')\n",
    "print(np.array(w_hat[1:]).flatten() - clf.coef_, '\\n')\n",
    "\n",
    "print('Rozdíl interceptů:')\n",
    "print(np.array(w_hat[0:])[0][0] - clf.intercept_)"
   ]
  },
  {
   "cell_type": "markdown",
   "metadata": {},
   "source": [
    "**Vidíme, že je výsledek stejný!**"
   ]
  },
  {
   "cell_type": "markdown",
   "metadata": {},
   "source": [
    "## Úkol - sledujte vliv lineárních transformací příznaků \n",
    "\n",
    "Nejprve si teoreticky ukažte, že lineární regrese je (teoreticky) invariantní vůči lineárním transformacím příznaků.\n",
    "\n",
    "Lineární transformací příznaku $X_i$ myslíme vytvoření nového příznaku $\\tilde X_i = a_i + b_i X_i$, kde $a_i$ a $b_i \\neq 0$ jsou nějaké konstanty.\n",
    "\n",
    "Jestliže pro každé $i = 1, \\dotsc, p$ označíme $a_i$ a $b_i$ koeficienty použité při transformaci $i$ tého příznaku, dokažte, že vztah pro přepočet odpovídajícího vektoru koeficientů $\\boldsymbol w$ je \n",
    "$$\n",
    "\\tilde{\\boldsymbol w} = \\begin{pmatrix}\n",
    "1&-\\frac{a_1}{b_1} & \\dotsi & -\\frac{a_p}{b_p}\\\\\n",
    "0 & \\frac{1}{b_1}& 0 & \\dotsi\\\\\n",
    "\\vdots & \\vdots & \\ddots  & \\vdots\\\\\n",
    "0 & \\dotsi & 0 & \\frac{1}{b_p}\n",
    "\\end{pmatrix}\n",
    "\\boldsymbol w.\n",
    "$$\n",
    "\n",
    "Odvoďte dále vztah \n",
    "$$\n",
    "\\tilde{\\mathbf{X}} = \n",
    "\\mathbf{X}\n",
    "\\begin{pmatrix}\n",
    "0 & 0 & 0 & \\dotsc\\\\\n",
    "0 & b_1 & 0 & \\dotsc\\\\\n",
    "\\vdots & \\vdots & \\ddots  & \\vdots\\\\\n",
    "\\dots & 0 & 0 & b_p\n",
    "\\end{pmatrix}\n",
    "+\n",
    "\\begin{pmatrix}\n",
    "1 & a_1 & \\dotsi & a_p\\\\\n",
    "1 & a_1 & \\dotsi & a_p\\\\\n",
    "\\vdots & \\vdots & \\ddots  & \\vdots\\\\\n",
    "1 & a_1 & \\dotsi & a_p\n",
    "\\end{pmatrix},\n",
    "$$\n",
    "kde $\\mathbf{X} \\in \\mathbb R^{N, p+1}$ je matice příznaků pro trénovací množinu a $\\tilde{\\mathbf{X}} \\in \\mathbb R^{N, p+1}$ je matice transformovaných příznaků pro trénovací množinu (v obou případech je první sloupec konstantně roven $1$).\n",
    "\n",
    "Nakonec ukažte $\\tilde{\\mathbf{X}} \\tilde{\\boldsymbol w} = \\mathbf{X} \\boldsymbol{w}$ a rozmyslete si, že z toho plyne, že pro každé $\\boldsymbol{w}$, které minimalizuje $\\text{RSS}_{\\mathbf{X}}(\\boldsymbol{w})$, odpovídající $\\tilde{\\boldsymbol w}$ minimalizuje $\\text{RSS}_{\\tilde{\\mathbf{X}}}(\\boldsymbol{w})$.\n",
    "\n",
    "Na aktuálním datasetu dále zkuste u vybraných příznaků provést lineární transformaci (můžete udělat třeba Standardizaci) a ověřte, že po natrénování dostanete vektor koeficientů stejný, jako výše odvozeným výpočtem s pomocí koeficientů z provedené lineární transformace."
   ]
  },
  {
   "cell_type": "code",
   "execution_count": 20,
   "metadata": {},
   "outputs": [
    {
     "data": {
      "text/html": [
       "<div>\n",
       "<style scoped>\n",
       "    .dataframe tbody tr th:only-of-type {\n",
       "        vertical-align: middle;\n",
       "    }\n",
       "\n",
       "    .dataframe tbody tr th {\n",
       "        vertical-align: top;\n",
       "    }\n",
       "\n",
       "    .dataframe thead th {\n",
       "        text-align: right;\n",
       "    }\n",
       "</style>\n",
       "<table border=\"1\" class=\"dataframe\">\n",
       "  <thead>\n",
       "    <tr style=\"text-align: right;\">\n",
       "      <th></th>\n",
       "      <th>b</th>\n",
       "      <th>Ib</th>\n",
       "      <th>a</th>\n",
       "    </tr>\n",
       "    <tr>\n",
       "      <th>0</th>\n",
       "      <th></th>\n",
       "      <th></th>\n",
       "      <th></th>\n",
       "    </tr>\n",
       "  </thead>\n",
       "  <tbody>\n",
       "    <tr>\n",
       "      <th>ID</th>\n",
       "      <td>0.006879</td>\n",
       "      <td>145.365013</td>\n",
       "      <td>-1.776502</td>\n",
       "    </tr>\n",
       "    <tr>\n",
       "      <th>crim</th>\n",
       "      <td>0.128132</td>\n",
       "      <td>7.804476</td>\n",
       "      <td>-0.452880</td>\n",
       "    </tr>\n",
       "    <tr>\n",
       "      <th>zn</th>\n",
       "      <td>0.039958</td>\n",
       "      <td>25.026155</td>\n",
       "      <td>-0.498473</td>\n",
       "    </tr>\n",
       "    <tr>\n",
       "      <th>indus</th>\n",
       "      <td>0.143883</td>\n",
       "      <td>6.950093</td>\n",
       "      <td>-1.585807</td>\n",
       "    </tr>\n",
       "    <tr>\n",
       "      <th>chas</th>\n",
       "      <td>4.376005</td>\n",
       "      <td>0.228519</td>\n",
       "      <td>-0.241890</td>\n",
       "    </tr>\n",
       "    <tr>\n",
       "      <th>nox</th>\n",
       "      <td>8.274083</td>\n",
       "      <td>0.120859</td>\n",
       "      <td>-4.598432</td>\n",
       "    </tr>\n",
       "    <tr>\n",
       "      <th>rm</th>\n",
       "      <td>1.452358</td>\n",
       "      <td>0.688535</td>\n",
       "      <td>-9.151740</td>\n",
       "    </tr>\n",
       "    <tr>\n",
       "      <th>age</th>\n",
       "      <td>0.034168</td>\n",
       "      <td>29.266937</td>\n",
       "      <td>-2.243549</td>\n",
       "    </tr>\n",
       "    <tr>\n",
       "      <th>dis</th>\n",
       "      <td>0.484210</td>\n",
       "      <td>2.065218</td>\n",
       "      <td>-1.833180</td>\n",
       "    </tr>\n",
       "    <tr>\n",
       "      <th>rad</th>\n",
       "      <td>0.111756</td>\n",
       "      <td>8.948077</td>\n",
       "      <td>-1.127106</td>\n",
       "    </tr>\n",
       "    <tr>\n",
       "      <th>tax</th>\n",
       "      <td>0.005754</td>\n",
       "      <td>173.777920</td>\n",
       "      <td>-2.369078</td>\n",
       "    </tr>\n",
       "    <tr>\n",
       "      <th>ptratio</th>\n",
       "      <td>0.481295</td>\n",
       "      <td>2.077729</td>\n",
       "      <td>-8.901532</td>\n",
       "    </tr>\n",
       "    <tr>\n",
       "      <th>black</th>\n",
       "      <td>0.011370</td>\n",
       "      <td>87.950721</td>\n",
       "      <td>-4.079501</td>\n",
       "    </tr>\n",
       "    <tr>\n",
       "      <th>lstat</th>\n",
       "      <td>0.138971</td>\n",
       "      <td>7.195725</td>\n",
       "      <td>-1.694997</td>\n",
       "    </tr>\n",
       "  </tbody>\n",
       "</table>\n",
       "</div>"
      ],
      "text/plain": [
       "                b          Ib         a\n",
       "0                                      \n",
       "ID       0.006879  145.365013 -1.776502\n",
       "crim     0.128132    7.804476 -0.452880\n",
       "zn       0.039958   25.026155 -0.498473\n",
       "indus    0.143883    6.950093 -1.585807\n",
       "chas     4.376005    0.228519 -0.241890\n",
       "nox      8.274083    0.120859 -4.598432\n",
       "rm       1.452358    0.688535 -9.151740\n",
       "age      0.034168   29.266937 -2.243549\n",
       "dis      0.484210    2.065218 -1.833180\n",
       "rad      0.111756    8.948077 -1.127106\n",
       "tax      0.005754  173.777920 -2.369078\n",
       "ptratio  0.481295    2.077729 -8.901532\n",
       "black    0.011370   87.950721 -4.079501\n",
       "lstat    0.138971    7.195725 -1.694997"
      ]
     },
     "metadata": {},
     "output_type": "display_data"
    },
    {
     "data": {
      "text/plain": [
       "23    -0.448576\n",
       "37    -0.451045\n",
       "246    0.606416\n",
       "67    -0.433832\n",
       "266    0.495792\n",
       "         ...   \n",
       "188   -0.445027\n",
       "71    -0.430944\n",
       "106   -0.280820\n",
       "270    2.870931\n",
       "102   -0.240617\n",
       "Name: crim, Length: 199, dtype: float64"
      ]
     },
     "metadata": {},
     "output_type": "display_data"
    },
    {
     "data": {
      "text/plain": [
       "23    -0.448576\n",
       "37    -0.451045\n",
       "246    0.606416\n",
       "67    -0.433832\n",
       "266    0.495792\n",
       "         ...   \n",
       "188   -0.445027\n",
       "71    -0.430944\n",
       "106   -0.280820\n",
       "270    2.870931\n",
       "102   -0.240617\n",
       "Name: crim, Length: 199, dtype: float64"
      ]
     },
     "metadata": {},
     "output_type": "display_data"
    },
    {
     "name": "stdout",
     "output_type": "stream",
     "text": [
      "\n",
      "Ručně spočtené parametry w_1,...,w_p:\n",
      "[-0.81462 -0.48225  1.56115 -0.53251  1.29326 -1.32278  2.36367 -0.56828\n",
      " -3.82762  3.83075 -2.33304 -1.41547  0.65023 -4.69718]\n",
      "Ručně spočtený intercept:  23.311557788944725\n",
      "\n",
      "Parametry w_1,...,w_p z LinearRegression:\n",
      "[-0.81462 -0.48225  1.56115 -0.53251  1.29326 -1.32278  2.36367 -0.56828\n",
      " -3.82762  3.83075 -2.33304 -1.41547  0.65023 -4.69718]\n",
      "Intercept z LinearRegression:  23.311557788944725\n"
     ]
    }
   ],
   "source": [
    "# Váš kód zde\n",
    "\n",
    "from sklearn.preprocessing import StandardScaler\n",
    "\n",
    "scaler = StandardScaler()\n",
    "scaler.fit(Xtrain)\n",
    "\n",
    "Xtiltrain = Xtrain.copy()\n",
    "Xtiltrain.loc[:,:] = scaler.transform(Xtrain)\n",
    "\n",
    "Xtilval = Xval.copy()\n",
    "Xtilval.loc[:,:] = scaler.transform(Xval)\n",
    "\n",
    "# zjistíme koeficienty a_i a b_i\n",
    "transf_coefs = pd.DataFrame(Xtrain.columns).set_index(0)\n",
    "transf_coefs[\"b\"] = np.power(scaler.scale_, -1)\n",
    "transf_coefs[\"Ib\"] = scaler.scale_\n",
    "transf_coefs[\"a\"] = - scaler.mean_/scaler.scale_\n",
    "\n",
    "display(transf_coefs)\n",
    "\n",
    "# Ověřme, že se jedná opravdu o ty koeficienty lineární transformace\n",
    "display(Xtrain[\"crim\"] * transf_coefs.loc['crim','b'] + transf_coefs.loc['crim','a'])\n",
    "display(Xtiltrain[\"crim\"])\n",
    "# - vidíme, že to je stejné!\n",
    "\n",
    "\n",
    "# vypočet tilde koeficientů\n",
    "coefsn = np.multiply(clf.coef_, transf_coefs.Ib.values)\n",
    "interceptn = clf.intercept_ - np.dot(clf.coef_,np.multiply(transf_coefs.Ib.values,transf_coefs.a.values))\n",
    "\n",
    "print('\\nRučně spočtené parametry w_1,...,w_p:')\n",
    "print(coefsn)\n",
    "print('Ručně spočtený intercept: ', interceptn)\n",
    "\n",
    "\n",
    "clf_std = LinearRegression()\n",
    "clf_std.fit(Xtiltrain,ytrain)\n",
    "\n",
    "print('\\nParametry w_1,...,w_p z LinearRegression:')\n",
    "print(clf_std.coef_)\n",
    "print('Intercept z LinearRegression: ', clf_std.intercept_)\n",
    "\n",
    "# - Vidíme, že jsou ty koeficienty w stejné!!!"
   ]
  },
  {
   "cell_type": "markdown",
   "metadata": {},
   "source": [
    "## Úkol - zkoumejte vliv lineární nezávislosti slopců matice Xtrain na model\n",
    "\n",
    "* Vytvořte nový příznak, který bude lineární kombinací ostatních (např. součtem _age_ a _tax_).\n",
    "  Tím vytvoříme problém kolinearity.\n",
    "* Podívejte se, jaký odhad $\\hat{\\boldsymbol w}$ vám vrátí `LinearRegression` ze `sklearn`.\n",
    "* Podívejte se, jaké je pro toto řešení RSS a jaké je RMSE na validační množině.\n",
    "* Ověřte, zda je tento vektor (když ho spojíte s interceptem) řešením normální rovnice $\\mathbf{X}^T\\mathbf X \\boldsymbol w - \\mathbf X^T \\boldsymbol Y = \\boldsymbol 0$.\n",
    "* Pokud ne, najděte alespoň jedno řešení s využitím `numpy.linalg.pinv`.\n",
    "* Podívejte se, jaké je pro toto řešení RSS a jaké je RMSE na validační množině.\n",
    "* Zkuste nalézt nějaké další řešení normální rovnice $\\hat{\\boldsymbol  w}^*$ (využijte `scipy.linalg.null_space`). Podívejte se jaké je pro toto řešení RSS a jaké je RMSE na validační množině."
   ]
  },
  {
   "cell_type": "code",
   "execution_count": 21,
   "metadata": {},
   "outputs": [
    {
     "name": "stdout",
     "output_type": "stream",
     "text": [
      "Parametry w_1,...,w_p z LinearRegression:\n",
      "[ -0.0056   -0.06179   0.06238  -0.07662   5.65933 -10.94482   3.43289\n",
      "  -0.00847  -1.85337   0.42811  -0.00248  -0.68126   0.00739  -0.65277\n",
      "  -0.01095]\n",
      "Intercept z LinearRegression:  36.59170748703115\n"
     ]
    },
    {
     "data": {
      "image/png": "[encoded data removed]",
      "text/plain": [
       "<Figure size 640x480 with 1 Axes>"
      ]
     },
     "metadata": {},
     "output_type": "display_data"
    },
    {
     "name": "stdout",
     "output_type": "stream",
     "text": [
      "\n",
      "val RMSE z LinearRegression: 4.475179618128922\n",
      "\n",
      "Normální rovnice pro řešení LinearRegression:\n",
      "[[ 0. -0.  0. -0. -0.  0. -0. -0.  0.  0.  0.  0. -0.  0.  0.  0.]]\n",
      "RSS z LinearRegression =  4944.209853119575\n",
      "\n",
      "Originální: RSS = 4944.209853119575, RMSE = 4.475179618128924\n",
      "\n",
      "Odhad w_0, w_1,...,w_p s pomocí pseudoinverze:\n",
      "[[ 36.59171  -0.0056   -0.06179   0.06238  -0.07662   5.65933 -10.94482\n",
      "    3.43289  -0.00847  -1.85337   0.42811  -0.00248  -0.68126   0.00739\n",
      "   -0.65277  -0.01095]]\n",
      "\n",
      "Normální rovnice pro řešení pomocí pseudoinverze:\n",
      "[[ 0. -0. -0. -0. -0. -0.  0. -0. -0. -0. -0. -0. -0. -0. -0. -0.]]\n",
      "RSS z pseudoinverze =  4944.209853119573\n",
      "\n",
      "Rozdíl v koeficientech:\n",
      "[[ 0.  0. -0. -0.  0. -0. -0. -0.  0. -0.  0.  0. -0. -0. -0. -0.]]\n"
     ]
    },
    {
     "data": {
      "image/png": "[encoded data removed]",
      "text/plain": [
       "<Figure size 640x480 with 1 Axes>"
      ]
     },
     "metadata": {},
     "output_type": "display_data"
    },
    {
     "name": "stdout",
     "output_type": "stream",
     "text": [
      "RMSE z pseudoinverze: 4.475179618136975\n"
     ]
    }
   ],
   "source": [
    "# Váš kód zde\n",
    "\n",
    "Xtrain_new = Xtrain.copy()\n",
    "Xtrain_new[\"new\"] = Xtrain_new[\"age\"] + Xtrain_new[\"tax\"]\n",
    "Xval_new = Xval.copy()\n",
    "Xval_new[\"new\"] = Xval_new[\"age\"] + Xval_new[\"tax\"]\n",
    "Xtest_new = Xtest.copy()\n",
    "Xtest_new[\"new\"] = Xtest_new[\"age\"] + Xtest_new[\"tax\"]\n",
    "\n",
    "# Xtrain_new.head(15)\n",
    "\n",
    "# Nejdříve zkusíme knihovnu\n",
    "clf_new = LinearRegression()\n",
    "clf_new.fit(Xtrain_new,ytrain)\n",
    "\n",
    "print('Parametry w_1,...,w_p z LinearRegression:')\n",
    "print(clf_new.coef_)\n",
    "print('Intercept z LinearRegression: ', clf_new.intercept_)\n",
    "\n",
    "# Uložíme si vektor parametrů z LinearRegression\n",
    "wn_hat2 = np.zeros((Xtrain_new.shape[1]+1,))\n",
    "wn_hat2[0] = clf_new.intercept_\n",
    "wn_hat2[1:] = clf_new.coef_\n",
    "wn_hat2 = np.matrix(wn_hat2.reshape(-1,1))\n",
    "\n",
    "# Predikujeme z LinearRegression a nakreslíme scatter plot\n",
    "Ytnewh = clf_new.predict(Xval_new)\n",
    "plt.scatter(yval, Ytnewh)\n",
    "plt.plot([0,50], [0,50], 'r')\n",
    "plt.show()\n",
    "print('\\nval RMSE z LinearRegression:', np.sqrt(mean_squared_error(np.array(yval), Ytnewh)))\n",
    "\n",
    "# Evidentně je to trochu horší než hodnota RMSE před tím!\n",
    "# Zkusme to ručně\n",
    "# Matice X\n",
    "XXn = np.matrix(np.concatenate([np.ones((Xtrain_new.shape[0],1)),np.array(Xtrain_new)], axis = 1))\n",
    "# Vektor Y\n",
    "YY = np.matrix(ytrain).T\n",
    "\n",
    "\n",
    "# Ověření splnění normální rovnice pro řešení z LinearRegression\n",
    "print('\\nNormální rovnice pro řešení LinearRegression:')\n",
    "print((XXn.T*XXn*wn_hat2 - XXn.T*YY).flatten())\n",
    "# To normální rovnici nesplní!!\n",
    "\n",
    "# zkusíme RSS pro LinearRegression\n",
    "RSSn2 = np.linalg.norm(YY - XXn*wn_hat2)**2\n",
    "print('RSS z LinearRegression = ', RSSn2)\n",
    "\n",
    "# Připomenutí orig RMSE a RSS\n",
    "print(f\"\\nOriginální: RSS = {RSS}, RMSE = {RMSE}\")\n",
    "\n",
    "# Teď použijeme pseudoinverzi!\n",
    "wn_hat = np.linalg.pinv(XXn.T*XXn) * XXn.T*YY\n",
    "print(\"\\nOdhad w_0, w_1,...,w_p s pomocí pseudoinverze:\")\n",
    "print(wn_hat.flatten())\n",
    "\n",
    "# Ověření splnění normální rovnice\n",
    "print('\\nNormální rovnice pro řešení pomocí pseudoinverze:')\n",
    "print((XXn.T*XXn*wn_hat - XXn.T*YY).flatten())\n",
    "# RSS\n",
    "RSSn = np.linalg.norm(YY - XXn*wn_hat)**2\n",
    "print('RSS z pseudoinverze = ', RSSn)\n",
    "# Vidíme, že to je stejné\n",
    "\n",
    "# Koukneme na rozdíl v koeficientech\n",
    "print(\"\\nRozdíl v koeficientech:\")\n",
    "print((wn_hat - wn_hat2).flatten())\n",
    "\n",
    "# Matice X odpovídající validační množině\n",
    "XXnv = np.matrix(np.concatenate([np.ones((Xval_new.shape[0],1)),np.array(Xval_new)], axis = 1))\n",
    "\n",
    "# Predikce pro validační množinu\n",
    "Ynv_hat = XXnv*wn_hat\n",
    "Ynv_h = np.array(Ynv_hat).flatten()\n",
    "\n",
    "# scatter plot\n",
    "plt.scatter(yval, Ynv_h)\n",
    "plt.plot([0,50], [0,50], 'r')\n",
    "plt.show()\n",
    "\n",
    "from sklearn.metrics import mean_squared_error\n",
    "print('RMSE z pseudoinverze:', mean_squared_error(yval, Ynv_h, squared = False))\n",
    "# Dostali jsme stejné RMSE jako před tím!!"
   ]
  },
  {
   "cell_type": "code",
   "execution_count": 27,
   "metadata": {},
   "outputs": [
    {
     "name": "stdout",
     "output_type": "stream",
     "text": [
      "Rozměry null space:  (16, 1)\n",
      "Vektor v null space:\n",
      "[[-0.      -0.       0.      -0.      -0.      -0.      -0.       0.\n",
      "   0.57735  0.      -0.       0.57735  0.       0.      -0.      -0.57735]]\n",
      "\n",
      "Normální rovnice pro nový vektor:\n",
      "[[ 0. -0.  0. -0.  0. -0. -0. -0. -0.  0.  0.  0. -0. -0. -0. -0.]]\n",
      "RSS pro nový vektor =  4944.20985311962\n"
     ]
    },
    {
     "data": {
      "text/plain": [
       "(93, 1)"
      ]
     },
     "metadata": {},
     "output_type": "display_data"
    },
    {
     "data": {
      "text/plain": [
       "'\\n-------'"
      ]
     },
     "metadata": {},
     "output_type": "display_data"
    },
    {
     "data": {
      "text/plain": [
       "(16, 1)"
      ]
     },
     "metadata": {},
     "output_type": "display_data"
    },
    {
     "data": {
      "text/plain": [
       "'\\n-------'"
      ]
     },
     "metadata": {},
     "output_type": "display_data"
    },
    {
     "data": {
      "text/plain": [
       "(93,)"
      ]
     },
     "metadata": {},
     "output_type": "display_data"
    },
    {
     "data": {
      "image/png": "[encoded data removed]",
      "text/plain": [
       "<Figure size 640x480 with 1 Axes>"
      ]
     },
     "metadata": {},
     "output_type": "display_data"
    },
    {
     "name": "stdout",
     "output_type": "stream",
     "text": [
      "RMSE pro nový vektor: 4.475179618136881\n"
     ]
    }
   ],
   "source": [
    "# Váš kód pro nalezení dalších řešení normální rovnice\n",
    "# Jedno řešení máme uložené ve wn_hat\n",
    "\n",
    "\n",
    "import scipy\n",
    "Z = scipy.linalg.null_space(XXnv)\n",
    "print(\"Rozměry null space: \", Z.shape)\n",
    "\n",
    "# vidíme, že máme právě jedno řešení\n",
    "delta_wn = np.matrix(Z)\n",
    "print(\"Vektor v null space:\")\n",
    "print(delta_wn.flatten())\n",
    "\n",
    "wn_new = wn_hat + 30*delta_wn\n",
    "# Ověření splnění normální rovnice\n",
    "print('\\nNormální rovnice pro nový vektor:')\n",
    "print((XXn.T*XXn*wn_new - XXn.T*YY).flatten())\n",
    "# RSS\n",
    "print('RSS pro nový vektor = ', np.linalg.norm(YY - XXn*wn_new)**2)\n",
    "# Predikce pro validační množinu\n",
    "Ynv_new = XXnv*wn_new\n",
    "Ynv_ne = np.array(Ynv_new).flatten()\n",
    "\n",
    "display(Ynv_new.shape,\"\\n-------\")\n",
    "display(wn_new.shape,\"\\n-------\")\n",
    "display(yval.shape)\n",
    "\n",
    "# scatter plot\n",
    "plt.scatter(yval, Ynv_ne)\n",
    "plt.plot([0,50], [0,50], 'r')\n",
    "plt.show()\n",
    "\n",
    "from sklearn.metrics import mean_squared_error\n",
    "print('RMSE pro nový vektor:', mean_squared_error(yval, Ynv_ne, squared = False))"
   ]
  },
  {
   "cell_type": "markdown",
   "metadata": {},
   "source": [
    "## Poučení! \n",
    "U lineární regrese se vyplatí zkoumat regularitu/kolinearitu. V případě, že jsou sloupce matice $\\mathbf X$ lineárně závislé, je potřeba být opatrný a nevěřit 100% cizím implementacím. V takovém případě je ideální pustit se do nějaké regularizace např. pomocí hřebenové regrese, kterou budeme dělat na příštím cvičení.\n",
    "\n",
    "**Zkuste nyní nastavit `random_seed = 1` při počátečním dělení na trénovací a validační množinu a spusťe znovu svůj kód!**"
   ]
  },
  {
   "cell_type": "code",
   "execution_count": null,
   "metadata": {},
   "outputs": [],
   "source": []
  }
 ],
 "metadata": {
  "kernelspec": {
   "display_name": "Python 3 (ipykernel)",
   "language": "python",
   "name": "python3"
  },
  "language_info": {
   "codemirror_mode": {
    "name": "ipython",
    "version": 3
   },
   "file_extension": ".py",
   "mimetype": "text/x-python",
   "name": "python",
   "nbconvert_exporter": "python",
   "pygments_lexer": "ipython3",
   "version": "3.8.2"
  }
 },
 "nbformat": 4,
 "nbformat_minor": 4
}
