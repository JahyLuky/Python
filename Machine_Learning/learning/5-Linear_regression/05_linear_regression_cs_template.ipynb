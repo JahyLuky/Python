{
 "cells": [
  {
   "cell_type": "markdown",
   "metadata": {},
   "source": [
    "# Cvičení 5 - Lineární regrese\n",
    "\n",
    "V tomto cvičení se budeme zabývat modelem lineární regrese."
   ]
  },
  {
   "cell_type": "markdown",
   "metadata": {},
   "source": [
    "## Stručný úvod do lineární algebry v numpy\n",
    "\n",
    "Než se pustíme do modelu lineární regrese, podívejme se na práci s poli, maticemi a vektory v [NumPy](https://numpy.org/).\n",
    "\n",
    "NumPy je efektivní knihovna pro práci s numerickými daty ve formě tenzorů (vícerozměrných polí). \n",
    "\n",
    "NumPy používá homogenní pole –⁠ všechny položky mají stejný datový typ a také má pevnou velikost. \n",
    "\n",
    "Několik užitečných odkazů:\n",
    "\n",
    "- Kompletní úvod do NumPy: https://towardsdatascience.com/the-ultimate-beginners-guide-to-numpy-f5a2f99aef54\n",
    "- Vizuální ukázka práce s NumPy: https://medium.com/@yp7121/a-visual-intro-to-numpy-2903458d25ea\n",
    "- Cheatsheet na jednotlivé funkce: https://pyvec.github.io/cheatsheets/numpy/numpy-cs.pdf\n",
    "\n",
    "NumPy se standardně importuje jako `np`, (ale neomezuje vás to od toho si tento alias pojmenovat, jak chcete)."
   ]
  },
  {
   "cell_type": "code",
   "execution_count": null,
   "metadata": {},
   "outputs": [],
   "source": [
    "import numpy as np"
   ]
  },
  {
   "cell_type": "markdown",
   "metadata": {},
   "source": [
    "### NumPy array\n",
    "\n",
    "NumPy pole, `ndarray`, je N-dimenzionální tensor. \n",
    "\n",
    "Nejjednodušší cesta, jak vytvořit ndarray je vytvořit ho z listu."
   ]
  },
  {
   "cell_type": "code",
   "execution_count": null,
   "metadata": {},
   "outputs": [],
   "source": [
    "# ndarray, n=1\n",
    "a = np.array([1, 2, 3])\n",
    "print(a)\n",
    "print(\"=\"*80,'\\n')\n",
    "\n",
    "# ndarray, n=2\n",
    "b = np.array([[1, 2], [5, 3], [4, 6]])\n",
    "print(b)\n",
    "print(type(b), b.dtype)\n",
    "print(\"=\"*80,'\\n')\n",
    "\n",
    "# můžeme také nastavit datový typ, pokud potřebujeme\n",
    "c = np.array(b, dtype=np.float64)\n",
    "print(c)\n",
    "print(type(b), b.dtype)"
   ]
  },
  {
   "cell_type": "markdown",
   "metadata": {},
   "source": [
    "Další možností je vytvoření `ndarray` speciálních typů (např. samé nuly, jednotkové matice, atd.). \n",
    "\n",
    "Argumentem následujících funkcí býva shape nového `ndarray`."
   ]
  },
  {
   "cell_type": "code",
   "execution_count": null,
   "metadata": {},
   "outputs": [],
   "source": [
    "# ndarray plné nul\n",
    "print(np.zeros((2, 3))) \n",
    "print(\"=\"*80,'\\n')\n",
    "\n",
    "# ndarray plné jedniček\n",
    "print(np.ones((2, 3))) \n",
    "print(\"=\"*80,'\\n')\n",
    "\n",
    "# ndarray plné logických true\n",
    "a = np.ones((2, 3), dtype = bool)\n",
    "print(a) \n",
    "print(a.dtype)\n",
    "print(\"=\"*80,'\\n')\n",
    "\n",
    "# vytvoří ndarray s random čísly s rozsahem mezi 0 a 1\n",
    "# pokud byste chtěli jiný rozsah, použijte google.\n",
    "# např. se může hodit https://docs.scipy.org/doc/numpy-1.16.0/reference/generated/numpy.random.uniform.html\n",
    "print(np.random.random((2, 3))) \n",
    "print(\"=\"*80,'\\n')\n",
    "\n",
    "# vytvoří ndarray s jedničkami na diagonále. Podívejte se na parametr k\n",
    "print(np.eye(3, 4)) "
   ]
  },
  {
   "cell_type": "markdown",
   "metadata": {},
   "source": [
    "Pokud pracujeme s maticemi (odpovídající `ndarray` by bylo dvourozměrné), tak pro ulehčení práce může být výhodné je převést je na `np.matrix`.\n",
    "\n",
    "V takovou chvíli je malinko snazší zápis maticových operací (s `ndarray` to ale lze udělat vše také).\n",
    "\n",
    "Pozor, že NumPy matice `matrix` jsou striktně 2-dimenzionální!"
   ]
  },
  {
   "cell_type": "code",
   "execution_count": null,
   "metadata": {},
   "outputs": [],
   "source": [
    "# Normální numpy array\n",
    "a1 = np.array([[1,2],[3,4]])\n",
    "a2 = np.array([[2,3],[4,5]])\n",
    "\n",
    "# NumPy matrix\n",
    "m1 = np.matrix(a1)\n",
    "m2 = np.matrix([[2,3],[4,5]])\n",
    "\n",
    "print(m1)\n",
    "print(type(m1), m1.dtype)\n",
    "print(\"=\"*80, '\\n')\n",
    "\n",
    "# nasobeni skalarem je stejné u ndarray i u matrix\n",
    "print('Násobení číslem')\n",
    "print(a1 * 8)\n",
    "print(m1 * 8)"
   ]
  },
  {
   "cell_type": "markdown",
   "metadata": {},
   "source": [
    "U maticových operací již budou rozdíly.\n",
    "\n",
    "**Operátor * se u `matrix` chová jako maticové násobení, u `ndarray` je to násobení po složkách!**"
   ]
  },
  {
   "cell_type": "code",
   "execution_count": null,
   "metadata": {},
   "outputs": [],
   "source": [
    "a1 = np.array([[1,2],[3,4]])\n",
    "a2 = np.array([[2,3],[4,5]])\n",
    "# nasobeni matic u np.matrix\n",
    "print('Násobení matic pomocí *')\n",
    "print(m1*m2)\n",
    "\n",
    "# obyčejné násobení prvek krát prvek u ndarray\n",
    "print('Násobení v ndarray po prvcích pomocí *')\n",
    "print(a1*a2)\n",
    "print(\"=\"*80, '\\n')\n",
    "\n",
    "# maticové násobení u ndarray\n",
    "print('Maticové násobení v ndarray pomocí @')\n",
    "print(a1@a2)\n",
    "print(\"=\"*80, '\\n')\n",
    "\n",
    "# taktéž funguje pro np.matrix\n",
    "print('Maticové násobení pomocí @ funguje i u matrix')\n",
    "print(m1@m2)\n",
    "print(\"=\"*80, '\\n')"
   ]
  },
  {
   "cell_type": "markdown",
   "metadata": {},
   "source": [
    "- Funkce maticového násobení, která funguje vždy je v numpy ve funkci `np.dot`. \n",
    "- Funkce násobení po složkách je ve funkci `np.multiply`."
   ]
  },
  {
   "cell_type": "code",
   "execution_count": null,
   "metadata": {},
   "outputs": [],
   "source": [
    "# případně se dá násobit přes\n",
    "print('Pro maticové násobení lze použít funkci np.dot')\n",
    "print(np.dot(a1, a2))\n",
    "print(np.dot(m1, m2))\n",
    "print(\"=\"*80, '\\n')\n",
    "\n",
    "# případně se dá násobit přes\n",
    "print('Pro maticové násobení lze použít funkci np.multiply')\n",
    "print(np.multiply(a1, a2))\n",
    "print(np.multiply(m1, m2))"
   ]
  },
  {
   "cell_type": "markdown",
   "metadata": {},
   "source": [
    "Matice a ndarray se dají snadno transponovat."
   ]
  },
  {
   "cell_type": "code",
   "execution_count": null,
   "metadata": {},
   "outputs": [],
   "source": [
    "print(\"Originální:\\n\", a1)\n",
    "print(\"Transponované (.T):\\n\", a1.T)\n",
    "print(\"Transponované (.transpose()):\\n\", a1.transpose())\n",
    "print(\"Transponované (np.transpose()):\\n\", np.transpose(a1))\n",
    "print(\"=\"*80, '\\n')\n",
    "\n",
    "print(\"Transponované (matrix, .T):\\n\", m1.T)\n",
    "print(\"Transponované (matrix, .transpose()):\\n\", m1.transpose())\n",
    "print(\"Transponované (matrix, np.transpose()):\\n\", np.transpose(m1))"
   ]
  },
  {
   "cell_type": "markdown",
   "metadata": {},
   "source": [
    "Pro zjisštění velikosti v numpy existuje několik funkcí."
   ]
  },
  {
   "cell_type": "code",
   "execution_count": null,
   "metadata": {},
   "outputs": [],
   "source": [
    "# rozměry (shape), dimenzi (ndim) a velikost (size)\n",
    "a3 = np.random.random((2,2,3))\n",
    "\n",
    "print(a3, '\\n')\n",
    "\n",
    "print('Shape', a3.shape)\n",
    "print('ndim', a3.ndim)  \n",
    "print('size', a3.size)"
   ]
  },
  {
   "cell_type": "markdown",
   "metadata": {},
   "source": [
    "V numpy funguje dle očekávání slicing a indexing."
   ]
  },
  {
   "cell_type": "code",
   "execution_count": null,
   "metadata": {},
   "outputs": [],
   "source": [
    "a5 = np.random.random((3,4))\n",
    "print(a5.shape)\n",
    "print(\"=\"*80, '\\n')\n",
    "print(a5)\n",
    "print(\"=\"*80, '\\n')\n",
    "print(a5[1:, 2:]) # od řádku 1 a dál, sloupce 2 a dál (indexujeme od nuly)\n",
    "print(\"=\"*80, '\\n')\n",
    "print(a5[:, :-1]) # všechny řádky, všechny sloupce kromě posledního"
   ]
  },
  {
   "cell_type": "markdown",
   "metadata": {},
   "source": [
    "Další dvě šikovné funkce jsou `flatten` a `ravel`, které _zplošťují_ pole."
   ]
  },
  {
   "cell_type": "code",
   "execution_count": null,
   "metadata": {},
   "outputs": [],
   "source": [
    "a4 = np.array([[1,2],[3,4],[5,6]])\n",
    "\n",
    "print(a4)\n",
    "print(a4.shape)\n",
    "print(\"=\"*80)\n",
    "\n",
    "# flatten nam vytvori novy objekt a \"narovna\" nam ndarray jako 1D pole. Deep copy.\n",
    "f1 = a4.flatten()\n",
    "print(\"a4 flatten:\\n\", f1)\n",
    "print(\"=\"*80)\n",
    "\n",
    "# ravel nam novy objekt nevytvari, ale funguje jako shallow copy. Jinak funguje stejne jako flatten\n",
    "r1 = a4.ravel()\n",
    "print(\"a4 ravel:\\n\", r1)\n",
    "print(\"=\"*80)\n",
    "\n",
    "a4[0,0] = 555\n",
    "print(\"a4 se zmenilo:\\n\", a4)\n",
    "print(\"f1 se nezmenilo:\\n\", f1)\n",
    "print(\"r1 se zmenilo:\\n\", r1)"
   ]
  },
  {
   "cell_type": "markdown",
   "metadata": {},
   "source": [
    "Dále si ukažme `reshape`, které se může hodit při přípravě dat. Všimněte si užití -1."
   ]
  },
  {
   "cell_type": "code",
   "execution_count": null,
   "metadata": {},
   "outputs": [],
   "source": [
    "# to se může hodit, když někdy s tím chcete pracovat jak n-dimenzionální pole a někdy jako 1D pole.\n",
    "# zpátky (nebo do jiného shape) si s tím můžete pohrát pomocí příkazu reshape (který dává smysl)\n",
    "print('Originál:', r1, '\\n')\n",
    "for r in [(1,6), (2,3), (3,2), (6,1), (-1,1), (2,-1)]:\n",
    "    print(f\"Reshape {r}:\")\n",
    "    print(r1.reshape(r),'\\n')\n"
   ]
  },
  {
   "cell_type": "markdown",
   "metadata": {},
   "source": [
    "Spojování polí můžeme dělat pomocí `np.concatenate`."
   ]
  },
  {
   "cell_type": "code",
   "execution_count": null,
   "metadata": {},
   "outputs": [],
   "source": [
    "a = np.array([[1,2],[3,4],[5,6]])\n",
    "print('a = ', a,'\\n')\n",
    "\n",
    "b = np.ones((a.shape[0],1))\n",
    "print('b = ', b,'\\n')\n",
    "\n",
    "c = np.concatenate((a,b), axis = 1)\n",
    "print('Vektor b přilepený za matici a:')\n",
    "print(c,'\\n')\n",
    "\n",
    "c = np.concatenate((a,b[:2].T), axis = 0)\n",
    "print('První 2 prvky vektoru b, transponovány a přilepeny pod matici a:')\n",
    "print(c)"
   ]
  },
  {
   "cell_type": "markdown",
   "metadata": {},
   "source": [
    "## Lineární regrese\n",
    "\n",
    "Pojďme se nyní konečně věnovat modelu lineární regrese. Nejprve si načteme další potřebné knihovny."
   ]
  },
  {
   "cell_type": "code",
   "execution_count": null,
   "metadata": {},
   "outputs": [],
   "source": [
    "import pandas as pd\n",
    "\n",
    "from sklearn.model_selection import train_test_split\n",
    "\n",
    "import matplotlib.pyplot as plt\n",
    "import matplotlib\n",
    "%matplotlib inline\n",
    "\n",
    "# nastavení počtu vypisovaných cifer z numpy\n",
    "np.set_printoptions(precision=5, suppress=True)  # suppress scientific float notation (so 0.000 is printed as 0.)"
   ]
  },
  {
   "cell_type": "markdown",
   "metadata": {},
   "source": [
    "### Dataset\n",
    "\n",
    "Využijeme data ze serveru Kaggle o cenách domů v oblasti Bostonu v USA [více info zde](https://www.kaggle.com/c/boston-housing).\n",
    "\n",
    "Data jsou již vyčištěná. Proměnná, kterou chceme predikovat je `medv`."
   ]
  },
  {
   "cell_type": "code",
   "execution_count": null,
   "metadata": {},
   "outputs": [],
   "source": [
    "df = pd.read_csv('boston.csv')\n",
    "print('Shape', df.shape)\n",
    "df.head()"
   ]
  },
  {
   "cell_type": "markdown",
   "metadata": {},
   "source": [
    "### Příprava trénovací a validační množiny\n",
    "\n",
    "Opět použijeme [train_test_split](https://scikit-learn.org/stable/modules/generated/sklearn.model_selection.train_test_split.html) ze `scikit-learn`.\n",
    "\n",
    "Testovací množinu nebudeme vytvářet, protože nás nyní finální chyba modelu nebude zajímat."
   ]
  },
  {
   "cell_type": "code",
   "execution_count": null,
   "metadata": {},
   "outputs": [],
   "source": [
    "random_seed = 42\n",
    "\n",
    "Xtrain, Xval, ytrain, yval = train_test_split(df.drop(columns = ['medv']), df['medv'], test_size=0.4, random_state=random_seed)\n",
    "Xval, Xtest, yval, ytest = train_test_split(Xval, yval, test_size=0.3, random_state=random_seed)\n",
    "\n",
    "print(f\"Train rozměry, X: {Xtrain.shape}, y: {ytrain.shape}\")\n",
    "print(f\"Val rozměry, X: {Xval.shape}, y: {yval.shape}\")\n",
    "print(f\"Test rozměry, X: {Xtest.shape}, y: {ytest.shape}\")"
   ]
  },
  {
   "cell_type": "markdown",
   "metadata": {},
   "source": [
    "## Úkol - proveďte metodu nejmenších čtverců ručně\n",
    "\n",
    "Používejte pouze maticové operace v [numpy.linalg](https://numpy.org/doc/stable/reference/routines.linalg.html).\n",
    "\n",
    "* Vypočtěte odhad $\\hat{\\boldsymbol w}_{OLS} = (\\mathbf{X}^T \\mathbf X)^{-1} \\mathbf X^T \\boldsymbol Y$, uložte ho do proměnné `w_hat` a vypište jednotlivé koeficienty. Který z nich je intercept? \n",
    "* Spočtěte hodnotu $\\text{RSS}(\\hat{\\boldsymbol w}_{OLS}) = \\lVert \\boldsymbol Y - \\mathbf X \\boldsymbol w \\rVert^2$.\n",
    "* Nakreslete scatter plot hodnot $Y_i$ a $\\hat Y_i$ pro validační množinu.\n",
    "* Pro validační data proveďte predikce $\\hat Y_i$ a porovnejte je se skutečnými hodnotami $Y_i$.\n",
    "Jako míru porovnání použijte RMSE - root mean squared error definovanou pomocí vztahu $\\text{RMSE} = \\sqrt{\\sum_{i}(Y_i - \\hat Y_i)^2}$. Opět použijeme implementaci [sklearn.metrics.mean_squared_error](https://scikit-learn.org/stable/modules/generated/sklearn.metrics.mean_squared_error.html#sklearn.metrics.mean_squared_error)\n"
   ]
  },
  {
   "cell_type": "code",
   "execution_count": null,
   "metadata": {},
   "outputs": [],
   "source": [
    "# Váš kód zde\n",
    "\n",
    "\n"
   ]
  },
  {
   "cell_type": "markdown",
   "metadata": {},
   "source": [
    "## Úkol - zopakujte metodu nejmenších čtverců s využitím scikit-learn\n",
    "\n",
    "* Zopakujte postup z předchozího bodu s využitím třídy [LinearRegression](https://scikit-learn.org/stable/modules/generated/sklearn.linear_model.LinearRegression.html#sklearn.linear_model.LinearRegression) ze `scikit-learn`.\n",
    "* Porovnejte výsledky s předchozím manuálním přístupem."
   ]
  },
  {
   "cell_type": "code",
   "execution_count": null,
   "metadata": {},
   "outputs": [],
   "source": [
    "# Váš kód zde\n",
    "\n",
    "clf = ...\n",
    "\n",
    "\n"
   ]
  },
  {
   "cell_type": "code",
   "execution_count": null,
   "metadata": {},
   "outputs": [],
   "source": [
    "print('Rozdíl koeficientů:')\n",
    "print(np.array(w_hat[1:]).flatten() - clf.coef_, '\\n')\n",
    "\n",
    "print('Rozdíl interceptů:')\n",
    "print(np.array(w_hat[0:])[0][0] - clf.intercept_)"
   ]
  },
  {
   "cell_type": "markdown",
   "metadata": {},
   "source": [
    "**Vidíme, že je výsledek stejný!**"
   ]
  },
  {
   "cell_type": "markdown",
   "metadata": {},
   "source": [
    "## Úkol - sledujte vliv lineárních transformací příznaků \n",
    "\n",
    "Nejprve si teoreticky ukažte, že lineární regrese je (teoreticky) invariantní vůči lineárním transformacím příznaků.\n",
    "\n",
    "Lineární transformací příznaku $X_i$ myslíme vytvoření nového příznaku $\\tilde X_i = a_i + b_i X_i$, kde $a_i$ a $b_i \\neq 0$ jsou nějaké konstanty.\n",
    "\n",
    "Jestliže pro každé $i = 1, \\dotsc, p$ označíme $a_i$ a $b_i$ koeficienty použité při transformaci $i$ tého příznaku, dokažte, že vztah pro přepočet odpovídajícího vektoru koeficientů $\\boldsymbol w$ je \n",
    "$$\n",
    "\\tilde{\\boldsymbol w} = \\begin{pmatrix}\n",
    "1&-\\frac{a_1}{b_1} & \\dotsi & -\\frac{a_p}{b_p}\\\\\n",
    "0 & \\frac{1}{b_1}& 0 & \\dotsi\\\\\n",
    "\\vdots & \\vdots & \\ddots  & \\vdots\\\\\n",
    "0 & \\dotsi & 0 & \\frac{1}{b_p}\n",
    "\\end{pmatrix}\n",
    "\\boldsymbol w.\n",
    "$$\n",
    "\n",
    "Odvoďte dále vztah \n",
    "$$\n",
    "\\tilde{\\mathbf{X}} = \n",
    "\\mathbf{X}\n",
    "\\begin{pmatrix}\n",
    "0 & 0 & 0 & \\dotsc\\\\\n",
    "0 & b_1 & 0 & \\dotsc\\\\\n",
    "\\vdots & \\vdots & \\ddots  & \\vdots\\\\\n",
    "\\dots & 0 & 0 & b_p\n",
    "\\end{pmatrix}\n",
    "+\n",
    "\\begin{pmatrix}\n",
    "1 & a_1 & \\dotsi & a_p\\\\\n",
    "1 & a_1 & \\dotsi & a_p\\\\\n",
    "\\vdots & \\vdots & \\ddots  & \\vdots\\\\\n",
    "1 & a_1 & \\dotsi & a_p\n",
    "\\end{pmatrix},\n",
    "$$\n",
    "kde $\\mathbf{X} \\in \\mathbb R^{N, p+1}$ je matice příznaků pro trénovací množinu a $\\tilde{\\mathbf{X}} \\in \\mathbb R^{N, p+1}$ je matice transformovaných příznaků pro trénovací množinu (v obou případech je první sloupec konstantně roven $1$).\n",
    "\n",
    "Nakonec ukažte $\\tilde{\\mathbf{X}} \\tilde{\\boldsymbol w} = \\mathbf{X} \\boldsymbol{w}$ a rozmyslete si, že z toho plyne, že pro každé $\\boldsymbol{w}$, které minimalizuje $\\text{RSS}_{\\mathbf{X}}(\\boldsymbol{w})$, odpovídající $\\tilde{\\boldsymbol w}$ minimalizuje $\\text{RSS}_{\\tilde{\\mathbf{X}}}(\\boldsymbol{w})$.\n",
    "\n",
    "Na aktuálním datasetu dále zkuste u vybraných příznaků provést lineární transformaci (můžete udělat třeba Standardizaci) a ověřte, že po natrénování dostanete vektor koeficientů stejný, jako výše odvozeným výpočtem s pomocí koeficientů z provedené lineární transformace."
   ]
  },
  {
   "cell_type": "code",
   "execution_count": null,
   "metadata": {},
   "outputs": [],
   "source": [
    "# Váš kód zde\n",
    "\n",
    "\n"
   ]
  },
  {
   "cell_type": "markdown",
   "metadata": {},
   "source": [
    "## Úkol - zkoumejte vliv lineární nezávislosti slopců matice Xtrain na model\n",
    "\n",
    "* Vytvořte nový příznak, který bude lineární kombinací ostatních (např. součtem _age_ a _tax_).\n",
    "  Tím vytvoříme problém kolinearity.\n",
    "* Podívejte se, jaký odhad $\\hat{\\boldsymbol w}$ vám vrátí `LinearRegression` ze `sklearn`.\n",
    "* Podívejte se, jaké je pro toto řešení RSS a jaké je RMSE na validační množině.\n",
    "* Ověřte, zda je tento vektor (když ho spojíte s interceptem) řešením normální rovnice $\\mathbf{X}^T\\mathbf X \\boldsymbol w - \\mathbf X^T \\boldsymbol Y = \\boldsymbol 0$.\n",
    "* Pokud ne, najděte alespoň jedno řešení s využitím `numpy.linalg.pinv`.\n",
    "* Podívejte se, jaké je pro toto řešení RSS a jaké je RMSE na validační množině.\n",
    "* Zkuste nalézt nějaké další řešení normální rovnice $\\hat{\\boldsymbol  w}^*$ (využijte `scipy.linalg.null_space`). Podívejte se jaké je pro toto řešení RSS a jaké je RMSE na validační množině."
   ]
  },
  {
   "cell_type": "code",
   "execution_count": null,
   "metadata": {},
   "outputs": [],
   "source": [
    "# Váš kód zde\n",
    "\n",
    "\n",
    "wn_hat = ..."
   ]
  },
  {
   "cell_type": "code",
   "execution_count": null,
   "metadata": {},
   "outputs": [],
   "source": [
    "# Váš kód pro nalezení dalších řešení normální rovnice\n",
    "# Jedno řešení máme uložené ve wn_hat\n",
    "\n"
   ]
  },
  {
   "cell_type": "markdown",
   "metadata": {},
   "source": [
    "## Poučení! \n",
    "U lineární regrese se vyplatí zkoumat regularitu/kolinearitu. V případě, že jsou sloupce matice $\\mathbf X$ lineárně závislé, je potřeba být opatrný a nevěřit 100% cizím implementacím. V takovém případě je ideální pustit se do nějaké regularizace např. pomocí hřebenové regrese, kterou budeme dělat na příštím cvičení.\n",
    "\n",
    "**Zkuste nyní nastavit `random_seed = 1` při počátečním dělení na trénovací a validační množinu a spusťe znovu svůj kód!**"
   ]
  }
 ],
 "metadata": {
  "kernelspec": {
   "display_name": "Python 3",
   "language": "python",
   "name": "python3"
  },
  "language_info": {
   "codemirror_mode": {
    "name": "ipython",
    "version": 3
   },
   "file_extension": ".py",
   "mimetype": "text/x-python",
   "name": "python",
   "nbconvert_exporter": "python",
   "pygments_lexer": "ipython3",
   "version": "3.7.5"
  }
 },
 "nbformat": 4,
 "nbformat_minor": 4
}
