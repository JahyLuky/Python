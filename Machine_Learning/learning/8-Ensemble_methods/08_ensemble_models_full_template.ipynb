{
 "cells": [
  {
   "cell_type": "markdown",
   "id": "858d23e0-b2df-4bf1-8541-3df9283c23d1",
   "metadata": {},
   "source": [
    "# Cvičení 8 - Náhodné lesy, AdaBoost\n",
    "\n",
    "V dnešním cvičení budeme zkoumat ensemble modely, konkrétně techniky **baggingu** (příkladem bude náhodný les) a **boostingu** (příkladem bude AdaBoost).\n",
    "\n",
    "Základním principem ensemble modelů je, že k predikci využíváne více \"slabých\" modelů (tzv. weak learners). Tyto modely jsou buď různé, nebo natrénované na různých datech. Ensemble model potom agreguje predicke těchto modelů a sestaví z nich finální predikci.\n",
    "\n",
    "Dvě základní ensemble techniky jsou:\n",
    "* **bagging** - což je zkratka pro **b**ootstrap **agg**regat**ing**. Metoda je založená na trénování totožných podmodelů na náhodných výběrech z datasetu (bootstrapping) s tím, že finální predikce se tvoří jako nejčastější predikovaná hodnota (klasifikace) nebo průměr predikovaných hodnot (regrese). Výsledkem je typicky redukce rozptylu (variance).\n",
    "* **boosting** - má primárně za cíl redukovat vychýlení (bias). Podmodely stejného typu se konstruují postupně a mají různé váhy. Zároveň dochází k vážení datových bodů tak, aby se pozdější podmodely soustředili především na ty body, které byli těmi předchozími predikovány špatně. \n",
    "Finální predikce se vytváří jako vážená nejčastěji predikovaná hodnota (klasifikace) a nebo vážený průměr predikovaných hodnot (klasifikace)\n",
    "\n",
    "Ensemble modely lze využít jak pro klasifikaci, tak pro regresi! 🚀"
   ]
  },
  {
   "cell_type": "code",
   "execution_count": null,
   "id": "ce6a83d8-457b-4d7f-9f46-17c1a11464ec",
   "metadata": {},
   "outputs": [],
   "source": [
    "import math\n",
    "import pandas as pd\n",
    "import numpy as np\n",
    "import seaborn as sns\n",
    "from sklearn.model_selection import train_test_split, ParameterGrid\n",
    "import sklearn.metrics as metrics\n",
    "\n",
    "import matplotlib.pyplot as plt\n",
    "import matplotlib\n",
    "%matplotlib inline\n",
    "\n",
    "random_seed = 42"
   ]
  },
  {
   "cell_type": "markdown",
   "id": "7b8841b4-041e-446c-8d93-f43fb7788640",
   "metadata": {},
   "source": [
    "## Dataset 🏘️\n",
    "Opět využijeme dataset **adult census income** z [Kaggle](https://www.kaggle.com/uciml/adult-census-income).\n",
    "Cílem úlohy je na základě demografických údajů predikovat, zda příjem člověka přesáhne $50 000 ročně.\n",
    "\n",
    "Protože, jsme s tímto datasetem již pracovali, pro urychlení přebereme základní předzpracování ze druhého cvičení.\n",
    "\n",
    "V prvním přiblížení použijeme na nominální příznaky **one-hot encoding**"
   ]
  },
  {
   "cell_type": "code",
   "execution_count": null,
   "id": "60446dbb-7277-498d-be5f-a31c5aa1a7d8",
   "metadata": {},
   "outputs": [],
   "source": [
    "def get_adult_census(one_hot = True, fill_na = True):\n",
    "    df = pd.read_csv('adult-census.csv')\n",
    "    df = df.replace('?', np.nan)\n",
    "    df.drop(columns = [\"education\"], inplace = True)\n",
    "    income_category = pd.api.types.CategoricalDtype(categories=['<=50K', '>50K'], ordered=True)\n",
    "    df['income'] = df['income'].astype(income_category)\n",
    "    sex_category = pd.api.types.CategoricalDtype(categories=['Female', 'Male'])\n",
    "    df['sex'] = df['sex'].astype(sex_category)\n",
    "    \n",
    "    string_cols = ['native.country', 'occupation', 'workclass', 'marital.status', 'relationship', 'race']\n",
    "    df[string_cols] = df[string_cols].astype('category')\n",
    "    \n",
    "    for col in df.select_dtypes('category').columns:\n",
    "        df[col] = df[col].cat.codes\n",
    "\n",
    "    # ONE-HOT encoding\n",
    "    if one_hot:\n",
    "        df = pd.get_dummies(df)\n",
    "    # Missing values\n",
    "    if fill_na:\n",
    "        df = df.fillna('-1')\n",
    "    return df\n",
    "\n",
    "# načteme si dataset\n",
    "df = get_adult_census()\n",
    "\n",
    "# Split the training dataset into 60% train and 40% rest\n",
    "Xtrain, Xrest, ytrain, yrest = train_test_split(df.drop(columns=['income']), df.income, test_size=0.4, random_state=random_seed)\n",
    "\n",
    "# Split the rest of the data into 0.6*0.4=24% validation, 0.4*0.4=16% test\n",
    "Xtest, Xval, ytest, yval = train_test_split(Xrest, yrest, test_size=0.6, random_state=random_seed)\n",
    "\n",
    "print(f\"Train rozměry, X: {Xtrain.shape}, y: {ytrain.shape}\")\n",
    "print(f\"Val rozměry, X: {Xval.shape}, y: {yval.shape}\")\n",
    "print(f\"Test rozměry, X: {Xtest.shape}, y: {ytest.shape}\")"
   ]
  },
  {
   "cell_type": "markdown",
   "id": "a0ee9a57-c661-403d-8661-ea01bee0d7d1",
   "metadata": {},
   "source": [
    "Pro porovnání výsledků si nejprve připravíme klasický rozhodovací strom a logistickou regresi."
   ]
  },
  {
   "cell_type": "code",
   "execution_count": null,
   "id": "26209aa0-08a6-493b-b913-a52712d2980c",
   "metadata": {},
   "outputs": [],
   "source": [
    "from sklearn.tree import DecisionTreeClassifier\n",
    "clfDT = DecisionTreeClassifier(max_depth = 8, random_state = 42)\n",
    "clfDT.fit(Xtrain, ytrain)\n",
    "print(\"Rozhodovací strom\")\n",
    "print('Accuracy score (train): {0:.6f}'.format(metrics.accuracy_score(ytrain, clfDT.predict(Xtrain))))\n",
    "print('Accuracy score (validation): {0:.6f}'.format(metrics.accuracy_score(yval, clfDT.predict(Xval))))\n",
    "\n",
    "from sklearn.linear_model import LogisticRegression\n",
    "clfLR = LogisticRegression(max_iter = 1000)\n",
    "clfLR.fit(Xtrain, ytrain)\n",
    "print(\"\\nLogistická regrese\")\n",
    "print('Accuracy score (train): {0:.6f}'.format(metrics.accuracy_score(ytrain, clfLR.predict(Xtrain))))\n",
    "print('Accuracy score (validation): {0:.6f}'.format(metrics.accuracy_score(yval, clfLR.predict(Xval))))"
   ]
  },
  {
   "cell_type": "markdown",
   "id": "28d9ec66-8f04-4927-b238-bdcd5a0f2555",
   "metadata": {},
   "source": [
    "## Bagging - náhodný les\n",
    "\n",
    "Jako příklad baggingu si zkusíme model náhodného lesa (random forest):\n",
    "- Trénuje se na bootstrapu dat: vytvoříme **n** množin a do nich vybereme data náhodným výběrem s opakováním.\n",
    "- Každá množina se použije k natrénování jednoho stromu (vznikne jich tedy n).\n",
    "- Výstupy ze jednotlivých stromů jsou agregovány do finálního výstupu.\n",
    "  \n",
    "<center><img src=\"img/bagging.png\" width=\"50%\"></center>\n",
    "\n",
    "Použití lesa místo stromu je `sklearn` velice jednoduché:\n",
    "- stačí nahradit `DecisionTreeClassifier` v kódu výše  třídou `RandomForestClassifier`.\n",
    "- má skoro stejné parametry jako `DecisionTreeClassifier`. Například\n",
    "    * `max_depth`, který určuje maximální hloubku jednoho stromu.\n",
    "    * `max_features`, který určuje počet příznaků, ze kterých si hladový algoritmus vybírá ten, podle kterého bude v aktuálním kroku data \"větvit\".\n",
    "\n",
    "Má ale také jeden nový, `n_estimators`, který je zásadní a určuje počet stromů v lese!"
   ]
  },
  {
   "cell_type": "code",
   "execution_count": null,
   "id": "ca33c702-04c3-4ba1-8440-d8743b90b279",
   "metadata": {},
   "outputs": [],
   "source": [
    "from sklearn.ensemble import RandomForestClassifier\n",
    "clfRF = RandomForestClassifier(n_estimators = 20, max_depth = 8, random_state = 42)\n",
    "clfRF.fit(Xtrain, ytrain)\n",
    "print(\"Náhodný les\")\n",
    "print('Accuracy score (train): {0:.6f}'.format(metrics.accuracy_score(ytrain, clfRF.predict(Xtrain))))\n",
    "print('Accuracy score (validation): {0:.6f}'.format(metrics.accuracy_score(yval, clfRF.predict(Xval))))"
   ]
  },
  {
   "cell_type": "markdown",
   "id": "cda0906f-056c-42c4-b256-8f2e70dcbaea",
   "metadata": {},
   "source": [
    "Vidíme, že jsme dostali víceméně stejně výkonný model jako rozhodovací strom výše.\n",
    "\n",
    "Podívejme se ještě na jeden zajímavý atribut natrénovaného modelu, kterým je `estimators_`. Můžeme tak zkusit ručně zreplikovat provedený bagging."
   ]
  },
  {
   "cell_type": "code",
   "execution_count": null,
   "id": "1990ed5f-69b9-4380-84e6-4f3442b0d554",
   "metadata": {},
   "outputs": [],
   "source": [
    "# print(clfRF.estimators_)\n",
    "# napočteme si predikce všech podmodelů\n",
    "ypred = np.zeros((len(clfRF.estimators_),yval.shape[0]))\n",
    "for i,e in enumerate(clfRF.estimators_):\n",
    "    ypred[i,:] = e.predict(np.array(Xval))\n",
    "    \n",
    "# Výsledky pro první bod\n",
    "print(\"Weak predictions\", ypred[:,0])\n",
    "print(\"Final\", clfRF.predict(Xval)[0])"
   ]
  },
  {
   "cell_type": "markdown",
   "id": "cf082fc9-ea29-4926-8780-110c93a19305",
   "metadata": {},
   "source": [
    "### Úkol - proveďte ladění hyperparametrů rozhodovacího stromu i náhodného lesa\n",
    "V obou třídách zkuste najít nejlepší modely a diskutujte výsledky."
   ]
  },
  {
   "cell_type": "code",
   "execution_count": null,
   "id": "4bd557bf-4eee-4741-9d94-13310bf60c1b",
   "metadata": {},
   "outputs": [],
   "source": [
    "# rozhodovací strom\n",
    "# Váš kód zde\n",
    "\n"
   ]
  },
  {
   "cell_type": "code",
   "execution_count": null,
   "id": "48b1fa0d-0b9f-4ed5-a8d1-ab67ac507049",
   "metadata": {},
   "outputs": [],
   "source": [
    "# náhodný les\n",
    "# Váš kód zde\n",
    "\n"
   ]
  },
  {
   "cell_type": "markdown",
   "id": "2a3259a6-8ab3-4415-87f2-68624f366be7",
   "metadata": {},
   "source": [
    "Model náhodného lesa je v tomto případě nepatrně lepší."
   ]
  },
  {
   "cell_type": "markdown",
   "id": "2c368663-5824-4b17-ac5a-938131790408",
   "metadata": {},
   "source": [
    "### Úkol - vyzkoušejte model náhodného lesa na regresní úloze\n",
    "Zkuste použít náhodný les na predikci spojité vysvětlované proměnné u datasetu house prices.\n",
    "\n",
    "Protože, jsme s tímto datasetem již pracovali, pro urychlení přebereme základní předzpracování z třetího cvičení."
   ]
  },
  {
   "cell_type": "code",
   "execution_count": null,
   "id": "77e4fd95-a71c-4ce9-b554-b9b1fa8c8a21",
   "metadata": {},
   "outputs": [],
   "source": [
    "def get_houses_dataset(one_hot = True, fill_na = True):\n",
    "    df = pd.read_csv('house-prices-train.csv')\n",
    "\n",
    "    qual_category = pd.api.types.CategoricalDtype(categories=['Po', 'Fa', 'TA', 'Gd', 'Ex'], ordered=True)\n",
    "    for col in df.select_dtypes('object').columns:\n",
    "        if col.endswith(\"Qual\") or col.endswith(\"Qu\") or col.endswith(\"QC\") or col.endswith(\"Cond\"):\n",
    "            df[col] = df[col].astype(qual_category)\n",
    "\n",
    "    for col in df.select_dtypes('category').columns:\n",
    "        df[col] = df[col].cat.codes\n",
    "\n",
    "    # ONE-HOT encoding\n",
    "    if one_hot:\n",
    "        df = pd.get_dummies(df)\n",
    "    # Missing values\n",
    "    if fill_na:\n",
    "        df = df.fillna('-1')\n",
    "    return df\n",
    "\n",
    "# načteme si dataset\n",
    "df = get_houses_dataset()\n",
    "\n",
    "# Split the training dataset into 60% train and 40% rest\n",
    "Xtrain, Xrest, ytrain, yrest = train_test_split(df.drop(columns=['SalePrice']), df.SalePrice, test_size=0.4, random_state=random_seed)\n",
    "\n",
    "# Split the rest of the data into 0.6*0.4=24% validation, 0.4*0.4=16% test\n",
    "Xtest, Xval, ytest, yval = train_test_split(Xrest, yrest, test_size=0.6, random_state=random_seed)\n",
    "\n",
    "print(f\"Train rozměry, X: {Xtrain.shape}, y: {ytrain.shape}\")\n",
    "print(f\"Val rozměry, X: {Xval.shape}, y: {yval.shape}\")\n",
    "print(f\"Test rozměry, X: {Xtest.shape}, y: {ytest.shape}\")"
   ]
  },
  {
   "cell_type": "markdown",
   "id": "53de0212-fcd2-436c-be73-42757d9177f0",
   "metadata": {},
   "source": [
    "Pro porovnání si zkusíme nejprve rozhodovací strom"
   ]
  },
  {
   "cell_type": "code",
   "execution_count": null,
   "id": "5ec8c9c8-639f-4259-ae49-703b096b255f",
   "metadata": {},
   "outputs": [],
   "source": [
    "# rozhodovací strom\n",
    "from sklearn.tree import DecisionTreeRegressor\n",
    "\n",
    "param_grid = {\n",
    "    'max_depth': range(1, 15)\n",
    "}\n",
    "\n",
    "param_comb = ParameterGrid(param_grid)\n",
    "\n",
    "val_metric = []\n",
    "for params in param_comb:\n",
    "    clf = DecisionTreeRegressor(**params, random_state = 42).fit(Xtrain, ytrain)\n",
    "    val_metric.append(metrics.mean_squared_error(yval, clf.predict(Xval), squared = False))\n",
    "    \n",
    "best_params = param_comb[np.argmin(val_metric)]\n",
    "print(f\"We found the best params {best_params} with validation RMSE {min(val_metric):.0f}.\")"
   ]
  },
  {
   "cell_type": "markdown",
   "id": "e6dd60d5-8443-40c6-8027-421cffbbc3ce",
   "metadata": {},
   "source": [
    "Nyní můžete zkusit model `RandomForestRegressor` což je náhodný les pro regresi."
   ]
  },
  {
   "cell_type": "code",
   "execution_count": null,
   "id": "0103d3ff-624f-49d4-814e-89b4042d138e",
   "metadata": {},
   "outputs": [],
   "source": [
    "# Váš kód zde\n",
    "\n",
    "\n"
   ]
  },
  {
   "cell_type": "markdown",
   "id": "92d373d4-9544-47c9-9e03-4994f6182097",
   "metadata": {},
   "source": [
    "Vidíme, že náhodný les dosáhl o dost lepšího výsledku."
   ]
  },
  {
   "cell_type": "markdown",
   "id": "db6973f9-6b12-4cf5-bcd2-dca181c08bb0",
   "metadata": {},
   "source": [
    "## Boosting - AdaBoost\n",
    "Narozdíl od **random forest** používá **AdaBoost** metody boostingu:\n",
    "- Na datech natrénujeme první strom (stromy se úmyslně volí s malou hloubkou)\n",
    "- Data ohodnotíme podle \"kvality\" jejich predikce tímto stromem a přidáme jim váhu (ty co nebyly ohodnoceny dobře mají výšší váhu a opačně)\n",
    "- Na základě těchto dat natrénujeme další strom, kterým se budeme snažit správně ohodnotit data s vyšší váhou\n",
    "- Při predikci necháme všechny weak learners predikovat cílovou hodnotu kterou převážíme accuracy jednotlivých stromů a výsledek zagregujeme\n",
    "    \n",
    "<center><img src=\"img/boosting.png\" width=\"50%\"></center>\n",
    "\n",
    "Ve `sklearn` je AdaBoost pro klasifikaci implementován jako `AdaBoostClassifier`\n",
    "\n",
    "AdaBoostClassifier má dva hlavní volitelné parametry:\n",
    "- `base_estimator`, který volí co bude použito za estimátor na data, v našem případě tedy **rozhodovací strom**\n",
    "    - výchozí hodnota je **rozhodovací strom** hloubky 1 (lze využít i jiné modely)\n",
    "- `n_estimators`, který říká kolik estimátorů (v našem případě **rozhodovacím stromů**) bude vytvořeno\n",
    "    - výchozí hodnota je 50\n",
    "    \n",
    "Dále má parametr `algorithm` jehož hodnota \"SAMME\" odpovídá přesně tomu, co jsme dělali na přednášce. \n",
    "\n",
    "Defaultní hodnota \"SAMME.R\" potom odpovídá trochu jinému přístupu, kdy jednotlivé podmodely predikují pravděpodobnosti příslušnosti k jednotlivým třídám a při finální predikci se spočítají vážené pravděpodobnosti příslušnosti k jednotlivým třídám a predikuje se třída, která má největší váženou pravděpodobnost."
   ]
  },
  {
   "cell_type": "code",
   "execution_count": null,
   "id": "502ac2ec-2b68-46c1-8815-96874dab047b",
   "metadata": {},
   "outputs": [],
   "source": [
    "# načteme si dataset\n",
    "df = get_adult_census()\n",
    "\n",
    "# Split the training dataset into 60% train and 40% rest\n",
    "Xtrain, Xrest, ytrain, yrest = train_test_split(df.drop(columns=['income']), df.income, test_size=0.4, random_state=random_seed)\n",
    "\n",
    "# Split the rest of the data into 0.6*0.4=24% validation, 0.4*0.4=16% test\n",
    "Xtest, Xval, ytest, yval = train_test_split(Xrest, yrest, test_size=0.6, random_state=random_seed)\n",
    "\n",
    "print(f\"Train rozměry, X: {Xtrain.shape}, y: {ytrain.shape}\")\n",
    "print(f\"Val rozměry, X: {Xval.shape}, y: {yval.shape}\")\n",
    "print(f\"Test rozměry, X: {Xtest.shape}, y: {ytest.shape}\")"
   ]
  },
  {
   "cell_type": "code",
   "execution_count": null,
   "id": "c691ad46-2b49-4abf-aa90-d0cc8be74218",
   "metadata": {},
   "outputs": [],
   "source": [
    "from sklearn.ensemble import AdaBoostClassifier\n",
    "clfAda = AdaBoostClassifier(base_estimator = DecisionTreeClassifier(max_depth = 5), n_estimators = 10, random_state = 42, algorithm = \"SAMME\")\n",
    "clfAda.fit(Xtrain, ytrain)\n",
    "print(\"AdaBoost\")\n",
    "print('Accuracy score (train): {0:.6f}'.format(metrics.accuracy_score(ytrain, clfAda.predict(Xtrain))))\n",
    "print('Accuracy score (validation): {0:.6f}'.format(metrics.accuracy_score(yval, clfAda.predict(Xval))))"
   ]
  },
  {
   "cell_type": "markdown",
   "id": "5c14a46d-d9e7-4d0b-ac64-28a9912f42e1",
   "metadata": {},
   "source": [
    "V tuto chvíli jsme nedostali nejlepší model.\n",
    "\n",
    "Podívejme se ještě zajímavé atributy natrénovaného modelu, kterými jsou `estimators_` a `estimator_weights_`."
   ]
  },
  {
   "cell_type": "code",
   "execution_count": null,
   "id": "685b8d09-6d6b-48af-b3c1-7c5fa6649f8f",
   "metadata": {},
   "outputs": [],
   "source": [
    "ypred_proba = np.zeros((len(clfAda.estimators_),yval.shape[0],2))\n",
    "ypred = np.zeros((len(clfAda.estimators_),yval.shape[0]))\n",
    "for i,e in enumerate(clfAda.estimators_):\n",
    "    ypred_proba[i,:,:] = e.predict_proba(np.array(Xval))\n",
    "    ypred[i,:] = e.predict(np.array(Xval))\n",
    "    \n",
    "print(\"Weak predictions\\n\", ypred[:,0:2])\n",
    "print(\"Final\", clfAda.predict(Xval)[0:2])\n",
    "\n",
    "# Protože predikce je vážená, podívejme se na váhy\n",
    "print(\"Weights:\", clfAda.estimator_weights_)\n",
    "for i in range(2):\n",
    "    print(f\"Sum pro 0: {np.dot(1-ypred[:,i], clfAda.estimator_weights_):.2f};\", f\"Sum pro 1: {np.dot(ypred[:,i], clfAda.estimator_weights_):.2f}\")"
   ]
  },
  {
   "cell_type": "markdown",
   "id": "58152875-b921-4316-840a-521782a2afbd",
   "metadata": {},
   "source": [
    "Zopakujme to stejné pro `algorithm = \"SAMME.R\"` což je defaultní nastavení."
   ]
  },
  {
   "cell_type": "code",
   "execution_count": null,
   "id": "a59e20f5-43d9-49a3-bbb4-cf011006981b",
   "metadata": {},
   "outputs": [],
   "source": [
    "clfAda = AdaBoostClassifier(base_estimator = DecisionTreeClassifier(max_depth = 5), n_estimators = 10, random_state = 42, algorithm = \"SAMME.R\")\n",
    "clfAda.fit(Xtrain, ytrain)\n",
    "print(\"AdaBoost\")\n",
    "print('Accuracy score (train): {0:.6f}'.format(metrics.accuracy_score(ytrain, clfAda.predict(Xtrain))))\n",
    "print('Accuracy score (validation): {0:.6f}'.format(metrics.accuracy_score(yval, clfAda.predict(Xval))))"
   ]
  },
  {
   "cell_type": "markdown",
   "id": "309df30b-f959-4cfd-82a8-96b304c8a1f5",
   "metadata": {},
   "source": [
    "Vidíme, že jsme dostali doposud nejlepší model.\n",
    "\n",
    "Pojďme se podívat na predikce jednotlivých podmodelů."
   ]
  },
  {
   "cell_type": "code",
   "execution_count": null,
   "id": "07e6ee82-7ba4-4741-9d6e-971212f6d031",
   "metadata": {},
   "outputs": [],
   "source": [
    "ypred_proba = np.zeros((len(clfAda.estimators_),yval.shape[0],2))\n",
    "ypred = np.zeros((len(clfAda.estimators_),yval.shape[0]))\n",
    "for i,e in enumerate(clfAda.estimators_):\n",
    "    ypred_proba[i,:,:] = e.predict_proba(np.array(Xval))\n",
    "    ypred[i,:] = e.predict(np.array(Xval))\n",
    "    \n",
    "print(\"Weak predictions\\n\", ypred[:,0:2])\n",
    "print(\"Final\", clfAda.predict(Xval)[0:2])\n",
    "\n",
    "# Protože predikce je vážená, podívejme se na váhy\n",
    "print(\"Weights:\", clfAda.estimator_weights_)\n",
    "for i in range(2):\n",
    "    print(f\"Sum pro 0: {np.dot(1-ypred[:,i], clfAda.estimator_weights_):.2f};\", f\"Sum pro 1: {np.dot(ypred[:,i], clfAda.estimator_weights_):.2f}\")"
   ]
  },
  {
   "cell_type": "markdown",
   "id": "cd78c25b-ae29-4eee-8a8a-da57160582ad",
   "metadata": {},
   "source": [
    "Vidíme, že v obou bodech by vážená predikce byla rovna 0. Tak ale při tomto algoritmu model nepostupuje. Ve skutečnosti váží pravděpodobnosti příslušností, které máme v proměnné `ypred_proba`"
   ]
  },
  {
   "cell_type": "code",
   "execution_count": null,
   "id": "f81d6bd0-d53e-460b-9a6a-5745b3ebe2b1",
   "metadata": {},
   "outputs": [],
   "source": [
    "print(\"Weak probability predictions\\n\", ypred_proba[:,0:2])\n",
    "print(\"Final\", clfAda.predict(Xval)[0:2])\n",
    "\n",
    "# Protože predikce je vážená, podívejme se na váhy\n",
    "print(\"Weights:\", clfAda.estimator_weights_)\n",
    "for i in range(2):\n",
    "    print(f\"Sum pro 0: {np.dot(ypred_proba[:,i,0], clfAda.estimator_weights_):.2f};\", f\"Sum pro 1: {np.dot(ypred_proba[:,i,1], clfAda.estimator_weights_):.2f}\")"
   ]
  },
  {
   "cell_type": "markdown",
   "id": "d74b27e0-e542-4492-91b9-02b5cd846da4",
   "metadata": {},
   "source": [
    "Teď už se naše pozorování shoduje s predikcí modelu."
   ]
  },
  {
   "cell_type": "markdown",
   "id": "5d74af33-3099-40a1-8d09-2fa4a1732f50",
   "metadata": {},
   "source": [
    "### Úkol - proveďte ladění hyperparametrů modelu AdaBoost\n",
    "Diskutujte výsledky."
   ]
  },
  {
   "cell_type": "code",
   "execution_count": null,
   "id": "017ce0c8-5166-4d99-9873-5c33584bf902",
   "metadata": {},
   "outputs": [],
   "source": [
    "# Váš kód zde\n",
    "\n",
    "\n"
   ]
  },
  {
   "cell_type": "markdown",
   "id": "7e88299d-c16c-4324-a858-d26ed01449ab",
   "metadata": {},
   "source": [
    "Dostali jsme s přehledem nejlepší model"
   ]
  },
  {
   "cell_type": "markdown",
   "id": "258da6fb-7567-45c9-9d6a-20190417fd3d",
   "metadata": {},
   "source": [
    "### Úkol - vyzkoušejte model ada boost na regresní úloze\n",
    "Zkuste použít náhodný les na predikci spojité vysvětlované proměnné u datasetu house prices.\n",
    "\n",
    "Protože, jsme s tímto datasetem již pracovali, pro urychlení přebereme základní předzpracování z třetího cvičení."
   ]
  },
  {
   "cell_type": "code",
   "execution_count": null,
   "id": "02aaf592-6ff0-4d4d-83a3-808f1247e1fb",
   "metadata": {},
   "outputs": [],
   "source": [
    "# načteme si dataset\n",
    "df = get_houses_dataset()\n",
    "\n",
    "# Split the training dataset into 60% train and 40% rest\n",
    "Xtrain, Xrest, ytrain, yrest = train_test_split(df.drop(columns=['SalePrice']), df.SalePrice, test_size=0.4, random_state=random_seed)\n",
    "\n",
    "# Split the rest of the data into 0.6*0.4=24% validation, 0.4*0.4=16% test\n",
    "Xtest, Xval, ytest, yval = train_test_split(Xrest, yrest, test_size=0.6, random_state=random_seed)\n",
    "\n",
    "print(f\"Train rozměry, X: {Xtrain.shape}, y: {ytrain.shape}\")\n",
    "print(f\"Val rozměry, X: {Xval.shape}, y: {yval.shape}\")\n",
    "print(f\"Test rozměry, X: {Xtest.shape}, y: {ytest.shape}\")"
   ]
  },
  {
   "cell_type": "code",
   "execution_count": null,
   "id": "6019691b-b1ac-4d4e-9562-183d0b02bb8d",
   "metadata": {},
   "outputs": [],
   "source": [
    "# Váš kód zde\n",
    "\n",
    "\n"
   ]
  },
  {
   "cell_type": "markdown",
   "id": "e8760088-767f-4a66-aa7f-9f6e61f55bb0",
   "metadata": {},
   "source": [
    "Dostali jsme nejlepší model"
   ]
  },
  {
   "cell_type": "code",
   "execution_count": null,
   "id": "3da0f01b-a4fb-4c0b-b1ce-f80af101eb32",
   "metadata": {},
   "outputs": [],
   "source": []
  }
 ],
 "metadata": {
  "kernelspec": {
   "display_name": "Python 3",
   "language": "python",
   "name": "python3"
  },
  "language_info": {
   "codemirror_mode": {
    "name": "ipython",
    "version": 3
   },
   "file_extension": ".py",
   "mimetype": "text/x-python",
   "name": "python",
   "nbconvert_exporter": "python",
   "pygments_lexer": "ipython3",
   "version": "3.7.5"
  }
 },
 "nbformat": 4,
 "nbformat_minor": 5
}
