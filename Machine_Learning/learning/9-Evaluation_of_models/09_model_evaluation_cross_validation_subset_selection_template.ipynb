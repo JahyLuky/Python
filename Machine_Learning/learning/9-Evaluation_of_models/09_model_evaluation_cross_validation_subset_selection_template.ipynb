{
 "cells": [
  {
   "cell_type": "markdown",
   "id": "4070c4ad-f768-4362-98a3-4a64271bd5e8",
   "metadata": {},
   "source": [
    "# Cvičení 9\n",
    "\n",
    "V dnešním cvičení se budeme zabývat:\n",
    "* **evaluací modelů**,\n",
    "* **křížovou validací**,\n",
    "* **výběrem příznaků**.\n",
    "\n"
   ]
  },
  {
   "cell_type": "code",
   "execution_count": null,
   "id": "97bae918-9353-4924-9af2-bf81212b7cd1",
   "metadata": {},
   "outputs": [],
   "source": [
    "import math\n",
    "import pandas as pd\n",
    "import numpy as np\n",
    "from sklearn.model_selection import train_test_split, ParameterGrid\n",
    "import sklearn.metrics as metrics\n",
    "\n",
    "import matplotlib.pyplot as plt\n",
    "import matplotlib\n",
    "%matplotlib inline\n",
    "\n",
    "random_seed = 42"
   ]
  },
  {
   "cell_type": "markdown",
   "id": "9764f910-c596-412c-a30d-999d1470cdd5",
   "metadata": {},
   "source": [
    "## Dataset 💲\n",
    "Využijeme dataset **adult census income** z [Kaggle](https://www.kaggle.com/uciml/adult-census-income).\n",
    "Cílem úlohy je na základě demografických údajů predikovat, zda příjem člověka přesáhne $50 000 ročně.\n",
    "\n",
    "Protože, jsme s tímto datasetem již pracovali, pro urychlení přebereme základní předzpracování ze druhého cvičení."
   ]
  },
  {
   "cell_type": "code",
   "execution_count": null,
   "id": "7c010d7e-35a0-4e53-8b62-25a72c8fb96a",
   "metadata": {},
   "outputs": [],
   "source": [
    "def get_adult_census(one_hot = True, fill_na = True):\n",
    "    df = pd.read_csv('adult-census.csv')\n",
    "    df = df.replace('?', np.nan)\n",
    "    df.drop(columns = [\"education\"], inplace = True)\n",
    "    income_category = pd.api.types.CategoricalDtype(categories=['<=50K', '>50K'], ordered=True)\n",
    "    df['income'] = df['income'].astype(income_category)\n",
    "    sex_category = pd.api.types.CategoricalDtype(categories=['Female', 'Male'])\n",
    "    df['sex'] = df['sex'].astype(sex_category)\n",
    "    \n",
    "    string_cols = ['native.country', 'occupation', 'workclass', 'marital.status', 'relationship', 'race']\n",
    "    df[string_cols] = df[string_cols].astype('category')\n",
    "    \n",
    "    for col in df.select_dtypes('category').columns:\n",
    "        df[col] = df[col].cat.codes\n",
    "\n",
    "    # ONE-HOT encoding\n",
    "    if one_hot:\n",
    "        df = pd.get_dummies(df)\n",
    "    # Missing values\n",
    "    if fill_na:\n",
    "        df = df.fillna('-1')\n",
    "    return df\n",
    "\n",
    "# načteme si dataset\n",
    "df = get_adult_census()\n",
    "\n",
    "# Split the training dataset into 80% train and 20% test\n",
    "Xtrain, Xtest, ytrain, ytest = train_test_split(df.drop(columns=['income']), df.income, test_size=0.2, random_state=random_seed)\n",
    "\n",
    "\n",
    "print(f\"Train rozměry, X: {Xtrain.shape}, y: {ytrain.shape}\")\n",
    "print(f\"Test rozměry, X: {Xtest.shape}, y: {ytest.shape}\")"
   ]
  },
  {
   "cell_type": "markdown",
   "id": "901422e4-8c0c-4a25-8ffb-fd1ff6e9432d",
   "metadata": {},
   "source": [
    "# Evaluace modelů\n",
    "\n",
    "Zaměříme se na evaluaci klasifikace.\n",
    "Nejprve si natrénujme modely rozhodovacího stromu a logistické regrese a podívejme se různými kritérii na jejich výkonnost. "
   ]
  },
  {
   "cell_type": "code",
   "execution_count": null,
   "id": "19edc026-c1b8-4f07-a1d5-df04a5f74696",
   "metadata": {},
   "outputs": [],
   "source": [
    "from sklearn.tree import DecisionTreeClassifier\n",
    "clfDT = DecisionTreeClassifier(max_depth = 5, random_state = 42)\n",
    "clfDT.fit(Xtrain, ytrain)\n",
    "print(\"Rozhodovací strom\")\n",
    "print('Accuracy score (train): {0:.6f}'.format(metrics.accuracy_score(ytrain, clfDT.predict(Xtrain))))\n",
    "print('Accuracy score (test): {0:.6f}'.format(metrics.accuracy_score(ytest, clfDT.predict(Xtest))))\n",
    "\n",
    "from sklearn.linear_model import LogisticRegression\n",
    "clfLR = LogisticRegression(max_iter = 1000)\n",
    "clfLR.fit(Xtrain, ytrain)\n",
    "print(\"\\nLogistická regrese\")\n",
    "print('Accuracy score (train): {0:.6f}'.format(metrics.accuracy_score(ytrain, clfLR.predict(Xtrain))))\n",
    "print('Accuracy score (test): {0:.6f}'.format(metrics.accuracy_score(ytest, clfLR.predict(Xtest))))"
   ]
  },
  {
   "cell_type": "markdown",
   "id": "9ecf5782-0c4d-4b95-b454-f48dedf990bb",
   "metadata": {},
   "source": [
    "## Matice záměn\n",
    "Ve `sklearn` je implememntovaná ve `sklearn.metrics.confusion_matrix`.\n",
    "\n",
    "Dejte si pozor, že $i,j$ tá složka matice záměn $C_{i,j}$ odpovídá počtu bodů z třídy $i$, pro které model predikoval třídu $j$.\n",
    "\n",
    "Spočítáme testovací matici zmáněn pro oba modely."
   ]
  },
  {
   "cell_type": "code",
   "execution_count": null,
   "id": "28a02ea7-73f0-42c7-844e-23864c7eb8d1",
   "metadata": {},
   "outputs": [],
   "source": [
    "cfDT = metrics.confusion_matrix(ytest, clfDT.predict(Xtest))\n",
    "\n",
    "print(\"Rozhodovací strom\")\n",
    "print(cfDT)\n",
    "\n",
    "cfLR = metrics.confusion_matrix(ytest, clfLR.predict(Xtest))\n",
    "print(\"\\nLogistická regrese\")\n",
    "print(cfLR)"
   ]
  },
  {
   "cell_type": "markdown",
   "id": "6a937f9c-15a2-4640-9996-943491f90338",
   "metadata": {},
   "source": [
    "Vidíme, že například pro rozhodovací strom tedy máme:\n",
    "* $\\text{TP} = C_{1,1} = 814$, \n",
    "* $\\text{FP} = C_{0,1} = 224$,\n",
    "* $\\text{FN} = C_{1,0} = 723$,\n",
    "* $\\text{TN} = C_{0,0} = 4752$."
   ]
  },
  {
   "cell_type": "markdown",
   "id": "2e32d037-9eb6-4569-b9f7-555841fd7890",
   "metadata": {},
   "source": [
    "### Úkol - spočtěte další odvozené míry z matice záměn\n",
    "\n",
    "Konrétně spočtěte TPR, FPR, FNR a TNR (můžete použít `confusion_matrix` s vhodnými parametry).\n",
    "Dále určte recall a precision.\n",
    "\n",
    "Potom ručně spočtěte accuracy a F1 score.\n",
    "\n",
    "Porovnejte ruční výpočet s hodnotami ze `sklearn.metrics.accuracy_score` a `sklearn.metrics.f1_score`.\n",
    "\n",
    "Porovnejte oba modely."
   ]
  },
  {
   "cell_type": "code",
   "execution_count": null,
   "id": "48302af5-f224-4db4-bdf4-fcc939b5364e",
   "metadata": {},
   "outputs": [],
   "source": [
    "# Váš kód zde\n",
    "\n",
    "def print_metrics(cf, ytest, ypred):\n",
    "    ...\n",
    "    \n",
    "print(\"==========================\")\n",
    "print(\"Rozhodovací strom\")\n",
    "print_metrics(cfDT, ytest, clfDT.predict(Xtest))\n",
    "\n",
    "print(\"==========================\")\n",
    "print(\"Logistická regrese\")\n",
    "print_metrics(cfLR, ytest, clfLR.predict(Xtest))"
   ]
  },
  {
   "cell_type": "markdown",
   "id": "f57b3be4-466b-4e90-8768-85298fcd3192",
   "metadata": {},
   "source": [
    "## ROC křivka a AUC\n",
    "Pro model logistické regrese si zkusíme vykreslit ROC křivku a spočítat plochu pod touto křivkou (AUC).\n",
    "\n",
    "Připomeňme, že ROC křivka pro model, který v libovolném bodě $\\boldsymbol x$ odhaduje pravděpodobnost $P(Y = 1 | \\boldsymbol x)$ příslušnosti ke třídě 1\n",
    "a jehož finální predikce vznikne jako\n",
    "$$\n",
    " \\hat Y = \\begin{cases}1 & \\text{když } P(Y = 1 | \\boldsymbol x) > \\tau\\\\0 & \\text{jinak}\\end{cases},\n",
    "$$\n",
    "je křivka závislosti TPR a FPR na $\\tau \\in [0,1]$.\n",
    "\n",
    "Nejprve křivku zkusíme sestrojit ručně. Pro výpočet plochy pod křivkou použijeme `sklearn.metrics.auc`.\n",
    "\n",
    "Připravme si na začátku predikované pravděpodobnosti třídy $1$."
   ]
  },
  {
   "cell_type": "code",
   "execution_count": null,
   "id": "943caafc-ccb6-446f-9003-8c638121b776",
   "metadata": {},
   "outputs": [],
   "source": [
    "y_pred_proba = clfLR.predict_proba(Xtest)\n",
    "p1_hat = y_pred_proba[:,1]\n",
    "print(p1_hat)"
   ]
  },
  {
   "cell_type": "markdown",
   "id": "61b84b34-7ce2-4b58-8047-b2f05509ded9",
   "metadata": {},
   "source": [
    "### Úkol - zkonstruujte a vykreslete ROC křivku\n",
    "\n",
    "Hýbejte postupně thresholdem od $1$ do $0$ a zaznamenávejte si TPR a FPR."
   ]
  },
  {
   "cell_type": "code",
   "execution_count": null,
   "id": "21233602-979a-4f6f-95db-3b31bff8965c",
   "metadata": {},
   "outputs": [],
   "source": [
    "# Váš kód zde\n",
    "tpr = []\n",
    "fpr = []\n",
    "\n",
    "...\n",
    "\n",
    "    \n",
    "# plochu spočteme pomocí funkce    \n",
    "AUC = ...\n",
    "\n",
    "\n",
    "# vykreslení\n",
    "plt.figure()\n",
    "plt.plot([0, 1], [0, 1], color=\"navy\", lw=2, linestyle=\"--\")\n",
    "plt.plot(fpr, tpr, color=\"darkorange\", lw=2, label = f\"ROC křivka (AUC = {AUC:.3f})\")\n",
    "plt.xlim([0.0, 1.0])\n",
    "plt.ylim([0.0, 1.05])\n",
    "plt.xlabel(\"False Positive Rate\")\n",
    "plt.ylabel(\"True Positive Rate\")\n",
    "plt.title(\"ROC křivka - ručně\")\n",
    "plt.legend(loc=\"lower right\")\n",
    "plt.show()"
   ]
  },
  {
   "cell_type": "markdown",
   "id": "efdd4395-0a92-4261-87e1-f50935fd19c4",
   "metadata": {},
   "source": [
    "### ROC křivka se sklearn\n",
    "Nyní zkusíme to samé pomocí `sklearn.metrics.roc_curve` a `sklearn.metrics.roc_auc_score`."
   ]
  },
  {
   "cell_type": "code",
   "execution_count": null,
   "id": "3f77b543-9a3c-485d-b500-39fdb5a2e652",
   "metadata": {},
   "outputs": [],
   "source": [
    "fpr, tpr, thresholds = metrics.roc_curve(ytest, p1_hat)\n",
    "\n",
    "# AUC = metrics.auc(fpr, tpr)\n",
    "AUC = metrics.roc_auc_score(ytest, y_pred_proba[:,1])\n",
    "\n",
    "plt.figure()\n",
    "plt.plot([0, 1], [0, 1], color=\"navy\", lw=2, linestyle=\"--\")\n",
    "plt.plot(fpr, tpr, color=\"darkorange\", lw=2, label = f\"ROC křivka (AUC = {AUC:.3f})\")\n",
    "plt.xlim([0.0, 1.0])\n",
    "plt.ylim([0.0, 1.05])\n",
    "plt.xlabel(\"False Positive Rate\")\n",
    "plt.ylabel(\"True Positive Rate\")\n",
    "plt.title(\"ROC křivka\")\n",
    "plt.legend(loc=\"lower right\")\n",
    "plt.show()"
   ]
  },
  {
   "cell_type": "markdown",
   "id": "eefadcb3-d95c-4f5b-a7e7-7e8bed21e1c5",
   "metadata": {},
   "source": [
    "### Úkol - proveďte to samé, pro model rozhodovacího stromu"
   ]
  },
  {
   "cell_type": "code",
   "execution_count": null,
   "id": "71034308-917c-41f9-9647-b8c1dadd4039",
   "metadata": {},
   "outputs": [],
   "source": [
    "# Váš kód zde\n",
    "y_pred_proba = clfDT.predict_proba(Xtest)\n",
    "fpr, tpr, thresholds = metrics.roc_curve(ytest, y_pred_proba[:,1])\n",
    "\n",
    "AUC = metrics.auc(fpr, tpr)\n",
    "\n",
    "plt.figure()\n",
    "plt.plot([0, 1], [0, 1], color=\"navy\", lw=2, linestyle=\"--\")\n",
    "plt.plot(fpr, tpr, color=\"darkorange\", lw=2, label = f\"ROC křivka (AUC = {AUC:.3f})\")\n",
    "plt.xlim([0.0, 1.0])\n",
    "plt.ylim([0.0, 1.05])\n",
    "plt.xlabel(\"False Positive Rate\")\n",
    "plt.ylabel(\"True Positive Rate\")\n",
    "plt.title(\"ROC křivka\")\n",
    "plt.legend(loc=\"lower right\")\n",
    "plt.show()"
   ]
  },
  {
   "cell_type": "markdown",
   "id": "ae99debc-15d0-4bc4-8142-e2570242e443",
   "metadata": {},
   "source": [
    "Ze všech porovnání nám vychází, že model rozhodovacího stromu je v tomto případě lepší."
   ]
  },
  {
   "cell_type": "markdown",
   "id": "1d58e2c2-d0d6-4d82-b30e-2886c0064262",
   "metadata": {},
   "source": [
    "# Křížová validace\n",
    "\n",
    "<center><img src=\"img/cross_val_split_a.png\" width=\"40%\"></center>\n",
    "\n",
    "Pomocí křížové validace zkusíme najít nejlepší hyperparametry rozhodovacího stromu a KNN.\n",
    "Nejlepší model potom znovu natrénujeme a otestujeme jeho přesnost na testovací množině.\n",
    "\n",
    "Nejprve pro hyperparametry rozhodovacího stromu použijeme `sklearn.model_selection.KFold`, který nám umožní vše mít pod kontrolou. Vyzkoušejme si to nejprve pro jednu sadu hyperparametrů."
   ]
  },
  {
   "cell_type": "code",
   "execution_count": null,
   "id": "7b7f2060-0597-4b1d-b617-6d341203af23",
   "metadata": {},
   "outputs": [],
   "source": [
    "from sklearn.model_selection import KFold\n",
    "# ohodnocení pro jednu sadu hyperparametrů už natrénovaného modelu\n",
    "\n",
    "num_folds = 5\n",
    "kf = KFold(n_splits = num_folds)\n",
    "fold_acc = []\n",
    "for i, (train_index, val_index) in enumerate(kf.split(Xtrain)):\n",
    "    tX_train, tX_val = Xtrain.iloc[train_index,:], Xtrain.iloc[val_index,:]\n",
    "    ty_train, ty_val = ytrain.iloc[train_index], ytrain.iloc[val_index]\n",
    "    print(f\"Trénovací množina: {tX_train.shape}, validační množina: {tX_val.shape}\")\n",
    "\n",
    "    clf = DecisionTreeClassifier(max_depth = 5, random_state = 42)\n",
    "    clf.fit(tX_train, ty_train)\n",
    "    one_fold_acc = metrics.accuracy_score(ty_val, clf.predict(tX_val))\n",
    "    print(f\"Přesnost na foldu {i + 1} z {num_folds}: {one_fold_acc:.4f}\\n\")\n",
    "    fold_acc.append(one_fold_acc)\n",
    "\n",
    "mean_cv_acc = np.mean(fold_acc)\n",
    "print(f\"Průměrná přesnost: {mean_cv_acc:.4f}\")"
   ]
  },
  {
   "cell_type": "markdown",
   "id": "b4b441eb-d3a2-42f0-bcb8-09cec4d6bcde",
   "metadata": {},
   "source": [
    "### Úkol - Optimální hyperparametry rozhodovacího stromu\n",
    "Teď tento postup použijte k nalezení optimálních hyperparametrů u rozhodovacího stromu."
   ]
  },
  {
   "cell_type": "code",
   "execution_count": null,
   "id": "28650e96-83a5-4394-b3a8-fa37b9aa97c2",
   "metadata": {},
   "outputs": [],
   "source": [
    "# Váš kód zde\n"
   ]
  },
  {
   "cell_type": "markdown",
   "id": "d22b0a3f-c7ef-418e-b2a1-7d58a83724b0",
   "metadata": {},
   "source": [
    "### Optimání hyperparametry KNN\n",
    "Nyní si to zkusíme pro hyperparametry KNN a využijeme `sklearn.model_selection.cross_val_score`, kdy si ušetříme hodně kódu."
   ]
  },
  {
   "cell_type": "code",
   "execution_count": null,
   "id": "08fbac7b-e577-4615-9d67-14c4c9668559",
   "metadata": {},
   "outputs": [],
   "source": [
    "from sklearn.model_selection import cross_val_score\n",
    "from sklearn.neighbors import KNeighborsClassifier\n",
    "\n",
    "param_grid = {\n",
    "    'n_neighbors': range(1, 15)\n",
    "}\n",
    "\n",
    "param_comb = ParameterGrid(param_grid)\n",
    "\n",
    "val_metric = []\n",
    "for params in param_comb:\n",
    "    clf = KNeighborsClassifier(**params)\n",
    "    # cross validation\n",
    "    fold_acc = cross_val_score(clf, Xtrain, ytrain, cv=5)\n",
    "    val_metric.append(np.mean(fold_acc))\n",
    "    \n",
    "best_knn_params = param_comb[np.argmax(val_metric)]\n",
    "best_knn_metric = max(val_metric)\n",
    "print(f\"We found the best params {best_tree_params} with cross validation acuraccy {best_tree_metric:.4f}.\")"
   ]
  },
  {
   "cell_type": "markdown",
   "id": "a8b7a09c-d52d-4494-9029-bac63c1f17d8",
   "metadata": {},
   "source": [
    "Výběr nejlepšího modelu a finální evaluace"
   ]
  },
  {
   "cell_type": "code",
   "execution_count": null,
   "id": "4d9ac8a4-868f-4b6c-ac37-8313070014e0",
   "metadata": {},
   "outputs": [],
   "source": [
    "print(\"Best decision tree\", best_tree_metric)\n",
    "print(\"Best KNN\", best_knn_metric)\n",
    "\n",
    "print(\"\\nBest model is the decision tree\")\n",
    "best_clf = DecisionTreeClassifier(**best_tree_params, random_state = 42)\n",
    "best_clf.fit(Xtrain,ytrain)\n",
    "print('Accuracy score (test): {0:.6f}'.format(metrics.accuracy_score(ytest, best_clf.predict(Xtest))))"
   ]
  },
  {
   "cell_type": "markdown",
   "id": "4de41ebb-44f6-4422-825c-4037e20ae6a0",
   "metadata": {},
   "source": [
    "# Výběr příznaků\n",
    "\n",
    "Zkusíme si nyní jednu techniku výběru příznaků a budeme sledovat jejich vliv na vybrané modely."
   ]
  },
  {
   "cell_type": "markdown",
   "id": "fa0dda69-6910-4f8b-bdf4-f37348e0d983",
   "metadata": {},
   "source": [
    "## Dataset 🏘️\n",
    "Využijeme dataset **house prices** z [Kaggle.com](https://www.kaggle.com/c/house-prices-advanced-regression-techniques).\n",
    "Cílem je předpovědět **cenu domu** (příznak **SalePrice**) na základě celkem 79 příznaků.\n",
    "\n",
    "Protože, jsme s tímto datasetem již pracovali, pro urychlení přebereme základní předzpracování z třetího cvičení."
   ]
  },
  {
   "cell_type": "code",
   "execution_count": null,
   "id": "677a087a-6c0c-4786-a056-40db4aea7902",
   "metadata": {},
   "outputs": [],
   "source": [
    "def get_houses_dataset(one_hot = True, fill_na = True):\n",
    "    df = pd.read_csv('house-prices-train.csv')\n",
    "\n",
    "    qual_category = pd.api.types.CategoricalDtype(categories=['Po', 'Fa', 'TA', 'Gd', 'Ex'], ordered=True)\n",
    "    for col in df.select_dtypes('object').columns:\n",
    "        if col.endswith(\"Qual\") or col.endswith(\"Qu\") or col.endswith(\"QC\") or col.endswith(\"Cond\"):\n",
    "            df[col] = df[col].astype(qual_category)\n",
    "\n",
    "    for col in df.select_dtypes('category').columns:\n",
    "        df[col] = df[col].cat.codes\n",
    "\n",
    "    # ONE-HOT encoding\n",
    "    if one_hot:\n",
    "        df = pd.get_dummies(df)\n",
    "    # Missing values\n",
    "    if fill_na:\n",
    "        df = df.fillna('-1')\n",
    "    return df\n",
    "\n",
    "# načteme si dataset\n",
    "df = get_houses_dataset()\n",
    "\n",
    "# Split the training dataset into 60% train and 40% rest\n",
    "Xtrain, Xrest, ytrain, yrest = train_test_split(df.drop(columns=['SalePrice']), df.SalePrice, test_size=0.4, random_state=random_seed)\n",
    "\n",
    "# Split the rest of the data into 0.6*0.4=24% validation, 0.4*0.4=16% test\n",
    "Xtest, Xval, ytest, yval = train_test_split(Xrest, yrest, test_size=0.6, random_state=random_seed)\n",
    "\n",
    "print(f\"Train rozměry, X: {Xtrain.shape}, y: {ytrain.shape}\")\n",
    "print(f\"Val rozměry, X: {Xval.shape}, y: {yval.shape}\")\n",
    "print(f\"Test rozměry, X: {Xtest.shape}, y: {ytest.shape}\")"
   ]
  },
  {
   "cell_type": "markdown",
   "id": "52194a21-65fb-418a-a430-9e4d2074790b",
   "metadata": {},
   "source": [
    "Nejprve si natrénujme modely rozhodovacího stromu a logistické regrese a podívejme se na jejich výkonnost. "
   ]
  },
  {
   "cell_type": "code",
   "execution_count": null,
   "id": "aa63447c-68a9-414a-bfe3-39951ca633d9",
   "metadata": {},
   "outputs": [],
   "source": [
    "# Lineární regrese\n",
    "print(\"Lineární regrese\")\n",
    "from sklearn.linear_model import LinearRegression\n",
    "clfLR = LinearRegression()\n",
    "clfLR.fit(Xtrain,ytrain)\n",
    "print(f\"Linear regression validation RMSE {metrics.mean_squared_error(yval, clfLR.predict(Xval), squared = False):.0f}.\")\n",
    "\n",
    "# rozhodovací strom\n",
    "print(\"\\nRozhodovací strom\")\n",
    "from sklearn.tree import DecisionTreeRegressor\n",
    "\n",
    "param_grid = {\n",
    "    'max_depth': range(1, 15)\n",
    "}\n",
    "\n",
    "param_comb = ParameterGrid(param_grid)\n",
    "\n",
    "val_metric = []\n",
    "for params in param_comb:\n",
    "    clf = DecisionTreeRegressor(**params, random_state = 42).fit(Xtrain, ytrain)\n",
    "    val_metric.append(metrics.mean_squared_error(yval, clf.predict(Xval), squared = False))\n",
    "    \n",
    "best_params = param_comb[np.argmin(val_metric)]\n",
    "print(f\"We found the best params {best_params} with validation RMSE {min(val_metric):.0f}.\")"
   ]
  },
  {
   "cell_type": "markdown",
   "id": "739cf533-9b2a-458c-b5fc-61fee219cb54",
   "metadata": {},
   "source": [
    "## Lasso\n",
    "\n",
    "Least Absolute Shrinkage and Selection Operator, je příkladem vestavěné metody (embedded method).\n",
    "\n",
    "Budeme zkoumat počet vybraných příznaků a výkonnost modelu (měřenou RMSE) v závislosti na velikosti regularizace.\n",
    "\n",
    "Připomeňme, že odhad $\\hat {\\boldsymbol w}^{\\text{lasso}}_{\\lambda}$ získáme minimalizací výrazu\n",
    "$$\n",
    "\\text{RSS}^{\\text{lasso}}_{\\lambda}(\\boldsymbol w) = \\left\\|\\boldsymbol Y - \\mathbf X \\boldsymbol w\\right\\|^2 + \\lambda \\sum_{i=1}^p |w_i|.\n",
    "$$\n",
    "\n",
    "Přitom platí, že čím větší je regularizace (a tedy $\\lambda$), tím více složek ve výsledném odhadu je rovno $0$.\n",
    "\n",
    "Nejprve si zkusme model lasso natrénovat, podívat se na jeho výkonnost a prozkoumat složky odhadu."
   ]
  },
  {
   "cell_type": "code",
   "execution_count": null,
   "id": "09bc92c3-a16a-4f2c-bbfd-707ef7cf2471",
   "metadata": {},
   "outputs": [],
   "source": [
    "from sklearn.linear_model import Lasso, LinearRegression, Ridge\n",
    "\n",
    "clf = Lasso(alpha = 50, max_iter = 10000)\n",
    "clf.fit(Xtrain,ytrain)\n",
    "print(f\"Lasso validation RMSE {metrics.mean_squared_error(yval, clf.predict(Xval), squared = False):.0f}.\")\n",
    "print(f\"Počet nenulových koeficientů: {np.sum(np.abs(clf.coef_) > 0)}\")\n",
    "\n",
    "# zkusíme to vizualizovat\n",
    "ii = np.array(range(len(clf.coef_)), dtype = int)\n",
    "plt.figure(figsize = (20,5))\n",
    "# plt.plot(ii, clfLR.coef_, 'gx')\n",
    "plt.plot(ii[np.abs(clf.coef_) == 0], clf.coef_[np.abs(clf.coef_) == 0], 'r.')\n",
    "plt.plot(ii[np.abs(clf.coef_) > 0], clf.coef_[np.abs(clf.coef_) > 0], 'b.')\n",
    "plt.ylim([-30000,30000])\n",
    "plt.show()"
   ]
  },
  {
   "cell_type": "markdown",
   "id": "aa81de01-5cb6-450e-af72-2cc5c845f299",
   "metadata": {},
   "source": [
    "### Výběr příznaků\n",
    "K výběru z modelu lasso použijeme `SelectFromModel` ze `sklearn`. Zvolíme nějaké větší $\\lambda$, abychom vyhodili více příznaků.\n",
    "\n",
    "Nakonec zkusíme, jak na takto vybrané sadě příznaků bude fungovat model lineární regrese a model rozhodovacího stromu."
   ]
  },
  {
   "cell_type": "code",
   "execution_count": null,
   "id": "941f738a-5149-4ffb-9187-49a95080e72c",
   "metadata": {},
   "outputs": [],
   "source": [
    "from sklearn.feature_selection import SelectFromModel\n",
    "\n",
    "selector = SelectFromModel(estimator=Lasso(alpha = 100, max_iter = 10000)).fit(Xtrain, ytrain)\n",
    "print(f\"Vybráno {sum(selector.get_support())} příznaků\")\n",
    "Xtrainsel = Xtrain.loc[:,selector.get_support()]\n",
    "Xvalsel = Xval.loc[:,selector.get_support()]\n",
    "Xtestsel = Xtest.loc[:,selector.get_support()]\n",
    "\n",
    "\n",
    "# Lineární regrese\n",
    "print(\"Lineární regrese\")\n",
    "from sklearn.linear_model import LinearRegression\n",
    "clfLR = LinearRegression()\n",
    "clfLR.fit(Xtrainsel,ytrain)\n",
    "print(f\"Linear regression validation RMSE {metrics.mean_squared_error(yval, clfLR.predict(Xvalsel), squared = False):.0f}.\")\n",
    "\n",
    "# rozhodovací strom\n",
    "print(\"\\nRozhodovací strom\")\n",
    "from sklearn.tree import DecisionTreeRegressor\n",
    "\n",
    "param_grid = {\n",
    "    'max_depth': range(1, 15)\n",
    "}\n",
    "\n",
    "param_comb = ParameterGrid(param_grid)\n",
    "\n",
    "val_metric = []\n",
    "for params in param_comb:\n",
    "    clf = DecisionTreeRegressor(**params, random_state = 42).fit(Xtrainsel, ytrain)\n",
    "    val_metric.append(metrics.mean_squared_error(yval, clf.predict(Xvalsel), squared = False))\n",
    "    \n",
    "best_params = param_comb[np.argmin(val_metric)]\n",
    "print(f\"We found the best params {best_params} with validation RMSE {min(val_metric):.0f}.\")"
   ]
  },
  {
   "cell_type": "markdown",
   "id": "4f1120d2-285e-460f-98a6-971598829d1c",
   "metadata": {},
   "source": [
    "### Výsledky\n",
    "Vidíme, že modelu lineární regrese jsme tímto způsobem pomohli. Modelu rozhodovacího stromu už ne.\n",
    "\n",
    "### Úkol - zkuste data standardizovat a porovnat modely lasso, hřebenové regrese a lineární regrese s příznaky vybranými pomocí lasso"
   ]
  },
  {
   "cell_type": "code",
   "execution_count": null,
   "id": "6411cc50-1bfd-4919-8e85-358c77100419",
   "metadata": {},
   "outputs": [],
   "source": [
    "# Váš kód zde\n",
    "\n",
    "\n"
   ]
  },
  {
   "cell_type": "code",
   "execution_count": null,
   "id": "7c956ed1-424d-4552-94df-96d06b122b5d",
   "metadata": {},
   "outputs": [],
   "source": []
  }
 ],
 "metadata": {
  "kernelspec": {
   "display_name": "Python 3",
   "language": "python",
   "name": "python3"
  },
  "language_info": {
   "codemirror_mode": {
    "name": "ipython",
    "version": 3
   },
   "file_extension": ".py",
   "mimetype": "text/x-python",
   "name": "python",
   "nbconvert_exporter": "python",
   "pygments_lexer": "ipython3",
   "version": "3.7.5"
  }
 },
 "nbformat": 4,
 "nbformat_minor": 5
}
