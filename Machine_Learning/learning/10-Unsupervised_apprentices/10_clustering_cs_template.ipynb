{
 "cells": [
  {
   "cell_type": "markdown",
   "id": "97d84863-9ed5-4704-83f9-13953d3508f5",
   "metadata": {},
   "source": [
    "# Cvičení 10 - shlukování\n",
    "\n",
    "V dnešním cvičení budeme zkoumat metody pro shlukování, konkrétně aglomerativní hierarchické shlukován, KMeans a DBSCAN.\n",
    "\n",
    "Shlukování je jednou z úloh nesupervizovaného učení, kdy nemáme k dispozici žádnou vysvětlovanou proměnnou, kterou bychom chtěli predikovat.\n",
    "\n",
    "Cílem je tedy se v datech **\"vyznat\"** - tj. v zásadě zjistit, kde v příznakovém prostoru jsou oblasti s vysokou hustotou dat a kde oblasti s nízkou (nulovou) hustotou.\n",
    "Metody shlukování se k tomuto přiblíží tím, že rozdělí dataset na shluky bodů, které se vyskytují \"blízko\" sebe.\n",
    "Tím vlastně identifikují oblasti, kde se data vyskytují častěji.\n",
    "\n",
    "Výsledkem shlukování je rozklad množiny dat na jednotlivé shluky. To jest vytvoření $C = (C_1, \\dotsc, C_k)$, kde $C_i \\subset \\mathcal D$ pro každé $i$ a\n",
    "$C_i \\cap C_j = \\emptyset$ pro každé $i \\neq j$, přičemž\n",
    "$$\n",
    "  \\mathcal D = \\bigcup_{i=1}^k C_i.\n",
    "$$\n",
    "Bod $x \\in \\mathcal D$ je tedy v $i$-tém shluku, jestliže $x \\in C_i$.\n",
    "\n",
    "V tomto notebooku si budeme hrát se shlukováním.\n",
    " * Nejprve si na umělých datech vyzkoušíme hierarchické shlukování a algoritmus k-means, abychom si obě metody osahali.\n",
    " * Potom provedeme hierarchické shlukování na datasetu Iris (3 druhy kosatců) a podíváme se jak nalezené shluky odpovídají reálným druhům.\n",
    " * Nakonec se podíváme na vektorovou kvantizaci obrázků jakožto zajímavou aplikaci algoritmu k-means."
   ]
  },
  {
   "cell_type": "code",
   "execution_count": null,
   "id": "7c9ce1c9-d154-4fb9-aab3-548b16d13237",
   "metadata": {},
   "outputs": [],
   "source": [
    "import pandas as pd\n",
    "import numpy as np\n",
    "\n",
    "import matplotlib.pyplot as plt\n",
    "import matplotlib\n",
    "%matplotlib inline\n",
    "\n",
    "# potlačení výpisu floatů (tak aby 0.000 bylo zobrazeno jako 0.)\n",
    "np.set_printoptions(precision=5, suppress=True)"
   ]
  },
  {
   "cell_type": "markdown",
   "id": "05bbf6db-1038-44af-ab30-53b5014092fc",
   "metadata": {},
   "source": [
    "### Generování umělých dat"
   ]
  },
  {
   "cell_type": "code",
   "execution_count": null,
   "id": "8476833b-ab64-45ea-912a-cf20be613736",
   "metadata": {},
   "outputs": [],
   "source": [
    "# generování tří shluků: a se 60 body, b se 40 body, c s 60:\n",
    "np.random.seed(47)  # zajistí replikovatelnost\n",
    "a = np.random.multivariate_normal([6, 7], [[2, 0.5], [0.5, 2]], size=[40,])\n",
    "b = np.random.multivariate_normal([0, 15], [[2, 0], [0, 2]], size=[40,])\n",
    "c1 = np.random.multivariate_normal([15, 0], [[5, 3], [3, 2]], size=[20,])\n",
    "c2 = np.random.multivariate_normal([20, 2], [[2, 1], [1, 2]], size=[20,])\n",
    "c3 = np.random.multivariate_normal([22, 6], [[1, 2], [2, 5]], size=[20,])\n",
    "\n",
    "# spojení shluků do X\n",
    "X = np.concatenate((a, b, c1, c2, c3),)\n",
    "\n",
    "# zobrazení velikosti výsledných dat\n",
    "print(X.shape)\n",
    "\n",
    "# zobrazení výsledných dat\n",
    "plt.figure(figsize=(15, 7))\n",
    "plt.scatter(X[:,0], X[:,1])\n",
    "plt.axis('equal')\n",
    "plt.show()"
   ]
  },
  {
   "cell_type": "markdown",
   "id": "fe16c378-df40-449e-9223-c971f340fec3",
   "metadata": {},
   "source": [
    "## Aglomerativní herarchické shlukování\n",
    "\n",
    "Nejprve použijeme knihovnu `scipy`, konkrétně balíček hierarchického shlukování `scipy.cluster.hierarchy`. [(dokumentace zde)](https://docs.scipy.org/doc/scipy/reference/cluster.hierarchy.html).\n",
    "\n",
    "### Matice propojení\n",
    "\n",
    "Pro její sestavení použijeme funkci `linkage`. [(dokumentace zde)](https://docs.scipy.org/doc/scipy/reference/generated/scipy.cluster.hierarchy.linkage.html#scipy.cluster.hierarchy.linkage).\n",
    "\n",
    "* Základním  argumentem je (vzdálenost) metrika, která se má použít pro dvojice bodů. [(seznam možností zde)](https://docs.scipy.org/doc/scipy/reference/generated/scipy.spatial.distance.pdist.html#scipy.spatial.distance.pdist)\n",
    "    - výchozí je euklidovská vzdálenost (`euclidean`)\n",
    "    - k dispozici jsou ale i všechny další \"běžné\" vzdálenosti, jako např. manhattanská vzdálenost (`cityblock`)\n",
    "\n",
    "* Dalším klíčovým argumentem je volba metody, kterou se měří vzdálenosti shluků.\n",
    "* Nyní použijeme metodu nejbližšího souseda - **single linkage** (`single`). Později si můžete zkusit i ostatní:\n",
    "    - complete linkage (`complete`),\n",
    "    - average linkage (`average`),\n",
    "    - wardova metoda (`ward`).\n",
    "    \n"
   ]
  },
  {
   "cell_type": "code",
   "execution_count": null,
   "id": "3f5dc24c-cf13-4bfc-8cd6-5c4fc7dff0ef",
   "metadata": {},
   "outputs": [],
   "source": [
    "from scipy.cluster.hierarchy import linkage\n",
    "\n",
    "# spočteme tzv. matici propojení\n",
    "Z = linkage(X, method=\"single\", metric=\"euclidean\")\n",
    "\n",
    "# rozměry výstupu\n",
    "print(Z.shape)"
   ]
  },
  {
   "cell_type": "markdown",
   "id": "2e1f7f3e-1571-4fd3-bb6b-d8efebc9bbe5",
   "metadata": {},
   "source": [
    "Výstupem je matice propojení (linkage matrix), ve které každý řádek odpovídá jednomu spojení shluků do nového shluku. \n",
    "\n",
    "Sloupce jsou:\n",
    "* index prvního spojovaného shluku,\n",
    "* index druhého spojovaného shluku,\n",
    "* vzdálenost mezi spojovanými shluky,\n",
    "* počet bodů, které jsou v nově vytvořeném shluku."
   ]
  },
  {
   "cell_type": "code",
   "execution_count": null,
   "id": "1fd7c502-ee64-49a0-add0-df0822e9ec9e",
   "metadata": {},
   "outputs": [],
   "source": [
    "# Podívejme se na prvních 5 řádků Z\n",
    "print(Z[:5,:])"
   ]
  },
  {
   "cell_type": "markdown",
   "id": "3f2f8eea-5ba8-4c89-bb7a-f77f561a6e61",
   "metadata": {},
   "source": [
    "Obvzláště si všimněte pátého řádku, kde má jeden ze spojovaných shluků index 143, což je ve skutečnosti třetí  shluk vytvořený spojením bodů s indexy 128 a 138."
   ]
  },
  {
   "cell_type": "markdown",
   "id": "b5f81484-cd5d-4672-a585-cf23609b51a1",
   "metadata": {},
   "source": [
    "### Vizualizace plného dendrogramu\n",
    "\n",
    "Použijeme funkci `dendrogram` [(dokumentace zde)](https://docs.scipy.org/doc/scipy/reference/generated/scipy.cluster.hierarchy.dendrogram.html#scipy.cluster.hierarchy.dendrogram)."
   ]
  },
  {
   "cell_type": "code",
   "execution_count": null,
   "id": "718700f5-bb6a-4070-a510-a9fd4abd24e0",
   "metadata": {},
   "outputs": [],
   "source": [
    "from scipy.cluster.hierarchy import dendrogram\n",
    "plt.figure(figsize=(20, 10))\n",
    "plt.title(\"Dendrogram hierarchického shlukování\")\n",
    "plt.xlabel(\"index bodu\")\n",
    "plt.ylabel(\"vzdálenost\")\n",
    "\n",
    "dendrogram(\n",
    "    Z,\n",
    "    leaf_rotation=90.,  # otočení popisů x-ové osy\n",
    "    leaf_font_size=8.,  # velikost fontu popisů x-ové osy\n",
    ")\n",
    "\n",
    "plt.show()"
   ]
  },
  {
   "cell_type": "markdown",
   "id": "014828cd-5d81-43c1-be82-b0081b61f168",
   "metadata": {},
   "source": [
    "Všimněte si, že:\n",
    "* horizontální čáry odpovídají spojením shluků\n",
    "* vertikální čáry nám říkají, které shluky se do nového shluku spojují\n",
    "* výšky (tj. y-ové pozice) horizontálních čar odpovídají vzdálenosti mezi spojovanými shluky\n",
    "\n",
    "### Vizualizace ořezaného dendrogramu\n",
    "\n",
    "Zobrazíme pouze horní část dendrogramu, kde dochází ke spojování posledních velkých shluků."
   ]
  },
  {
   "cell_type": "code",
   "execution_count": null,
   "id": "6c0268f8-3589-406a-b188-717861f5a566",
   "metadata": {},
   "outputs": [],
   "source": [
    "plt.title(\"Dendrogram hierarchického shlukování (oříznutý)\")\n",
    "plt.xlabel(\"index bodu (nebo velikost shluku)\")\n",
    "plt.ylabel(\"vzdálenost\")\n",
    "\n",
    "dendrogram(\n",
    "    Z,\n",
    "    truncate_mode=\"lastp\",  # Zobraz jenom posledních p spojených shluků\n",
    "    p=11,  # Nastavení tohto p\n",
    "    leaf_rotation=90.,\n",
    "    leaf_font_size=12.,\n",
    "    show_contracted=True,  # pomáhá vizuální představě o spojování vedoucí k těm uříznutým shlukům \n",
    "    # (čárky na spodních vertikálních čárách).\n",
    ")\n",
    "\n",
    "plt.show()"
   ]
  },
  {
   "cell_type": "markdown",
   "id": "6bfc83b5-7a7a-4ec3-a422-b61232a85e2f",
   "metadata": {},
   "source": [
    "### Vizualizace ořezaného dendrogramu s výpisem vzdáleností\n",
    "\n",
    "S využitím: [annotating the distances inside the dendrogram](https://stackoverflow.com/questions/11917779/how-to-plot-and-annotate-hierarchical-clustering-dendrograms-in-scipy-matplotlib/12311618#12311618)"
   ]
  },
  {
   "cell_type": "code",
   "execution_count": null,
   "id": "4f816295-fc16-4664-a6d6-9b96ebe6af40",
   "metadata": {},
   "outputs": [],
   "source": [
    "def draw_distance_annotated_dendrogram(*args, **kwargs):\n",
    "    # pop arguments which are not expected by dendrogram function\n",
    "    max_d = kwargs.pop(\"max_d\", None)\n",
    "    annotate_if_above = kwargs.pop(\"annotate_if_above\", 0.0)\n",
    "    \n",
    "    if max_d and \"color_threshold\" not in kwargs:\n",
    "        kwargs[\"color_threshold\"] = max_d\n",
    "    \n",
    "    plt.title(\"Dendrogram hierarchického shlukování (oříznutý) se vzdáleností\")\n",
    "    plt.xlabel(\"index bodu (nebo velikost shluku)\")\n",
    "    plt.ylabel(\"vzdálenost\")\n",
    "    \n",
    "    # create the dendrogram\n",
    "    ddata = dendrogram(*args, **kwargs)\n",
    "\n",
    "    for i, d, c in zip(ddata[\"icoord\"], ddata[\"dcoord\"], ddata[\"color_list\"]):\n",
    "        x = 0.5 * sum(i[1:3])\n",
    "        y = d[1]\n",
    "        # if the annotation value is above the threshold\n",
    "        if y > annotate_if_above:\n",
    "            # plot a point at given x, y position\n",
    "            plt.plot(x, y, \"o\", c=c)\n",
    "            # show an annotation by the plotted point\n",
    "            plt.annotate(\n",
    "                \"%.3g\" % y, (x, y), xytext=(0, -5), textcoords=\"offset points\", va=\"top\", ha=\"center\"\n",
    "            )\n",
    "    \n",
    "    # show a horizontal line\n",
    "    if max_d:\n",
    "        plt.axhline(y=max_d, c=\"k\")"
   ]
  },
  {
   "cell_type": "code",
   "execution_count": null,
   "id": "e63e7b34-3114-4a60-b66d-b6dbf2311329",
   "metadata": {},
   "outputs": [],
   "source": [
    "draw_distance_annotated_dendrogram(\n",
    "    Z,\n",
    "    truncate_mode=\"lastp\",\n",
    "    p=12,\n",
    "    leaf_rotation=90.,\n",
    "    leaf_font_size=12.,\n",
    "    show_contracted=True,\n",
    "    annotate_if_above=1.9,  # výhodné u malých obrázků, aby se to nepřekrývalo\n",
    ")\n",
    "\n",
    "plt.show()"
   ]
  },
  {
   "cell_type": "markdown",
   "id": "bf231725-8cdc-447f-a53c-a2dd3b6d2cf8",
   "metadata": {},
   "source": [
    "## Získání shlukování z matice propojení\n",
    "\n",
    "Doposud jsme pouze měli matici propojení a z ní uměli vykreslit dendrogram. Nyní si ukážeme, jak pomocí zvoleného kritéria získáme výsledné shlukování.\n",
    "\n",
    "Ve všech případech použijeme funkci `fcluster` [(dokumentace zde)](https://docs.scipy.org/doc/scipy/reference/generated/scipy.cluster.hierarchy.fcluster.html#scipy.cluster.hierarchy.fcluster).\n",
    "\n",
    "### Víme požadovaný počet shluků $k$\n",
    "To bývá jeden z nejčastějších hyperparametrů shlukovacích algoritmů."
   ]
  },
  {
   "cell_type": "code",
   "execution_count": null,
   "id": "359a7c8a-6a09-4c45-8e04-1f99de105e20",
   "metadata": {},
   "outputs": [],
   "source": [
    "from scipy.cluster.hierarchy import fcluster\n",
    "\n",
    "k = 3\n",
    "\n",
    "k_clusters = fcluster(Z, k, criterion=\"maxclust\")\n",
    "\n",
    "# výpis shlukování\n",
    "print(k_clusters)\n",
    "\n",
    "plt.scatter(X[:,0], X[:,1], c=k_clusters, cmap=\"brg\", alpha=0.4)\n",
    "plt.show()"
   ]
  },
  {
   "cell_type": "markdown",
   "id": "141775dd-8bc8-4f8e-a185-e0ff628b40be",
   "metadata": {},
   "source": [
    "### Víme požadovanou maximální vzdálenost nad kterou již nechceme shluky spojovat\n",
    "\n",
    "Máme tedy výšku řezu v dendrogramu. "
   ]
  },
  {
   "cell_type": "code",
   "execution_count": null,
   "id": "77e771d7-3082-466b-a5f4-4b5d1a7b8f31",
   "metadata": {},
   "outputs": [],
   "source": [
    "draw_distance_annotated_dendrogram(\n",
    "    Z,\n",
    "    truncate_mode=\"lastp\",\n",
    "    p=12,\n",
    "    leaf_rotation=90.,\n",
    "    leaf_font_size=12.,\n",
    "    show_contracted=True,\n",
    "    annotate_if_above=1.9,  # výhodné u malých obrázků, aby se to nepřekrývalo\n",
    ")\n",
    "\n",
    "plt.show()"
   ]
  },
  {
   "cell_type": "markdown",
   "id": "eddb24ea-de03-4d80-94ee-bb1f27da9493",
   "metadata": {},
   "source": [
    "Vybereme si vhodnou výšku a provedeme řez."
   ]
  },
  {
   "cell_type": "code",
   "execution_count": null,
   "id": "1770417c-db2e-4f97-a339-9dc462958b7d",
   "metadata": {},
   "outputs": [],
   "source": [
    "max_d = 4\n",
    "\n",
    "clusters = fcluster(Z, max_d, criterion=\"distance\")\n",
    "\n",
    "print(clusters)  # výpis shlukování\n",
    "\n",
    "plt.scatter(X[:,0], X[:,1], c=clusters, cmap=\"brg\", alpha=0.4)  # plot points with cluster dependent colors\n",
    "plt.show()"
   ]
  },
  {
   "cell_type": "markdown",
   "id": "cb179a9e-9290-44a3-bcc9-dc6a6feb5e84",
   "metadata": {},
   "source": [
    "### Využití `sklearn`\n",
    "\n",
    "Hierarchické aglomerativní shlukování je také implementováno v knihovn `sklearn`\n",
    "jako `sklearn.cluster.AgglomerativeClustering`.\n",
    "\n",
    "Zde již není výstupem matice propojení, ale výsledné shlukování (matici propojení ale lze také získat).\n",
    "Hodí se tedy především, když například známe požadovaný výsledný počet shluků, nebo hranici vzdálenosti, nad kterou už shluky spojovat nechceme."
   ]
  },
  {
   "cell_type": "code",
   "execution_count": null,
   "id": "6c83c9ea-c853-40d9-93cc-e883b574ab43",
   "metadata": {},
   "outputs": [],
   "source": [
    "from sklearn.cluster import AgglomerativeClustering\n",
    "\n",
    "agg = AgglomerativeClustering(distance_threshold=4, n_clusters=None, linkage = 'single', compute_distances = True)\n",
    "agg.fit(X)"
   ]
  },
  {
   "cell_type": "code",
   "execution_count": null,
   "id": "b672861f-b377-43f2-a8b8-0576d07e3dc2",
   "metadata": {},
   "outputs": [],
   "source": [
    "print(agg.labels_)  # výpis shlukování\n",
    "\n",
    "plt.scatter(X[:,0], X[:,1], c=agg.labels_, cmap=\"brg\", alpha=0.4)  # plot points with cluster dependent colors\n",
    "plt.show()"
   ]
  },
  {
   "cell_type": "markdown",
   "id": "39ea6787-a94b-426a-8271-14d41e8bebd2",
   "metadata": {},
   "source": [
    "Pokud bychom chtěli v tomto případě nakreslit dendrogram, musíme si nejprve sestrojit matici propojení."
   ]
  },
  {
   "cell_type": "code",
   "execution_count": null,
   "id": "9697eb63-dc7f-4020-bbb2-93011dcec934",
   "metadata": {},
   "outputs": [],
   "source": [
    "def get_linkage_matrix(model):\n",
    "    \"\"\"\n",
    "    Konstrukce matice propojení z objektu AgglomerativeClustering\n",
    "    \"\"\"\n",
    "    counts = np.zeros(model.children_.shape[0])\n",
    "    n_samples = len(model.labels_)\n",
    "    for i, merge in enumerate(model.children_):\n",
    "        current_count = 0\n",
    "        for child_idx in merge:\n",
    "            if child_idx < n_samples:\n",
    "                current_count += 1  # leaf node\n",
    "            else:\n",
    "                current_count += counts[child_idx - n_samples]\n",
    "        counts[i] = current_count\n",
    "\n",
    "    linkage_matrix = np.column_stack(\n",
    "            [agg.children_, agg.distances_, counts]\n",
    "        ).astype(float)\n",
    "    \n",
    "    return linkage_matrix"
   ]
  },
  {
   "cell_type": "code",
   "execution_count": null,
   "id": "0bc6dba6-6a10-4fdb-a16f-27d97180b393",
   "metadata": {},
   "outputs": [],
   "source": [
    "# Opět si vykreslíme dendrogram\n",
    "Zagg = get_linkage_matrix(agg)\n",
    "draw_distance_annotated_dendrogram(\n",
    "    Zagg,\n",
    "    truncate_mode=\"lastp\",\n",
    "    p=12,\n",
    "    leaf_rotation=90.,\n",
    "    leaf_font_size=12.,\n",
    "    show_contracted=True,\n",
    "    annotate_if_above=1.9,  # výhodné u malých obrázků, aby se to nepřekrývalo\n",
    ")\n",
    "\n",
    "plt.show()"
   ]
  },
  {
   "cell_type": "markdown",
   "id": "5100e775-5f4f-4659-a3af-6b1576367347",
   "metadata": {},
   "source": [
    "### Úkol - experimentujte na tomto datasetu s dalšími nastaveními vzdálenosti bodů a shluků\n",
    "\n",
    "Zkuste prozkoumat především vliv nastavení vzdáleností shluků. Zajímavý je výsledek pro _complete_."
   ]
  },
  {
   "cell_type": "code",
   "execution_count": null,
   "id": "ad858088-b3ec-4525-8995-0615de893245",
   "metadata": {},
   "outputs": [],
   "source": [
    "# Váš kód zde\n",
    "\n",
    "\n"
   ]
  },
  {
   "cell_type": "markdown",
   "id": "2978c2cd-4f68-442b-aa4e-1df4600799de",
   "metadata": {},
   "source": [
    "### Doplnění - evaluaci dendrogramu lze provádět pomocí cophenetické korelace\n",
    "\n",
    "Jedná se o korelační koeficient mezi vzdálenostmi dvojic bodů $d(x,y)$ a výšky $t(x,y)$ v dendrogramu, kde se poprvé spojují body $x$ a $y$: https://en.wikipedia.org/wiki/Cophenetic_correlation\n",
    "\n",
    "\n"
   ]
  },
  {
   "cell_type": "code",
   "execution_count": null,
   "id": "f9c60e40-5056-4860-b7b3-110b7027658a",
   "metadata": {},
   "outputs": [],
   "source": [
    "from scipy.cluster.hierarchy import cophenet\n",
    "from scipy.spatial.distance import pdist\n",
    "pdistances = pdist(X, metric = \"euclidean\")\n",
    "Z = linkage(X, method=\"single\", metric=\"euclidean\")\n",
    "cophenet_coef = np.corrcoef(pdistances, cophenet(Z))[0,1]\n",
    "print(cophenet_coef)"
   ]
  },
  {
   "cell_type": "markdown",
   "id": "17a30826-41e2-48fd-b6ab-a921f78fcf7d",
   "metadata": {},
   "source": [
    "## Algoritmus $k$-means\n",
    "\n",
    "Použijeme implementaci `sklearn.cluster.KMeans` [(dokumentace zde)](http://scikit-learn.org/stable/modules/generated/sklearn.cluster.KMeans.html#sklearn.cluster.KMeans)."
   ]
  },
  {
   "cell_type": "code",
   "execution_count": null,
   "id": "95b4ee63-1047-4d25-815f-5ea041735ba9",
   "metadata": {},
   "outputs": [],
   "source": [
    "from sklearn.cluster import KMeans\n",
    "\n",
    "# Nejdřív zkusme 2 shuky\n",
    "k = 2\n",
    "kmeans = KMeans(n_clusters = k, random_state = 1).fit(X)\n",
    "\n",
    "# výsledné shluky\n",
    "print(kmeans.labels_)\n",
    "# a jejich středy\n",
    "print(kmeans.cluster_centers_)\n",
    "\n",
    "# Vizualizace\n",
    "plt.scatter(X[:,0], X[:,1], c=kmeans.labels_, cmap='brg', alpha=0.4)  # plot points with cluster dependent colors\n",
    "plt.scatter(kmeans.cluster_centers_[:,0], kmeans.cluster_centers_[:,1], c = 'black', s=100)\n",
    "plt.show()"
   ]
  },
  {
   "cell_type": "code",
   "execution_count": null,
   "id": "8fb3d878-56e9-46ac-a8d2-52bd4136719c",
   "metadata": {},
   "outputs": [],
   "source": [
    "# To stejné pro 3 shluky\n",
    "k = 3\n",
    "kmeans = KMeans(n_clusters = k, random_state = 1).fit(X)\n",
    "\n",
    "# Vizualizace\n",
    "plt.scatter(X[:,0], X[:,1], c=kmeans.labels_, cmap='brg', alpha=0.4)  # plot points with cluster dependent colors\n",
    "plt.scatter(kmeans.cluster_centers_[:,0], kmeans.cluster_centers_[:,1], c = 'black', s=100)\n",
    "plt.show()"
   ]
  },
  {
   "cell_type": "markdown",
   "id": "b96aa178-e96a-4a23-a33e-0028277ff09b",
   "metadata": {},
   "source": [
    "V defaultním nastavení probíhá inicializace středů \"chytrým\" způsobem, `init = 'k-means++'` [David, Vassilvitskii (2007)](http://ilpubs.stanford.edu:8090/778/1/2006-13.pdf), a běh algoritmu se opakuje 10 krát, `n_init = 10`.\n",
    "\n",
    "Finálním výstupem je pak výstup nějlepšího běhu (nejmenší hodnota účelové funkce výsledku).\n",
    "\n",
    "Kromě této \"chytré\" inicializace je možné použít klasickou náhodnou inicializaci (náhodný výběr z dat) nebo dokonce určit počáteční středy manuálně."
   ]
  },
  {
   "cell_type": "code",
   "execution_count": null,
   "id": "29398e50-8ac3-4fab-a6c4-4cf29fa21455",
   "metadata": {},
   "outputs": [],
   "source": [
    "k = 3\n",
    "# manuální inicializace\n",
    "initial_centers = np.array([[0,10],[10,10],[10,0]])\n",
    "\n",
    "# shlukování\n",
    "kmeans = KMeans(n_clusters = k, random_state = 1, init = initial_centers, n_init = 1).fit(X)\n",
    "\n",
    "# Vizualizace\n",
    "plt.scatter(X[:,0], X[:,1], c=kmeans.labels_, cmap='brg', alpha=0.4)  # plot points with cluster dependent colors\n",
    "plt.scatter(initial_centers[:,0], initial_centers[:,1], c = 'black', s=50, alpha = 0.9, marker = 'x') # initial centers\n",
    "plt.scatter(kmeans.cluster_centers_[:,0], kmeans.cluster_centers_[:,1], c = 'black', s=100) # final centers\n",
    "plt.legend(['Data', 'Počáteční středy', 'Výsledné středy'])\n",
    "plt.show()"
   ]
  },
  {
   "cell_type": "markdown",
   "id": "6c73e647-858d-4962-8ed7-4d378721cf3e",
   "metadata": {},
   "source": [
    "### Určování optimální hodnoty $k$\n",
    "Zobrazíme hodnotu účelové funkce vzávislosti na $k$ a budeme hledat bod zlomu (loket)."
   ]
  },
  {
   "cell_type": "code",
   "execution_count": null,
   "id": "0806c1c8-4164-4b01-95b4-2c056237f0e5",
   "metadata": {},
   "outputs": [],
   "source": [
    "ix = np.zeros(5)\n",
    "iy = np.zeros(5)\n",
    "for k in range(ix.shape[0]):\n",
    "    kmeans = KMeans(n_clusters=k+1, random_state = 1)\n",
    "    kmeans.fit(X)\n",
    "    iy[k] = kmeans.inertia_\n",
    "    ix[k] = k+1\n",
    "\n",
    "plt.xlabel('$k$')\n",
    "plt.ylabel('Účelová funkce')\n",
    "plt.plot(ix, iy, 'o-')\n",
    "plt.show()"
   ]
  },
  {
   "cell_type": "markdown",
   "id": "921c4c02-a4aa-454d-b875-66161b1d16f6",
   "metadata": {},
   "source": [
    "## Algoritmus DBSCAN\n",
    "\n",
    "Jako poslední algoritmus si ukážeme algoritmus DBSCAN z poslední přednášky.\n",
    "Použijeme implementaci `sklearn.cluster.DBSCAN`.\n",
    "\n",
    "\n",
    "Tento algoritmus automaticky určuje počet shluků a také některé body, které jsou od ostatních shluků \"odlehlé\", označí jako _šum_ (_noise_). \n",
    "\n",
    "Základním hyperparametry algoritmu jsou:\n",
    "* eps - maximální vzdálenost mezi dvěma body, aby je algoritmus považoval za sousední. Jedná se o nejdůležitější parametr.\n",
    "* min_samples - minimání počet bodů, které musí být v $\\epsilon$-okolí bodu, aby byl bod považován za \"core\" point.\n",
    "* metric - metrika\n"
   ]
  },
  {
   "cell_type": "code",
   "execution_count": null,
   "id": "5ccf4618-c048-4503-a64d-8a70fa8d2f35",
   "metadata": {},
   "outputs": [],
   "source": [
    "from sklearn.cluster import DBSCAN\n",
    "\n",
    "# shlukování\n",
    "clustering = DBSCAN(eps=3).fit(X)\n",
    "\n",
    "lab = clustering.labels_\n",
    "# Vizualizace\n",
    "plt.scatter(X[lab>-1,0], X[lab>-1,1], c=lab[lab>-1], cmap='brg', alpha=0.4)  # plot points with cluster dependent colors\n",
    "plt.scatter(X[lab<-0,0], X[lab<0,1], c='gray',alpha=0.9)  # plot noise\n",
    "plt.show()"
   ]
  },
  {
   "cell_type": "markdown",
   "id": "46a787b2-b3b0-4451-8c4f-e62c2d4b1476",
   "metadata": {},
   "source": [
    "Jako \"sum\" zde byl označen jeden bod."
   ]
  },
  {
   "cell_type": "code",
   "execution_count": null,
   "id": "bae5e421-a380-44c0-afaa-c61717b705f9",
   "metadata": {},
   "outputs": [],
   "source": [
    "clustering = DBSCAN(eps=5).fit(X)\n",
    "\n",
    "lab = clustering.labels_\n",
    "# Vizualizace\n",
    "plt.scatter(X[lab>-1,0], X[lab>-1,1], c=lab[lab>-1], cmap='brg', alpha=0.4)  # plot points with cluster dependent colors\n",
    "plt.scatter(X[lab<-0,0], X[lab<0,1], c='gray',alpha=0.9)  # plot noise\n",
    "plt.show()"
   ]
  },
  {
   "cell_type": "markdown",
   "id": "e224e125-014e-4943-a6b7-97d271e3da13",
   "metadata": {},
   "source": [
    "## Shlukování na Irirs datasetu\n",
    "\n",
    "Podívejme se nyní na výkonnost shlukovacích algoritmů na známém Iris datasetu.\n",
    "\n",
    "Pokusíme se prozkoumat, zda shlukování dokáže identifikovat jednotlivé třídy a vůbec poznat, že by mohly být 3.\n",
    "\n",
    "Vysvětlovanou zde budeme používat pouze k měření výsledků shlukování."
   ]
  },
  {
   "cell_type": "code",
   "execution_count": null,
   "id": "c1d04f2d-b21c-4ca8-baec-89a4c62fe40d",
   "metadata": {},
   "outputs": [],
   "source": [
    "from sklearn import datasets\n",
    "iris = datasets.load_iris()\n",
    "X = iris.data\n",
    "y = iris.target\n",
    "\n",
    "print('X shape:', X.shape)"
   ]
  },
  {
   "cell_type": "markdown",
   "id": "53131043-3bfc-43b3-8d82-53d1e2697f7a",
   "metadata": {},
   "source": [
    "## Úkol - proveďte hierarchické shlukování na Iris datasetu\n",
    "* Hledejte 3 shluky\n",
    "* Diskutujte a kvantifikujte vhodným způsobem kvalitu výsledných shluků ve vztahu ke skutečným druhým kosatců (Setosa, Versicolour a Virginica), které jsou uložené vproměnné y.\n",
    "* Zkuste najít nejlepší metodu měření vzdáleností shluků, aby získané shluky nejvíce odpovídaly skutečným druhům kosatců."
   ]
  },
  {
   "cell_type": "code",
   "execution_count": null,
   "id": "d5e2e672-5733-45c4-8a20-4f0e50f962f1",
   "metadata": {},
   "outputs": [],
   "source": [
    "## Váš kód napište sem\n",
    "\n",
    "\n"
   ]
  },
  {
   "cell_type": "code",
   "execution_count": null,
   "id": "77afaf09-669c-44f9-9875-9377db0ebbea",
   "metadata": {},
   "outputs": [],
   "source": [
    "from mpl_toolkits.mplot3d import Axes3D\n",
    "\n",
    "fig = plt.figure(figsize=(15, 5))\n",
    "\n",
    "ax = fig.add_subplot(121, projection='3d')\n",
    "ax.scatter(X[:,0], X[:,2], X[:,3], c=y, cmap='brg', alpha=0.4)\n",
    "ax.set_title('True clusters')\n",
    "\n",
    "ax = fig.add_subplot(122, projection='3d')\n",
    "ax.scatter(X[:,0], X[:,2], X[:,3], c=clusters, cmap='brg', alpha=0.4)\n",
    "ax.set_title('Predicted clusters')\n",
    "\n",
    "plt.show()"
   ]
  },
  {
   "cell_type": "markdown",
   "id": "57092cb1-fbc3-48fd-b695-1131344ea46b",
   "metadata": {},
   "source": [
    "### Úkol - pro porovnání zkuste i KMeans"
   ]
  },
  {
   "cell_type": "code",
   "execution_count": null,
   "id": "a7491327-9243-4406-878a-1423d8ffa62f",
   "metadata": {},
   "outputs": [],
   "source": [
    "# Váš kód zde\n",
    "\n"
   ]
  },
  {
   "cell_type": "markdown",
   "id": "7b850d33-14a8-4dac-9488-e3f7f83313d4",
   "metadata": {},
   "source": [
    "## Bonus 1 - vektorová kvantizace obrázků\n",
    "\n",
    "Je třeba instalovat balíček Pillow\n",
    "`pip install Pillow`. [(dokumentace zde)](https://pypi.org/project/Pillow/)\n",
    "\n",
    "Nejprve úvodní část kódu, která nás dovede na začátek vlastního problému."
   ]
  },
  {
   "cell_type": "code",
   "execution_count": null,
   "id": "0902b79d-fb98-4e17-b2d2-5d493e10a953",
   "metadata": {},
   "outputs": [],
   "source": [
    "from PIL import Image\n",
    "# otevření a převedení do stupňů šedi\n",
    "im = Image.open(\"img/figure.jpg\").convert(\"L\")\n",
    "# normalizace numpy array na čísla mezi 0 a 1\n",
    "pix = np.array(im)/255.0\n",
    "print('Shape of the array:', pix.shape)\n",
    "# Zobrazení\n",
    "plt.imshow(pix, cmap=\"gray\", clim=(0, 1));\n",
    "plt.show()"
   ]
  },
  {
   "cell_type": "markdown",
   "id": "48d50445-93b2-467a-8c5a-568bc8bb0a61",
   "metadata": {},
   "source": [
    "Vlastní cíl:\n",
    "* ořízněme obrázek tak, aby jeho šířka byla násobkem 4\n",
    "* vytvoříme sloupcové bločky délky 4 - tj. části z originálního obrázku s rozměry (1,4).\n",
    "* provedeme shlukování pomocí k-means s k = 255 shluky - tj. bude stačit jeden bajt na přenesení informace o příslušnosti ke shluku\n",
    "* extrahujeme středy bloků a labely - tj. indexy příslušnosti originálních bločků k jednotlivým shlukům\n",
    "* dekódujeme je zpět do pole s rozměrem originálního obrázku - **hint** - využijte: `restored = np.take(centroids, labels, axis = 0)`\n",
    "* zobrazíme výsledek"
   ]
  },
  {
   "cell_type": "code",
   "execution_count": null,
   "id": "960bc7c4-83a7-4051-a140-8bd59aa6471f",
   "metadata": {},
   "outputs": [],
   "source": [
    "from sklearn.cluster import KMeans\n",
    "\n",
    "block_len = 4\n",
    "\n",
    "rows,cols = pix.shape\n",
    "pix = pix[:, :(cols - cols % block_len)]\n",
    "\n",
    "X = pix.reshape(-1, block_len)\n",
    "print(X.shape)\n",
    "\n",
    "k = 16\n",
    "kmeans = KMeans(n_clusters=k, random_state=1, n_init=2).fit(X)\n",
    "\n",
    "centroids = kmeans.cluster_centers_\n",
    "labels = kmeans.labels_\n",
    "print(centroids.shape)\n",
    "print(labels.shape)\n",
    "\n",
    "restored = np.take(centroids, labels, axis = 0)\n",
    "final_pix = restored.reshape(pix.shape)\n",
    "\n",
    "plt.imshow(final_pix, cmap=\"gray\", clim=(0, 1));\n",
    "plt.show()"
   ]
  },
  {
   "cell_type": "markdown",
   "id": "bcd245f6-7464-4fe5-90c1-70d3110886bf",
   "metadata": {},
   "source": [
    "## Bonus 2 - získání \"hlavních\" barev obrázku\n",
    "\n",
    "V barevném prostoru provedeme shlukování."
   ]
  },
  {
   "cell_type": "code",
   "execution_count": null,
   "id": "029c68eb-298c-4713-8af1-705aaff75a6a",
   "metadata": {},
   "outputs": [],
   "source": [
    "from IPython.display import Image\n",
    "Image(filename='img/resized.jpg') "
   ]
  },
  {
   "cell_type": "code",
   "execution_count": null,
   "id": "d8762875-c485-4bae-a08a-0103432ade22",
   "metadata": {},
   "outputs": [],
   "source": [
    "from matplotlib.image import imread\n",
    "from sklearn.cluster import KMeans\n",
    "from matplotlib.colors import to_hex\n",
    "from PIL import Image\n",
    "import colorsys\n",
    "import os\n",
    "\n",
    "palette_size = 10\n",
    "\n",
    "#load image\n",
    "img = imread('img/resized.jpg')\n",
    "\n",
    "#get image dimensions\n",
    "w, h, d = original_shape = tuple(img.shape)\n",
    "\n",
    "#set RGB\n",
    "assert d == 3\n",
    "\n",
    "#transform to 2D array\n",
    "image_array = np.reshape(img, (w * h, d))\n",
    "image_array = image_array/255 #normalizacia\n",
    "km = KMeans(n_clusters=palette_size, n_init=10, max_iter=300).fit(image_array)\n",
    "\n",
    "color_list = []\n",
    "\n",
    "for c in km.cluster_centers_:\n",
    "    color_list.append(c)\n",
    "\n",
    "# seřazení pomocí hsv - vypadá pěkně\n",
    "color_list.sort(key=lambda x: colorsys.rgb_to_hsv(x[0], x[1], x[2]))\n",
    "\n",
    "boxes = []\n",
    "for c in color_list:\n",
    "    print(c)\n",
    "    boxes.append(Image.new(\"RGB\", (210,210), to_hex(c)))"
   ]
  },
  {
   "cell_type": "code",
   "execution_count": null,
   "id": "ab3c25f3-e66e-4acb-aee7-4fdbcc1ba69f",
   "metadata": {},
   "outputs": [],
   "source": [
    "plt.imshow(img)\n",
    "plt.axis(\"off\")\n",
    "plt.show()\n",
    "# display(boxes[1])\n",
    "fig, ax = plt.subplots(1, palette_size)\n",
    "for i in range(palette_size):\n",
    "    ax[i].imshow(np.asarray(boxes[i]))\n",
    "    ax[i].axis('off')\n",
    "plt.show()"
   ]
  },
  {
   "cell_type": "code",
   "execution_count": null,
   "id": "fd695404-72e9-4fa8-b63f-9d204fd523c2",
   "metadata": {},
   "outputs": [],
   "source": []
  }
 ],
 "metadata": {
  "kernelspec": {
   "display_name": "Python 3",
   "language": "python",
   "name": "python3"
  },
  "language_info": {
   "codemirror_mode": {
    "name": "ipython",
    "version": 3
   },
   "file_extension": ".py",
   "mimetype": "text/x-python",
   "name": "python",
   "nbconvert_exporter": "python",
   "pygments_lexer": "ipython3",
   "version": "3.7.5"
  }
 },
 "nbformat": 4,
 "nbformat_minor": 5
}
