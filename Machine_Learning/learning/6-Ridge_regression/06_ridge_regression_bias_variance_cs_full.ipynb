{
 "cells": [
  {
   "cell_type": "markdown",
   "id": "8fd4dc1d-ea14-4ec0-aa93-92e4013be64b",
   "metadata": {},
   "source": [
    "# Cvičení 6 - Hřebenová regrese, bias-variance tradeoff\n",
    "\n",
    "V tomto notebooku se budeme zabývat: \n",
    "* hřebenovou regresí \n",
    "* analýzou vztahu vychýlení a rozptylu\n",
    "* základními statistickými vlastnostmi odhadu"
   ]
  },
  {
   "cell_type": "code",
   "execution_count": 1,
   "id": "2aa2a783-e061-4904-8181-323f2a36cbe8",
   "metadata": {},
   "outputs": [],
   "source": [
    "import pandas as pd\n",
    "import numpy as np\n",
    "\n",
    "from sklearn.metrics import mean_squared_error\n",
    "from sklearn.linear_model import Ridge, LinearRegression\n",
    "from sklearn.model_selection import train_test_split\n",
    "import matplotlib.pyplot as plt\n",
    "import matplotlib\n",
    "%matplotlib inline\n",
    "\n",
    "np.set_printoptions(precision=5, suppress=True)  # suppress scientific float notation (so 0.000 is printed as 0.)"
   ]
  },
  {
   "cell_type": "markdown",
   "id": "9ef6b3e7-574b-4fbd-8820-47edb03680c6",
   "metadata": {},
   "source": [
    "## Načtení dat\n",
    "\n",
    "Využijeme opět data o cenách domů v oblasti Bostonu v USA ([více info zde](https://www.kaggle.com/c/boston-housing)), která máme tentokrát v mírně modifikované variantě uložená v souboru `data.csv`.\n",
    "\n",
    "Data jsou již vyčištěná. Proměnná, kterou chceme predikovat je `medv`."
   ]
  },
  {
   "cell_type": "code",
   "execution_count": 4,
   "id": "13844f70-ea08-4a2a-8ede-a93fb19ab245",
   "metadata": {},
   "outputs": [
    {
     "name": "stdout",
     "output_type": "stream",
     "text": [
      "Shape (333, 15)\n"
     ]
    },
    {
     "data": {
      "text/html": [
       "<div>\n",
       "<style scoped>\n",
       "    .dataframe tbody tr th:only-of-type {\n",
       "        vertical-align: middle;\n",
       "    }\n",
       "\n",
       "    .dataframe tbody tr th {\n",
       "        vertical-align: top;\n",
       "    }\n",
       "\n",
       "    .dataframe thead th {\n",
       "        text-align: right;\n",
       "    }\n",
       "</style>\n",
       "<table border=\"1\" class=\"dataframe\">\n",
       "  <thead>\n",
       "    <tr style=\"text-align: right;\">\n",
       "      <th></th>\n",
       "      <th>ID</th>\n",
       "      <th>crim</th>\n",
       "      <th>zn</th>\n",
       "      <th>indus</th>\n",
       "      <th>chas</th>\n",
       "      <th>nox</th>\n",
       "      <th>rm</th>\n",
       "      <th>age</th>\n",
       "      <th>dis</th>\n",
       "      <th>rad</th>\n",
       "      <th>tax</th>\n",
       "      <th>ptratio</th>\n",
       "      <th>black</th>\n",
       "      <th>lstat</th>\n",
       "      <th>medv</th>\n",
       "    </tr>\n",
       "  </thead>\n",
       "  <tbody>\n",
       "    <tr>\n",
       "      <th>0</th>\n",
       "      <td>1.0</td>\n",
       "      <td>0.00632</td>\n",
       "      <td>18.0</td>\n",
       "      <td>2.31</td>\n",
       "      <td>0.0</td>\n",
       "      <td>0.00538</td>\n",
       "      <td>0.06575</td>\n",
       "      <td>65.2</td>\n",
       "      <td>4.0900</td>\n",
       "      <td>1.0</td>\n",
       "      <td>29600.0</td>\n",
       "      <td>15.3</td>\n",
       "      <td>39690.0</td>\n",
       "      <td>4.98</td>\n",
       "      <td>24.0</td>\n",
       "    </tr>\n",
       "    <tr>\n",
       "      <th>1</th>\n",
       "      <td>2.0</td>\n",
       "      <td>0.02731</td>\n",
       "      <td>0.0</td>\n",
       "      <td>7.07</td>\n",
       "      <td>0.0</td>\n",
       "      <td>0.00469</td>\n",
       "      <td>0.06421</td>\n",
       "      <td>78.9</td>\n",
       "      <td>4.9671</td>\n",
       "      <td>2.0</td>\n",
       "      <td>24200.0</td>\n",
       "      <td>17.8</td>\n",
       "      <td>39690.0</td>\n",
       "      <td>9.14</td>\n",
       "      <td>21.6</td>\n",
       "    </tr>\n",
       "    <tr>\n",
       "      <th>2</th>\n",
       "      <td>4.0</td>\n",
       "      <td>0.03237</td>\n",
       "      <td>0.0</td>\n",
       "      <td>2.18</td>\n",
       "      <td>0.0</td>\n",
       "      <td>0.00458</td>\n",
       "      <td>0.06998</td>\n",
       "      <td>45.8</td>\n",
       "      <td>6.0622</td>\n",
       "      <td>3.0</td>\n",
       "      <td>22200.0</td>\n",
       "      <td>18.7</td>\n",
       "      <td>39463.0</td>\n",
       "      <td>2.94</td>\n",
       "      <td>33.4</td>\n",
       "    </tr>\n",
       "    <tr>\n",
       "      <th>3</th>\n",
       "      <td>5.0</td>\n",
       "      <td>0.06905</td>\n",
       "      <td>0.0</td>\n",
       "      <td>2.18</td>\n",
       "      <td>0.0</td>\n",
       "      <td>0.00458</td>\n",
       "      <td>0.07147</td>\n",
       "      <td>54.2</td>\n",
       "      <td>6.0622</td>\n",
       "      <td>3.0</td>\n",
       "      <td>22200.0</td>\n",
       "      <td>18.7</td>\n",
       "      <td>39690.0</td>\n",
       "      <td>5.33</td>\n",
       "      <td>36.2</td>\n",
       "    </tr>\n",
       "    <tr>\n",
       "      <th>4</th>\n",
       "      <td>7.0</td>\n",
       "      <td>0.08829</td>\n",
       "      <td>12.5</td>\n",
       "      <td>7.87</td>\n",
       "      <td>0.0</td>\n",
       "      <td>0.00524</td>\n",
       "      <td>0.06012</td>\n",
       "      <td>66.6</td>\n",
       "      <td>5.5605</td>\n",
       "      <td>5.0</td>\n",
       "      <td>31100.0</td>\n",
       "      <td>15.2</td>\n",
       "      <td>39560.0</td>\n",
       "      <td>12.43</td>\n",
       "      <td>22.9</td>\n",
       "    </tr>\n",
       "  </tbody>\n",
       "</table>\n",
       "</div>"
      ],
      "text/plain": [
       "    ID     crim    zn  indus  chas      nox       rm   age     dis  rad  \\\n",
       "0  1.0  0.00632  18.0   2.31   0.0  0.00538  0.06575  65.2  4.0900  1.0   \n",
       "1  2.0  0.02731   0.0   7.07   0.0  0.00469  0.06421  78.9  4.9671  2.0   \n",
       "2  4.0  0.03237   0.0   2.18   0.0  0.00458  0.06998  45.8  6.0622  3.0   \n",
       "3  5.0  0.06905   0.0   2.18   0.0  0.00458  0.07147  54.2  6.0622  3.0   \n",
       "4  7.0  0.08829  12.5   7.87   0.0  0.00524  0.06012  66.6  5.5605  5.0   \n",
       "\n",
       "       tax  ptratio    black  lstat  medv  \n",
       "0  29600.0     15.3  39690.0   4.98  24.0  \n",
       "1  24200.0     17.8  39690.0   9.14  21.6  \n",
       "2  22200.0     18.7  39463.0   2.94  33.4  \n",
       "3  22200.0     18.7  39690.0   5.33  36.2  \n",
       "4  31100.0     15.2  39560.0  12.43  22.9  "
      ]
     },
     "execution_count": 4,
     "metadata": {},
     "output_type": "execute_result"
    }
   ],
   "source": [
    "df = pd.read_csv('data.csv').astype('float64')\n",
    "print('Shape', df.shape)\n",
    "df.head()"
   ]
  },
  {
   "cell_type": "markdown",
   "id": "efce8847-dd62-461a-89b1-d202830fd8d2",
   "metadata": {},
   "source": [
    "### Příprava trénovací a testovací množiny\n",
    "\n",
    "Využijeme [train_test_split](https://scikit-learn.org/stable/modules/generated/sklearn.model_selection.train_test_split.html) ze `scikit-learn`."
   ]
  },
  {
   "cell_type": "code",
   "execution_count": 5,
   "id": "40a392b2-f981-4b4c-b735-baa61e539642",
   "metadata": {},
   "outputs": [
    {
     "name": "stdout",
     "output_type": "stream",
     "text": [
      "Train rozměry, X: (199, 14), y: (199,)\n",
      "Val rozměry, X: (93, 14), y: (93,)\n",
      "Test rozměry, X: (41, 14), y: (41,)\n"
     ]
    }
   ],
   "source": [
    "random_seed = 42\n",
    "\n",
    "Xtrain, Xval, ytrain, yval = train_test_split(df.drop(columns = ['medv']), df['medv'], test_size=0.4, random_state=random_seed)\n",
    "Xval, Xtest, yval, ytest = train_test_split(Xval, yval, test_size=0.3, random_state=random_seed)\n",
    "\n",
    "print(f\"Train rozměry, X: {Xtrain.shape}, y: {ytrain.shape}\")\n",
    "print(f\"Val rozměry, X: {Xval.shape}, y: {yval.shape}\")\n",
    "print(f\"Test rozměry, X: {Xtest.shape}, y: {ytest.shape}\")"
   ]
  },
  {
   "cell_type": "markdown",
   "id": "3db051cc-c2a9-4f29-9b09-c680e47167b2",
   "metadata": {},
   "source": [
    "#### Vytvoříme model lineární regrese pro porovnání"
   ]
  },
  {
   "cell_type": "code",
   "execution_count": 6,
   "id": "2a21a2f4-19ad-415c-94e6-12070e2dcd93",
   "metadata": {},
   "outputs": [
    {
     "name": "stdout",
     "output_type": "stream",
     "text": [
      "w_hat_OLS: 36.5917 [   -0.0056     -0.06179     0.06238    -0.07662     0.05659 -1094.48187\n",
      "   343.28908    -0.01942    -1.85337     0.42811    -0.00013    -0.68126\n",
      "     0.00007    -0.65277]\n",
      "Validační RMSE: 4.47518\n",
      "Testovací RMSE: 4.57462\n"
     ]
    },
    {
     "data": {
      "image/png": "[encoded data removed]",
      "text/plain": [
       "<Figure size 432x288 with 1 Axes>"
      ]
     },
     "metadata": {
      "needs_background": "light"
     },
     "output_type": "display_data"
    }
   ],
   "source": [
    "clf_lr = LinearRegression()\n",
    "clf_lr.fit(Xtrain, ytrain)\n",
    "\n",
    "print(f\"w_hat_OLS: {clf_lr.intercept_:.4f}\", clf_lr.coef_)\n",
    "\n",
    "RMSE_val_lr = mean_squared_error(yval, clf_lr.predict(Xval), squared = False)\n",
    "print(f'Validační RMSE: {RMSE_val_lr:.5f}')\n",
    "\n",
    "RMSE_test_lr = mean_squared_error(ytest, clf_lr.predict(Xtest), squared = False)\n",
    "print(f'Testovací RMSE: {RMSE_test_lr:.5f}')\n",
    "\n",
    "plt.scatter(yval, clf_lr.predict(Xval))\n",
    "plt.plot([0,50], [0,50], 'r')\n",
    "plt.show()"
   ]
  },
  {
   "cell_type": "markdown",
   "id": "ea678407-f7ff-4feb-a14f-8e2b39e381ee",
   "metadata": {},
   "source": [
    "## Úkol  - implementujte ručně model hřebenové regrese\n",
    "\n",
    "Podobně jako v minulém cvičení využijte pouze funkce z `numpy`.\n",
    "\n",
    "Do předpřipravené třídy `my_ridge` implementujte metody fit a predict, tak aby:\n",
    "* metoda `fit` vyrobila odhad $\\hat{\\boldsymbol w}_{\\lambda} = (\\mathbf{X}^T \\mathbf X + \\lambda \\mathbf{I}')^{-1} \\mathbf X^T \\boldsymbol Y$, uložila ho do proměnné `self.w_hat`.\n",
    "* metoda `predict` spočítala na nových datech predikci.\n",
    "\n",
    "V další části:\n",
    "* Natrénujeme tento model pro $\\lambda = 1$ (kvůli tomu, že má `lambda` speciální význam v Pythonu, tak parametr označíme alpha) a vypište jednotlivé koeficienty a intercept.\n",
    "* Nakreslíme scatter plot hodnot $Y_i$ a $\\hat Y_i$ pro validační množinu.\n",
    "* Pro validační a testovací data provedeme predikce $\\hat Y_i$ a porovnáme je se skutečnými hodnotami $Y_i$.\n",
    "Jako míru porovnání použijeme RMSE.\n",
    "* Porovnáme koeficienty získané lineární regresí a hřebenovou regresí. Provnáme výkonnosti obou modelů."
   ]
  },
  {
   "cell_type": "code",
   "execution_count": 8,
   "id": "a111c9a3-b4b2-483e-accb-37a6dcd78ac8",
   "metadata": {},
   "outputs": [],
   "source": [
    "# Váš kód pro přípravu třídy zde\n",
    "\n",
    "class my_ridge:\n",
    "    \"\"\"\n",
    "    Třída reprezentující model hřebenové regrese s rozhraním shodným jako mají sklearn modely\n",
    "    \"\"\"\n",
    "    def __init__(self, alpha):\n",
    "        \"\"\"\n",
    "        V konstruktoru nastavíme hyperparametr lambda označený zde alpha\n",
    "        \"\"\"\n",
    "        self.alpha = alpha\n",
    "        self.w_hat = None\n",
    "    #------------------------------------\n",
    "    def fit(self, Xtrain, ytrain):\n",
    "        \"\"\"\n",
    "        Trénování spočívá v sestrojení w_hat\n",
    "        \"\"\"\n",
    "        X = np.matrix(np.concatenate([np.ones((Xtrain.shape[0],1)),np.array(Xtrain)], axis = 1))\n",
    "        # Vektor Y\n",
    "        Y = np.matrix(ytrain).T\n",
    "        # Matice I`\n",
    "        Iprime = np.eye(X.shape[1],X.shape[1])\n",
    "        Iprime[0,0] = 0\n",
    "        # Odhad\n",
    "        w_hat = (X.T*X + self.alpha*Iprime).I*X.T*Y\n",
    "        self.w_hat = np.array(w_hat).flatten()\n",
    "    #------------------------------------\n",
    "    def predict(self, Xdata):\n",
    "        \"\"\"\n",
    "        Predikce pro daná data\n",
    "        \"\"\"\n",
    "        if self.w_hat is None:\n",
    "            return None\n",
    "        \n",
    "        X = np.matrix(np.concatenate([np.ones((Xdata.shape[0],1)),np.array(Xdata)], axis = 1))\n",
    "        w_hat = np.matrix(self.w_hat).T\n",
    "        yhat = X*w_hat\n",
    "        return np.array(yhat).flatten()\n",
    "    #------------------------------------\n",
    "    @property\n",
    "    def intercept_(self):\n",
    "        \"\"\"\n",
    "        Intercept\n",
    "        \"\"\"\n",
    "        return self.w_hat[0] if self.w_hat is not None else None\n",
    "    #------------------------------------\n",
    "    @property\n",
    "    def coef_(self):\n",
    "        \"\"\"\n",
    "        Remaining fitted parameters\n",
    "        \"\"\"\n",
    "        return self.w_hat[1:] if self.w_hat is not None else None"
   ]
  },
  {
   "cell_type": "code",
   "execution_count": 9,
   "id": "763c4f05-b3dc-479a-abc3-f14100d56262",
   "metadata": {},
   "outputs": [
    {
     "name": "stdout",
     "output_type": "stream",
     "text": [
      "w_hat_my_ridge: 55.5580 [-0.00338 -0.07241  0.08383 -0.18837  0.06403 -0.0779   1.68729 -0.01085\n",
      " -1.75004  0.49338 -0.0002  -0.62878  0.00006 -0.84579]\n",
      "Validační RMSE: 5.17836\n",
      "Testovací RMSE: 5.48191\n"
     ]
    },
    {
     "data": {
      "image/png": "[encoded data removed]",
      "text/plain": [
       "<Figure size 432x288 with 1 Axes>"
      ]
     },
     "metadata": {
      "needs_background": "light"
     },
     "output_type": "display_data"
    },
    {
     "data": {
      "image/png": "[encoded data removed]",
      "text/plain": [
       "<Figure size 432x288 with 1 Axes>"
      ]
     },
     "metadata": {
      "needs_background": "light"
     },
     "output_type": "display_data"
    }
   ],
   "source": [
    "# Využijeme implementovanou třídu\n",
    "\n",
    "clf_my_ridge = my_ridge(1)\n",
    "clf_my_ridge.fit(Xtrain, ytrain)\n",
    "\n",
    "print(f\"w_hat_my_ridge: {clf_my_ridge.intercept_:.4f}\", clf_my_ridge.coef_)\n",
    "\n",
    "RMSE_val_my_ridge = mean_squared_error(yval, clf_my_ridge.predict(Xval), squared = False)\n",
    "print(f'Validační RMSE: {RMSE_val_my_ridge:.5f}')\n",
    "\n",
    "RMSE_test_my_ridge = mean_squared_error(ytest, clf_my_ridge.predict(Xtest), squared = False)\n",
    "print(f'Testovací RMSE: {RMSE_test_my_ridge:.5f}')\n",
    "\n",
    "plt.scatter(yval, clf_my_ridge.predict(Xval))\n",
    "plt.plot([0,50], [0,50], 'r')\n",
    "plt.show()\n",
    "\n",
    "plt.plot(clf_my_ridge.coef_, 'k.', label=\"Ridge regression\")\n",
    "plt.plot(clf_lr.coef_, 'rx', label=\"Linear regression\")\n",
    "plt.legend()\n",
    "plt.show()"
   ]
  },
  {
   "cell_type": "markdown",
   "id": "0b23dda9-568f-4838-840c-40eea207298b",
   "metadata": {},
   "source": [
    "## Úkol - model hrebeňovej regresie s využitím scikit-learn\n",
    "\n",
    "* Zopakujte postup z předchozího bodu s využitím třídy [Ridge](https://scikit-learn.org/stable/modules/generated/sklearn.linear_model.Ridge.html) ze `scikit-learn`.\n",
    "* Porovnejte naučené koeficienty a výkonnost modelu s ruční implementací."
   ]
  },
  {
   "cell_type": "code",
   "execution_count": 10,
   "id": "9101f1ba-f900-43cd-9ca5-e8444ee77b57",
   "metadata": {},
   "outputs": [
    {
     "name": "stdout",
     "output_type": "stream",
     "text": [
      "w_hat_ridge: 55.5580 [-0.00338 -0.07241  0.08383 -0.18837  0.06403 -0.0779   1.68729 -0.01085\n",
      " -1.75004  0.49338 -0.0002  -0.62878  0.00006 -0.84579]\n",
      "Validační RMSE: 5.17836\n",
      "Testovací RMSE: 5.48191\n"
     ]
    },
    {
     "data": {
      "image/png": "[encoded data removed]",
      "text/plain": [
       "<Figure size 432x288 with 1 Axes>"
      ]
     },
     "metadata": {
      "needs_background": "light"
     },
     "output_type": "display_data"
    }
   ],
   "source": [
    "clf_ridge = Ridge(1)\n",
    "clf_ridge.fit(Xtrain, ytrain)\n",
    "\n",
    "print(f\"w_hat_ridge: {clf_ridge.intercept_:.4f}\", clf_ridge.coef_)\n",
    "\n",
    "RMSE_val_ridge = mean_squared_error(yval, clf_ridge.predict(Xval), squared = False)\n",
    "print(f'Validační RMSE: {RMSE_val_ridge:.5f}')\n",
    "\n",
    "RMSE_test_ridge = mean_squared_error(ytest, clf_ridge.predict(Xtest), squared = False)\n",
    "print(f'Testovací RMSE: {RMSE_test_ridge:.5f}')\n",
    "\n",
    "plt.scatter(yval, clf_ridge.predict(Xval))\n",
    "plt.plot([0,50], [0,50], 'r')\n",
    "plt.show()"
   ]
  },
  {
   "cell_type": "markdown",
   "id": "a3d6a68a-102c-4b31-b7d8-c09f8788e33b",
   "metadata": {},
   "source": [
    "Vidíme, že jsme dostali přesně to samé, jako ruční implementací.\n",
    "\n",
    "## Úkol - ladění hyperparametrů hřebenové regrese\n",
    "\n",
    "* Nejprve pro několik různých hodnot $\\lambda > 0$ vykreslete validační RMSE a odhadněte vhodný interval, ve kterém se bude nacházet optimální hodnota.\n",
    "* Využijte funkci `scipy.optimize.minimize_scalar` k nalezení optimální hodnoty.\n",
    "* Pro optimální hodnotu $\\lambda$ natrénujte nový model.\n",
    "* Výsledné RMSE pro testovací data porovnejte s předchozími výsledky."
   ]
  },
  {
   "cell_type": "code",
   "execution_count": 11,
   "id": "0c123f1c-2f7f-4dce-9f81-293cc536fe8c",
   "metadata": {},
   "outputs": [
    {
     "data": {
      "image/png": "[encoded data removed]",
      "text/plain": [
       "<Figure size 432x288 with 1 Axes>"
      ]
     },
     "metadata": {
      "needs_background": "light"
     },
     "output_type": "display_data"
    },
    {
     "name": "stdout",
     "output_type": "stream",
     "text": [
      "Optimal alpha      fun: 5.091517868022537\n",
      " message: 'Solution found.'\n",
      "    nfev: 13\n",
      "  status: 0\n",
      " success: True\n",
      "       x: 148.4325041297702\n",
      "\n",
      "\n",
      "Validační RMSE: 5.09152\n",
      "Testovací RMSE: 5.54913\n"
     ]
    },
    {
     "data": {
      "image/png": "[encoded data removed]",
      "text/plain": [
       "<Figure size 432x288 with 1 Axes>"
      ]
     },
     "metadata": {
      "needs_background": "light"
     },
     "output_type": "display_data"
    }
   ],
   "source": [
    "from scipy import optimize\n",
    "\n",
    "def get_opt_ridge_model(Xtrain, Xval):\n",
    "    def ridgemodel_eval(alpha):\n",
    "        clf = Ridge(alpha=alpha)\n",
    "        clf.fit(Xtrain, ytrain)\n",
    "        return mean_squared_error(yval, clf.predict(Xval), squared = False)\n",
    "\n",
    "    alphas = np.linspace(1,500,100)\n",
    "    alphas_res = [ridgemodel_eval(alpha) for alpha in alphas]\n",
    "    plt.plot(alphas, alphas_res, '.')\n",
    "    plt.show()\n",
    "\n",
    "    # Find Ridge alpha automatically\n",
    "    opt_alpha = optimize.minimize_scalar(ridgemodel_eval, options = {'maxiter': 30}, method = 'bounded', bounds=(0.1, 400))\n",
    "    print('Optimal alpha', opt_alpha)\n",
    "    print(\"\\n\")\n",
    "\n",
    "    clf_opt_ridge = Ridge(alpha = opt_alpha.x)\n",
    "    clf_opt_ridge.fit(Xtrain, ytrain)\n",
    "    return clf_opt_ridge\n",
    "\n",
    "clf_opt_ridge = get_opt_ridge_model(Xtrain, Xval)\n",
    "RMSE_val_opt_ridge = mean_squared_error(yval, clf_opt_ridge.predict(Xval), squared = False)\n",
    "print(f'Validační RMSE: {RMSE_val_opt_ridge:.5f}')\n",
    "RMSE_test_opt_ridge = mean_squared_error(ytest, clf_opt_ridge.predict(Xtest), squared = False)\n",
    "print(f'Testovací RMSE: {RMSE_test_opt_ridge:.5f}')\n",
    "\n",
    "plt.plot(clf_my_ridge.coef_, 'k.', label=\"Ridge regression\")\n",
    "plt.plot(clf_opt_ridge.coef_, 'b+', label=\"Optimal ridge regression\")\n",
    "plt.plot(clf_lr.coef_, 'rx', label=\"Linear regression\")\n",
    "plt.legend()\n",
    "plt.show()"
   ]
  },
  {
   "cell_type": "markdown",
   "id": "275289ca-ec2a-48e0-a0b6-a1d4b107cb03",
   "metadata": {},
   "source": [
    "Vidíme, že jsme dostali pouze nepatrné vylepšení a klasická lineární regrese je zde stále lepší.\n",
    "\n",
    "## Úkol - zopakujte předchozí úlohu pro standardizované příznaky\n",
    "* Ke standardizaci využijte `sklearn.preprocessing.StandardScaler`.\n",
    "* Výsledné RMSE pro testovací data porovnejte s výstupem lineární regrese a předchozí hřebenové regrese."
   ]
  },
  {
   "cell_type": "code",
   "execution_count": 12,
   "id": "84b8809d-400e-4eeb-95f9-707c328bc5cd",
   "metadata": {},
   "outputs": [
    {
     "data": {
      "image/png": "[encoded data removed]",
      "text/plain": [
       "<Figure size 432x288 with 1 Axes>"
      ]
     },
     "metadata": {
      "needs_background": "light"
     },
     "output_type": "display_data"
    },
    {
     "name": "stdout",
     "output_type": "stream",
     "text": [
      "Optimal alpha      fun: 4.4209516038899945\n",
      " message: 'Solution found.'\n",
      "    nfev: 14\n",
      "  status: 0\n",
      " success: True\n",
      "       x: 14.254044716564767\n",
      "\n",
      "\n",
      "Validační RMSE: 4.42095\n",
      "Testovací RMSE: 4.37455\n"
     ]
    }
   ],
   "source": [
    "from sklearn.preprocessing import StandardScaler\n",
    "\n",
    "# Váš kód zde\n",
    "\n",
    "scaler = StandardScaler().fit(Xtrain)\n",
    "\n",
    "Xtrain_sc = scaler.transform(Xtrain)\n",
    "Xval_sc = scaler.transform(Xval)\n",
    "Xtest_sc = scaler.transform(Xtest)\n",
    "\n",
    "clf_opt_ridge = get_opt_ridge_model(Xtrain_sc, Xval_sc)\n",
    "RMSE_val_opt_ridge = mean_squared_error(yval, clf_opt_ridge.predict(Xval_sc), squared = False)\n",
    "print(f'Validační RMSE: {RMSE_val_opt_ridge:.5f}')\n",
    "RMSE_test_opt_ridge = mean_squared_error(ytest, clf_opt_ridge.predict(Xtest_sc), squared = False)\n",
    "print(f'Testovací RMSE: {RMSE_test_opt_ridge:.5f}')"
   ]
  },
  {
   "cell_type": "markdown",
   "id": "9616aa8d-a0c9-4dc3-bada-dd781f8f0015",
   "metadata": {},
   "source": [
    "Vidíme, že teprve normalizace přinesla významné zlepšení modelu, který je nyní přesnější než původní lineární regrese."
   ]
  },
  {
   "cell_type": "markdown",
   "id": "7b1fe769-93ef-4fa7-bed0-2446794d9bf0",
   "metadata": {},
   "source": [
    "## Vztah vychýlení a rozptylu\n",
    "Na umělých datech numericky prozkoumáme vztah vychýlení a rozptylu.\n",
    "\n",
    "<center><img src=\"img/tradeoff.jpeg\" width=\"50%\"></center>\n",
    "<center>(zdroj: https://medium.com/@mp32445/understanding-bias-variance-tradeoff-ca59a22e2a83)</center>\n",
    "\n",
    "\n",
    "Nejprve si připravíme funkce na náhodný výběr z modelu"
   ]
  },
  {
   "cell_type": "code",
   "execution_count": 91,
   "id": "04400fdf-4000-4963-b53d-6044bfecc855",
   "metadata": {},
   "outputs": [
    {
     "name": "stdout",
     "output_type": "stream",
     "text": [
      "X shape: (50, 5)\n"
     ]
    },
    {
     "data": {
      "image/png": "[encoded data removed]",
      "text/plain": [
       "<Figure size 432x288 with 1 Axes>"
      ]
     },
     "metadata": {
      "needs_background": "light"
     },
     "output_type": "display_data"
    }
   ],
   "source": [
    "np.random.seed(3)  # zajistí replikovatelnost\n",
    "\n",
    "# body x, kde budou data\n",
    "x = np.random.rand(50)*5 - 1\n",
    "\n",
    "# body x pro vykreslování\n",
    "x_plot = np.linspace(-1,4,300)\n",
    "\n",
    "# funkce, která vytvoří dataset - příznaky, jako mocniny x\n",
    "def getX(x, max_degree = 5):\n",
    "    X = x.reshape(-1,1)\n",
    "    for i in range(2, max_degree+1):\n",
    "        X = np.concatenate((X, (x**i).reshape(-1,1)), axis = 1)\n",
    "    return X\n",
    "\n",
    "# dataset pro X\n",
    "X = getX(x)\n",
    "\n",
    "# dataset pro vykreslení\n",
    "X_plot = getX(x_plot)\n",
    "print('X shape:', X.shape)\n",
    "\n",
    "# příprava neznámého vektoru parametrů\n",
    "true_intercept = 1\n",
    "true_coefs = [-1,2.5,0,-0.11,0]\n",
    "\n",
    "# funkce, která vrací náhodný výběr ze známého modelu\n",
    "def getY(X, random = True, true_intercept = true_intercept, true_coefs = true_coefs):\n",
    "    \n",
    "    # vytvoření skutečného w\n",
    "    w = np.concatenate((np.array([true_intercept] + true_coefs), np.zeros(1000)),)\n",
    "    w = w[0:(X.shape[1]+1)]\n",
    "    # přidání interceptu k matici příznaků\n",
    "    Xx = np.concatenate((np.ones(X.shape[0]).reshape(-1,1),X), axis = 1)\n",
    "    # nagenerujeme z modelu trénovací množiny střední hodnoty v bodech x\n",
    "    EY = Xx.dot(w)\n",
    "    # pokud je zapnutá náhodná odchylka, přidáme ji\n",
    "    if random:\n",
    "        # reset random seedu, aby to bylo náhodné\n",
    "        np.random.seed()\n",
    "        # přidání náhodné odchylky\n",
    "        return EY + np.random.randn(X.shape[0])*1\n",
    "    else:\n",
    "        return EY\n",
    "\n",
    "# vezmeme si jeden trénovací dataset\n",
    "Y = getY(X)\n",
    "# zobrazíme ho\n",
    "plt.scatter(x,Y)\n",
    "\n",
    "# vyrobíme si skutečné střední hodnoty\n",
    "EY_plot = getY(X_plot, random = False)\n",
    "plt.plot(x_plot, EY_plot, 'r')\n",
    "plt.show()"
   ]
  },
  {
   "cell_type": "markdown",
   "id": "4412cb20-60e0-4448-b1fc-43ab0f8c09fa",
   "metadata": {},
   "source": [
    "### Nyní prozkoumáme vychýlení a rozptyl odhadu lineární a hřebenové regrese\n",
    "Zafixujeme $\\lambda = 0$ (alpha) a 100x provedeme:\n",
    "* Nagenerování trénovacích hodnot $Y$.\n",
    "* Predikci pomocí hřebenové regrese pro testovací hodnoty `X_plot`.\n",
    "\n",
    "Výslednou predikci, tj. křivku dvojic `(x_plot, Yhat_plot)`, vykreslíme do jednoho grafu spolu se výběrovým průměrem přes všechny predikce.\n",
    "\n",
    "Podíváme se na chování odhadu $\\hat w$ (střední hodnotu).\n",
    "\n",
    "Podíváme se, jak se výsledky mění v závislosti se zvyšujícím $\\lambda$."
   ]
  },
  {
   "cell_type": "code",
   "execution_count": 102,
   "id": "7fbca131-372a-41ea-9568-7c0ac4265aae",
   "metadata": {},
   "outputs": [
    {
     "data": {
      "image/png": "[encoded data removed]",
      "text/plain": [
       "<Figure size 432x288 with 1 Axes>"
      ]
     },
     "metadata": {
      "needs_background": "light"
     },
     "output_type": "display_data"
    },
    {
     "name": "stdout",
     "output_type": "stream",
     "text": [
      "Mean intercept : 1.1296310737391797\n",
      "True intercept : 1\n",
      "---------------------\n",
      "\n",
      "Mean coefs : [-0.74895  1.97029  0.17327 -0.09434 -0.00803]\n",
      "True coefs : [-1, 2.5, 0, -0.11, 0]\n",
      "---------------------\n",
      "\n",
      "Mean Ridge Regression of squared Biases on test set : 0.036256947083593144\n",
      "Mean Ridge Regression Variance on test set : 0.1365829981592914\n"
     ]
    }
   ],
   "source": [
    "def ridge_repeat(alpha = 1, N = 100, plot = True):\n",
    "    Yres = np.zeros((N, X_plot.shape[0]))\n",
    "    intercept_res = np.zeros((N, ))\n",
    "    coef_res = np.zeros((N, X_plot.shape[1]))\n",
    "    \n",
    "    clf = Ridge(alpha = alpha)\n",
    "    for i in range(N):\n",
    "        clf.fit(X, getY(X))\n",
    "        Yth_plot = clf.predict(X_plot)\n",
    "        Yres[i,:] = Yth_plot\n",
    "        intercept_res[i] = clf.intercept_\n",
    "        coef_res[i,:] = clf.coef_\n",
    "        if plot:\n",
    "            if N % 2 == 0:\n",
    "                plt.plot(x_plot,Yth_plot, 'gray')\n",
    "                \n",
    "    plt.plot(x_plot, EY_plot, 'r')\n",
    "    plt.plot(x_plot, np.mean(Yres, axis = 0))\n",
    "    plt.show()\n",
    "    return Yres, intercept_res, coef_res\n",
    "\n",
    "\n",
    "Yres, intercept_res, coef_res  = ridge_repeat(alpha = 1, N = 200)\n",
    "\n",
    "\n",
    "# print těch různých statistik\n",
    "# what\n",
    "E_intercept_ridge = np.mean(intercept_res, axis=0)\n",
    "print(f\"Mean intercept : {E_intercept_ridge}\")\n",
    "print(f\"True intercept : {true_intercept}\")\n",
    "print(\"---------------------\\n\")\n",
    "\n",
    "E_coefs_ridge = np.mean(coef_res, axis=0)\n",
    "print(f\"Mean coefs : {E_coefs_ridge}\")\n",
    "print(f\"True coefs : {true_coefs}\")\n",
    "print(\"---------------------\\n\")\n",
    "\n",
    "# Yhat\n",
    "E_Y_hat_ridge = np.mean(Yres, axis=0)\n",
    "bias_ridge = E_Y_hat_ridge - EY_plot\n",
    "var_ridge = np.var(Yres, axis=0)\n",
    "print(\"Mean Ridge Regression of squared Biases on test set : \" + str(np.mean(np.square(bias_ridge))))\n",
    "print(\"Mean Ridge Regression Variance on test set : \" + str(np.mean(var_ridge)))"
   ]
  },
  {
   "cell_type": "markdown",
   "id": "1dc6e523-a637-4006-b48a-4569f08a7a48",
   "metadata": {},
   "source": [
    "Vidíme, že pro $\\lambda = 0$ je odhad nestranný. Pro restoucí $\\lambda$ přestane být nestranný a začně klesat variance.\n",
    "\n",
    "Podívejme se na to, že v různých bodech je různý bias i variance."
   ]
  },
  {
   "cell_type": "code",
   "execution_count": 101,
   "id": "4eac0f76-e0f1-4b87-a93b-1450372a43ee",
   "metadata": {},
   "outputs": [
    {
     "data": {
      "image/png": "[encoded data removed]",
      "text/plain": [
       "<Figure size 432x288 with 1 Axes>"
      ]
     },
     "metadata": {
      "needs_background": "light"
     },
     "output_type": "display_data"
    }
   ],
   "source": [
    "plt.plot(x_plot,bias_ridge, 'blue')\n",
    "plt.plot(x_plot,np.var(Yres, axis = 0),'orange')\n",
    "plt.show()"
   ]
  },
  {
   "cell_type": "code",
   "execution_count": null,
   "id": "34022fa7-bf6e-4a4c-8382-842198ba03a6",
   "metadata": {},
   "outputs": [],
   "source": []
  }
 ],
 "metadata": {
  "kernelspec": {
   "display_name": "Python 3 (ipykernel)",
   "language": "python",
   "name": "python3"
  },
  "language_info": {
   "codemirror_mode": {
    "name": "ipython",
    "version": 3
   },
   "file_extension": ".py",
   "mimetype": "text/x-python",
   "name": "python",
   "nbconvert_exporter": "python",
   "pygments_lexer": "ipython3",
   "version": "3.8.2"
  }
 },
 "nbformat": 4,
 "nbformat_minor": 5
}
